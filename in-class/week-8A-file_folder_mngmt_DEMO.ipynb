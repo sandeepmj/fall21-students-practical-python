{
 "cells": [
  {
   "cell_type": "markdown",
   "metadata": {
    "id": "GZacCx2Yzims"
   },
   "source": [
    "# Files and Folder using Python \n",
    "\n",
    "#### As we create and tap files for analysis, we need to stay organized programmatically.\n",
    "\n",
    "- Let's understand Google Colab storage structure.\n",
    "\n",
    "- We'll use the ```os module``` and ```pathlib``` to create, navigate and delete files and folders programmatically.\n",
    "\n",
    "- We'll also use command line/UNIX commands like ```ls```, ```cd``` and ```mkdir```.\n",
    "\n",
    "- [Download the sample files](https://drive.google.com/file/d/1uTbYtyV_1QBLvW0yUKaDRuk8Bgjhl3Er/view?usp=sharing) we will need."
   ]
  },
  {
   "cell_type": "code",
   "execution_count": 14,
   "metadata": {
    "id": "w7tpVnQ7zimy"
   },
   "outputs": [],
   "source": [
    "## import libraries\n",
    "import os  ## allows you to navigate, create, delete folders\n",
    "from pathlib import Path ## allows to create paths to files and folders\n",
    "import shutil ## To empty a directory with files in it, we use another library called shutil\n",
    "# from google.colab import files ## code for downloading in google colab\n",
    "import glob ## import the glob library for collecting specific files into a list\n"
   ]
  },
  {
   "cell_type": "markdown",
   "metadata": {
    "id": "OaOCcvP_5eYU"
   },
   "source": [
    "## UNIX Command Line\n",
    "\n",
    "### NOTE: these commands have to be in empty cells"
   ]
  },
  {
   "cell_type": "markdown",
   "metadata": {
    "id": "SNa7p6pz5uQK"
   },
   "source": [
    "## Where am I?\n",
    "\n",
    "## ```pwd```"
   ]
  },
  {
   "cell_type": "code",
   "execution_count": 4,
   "metadata": {
    "id": "NweRIXSD5vwB"
   },
   "outputs": [
    {
     "data": {
      "text/plain": [
       "'/Users/sandeep.junnarkar/Dropbox/coding/courses/fall21-students-practical-python/in-class'"
      ]
     },
     "execution_count": 4,
     "metadata": {},
     "output_type": "execute_result"
    }
   ],
   "source": [
    "\n",
    "pwd"
   ]
  },
  {
   "cell_type": "markdown",
   "metadata": {
    "id": "v8Yl83mh50Gi"
   },
   "source": [
    "## list directories\n",
    "\n",
    "## ```ls```"
   ]
  },
  {
   "cell_type": "code",
   "execution_count": 2,
   "metadata": {
    "id": "2Aozyaz_52KH"
   },
   "outputs": [
    {
     "name": "stdout",
     "output_type": "stream",
     "text": [
      "week-1-working-with-datatypes-BLANKS.ipynb\r\n",
      "week-2-inclass-exercises-BLANKS.ipynb\r\n",
      "week-2-inclass-exercises-DEMO.ipynb\r\n",
      "week-3-A-list comprehensions BLANKS.ipynb\r\n",
      "week-3-A-list comprehensions DEMO.ipynb\r\n",
      "week-3-B-defined-functions-BLANKS.ipynb\r\n",
      "week-3-B-defined-functions-DEMO.ipynb\r\n",
      "week-3-C-Lambdas-BLANK.ipynb\r\n",
      "week-4-scraping-intro-beautifulsoup-BLANKS.ipynb\r\n",
      "week-4-scraping-intro-beautifulsoup-DEMO.ipynb\r\n",
      "week-5-A-single-page-table_BLANKS.ipynb\r\n",
      "week-5-A-single-page-table_DEMO.ipynb\r\n",
      "week-5-B-inclass-non-tabular-scrape_BLANKS.ipynb\r\n",
      "week-5-B-inclass-non-tabular-scrape_DEMO.ipynb\r\n",
      "week-6-multi-page-table-scrape-BLANK.ipynb\r\n",
      "week-6-multi-page-table-scrape-DEMO.ipynb\r\n",
      "week-7-download_docs_BLANK.ipynb\r\n",
      "week-7-download_docs_DEMO.ipynb\r\n",
      "week-7-flattening_lists_BLANK.ipynb\r\n",
      "week-7-flattening_lists_DEMO.ipynb\r\n",
      "\u001b[1m\u001b[36mweek-8-sample-folder\u001b[m\u001b[m/\r\n",
      "week-8-sample-folder.zip\r\n",
      "week-8A-file_folder_mngmt_BLANK.ipynb\r\n",
      "week-8A-file_folder_mngmt_DEMO.ipynb\r\n",
      "week-8B-download-and-read_BLANK.ipynb\r\n"
     ]
    }
   ],
   "source": [
    "ls"
   ]
  },
  {
   "cell_type": "markdown",
   "metadata": {
    "id": "AM5PC1S46A8S"
   },
   "source": [
    "## change directories\n",
    "\n",
    "## ```cd```\n",
    "\n",
    "let's enter our ```sample_data``` folder"
   ]
  },
  {
   "cell_type": "code",
   "execution_count": 5,
   "metadata": {},
   "outputs": [
    {
     "data": {
      "text/plain": [
       "'/Users/sandeep.junnarkar/Dropbox/coding/courses/fall21-students-practical-python/in-class'"
      ]
     },
     "execution_count": 5,
     "metadata": {},
     "output_type": "execute_result"
    }
   ],
   "source": [
    "pwd"
   ]
  },
  {
   "cell_type": "code",
   "execution_count": 6,
   "metadata": {
    "id": "CShXmMUT6DWC"
   },
   "outputs": [
    {
     "name": "stdout",
     "output_type": "stream",
     "text": [
      "/Users/sandeep.junnarkar/Dropbox/coding/courses/fall21-students-practical-python\n"
     ]
    }
   ],
   "source": [
    "cd ..\n"
   ]
  },
  {
   "cell_type": "markdown",
   "metadata": {
    "id": "-15W5y4v6Hv4"
   },
   "source": [
    "## What does this folder hold?"
   ]
  },
  {
   "cell_type": "code",
   "execution_count": 7,
   "metadata": {
    "id": "FCPvZ7Ea6N-I"
   },
   "outputs": [
    {
     "name": "stdout",
     "output_type": "stream",
     "text": [
      "LICENSE                      \u001b[1m\u001b[36mhomework\u001b[m\u001b[m/\r\n",
      "README.md                    \u001b[1m\u001b[36min-class\u001b[m\u001b[m/\r\n",
      "\u001b[1m\u001b[36madvanced scraping workshops\u001b[m\u001b[m/\r\n"
     ]
    }
   ],
   "source": [
    "ls"
   ]
  },
  {
   "cell_type": "code",
   "execution_count": 8,
   "metadata": {},
   "outputs": [
    {
     "name": "stdout",
     "output_type": "stream",
     "text": [
      "/Users/sandeep.junnarkar/Dropbox/coding/courses/fall21-students-practical-python/in-class\n"
     ]
    }
   ],
   "source": [
    "cd in-class/"
   ]
  },
  {
   "cell_type": "markdown",
   "metadata": {
    "id": "ktN_tdwH7CBw"
   },
   "source": [
    "## Back out of folder to the root folder\n",
    "\n",
    "```cd ..```"
   ]
  },
  {
   "cell_type": "code",
   "execution_count": 9,
   "metadata": {
    "id": "4FumnMS17EPm"
   },
   "outputs": [
    {
     "name": "stdout",
     "output_type": "stream",
     "text": [
      "/Users/sandeep.junnarkar\n"
     ]
    }
   ],
   "source": [
    "cd ~"
   ]
  },
  {
   "cell_type": "markdown",
   "metadata": {
    "id": "0Zjn4CdQ7G9X"
   },
   "source": [
    "Where am I?"
   ]
  },
  {
   "cell_type": "code",
   "execution_count": 10,
   "metadata": {
    "id": "CAd9NisX7Jnb"
   },
   "outputs": [
    {
     "data": {
      "text/plain": [
       "'/Users/sandeep.junnarkar'"
      ]
     },
     "execution_count": 10,
     "metadata": {},
     "output_type": "execute_result"
    }
   ],
   "source": [
    "pwd"
   ]
  },
  {
   "cell_type": "code",
   "execution_count": 11,
   "metadata": {
    "id": "9Lnu3jTz8OvV"
   },
   "outputs": [
    {
     "name": "stdout",
     "output_type": "stream",
     "text": [
      "\u001b[1m\u001b[36mApplications\u001b[m\u001b[m/         \u001b[1m\u001b[36mDropbox\u001b[m\u001b[m/              \u001b[1m\u001b[36mPublic\u001b[m\u001b[m/\r\n",
      "\u001b[1m\u001b[36mCreative Cloud Files\u001b[m\u001b[m/ \u001b[1m\u001b[36mLibrary\u001b[m\u001b[m/              \u001b[1m\u001b[36mwebsites\u001b[m\u001b[m/\r\n",
      "\u001b[35mDesktop\u001b[m\u001b[m@              \u001b[1m\u001b[36mMovies\u001b[m\u001b[m/               \u001b[1m\u001b[36mweek-8-sample-folder\u001b[m\u001b[m/\r\n",
      "\u001b[35mDocuments\u001b[m\u001b[m@            \u001b[1m\u001b[36mMusic\u001b[m\u001b[m/\r\n",
      "\u001b[35mDownloads\u001b[m\u001b[m@            \u001b[1m\u001b[36mPictures\u001b[m\u001b[m/\r\n"
     ]
    }
   ],
   "source": [
    "ls\n"
   ]
  },
  {
   "cell_type": "code",
   "execution_count": 12,
   "metadata": {
    "id": "uNygGTPBzim0"
   },
   "outputs": [
    {
     "name": "stdout",
     "output_type": "stream",
     "text": [
      "/Users/sandeep.junnarkar/week-8-sample-folder\n"
     ]
    }
   ],
   "source": [
    "cd week-8-sample-folder/"
   ]
  },
  {
   "cell_type": "code",
   "execution_count": 13,
   "metadata": {},
   "outputs": [
    {
     "name": "stdout",
     "output_type": "stream",
     "text": [
      "alien-invasion.jpg  alien-invasion.png  delays.txt          manager.txt\r\n",
      "alien-invasion.pdf  ceo_bios.csv        energy.csv          password.png\r\n"
     ]
    }
   ],
   "source": [
    "ls"
   ]
  },
  {
   "cell_type": "markdown",
   "metadata": {
    "id": "Cwo409xC891E"
   },
   "source": [
    "# Programmatic Folder/Files Management\n",
    "\n",
    "- We'll use the ```os module```."
   ]
  },
  {
   "cell_type": "code",
   "execution_count": 15,
   "metadata": {
    "id": "pGY2wswczim0"
   },
   "outputs": [
    {
     "data": {
      "text/plain": [
       "['ceo_bios.csv',\n",
       " 'password.png',\n",
       " 'energy.csv',\n",
       " 'alien-invasion.jpg',\n",
       " 'alien-invasion.png',\n",
       " 'alien-invasion.pdf',\n",
       " 'manager.txt',\n",
       " 'delays.txt']"
      ]
     },
     "execution_count": 15,
     "metadata": {},
     "output_type": "execute_result"
    }
   ],
   "source": [
    "## Python scriptable\n",
    "os.listdir()"
   ]
  },
  {
   "cell_type": "code",
   "execution_count": 16,
   "metadata": {
    "id": "fdJs3c2fuTyR"
   },
   "outputs": [
    {
     "data": {
      "text/plain": [
       "list"
      ]
     },
     "execution_count": 16,
     "metadata": {},
     "output_type": "execute_result"
    }
   ],
   "source": [
    "## what object is that?\n",
    "type(os.listdir())"
   ]
  },
  {
   "cell_type": "code",
   "execution_count": 17,
   "metadata": {
    "id": "tyTDQLEDzim0"
   },
   "outputs": [],
   "source": [
    "## create a path to folder called some_new_folder\n",
    "## we store that path in a variable called my_new_directory\n",
    "my_new_directory = Path(\"some_new_folder\")"
   ]
  },
  {
   "cell_type": "code",
   "execution_count": 18,
   "metadata": {
    "id": "BZF_SEfRzim0"
   },
   "outputs": [],
   "source": [
    "## create that directory\n",
    "## exists_ok=True checks to see if the folder already exists\n",
    "my_new_directory.mkdir(exist_ok=True)"
   ]
  },
  {
   "cell_type": "code",
   "execution_count": null,
   "metadata": {
    "id": "KsI7OysGgo3s"
   },
   "outputs": [],
   "source": []
  },
  {
   "cell_type": "markdown",
   "metadata": {
    "id": "ovvbwfZ-zim1"
   },
   "source": [
    "### You don't have to create a variable for the path, but it is easier to resuse that path\n",
    "```Path('folder_name/').mkdir(exist_ok=True)```"
   ]
  },
  {
   "cell_type": "code",
   "execution_count": 19,
   "metadata": {
    "id": "35e_-vJpieBn"
   },
   "outputs": [],
   "source": [
    "### create junk_folder\n",
    "my_new_directory = Path(\"junk_folder\")\n",
    "my_new_directory.mkdir(exist_ok = True)\n"
   ]
  },
  {
   "cell_type": "markdown",
   "metadata": {
    "id": "6YRZyRRJrXeT"
   },
   "source": [
    "UNIX command to show list of folders"
   ]
  },
  {
   "cell_type": "code",
   "execution_count": 20,
   "metadata": {
    "id": "NEjco9TwguJ_"
   },
   "outputs": [
    {
     "name": "stdout",
     "output_type": "stream",
     "text": [
      "alien-invasion.jpg  ceo_bios.csv        \u001b[1m\u001b[36mjunk_folder\u001b[m\u001b[m/        \u001b[1m\u001b[36msome_new_folder\u001b[m\u001b[m/\r\n",
      "alien-invasion.pdf  delays.txt          manager.txt\r\n",
      "alien-invasion.png  energy.csv          password.png\r\n"
     ]
    }
   ],
   "source": [
    "ls"
   ]
  },
  {
   "cell_type": "code",
   "execution_count": 21,
   "metadata": {
    "id": "hYIq9Gu6zim1"
   },
   "outputs": [
    {
     "data": {
      "text/plain": [
       "['.DS_Store',\n",
       " 'junk_folder',\n",
       " 'ceo_bios.csv',\n",
       " 'some_new_folder',\n",
       " 'password.png',\n",
       " 'energy.csv',\n",
       " 'alien-invasion.jpg',\n",
       " 'alien-invasion.png',\n",
       " 'alien-invasion.pdf',\n",
       " 'manager.txt',\n",
       " 'delays.txt']"
      ]
     },
     "execution_count": 21,
     "metadata": {},
     "output_type": "execute_result"
    }
   ],
   "source": [
    "## show list programmatically\n",
    "os.listdir()"
   ]
  },
  {
   "cell_type": "markdown",
   "metadata": {
    "id": "3Cjq9rZ6rlw-"
   },
   "source": [
    "## let's delete a folder"
   ]
  },
  {
   "cell_type": "code",
   "execution_count": null,
   "metadata": {
    "id": "4KCG6KCMzim1"
   },
   "outputs": [],
   "source": [
    "## remove an empty directory\n",
    "## NOTE: This only removes empty directories"
   ]
  },
  {
   "cell_type": "code",
   "execution_count": 22,
   "metadata": {
    "id": "FL3HymK3hPKB"
   },
   "outputs": [],
   "source": [
    "rmdir some_new_folder/"
   ]
  },
  {
   "cell_type": "code",
   "execution_count": 25,
   "metadata": {
    "id": "7_6pPtLvhR2n"
   },
   "outputs": [
    {
     "name": "stdout",
     "output_type": "stream",
     "text": [
      "alien-invasion.jpg  ceo_bios.csv        \u001b[1m\u001b[36mjunk_folder\u001b[m\u001b[m/\r\n",
      "alien-invasion.pdf  delays.txt          manager.txt\r\n",
      "alien-invasion.png  energy.csv          password.png\r\n"
     ]
    }
   ],
   "source": [
    "ls"
   ]
  },
  {
   "cell_type": "code",
   "execution_count": 24,
   "metadata": {
    "id": "7v4wjf3Ozim2"
   },
   "outputs": [
    {
     "data": {
      "text/plain": [
       "['.DS_Store',\n",
       " 'junk_folder',\n",
       " 'ceo_bios.csv',\n",
       " 'password.png',\n",
       " 'energy.csv',\n",
       " 'alien-invasion.jpg',\n",
       " 'alien-invasion.png',\n",
       " 'alien-invasion.pdf',\n",
       " 'manager.txt',\n",
       " 'delays.txt']"
      ]
     },
     "execution_count": 24,
     "metadata": {},
     "output_type": "execute_result"
    }
   ],
   "source": [
    "## show directory now programmatically\n",
    "os.listdir()"
   ]
  },
  {
   "cell_type": "markdown",
   "metadata": {
    "id": "fV9ziAEZjMz6"
   },
   "source": [
    "## Manually add some junk to the junk folder and check its content.\n",
    "\n",
    "Only then do the next step"
   ]
  },
  {
   "cell_type": "code",
   "execution_count": 26,
   "metadata": {
    "id": "P3AgRWGmjS5h"
   },
   "outputs": [
    {
     "name": "stdout",
     "output_type": "stream",
     "text": [
      "rmdir: junk_folder/: Directory not empty\r\n"
     ]
    }
   ],
   "source": [
    "rmdir junk_folder/"
   ]
  },
  {
   "cell_type": "code",
   "execution_count": 29,
   "metadata": {
    "id": "Ac9oevd_jbpM"
   },
   "outputs": [],
   "source": [
    "os.chdir(\"..\")"
   ]
  },
  {
   "cell_type": "code",
   "execution_count": 32,
   "metadata": {},
   "outputs": [
    {
     "name": "stdout",
     "output_type": "stream",
     "text": [
      "/Users/sandeep.junnarkar/week-8-sample-folder\n"
     ]
    }
   ],
   "source": [
    "cd week-8-sample-folder/"
   ]
  },
  {
   "cell_type": "markdown",
   "metadata": {
    "id": "n-y3mgMF-ODk"
   },
   "source": [
    "## Delete junk_folder (this will break)"
   ]
  },
  {
   "cell_type": "code",
   "execution_count": 33,
   "metadata": {
    "id": "kP6b0gvK5u_W"
   },
   "outputs": [],
   "source": [
    "shutil.rmtree(\"junk_folder\")"
   ]
  },
  {
   "cell_type": "code",
   "execution_count": 34,
   "metadata": {
    "id": "LHaY_W2z0u1j"
   },
   "outputs": [
    {
     "data": {
      "text/plain": [
       "['.DS_Store',\n",
       " 'ceo_bios.csv',\n",
       " 'password.png',\n",
       " 'energy.csv',\n",
       " 'alien-invasion.jpg',\n",
       " 'alien-invasion.png',\n",
       " 'alien-invasion.pdf',\n",
       " 'manager.txt',\n",
       " 'delays.txt']"
      ]
     },
     "execution_count": 34,
     "metadata": {},
     "output_type": "execute_result"
    }
   ],
   "source": [
    "## show directory now USING OS\n",
    "os.listdir()"
   ]
  },
  {
   "cell_type": "markdown",
   "metadata": {
    "id": "B6LPgCXSzim3"
   },
   "source": [
    "## back out of directory because you can't delete a folder while you're in it!"
   ]
  },
  {
   "cell_type": "code",
   "execution_count": null,
   "metadata": {
    "id": "TfC1MBkxzim3"
   },
   "outputs": [],
   "source": []
  },
  {
   "cell_type": "code",
   "execution_count": null,
   "metadata": {
    "id": "7aA6_LMjzim4"
   },
   "outputs": [],
   "source": [
    "## show directory now USING OS\n"
   ]
  },
  {
   "cell_type": "code",
   "execution_count": null,
   "metadata": {
    "id": "41vPYHBQzim4"
   },
   "outputs": [],
   "source": [
    "## Now delete all contents\n"
   ]
  },
  {
   "cell_type": "code",
   "execution_count": null,
   "metadata": {
    "id": "Ww0f86byzim4"
   },
   "outputs": [],
   "source": [
    "## show directory now USING OS\n"
   ]
  },
  {
   "cell_type": "code",
   "execution_count": null,
   "metadata": {
    "id": "4PbYRM1I-2JY"
   },
   "outputs": [],
   "source": []
  },
  {
   "cell_type": "code",
   "execution_count": null,
   "metadata": {
    "id": "CequQ7jj-4Wi"
   },
   "outputs": [],
   "source": []
  },
  {
   "cell_type": "markdown",
   "metadata": {
    "id": "hdlS2ZdtcIbn"
   },
   "source": [
    "## Zip folder and download using UNIX commands"
   ]
  },
  {
   "cell_type": "code",
   "execution_count": null,
   "metadata": {
    "id": "yPcPqpGH-9-Z"
   },
   "outputs": [],
   "source": []
  },
  {
   "cell_type": "code",
   "execution_count": null,
   "metadata": {
    "id": "4N0-DGL4LWjy"
   },
   "outputs": [],
   "source": [
    "## Use colab to download\n"
   ]
  },
  {
   "cell_type": "markdown",
   "metadata": {
    "id": "wov3Du7g-vZ9"
   },
   "source": [
    "# Take a detour to fix last week's download issue."
   ]
  },
  {
   "cell_type": "markdown",
   "metadata": {
    "id": "SUcjWF1C6smw"
   },
   "source": [
    "# glob\n",
    "\n",
    "## Yes, glob.\n",
    "\n",
    "glob is a UNIX-based library for collecting specific files into a list."
   ]
  },
  {
   "cell_type": "markdown",
   "metadata": {
    "id": "FXHzRAoy7RKU"
   },
   "source": [
    "## Using a path\n",
    "\n",
    "We can store our path structure to a variable.\n",
    "\n",
    "Right-click on the folder in the left column and copy path:\n",
    "```/content/sample_data```\n",
    "\n",
    "This is the raw path. We are already in ```content``` so instead we want:\n",
    "```sample_data``` plus what files we are looking for (let's say all csv files)."
   ]
  },
  {
   "cell_type": "code",
   "execution_count": null,
   "metadata": {
    "id": "0qpyzNeK7W7t"
   },
   "outputs": [],
   "source": [
    "## grab only the csv files\n"
   ]
  },
  {
   "cell_type": "code",
   "execution_count": 35,
   "metadata": {
    "id": "enzXUX0yv30r"
   },
   "outputs": [
    {
     "data": {
      "text/plain": [
       "'/Users/sandeep.junnarkar/week-8-sample-folder'"
      ]
     },
     "execution_count": 35,
     "metadata": {},
     "output_type": "execute_result"
    }
   ],
   "source": [
    "pwd"
   ]
  },
  {
   "cell_type": "code",
   "execution_count": 36,
   "metadata": {
    "id": "rHeM5DZ0v5fi"
   },
   "outputs": [
    {
     "name": "stdout",
     "output_type": "stream",
     "text": [
      "alien-invasion.jpg  alien-invasion.png  delays.txt          manager.txt\r\n",
      "alien-invasion.pdf  ceo_bios.csv        energy.csv          password.png\r\n"
     ]
    }
   ],
   "source": [
    "ls"
   ]
  },
  {
   "cell_type": "code",
   "execution_count": 37,
   "metadata": {
    "id": "OTU7NuBc6959"
   },
   "outputs": [
    {
     "data": {
      "text/plain": [
       "['ceo_bios.csv', 'energy.csv']"
      ]
     },
     "execution_count": 37,
     "metadata": {},
     "output_type": "execute_result"
    }
   ],
   "source": [
    "## grab only the .csv file(s)\n",
    "my_csv_files = glob.glob(\"*.csv\")\n",
    "my_csv_files\n"
   ]
  },
  {
   "cell_type": "code",
   "execution_count": 39,
   "metadata": {},
   "outputs": [
    {
     "data": {
      "text/plain": [
       "['manager.txt', 'delays.txt']"
      ]
     },
     "execution_count": 39,
     "metadata": {},
     "output_type": "execute_result"
    }
   ],
   "source": [
    "my_txt_files = glob.glob(\"*.txt\")\n",
    "my_txt_files"
   ]
  },
  {
   "cell_type": "code",
   "execution_count": 44,
   "metadata": {
    "id": "Rxd0gr-76yy9"
   },
   "outputs": [
    {
     "data": {
      "text/plain": [
       "['alien-invasion.png', 'alien-invasion copy.jpg', 'alien-invasion.pdf']"
      ]
     },
     "execution_count": 44,
     "metadata": {},
     "output_type": "execute_result"
    }
   ],
   "source": [
    "## grab all the files alien \n",
    "x_files = glob.glob(\"alien-invasion*\")\n",
    "x_files"
   ]
  },
  {
   "cell_type": "code",
   "execution_count": 46,
   "metadata": {},
   "outputs": [
    {
     "data": {
      "text/plain": [
       "['invasion-alien.jpg',\n",
       " 'ceo_bios.csv',\n",
       " 'password.png',\n",
       " 'energy.csv',\n",
       " 'alien-1.png',\n",
       " 'alien-invasion.png',\n",
       " 'alien-invasion copy.jpg',\n",
       " 'alien-invasion.pdf',\n",
       " 'manager.txt',\n",
       " 'delays.txt']"
      ]
     },
     "execution_count": 46,
     "metadata": {},
     "output_type": "execute_result"
    }
   ],
   "source": [
    "all_files = glob.glob(\"*\")\n",
    "all_files"
   ]
  },
  {
   "cell_type": "code",
   "execution_count": null,
   "metadata": {
    "id": "ATgBXXZu_DvX"
   },
   "outputs": [],
   "source": [
    "## show directory now\n"
   ]
  },
  {
   "cell_type": "code",
   "execution_count": null,
   "metadata": {
    "id": "YnZKILIb_KQ1"
   },
   "outputs": [],
   "source": [
    "## make a new directory called project_a\n"
   ]
  },
  {
   "cell_type": "code",
   "execution_count": null,
   "metadata": {
    "id": "sX6NdMUs_ThK"
   },
   "outputs": [],
   "source": [
    "## show directory now\n"
   ]
  },
  {
   "cell_type": "code",
   "execution_count": null,
   "metadata": {
    "id": "ElktsS7C_U3J"
   },
   "outputs": [],
   "source": [
    "## change directory into project_a\n"
   ]
  },
  {
   "cell_type": "code",
   "execution_count": 50,
   "metadata": {},
   "outputs": [
    {
     "name": "stdout",
     "output_type": "stream",
     "text": [
      "/Users/sandeep.junnarkar/Dropbox/coding/courses/fall21-students-practical-python\n"
     ]
    }
   ],
   "source": [
    "cd dropbox/coding/courses/fall21-students-practical-python/\n"
   ]
  },
  {
   "cell_type": "code",
   "execution_count": 52,
   "metadata": {},
   "outputs": [
    {
     "name": "stdout",
     "output_type": "stream",
     "text": [
      "/Users/sandeep.junnarkar/Dropbox/coding/courses/fall21-students-practical-python/in-class\n"
     ]
    }
   ],
   "source": [
    "cd in-class"
   ]
  },
  {
   "cell_type": "code",
   "execution_count": 53,
   "metadata": {},
   "outputs": [
    {
     "name": "stdout",
     "output_type": "stream",
     "text": [
      "week-1-working-with-datatypes-BLANKS.ipynb\r\n",
      "week-2-inclass-exercises-BLANKS.ipynb\r\n",
      "week-2-inclass-exercises-DEMO.ipynb\r\n",
      "week-3-A-list comprehensions BLANKS.ipynb\r\n",
      "week-3-A-list comprehensions DEMO.ipynb\r\n",
      "week-3-B-defined-functions-BLANKS.ipynb\r\n",
      "week-3-B-defined-functions-DEMO.ipynb\r\n",
      "week-3-C-Lambdas-BLANK.ipynb\r\n",
      "week-4-scraping-intro-beautifulsoup-BLANKS.ipynb\r\n",
      "week-4-scraping-intro-beautifulsoup-DEMO.ipynb\r\n",
      "week-5-A-single-page-table_BLANKS.ipynb\r\n",
      "week-5-A-single-page-table_DEMO.ipynb\r\n",
      "week-5-B-inclass-non-tabular-scrape_BLANKS.ipynb\r\n",
      "week-5-B-inclass-non-tabular-scrape_DEMO.ipynb\r\n",
      "week-6-multi-page-table-scrape-BLANK.ipynb\r\n",
      "week-6-multi-page-table-scrape-DEMO.ipynb\r\n",
      "week-7-download_docs_BLANK.ipynb\r\n",
      "week-7-download_docs_DEMO.ipynb\r\n",
      "week-7-flattening_lists_BLANK.ipynb\r\n",
      "week-7-flattening_lists_DEMO.ipynb\r\n",
      "\u001b[1m\u001b[36mweek-8-practice-files\u001b[m\u001b[m/\r\n",
      "\u001b[1m\u001b[36mweek-8-sample-folder\u001b[m\u001b[m/\r\n",
      "week-8-sample-folder.zip\r\n",
      "week-8A-file_folder_mngmt_BLANK.ipynb\r\n",
      "week-8A-file_folder_mngmt_DEMO.ipynb\r\n",
      "week-8B-download-and-read_BLANK.ipynb\r\n",
      "week-8C-practice-files.zip\r\n"
     ]
    }
   ],
   "source": [
    "ls"
   ]
  },
  {
   "cell_type": "code",
   "execution_count": 54,
   "metadata": {
    "collapsed": true,
    "id": "1WTPXmYD_foF"
   },
   "outputs": [
    {
     "data": {
      "text/plain": [
       "['week-3-A-list comprehensions BLANKS.ipynb',\n",
       " 'week-8-sample-folder',\n",
       " 'week-4-scraping-intro-beautifulsoup-DEMO.ipynb',\n",
       " '.DS_Store',\n",
       " 'week-8C-practice-files.zip',\n",
       " 'week-5-B-inclass-non-tabular-scrape_DEMO.ipynb',\n",
       " 'week-7-download_docs_BLANK.ipynb',\n",
       " 'week-3-C-Lambdas-BLANK.ipynb',\n",
       " 'week-3-B-defined-functions-BLANKS.ipynb',\n",
       " 'week-8-sample-folder.zip',\n",
       " 'week-5-B-inclass-non-tabular-scrape_BLANKS.ipynb',\n",
       " 'week-8B-download-and-read_BLANK.ipynb',\n",
       " 'week-7-download_docs_DEMO.ipynb',\n",
       " 'week-5-A-single-page-table_BLANKS.ipynb',\n",
       " 'week-8-practice-files',\n",
       " 'week-8A-file_folder_mngmt_DEMO.ipynb',\n",
       " 'week-8A-file_folder_mngmt_BLANK.ipynb',\n",
       " 'week-7-flattening_lists_DEMO.ipynb',\n",
       " 'week-4-scraping-intro-beautifulsoup-BLANKS.ipynb',\n",
       " 'week-1-working-with-datatypes-BLANKS.ipynb',\n",
       " 'week-5-A-single-page-table_DEMO.ipynb',\n",
       " 'week-6-multi-page-table-scrape-DEMO.ipynb',\n",
       " 'week-6-multi-page-table-scrape-BLANK.ipynb',\n",
       " 'week-3-A-list comprehensions DEMO.ipynb',\n",
       " '.ipynb_checkpoints',\n",
       " 'week-2-inclass-exercises-DEMO.ipynb',\n",
       " 'week-3-B-defined-functions-DEMO.ipynb',\n",
       " 'week-2-inclass-exercises-BLANKS.ipynb',\n",
       " 'week-7-flattening_lists_BLANK.ipynb']"
      ]
     },
     "execution_count": 54,
     "metadata": {},
     "output_type": "execute_result"
    }
   ],
   "source": [
    "## show directory now\n",
    "os.listdir()"
   ]
  },
  {
   "cell_type": "code",
   "execution_count": 55,
   "metadata": {},
   "outputs": [],
   "source": [
    "os.chdir(\"week-8-practice-files\")"
   ]
  },
  {
   "cell_type": "code",
   "execution_count": 59,
   "metadata": {},
   "outputs": [
    {
     "name": "stdout",
     "output_type": "stream",
     "text": [
      "/Users/sandeep.junnarkar/Dropbox/coding/courses/fall21-students-practical-python/in-class/week-8-practice-files\n"
     ]
    }
   ],
   "source": [
    "cd Dropbox/coding/courses/fall21-students-practical-python/in-class/week-8-practice-files"
   ]
  },
  {
   "cell_type": "code",
   "execution_count": 56,
   "metadata": {},
   "outputs": [
    {
     "name": "stdout",
     "output_type": "stream",
     "text": [
      "adolph-coors-2013.pdf\r\n",
      "adolph-coors-2014.pdf\r\n",
      "adolph-coors-2015.pdf\r\n",
      "fla_count_as_of_2020-08-19_time_11_31_00.csv\r\n",
      "fla_count_as_of_2020-08-19_time_11_46_00.csv\r\n",
      "fla_count_as_of_2020-08-19_time_12_01_00.csv\r\n",
      "fla_count_as_of_2020-08-19_time_12_16_00.csv\r\n",
      "fla_count_as_of_2020-08-19_time_12_31_00.csv\r\n",
      "read_sample1.txt\r\n"
     ]
    }
   ],
   "source": [
    "ls"
   ]
  },
  {
   "cell_type": "code",
   "execution_count": 60,
   "metadata": {},
   "outputs": [
    {
     "data": {
      "text/plain": [
       "'/Users/sandeep.junnarkar/Dropbox/coding/courses/fall21-students-practical-python/in-class/week-8-practice-files'"
      ]
     },
     "execution_count": 60,
     "metadata": {},
     "output_type": "execute_result"
    }
   ],
   "source": [
    "pwd"
   ]
  },
  {
   "cell_type": "markdown",
   "metadata": {
    "id": "lQcVWJMKAY_1"
   },
   "source": [
    "# Start reading files"
   ]
  },
  {
   "cell_type": "code",
   "execution_count": 61,
   "metadata": {
    "id": "Q4f89xC1ATiq"
   },
   "outputs": [
    {
     "name": "stdout",
     "output_type": "stream",
     "text": [
      "<_io.TextIOWrapper name='read_sample1.txt' mode='r' encoding='UTF-8'>\n"
     ]
    }
   ],
   "source": [
    "## create a text wrapper object by \"reading\" the 'read_sample1.txt' file\n",
    "## remember we are already in the test folder\n",
    "with open(\"read_sample1.txt\", \"r\") as myfile:\n",
    "    print(myfile)"
   ]
  },
  {
   "cell_type": "markdown",
   "metadata": {
    "id": "CcVEX9mbAf-P"
   },
   "source": [
    "## We can interpret this ```<class '_io.TextIOWrapper'>``` to read the actual contents"
   ]
  },
  {
   "cell_type": "code",
   "execution_count": 62,
   "metadata": {
    "id": "McfQkCqtAghJ"
   },
   "outputs": [],
   "source": [
    "## create a variable that holds our file name\n",
    "file_name = \"read_sample1.txt\""
   ]
  },
  {
   "cell_type": "code",
   "execution_count": 63,
   "metadata": {
    "id": "_65rRBLZAmCX"
   },
   "outputs": [
    {
     "name": "stdout",
     "output_type": "stream",
     "text": [
      "Pandemic Rages in the U.S., Spurring Quarantines and Mask Orders\n",
      "By Margaret Newkirk, Jonathan Levin, and Michelle Fay Cortez\n",
      "\n",
      "The Covid-19 pandemic is tearing through the U.S. heartland, setting records for hospitalizations and forcing businesses to rethink their plans to reopen as new modeling predicts the virus will kill 180,000 Americans by October.\n",
      "\n",
      "With the U.S. seeing one of its highest-ever increases in cases Wednesday, some states took drastic measures, imposing face mask orders and internal quarantines. The country recorded more than 34,500 new infections for a second day, rattling markets as numbers neared the peak of 36,188 set April 24, when the virus was coursing through New York.\n",
      "\n"
     ]
    }
   ],
   "source": [
    "## read and print entire file\n",
    "with open(file_name, \"r\") as myfile:\n",
    "    print(myfile.read())"
   ]
  },
  {
   "cell_type": "code",
   "execution_count": 64,
   "metadata": {},
   "outputs": [
    {
     "data": {
      "text/plain": [
       "<_io.TextIOWrapper name='read_sample1.txt' mode='r' encoding='UTF-8'>"
      ]
     },
     "execution_count": 64,
     "metadata": {},
     "output_type": "execute_result"
    }
   ],
   "source": [
    "myfile"
   ]
  },
  {
   "cell_type": "code",
   "execution_count": 69,
   "metadata": {
    "id": "dC1xQ7ysApQ9"
   },
   "outputs": [
    {
     "name": "stdout",
     "output_type": "stream",
     "text": [
      "Pandemic Rages in the U.S., Spurring Quarantines and Mask Orders\n",
      "By\n"
     ]
    }
   ],
   "source": [
    "## read and print 50 characters\n",
    "with open(file_name, \"r\") as myfile:\n",
    "    print(myfile.read(67))"
   ]
  },
  {
   "cell_type": "markdown",
   "metadata": {
    "id": "mVyI5xKFA3Cc"
   },
   "source": [
    "## Saving file to memory\n",
    "So far, we haven't saved the text. \n",
    "The content is only available inside ```with open```.\n",
    "If we try to read the lines, outside the ```with open```, we'll get a ```ValueError: I/O operation on closed file.```"
   ]
  },
  {
   "cell_type": "code",
   "execution_count": 70,
   "metadata": {
    "id": "NCoAJjUoAsMN"
   },
   "outputs": [
    {
     "ename": "ValueError",
     "evalue": "I/O operation on closed file.",
     "output_type": "error",
     "traceback": [
      "\u001b[0;31m---------------------------------------------------------------------------\u001b[0m",
      "\u001b[0;31mValueError\u001b[0m                                Traceback (most recent call last)",
      "\u001b[0;32m<ipython-input-70-dfeb89670a17>\u001b[0m in \u001b[0;36m<module>\u001b[0;34m\u001b[0m\n\u001b[0;32m----> 1\u001b[0;31m \u001b[0mmyfile\u001b[0m\u001b[0;34m.\u001b[0m\u001b[0mread\u001b[0m\u001b[0;34m(\u001b[0m\u001b[0;36m68\u001b[0m\u001b[0;34m)\u001b[0m\u001b[0;34m\u001b[0m\u001b[0;34m\u001b[0m\u001b[0m\n\u001b[0m",
      "\u001b[0;31mValueError\u001b[0m: I/O operation on closed file."
     ]
    }
   ],
   "source": [
    "myfile.read(68)"
   ]
  },
  {
   "cell_type": "markdown",
   "metadata": {
    "id": "zTMKlaQaBDZW"
   },
   "source": [
    "## We fix that my saving the myfile object inside a variable"
   ]
  },
  {
   "cell_type": "code",
   "execution_count": 71,
   "metadata": {
    "id": "H6CxTe87A6I2"
   },
   "outputs": [],
   "source": [
    "## read hold the first 50 characters in a variable\n",
    "with open(file_name, \"r\") as myfile:\n",
    "    first_50 = myfile.read(50)"
   ]
  },
  {
   "cell_type": "code",
   "execution_count": 72,
   "metadata": {
    "id": "T567GoMWBAMz"
   },
   "outputs": [
    {
     "data": {
      "text/plain": [
       "'Pandemic Rages in the U.S., Spurring Quarantines a'"
      ]
     },
     "execution_count": 72,
     "metadata": {},
     "output_type": "execute_result"
    }
   ],
   "source": [
    "## call the variable above\n",
    "first_50"
   ]
  },
  {
   "cell_type": "code",
   "execution_count": 77,
   "metadata": {
    "id": "VZAmEMxIBRl6"
   },
   "outputs": [],
   "source": [
    "## read the first line into a variable\n",
    "with open(file_name, \"r\") as myfile:\n",
    "    first_line = myfile.readline()"
   ]
  },
  {
   "cell_type": "code",
   "execution_count": 78,
   "metadata": {
    "id": "C4ET5Ty9BUG-"
   },
   "outputs": [
    {
     "data": {
      "text/plain": [
       "'Pandemic Rages in the U.S., Spurring Quarantines and Mask Orders\\n'"
      ]
     },
     "execution_count": 78,
     "metadata": {},
     "output_type": "execute_result"
    }
   ],
   "source": [
    "## call the variable above\n",
    "first_line"
   ]
  },
  {
   "cell_type": "code",
   "execution_count": 79,
   "metadata": {
    "id": "goQbUttdBWQL"
   },
   "outputs": [],
   "source": [
    "## read the whole thing into a variable\n",
    "## all_text\n",
    "\n",
    "with open(file_name, \"r\") as myfile:\n",
    "    all_text = myfile.read()"
   ]
  },
  {
   "cell_type": "code",
   "execution_count": 80,
   "metadata": {
    "id": "t6c-8K4MBYXj"
   },
   "outputs": [
    {
     "data": {
      "text/plain": [
       "'Pandemic Rages in the U.S., Spurring Quarantines and Mask Orders\\nBy Margaret Newkirk, Jonathan Levin, and Michelle Fay Cortez\\n\\nThe Covid-19 pandemic is tearing through the U.S. heartland, setting records for hospitalizations and forcing businesses to rethink their plans to reopen as new modeling predicts the virus will kill 180,000 Americans by October.\\n\\nWith the U.S. seeing one of its highest-ever increases in cases Wednesday, some states took drastic measures, imposing face mask orders and internal quarantines. The country recorded more than 34,500 new infections for a second day, rattling markets as numbers neared the peak of 36,188 set April 24, when the virus was coursing through New York.\\n'"
      ]
     },
     "execution_count": 80,
     "metadata": {},
     "output_type": "execute_result"
    }
   ],
   "source": [
    "## call the variable above\n",
    "all_text"
   ]
  },
  {
   "cell_type": "code",
   "execution_count": 81,
   "metadata": {
    "id": "OMBhpRj8jLKO"
   },
   "outputs": [
    {
     "name": "stdout",
     "output_type": "stream",
     "text": [
      "Pandemic Rages in the U.S., Spurring Quarantines and Mask Orders\n",
      "By Margaret Newkirk, Jonathan Levin, and Michelle Fay Cortez\n",
      "\n",
      "The Covid-19 pandemic is tearing through the U.S. heartland, setting records for hospitalizations and forcing businesses to rethink their plans to reopen as new modeling predicts the virus will kill 180,000 Americans by October.\n",
      "\n",
      "With the U.S. seeing one of its highest-ever increases in cases Wednesday, some states took drastic measures, imposing face mask orders and internal quarantines. The country recorded more than 34,500 new infections for a second day, rattling markets as numbers neared the peak of 36,188 set April 24, when the virus was coursing through New York.\n",
      "\n"
     ]
    }
   ],
   "source": [
    "print(all_text)"
   ]
  },
  {
   "cell_type": "code",
   "execution_count": null,
   "metadata": {
    "id": "mQv7Jw-4jOSB"
   },
   "outputs": [],
   "source": []
  },
  {
   "cell_type": "markdown",
   "metadata": {
    "id": "6vvJccMgBhcx"
   },
   "source": [
    "## It's more useful to save the text object inside a list. \n",
    "Remember, ```readlines()``` actually shows each line as part of a list."
   ]
  },
  {
   "cell_type": "code",
   "execution_count": 82,
   "metadata": {
    "id": "6Hpf-aVxBbeX"
   },
   "outputs": [
    {
     "data": {
      "text/plain": [
       "['Pandemic Rages in the U.S., Spurring Quarantines and Mask Orders\\n',\n",
       " 'By Margaret Newkirk, Jonathan Levin, and Michelle Fay Cortez\\n',\n",
       " '\\n',\n",
       " 'The Covid-19 pandemic is tearing through the U.S. heartland, setting records for hospitalizations and forcing businesses to rethink their plans to reopen as new modeling predicts the virus will kill 180,000 Americans by October.\\n',\n",
       " '\\n',\n",
       " 'With the U.S. seeing one of its highest-ever increases in cases Wednesday, some states took drastic measures, imposing face mask orders and internal quarantines. The country recorded more than 34,500 new infections for a second day, rattling markets as numbers neared the peak of 36,188 set April 24, when the virus was coursing through New York.\\n']"
      ]
     },
     "execution_count": 82,
     "metadata": {},
     "output_type": "execute_result"
    }
   ],
   "source": [
    "## store entire text file in list\n",
    "with open(file_name, \"r\") as myfile:\n",
    "    all_text_ls = myfile.readlines()\n",
    "    \n",
    "all_text_ls"
   ]
  },
  {
   "cell_type": "markdown",
   "metadata": {
    "id": "6bPl-BOFBocY"
   },
   "source": [
    "\n",
    "## We can then slice our list"
   ]
  },
  {
   "cell_type": "code",
   "execution_count": 87,
   "metadata": {
    "id": "thQFzZhfBery"
   },
   "outputs": [
    {
     "data": {
      "text/plain": [
       "'With the U.S. seeing one of its highest-ever increases in cases Wednesday, some states took drastic measures, imposing face mask orders and internal quarantines. The country recorded more than 34,500 new infections for a second day, rattling markets as numbers neared the peak of 36,188 set April 24, when the virus was coursing through New York.\\n'"
      ]
     },
     "execution_count": 87,
     "metadata": {},
     "output_type": "execute_result"
    }
   ],
   "source": [
    "## Show list item 3\n",
    "all_text_ls[5]"
   ]
  },
  {
   "cell_type": "code",
   "execution_count": null,
   "metadata": {
    "id": "cU6fwVoZBrOV"
   },
   "outputs": [],
   "source": []
  },
  {
   "cell_type": "code",
   "execution_count": null,
   "metadata": {
    "id": "83gEVzzTBtuw"
   },
   "outputs": [],
   "source": []
  },
  {
   "cell_type": "code",
   "execution_count": null,
   "metadata": {
    "id": "T4_y7qprBvs2"
   },
   "outputs": [],
   "source": []
  }
 ],
 "metadata": {
  "colab": {
   "collapsed_sections": [],
   "name": "week-8A-file_folder_mngmt_BLANK.ipynb",
   "provenance": [
    {
     "file_id": "1kqd4HicmAldE-DZBOgLQjchxim-GVwYN",
     "timestamp": 1628626905369
    },
    {
     "file_id": "1C3xH08V3tJClZ_nWy3bNSUqRKcdYSC-f",
     "timestamp": 1620827792051
    }
   ]
  },
  "kernelspec": {
   "display_name": "Python 3",
   "language": "python",
   "name": "python3"
  },
  "language_info": {
   "codemirror_mode": {
    "name": "ipython",
    "version": 3
   },
   "file_extension": ".py",
   "mimetype": "text/x-python",
   "name": "python",
   "nbconvert_exporter": "python",
   "pygments_lexer": "ipython3",
   "version": "3.8.8"
  }
 },
 "nbformat": 4,
 "nbformat_minor": 1
}
