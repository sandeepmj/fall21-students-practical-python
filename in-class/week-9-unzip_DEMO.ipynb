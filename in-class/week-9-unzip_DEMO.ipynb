{
 "cells": [
  {
   "cell_type": "markdown",
   "metadata": {
    "id": "XBTj3QNSHJZ8"
   },
   "source": [
    "# Zipped Folders\n",
    "\n",
    "We might encounter a zipped/compressed folders or folders that contain the files we need. Instead of manually unzipping them, we can deploy Python.\n",
    "\n",
    "\n"
   ]
  },
  {
   "cell_type": "code",
   "execution_count": 1,
   "metadata": {
    "id": "eQ_GuWHqMVOC"
   },
   "outputs": [],
   "source": [
    "## package needed\n",
    "from zipfile import ZipFile"
   ]
  },
  {
   "cell_type": "code",
   "execution_count": 2,
   "metadata": {
    "id": "HbheZ5DrMVOJ"
   },
   "outputs": [
    {
     "name": "stdout",
     "output_type": "stream",
     "text": [
      "<class 'zipfile.ZipFile'>\n"
     ]
    }
   ],
   "source": [
    "## ZipFile is from the package we imported\n",
    "## my_folder_object is what i am calling the resulting object\n",
    "folder_name = \"week-9-unzipping_samples.zip\"\n",
    "\n",
    "with ZipFile(folder_name, \"r\") as my_unzipped_folder:\n",
    "    print(type(my_unzipped_folder))"
   ]
  },
  {
   "cell_type": "code",
   "execution_count": 4,
   "metadata": {
    "id": "B2QxZeCFjklb"
   },
   "outputs": [],
   "source": [
    "## code to unzip the folder in the same director\n",
    "folder_name = \"week-9-unzipping_samples.zip\"\n",
    "\n",
    "with ZipFile(folder_name, \"r\") as zipObj:\n",
    "    zipObj.extractall()\n",
    "    \n",
    "#     print(type(my_unzipped_folder))"
   ]
  },
  {
   "cell_type": "code",
   "execution_count": 5,
   "metadata": {},
   "outputs": [],
   "source": [
    "folder_name = \"week-9-unzipping_samples.zip\"\n",
    "\n",
    "with ZipFile(folder_name, \"r\") as zipObj:\n",
    "    zipObj.extractall(\"my_zipping_project\")"
   ]
  },
  {
   "cell_type": "code",
   "execution_count": null,
   "metadata": {
    "id": "FSKGW1T4MVOL"
   },
   "outputs": [],
   "source": [
    "## extract into a separate directory called \"unzipped_files\"\n"
   ]
  },
  {
   "cell_type": "code",
   "execution_count": 7,
   "metadata": {
    "id": "aU2Yl-GuMVOO"
   },
   "outputs": [],
   "source": [
    "## extract only a type of file within my zipped folder\n",
    "## extract only the .csv file(s)\n",
    "folder_name = \"week-9-unzipping_samples.zip\"\n",
    "\n",
    "with ZipFile(folder_name, \"r\") as zipObj:\n",
    "    file_names = zipObj.namelist()\n",
    "    for file_name in file_names:\n",
    "        if file_name.endswith(\".csv\"):\n",
    "            zipObj.extract(file_name, \"temp_csv\")\n",
    "#     print(file_names)\n",
    "#     zipObj.extractall(\"my_zipping_project\")"
   ]
  },
  {
   "cell_type": "code",
   "execution_count": 10,
   "metadata": {
    "id": "xEQbGZLQ1e6X"
   },
   "outputs": [],
   "source": [
    "## unzip and gather only the IMAGE files call images_only\n",
    "\n",
    "with ZipFile(folder_name, \"r\") as zipObj:\n",
    "  file_names = zipObj.namelist()\n",
    "  # print(file_names)\n",
    "  # print(type(file_names))\n",
    "  for file_name in file_names:\n",
    "    if file_name.endswith(\".jpg\") or file_name.endswith(\".png\"):\n",
    "      zipObj.extract(file_name, \"images_only\")\n"
   ]
  },
  {
   "cell_type": "code",
   "execution_count": 9,
   "metadata": {
    "id": "oaSGEA0Ojklc"
   },
   "outputs": [],
   "source": [
    "## unzip and gather only the txt\n",
    "\n",
    "with ZipFile(folder_name, \"r\") as zipObj:\n",
    "    file_names = zipObj.namelist()\n",
    "    for file_name in file_names:\n",
    "        if file_name.endswith(\".txt\"):\n",
    "            zipObj.extract(file_name, \"temp_txt\")"
   ]
  },
  {
   "cell_type": "code",
   "execution_count": null,
   "metadata": {},
   "outputs": [],
   "source": []
  }
 ],
 "metadata": {
  "colab": {
   "collapsed_sections": [],
   "name": "week-9-unzip_BLANKS.ipynb",
   "provenance": [
    {
     "file_id": "1MCH_ndGVhYiWhAdbDfU53XTQnUKtlSL7",
     "timestamp": 1629243111312
    },
    {
     "file_id": "1vrDAO3CtJipOk6J64meuCXfzi_UIzyZ5",
     "timestamp": 1621423593707
    }
   ]
  },
  "kernelspec": {
   "display_name": "Python 3",
   "language": "python",
   "name": "python3"
  },
  "language_info": {
   "codemirror_mode": {
    "name": "ipython",
    "version": 3
   },
   "file_extension": ".py",
   "mimetype": "text/x-python",
   "name": "python",
   "nbconvert_exporter": "python",
   "pygments_lexer": "ipython3",
   "version": "3.8.8"
  }
 },
 "nbformat": 4,
 "nbformat_minor": 1
}
