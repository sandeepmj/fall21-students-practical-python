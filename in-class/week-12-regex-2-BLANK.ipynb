{
 "cells": [
  {
   "cell_type": "markdown",
   "metadata": {},
   "source": [
    "note regex 1 was using just regex101.com"
   ]
  },
  {
   "cell_type": "markdown",
   "metadata": {
    "id": "RtXF5HKNRbPh"
   },
   "source": [
    "# Regular Expressions (regex)\n",
    "\n",
    "\n",
    "- What is regular expressions anyway?\n",
    "- <a href=\"https://regex101.com/\">Live Testing</a>\n",
    "- Sandeep's <a href=\"https://docs.google.com/spreadsheets/d/1A39lM4SiGZbzZPxrjEXkR05aksAewudccWmojoIU0Gk/edit?usp=sharing\">REGEX Tip sheet</a>\n",
    "- Common pattern finder: https://regexlib.com/Default.aspx\n",
    "\n",
    "**Copy this dummy text:**"
   ]
  },
  {
   "cell_type": "markdown",
   "metadata": {
    "id": "inLRh4fXRbPm"
   },
   "source": [
    "12534 127 ab aba abba sandeepj@bloomberg.net abbba, abbbbba, (518) 469-4581 abcde.The dog is a not a hog. ABA ABBA ABBBA.\n",
    "\n",
    "\n",
    "Ab_CD123  123456 and 12456\ttor 12531245134562. 123867584789. $40.44 or $3 or $52,583.08 or $610,235.11\n",
    "\n",
    "The cat sat down and called 514-957-3453 while the other caaaaaat purred. This cat is in California while this caaaat is in Iraq, but none are in ct. My dog prefers cat food to dog food but hates fish food.My food tastes yummy!\n",
    "\n",
    "AB_cd \t<+>-.,!@# $%^&*();\\/|_^@1# (917) 488-5410\n",
    "\n",
    "*!dsar2d1\n",
    "\n",
    "I told him to search the thesaurus where sandeep.junnarkar@journalism.cuny.edu he'd be able to sjnews@gmail.com find words like them.\n",
    "\n",
    "abcdefgczhijklmnopqrstuvwxyz\tABCDEFGCZHIJKLMNOPQRSTUVWXYZ\n",
    "\n",
    "A h0g is a hog.\n",
    "\n",
    "Dog and dog and DOG. His number is 415.458.9163.\n",
    "\n",
    "&^%@ 129\n",
    "\n",
    "$12,560\n",
    "\n",
    "abba"
   ]
  },
  {
   "cell_type": "markdown",
   "metadata": {},
   "source": [
    "## Basics of REGEX\n",
    "\n",
    "- visit this <a href=\"https://regex101.com/\">live testing site</a>"
   ]
  },
  {
   "cell_type": "code",
   "execution_count": null,
   "metadata": {
    "id": "7obJksVBRbPn"
   },
   "outputs": [],
   "source": [
    "## place dummy text into a variable called mydoc\n",
    "mydoc = '''\n",
    "12534 127 ab aba abba sandeepj@bloomberg.net abbba, abbbbba, (518) 469-4581 abcde.The dog is a not a hog. ABA ABBA ABBBA.\n",
    "\n",
    "\n",
    "Ab_CD123  123456 and 12456\ttor 12531245134562. 123867584789. $40.44 or $3 or $52,583.08 or $610,235.11\n",
    "\n",
    "The cat sat down and called 514-957-3453 while the other caaaaaat purred. This cat is in California while this caaaat is in Iraq, but none are in ct. My dog prefers cat food to dog food but hates fish food.My food tastes yummy!\n",
    "\n",
    "AB_cd \t<+>-.,!@# $%^&*();\\/|_^@1# (917) 488-5410\n",
    "\n",
    "*!dsar2d1\n",
    "\n",
    "I told him to search the thesaurus where sandeep.junnarkar@journalism.cuny.edu he'd be able to sjnews@gmail.com find words like them.\n",
    "\n",
    "abcdefgczhijklmnopqrstuvwxyz\tABCDEFGCZHIJKLMNOPQRSTUVWXYZ\n",
    "\n",
    "A h0g is a hog.\n",
    "\n",
    "Dog and dog and DOG. His number is 415.458.9163.\n",
    "\n",
    "&^%@ 129\n",
    "\n",
    "$12,560\n",
    "\n",
    "abba\n",
    "\n",
    "\n",
    "\n",
    "'''"
   ]
  },
  {
   "cell_type": "code",
   "execution_count": null,
   "metadata": {
    "colab": {
     "base_uri": "https://localhost:8080/",
     "height": 103
    },
    "id": "9EuypuZIRbPn",
    "outputId": "ed215db8-d092-42a3-9021-2e2cafb49619"
   },
   "outputs": [],
   "source": [
    "## call mydoc\n"
   ]
  },
  {
   "cell_type": "code",
   "execution_count": null,
   "metadata": {
    "colab": {
     "base_uri": "https://localhost:8080/"
    },
    "id": "ErYT4VOT4Jd4",
    "outputId": "8d69a7b6-0c59-4953-8565-33759611c0d7"
   },
   "outputs": [],
   "source": [
    "## print variable\n"
   ]
  },
  {
   "cell_type": "code",
   "execution_count": null,
   "metadata": {
    "id": "4qF0fu3BRbPo"
   },
   "outputs": [],
   "source": [
    "## import libraries\n",
    "\n"
   ]
  },
  {
   "cell_type": "code",
   "execution_count": null,
   "metadata": {
    "id": "DkKDdLyrRbPo"
   },
   "outputs": [],
   "source": [
    "## Run this cell\n",
    "some_text = \"The dog barked at the other dog, cat and kitten.\""
   ]
  },
  {
   "cell_type": "markdown",
   "metadata": {
    "id": "L5bRo99IRbPo"
   },
   "source": [
    "### Simple Python literal search"
   ]
  },
  {
   "cell_type": "code",
   "execution_count": null,
   "metadata": {
    "colab": {
     "base_uri": "https://localhost:8080/"
    },
    "id": "bdmtfrK3RbPo",
    "outputId": "d68ef0ec-fad1-458f-c363-aff16ba98b9c"
   },
   "outputs": [],
   "source": [
    "## is dog in my text\n"
   ]
  },
  {
   "cell_type": "code",
   "execution_count": null,
   "metadata": {
    "colab": {
     "base_uri": "https://localhost:8080/"
    },
    "id": "s0cQ0o__RbPp",
    "outputId": "70800d74-cab5-4d02-c57e-0c50dc26e22a"
   },
   "outputs": [],
   "source": [
    "## is kitten in my text\n"
   ]
  },
  {
   "cell_type": "code",
   "execution_count": null,
   "metadata": {
    "colab": {
     "base_uri": "https://localhost:8080/"
    },
    "id": "Rp7ucuT84lT-",
    "outputId": "dc5e4680-c8e3-4f34-8000-a04d69377943"
   },
   "outputs": [],
   "source": [
    "## is bird in my text\n"
   ]
  },
  {
   "cell_type": "markdown",
   "metadata": {
    "id": "IW_DuEh5RbPp"
   },
   "source": [
    "## ```search```\n",
    "\n",
    "- returns ONLY the first instance of the search pattern"
   ]
  },
  {
   "cell_type": "markdown",
   "metadata": {
    "id": "qSnmdEoDRbPp"
   },
   "source": [
    "#### Method 1. \n",
    "#### ```some_result = re.search(some_pattern, some_string)```"
   ]
  },
  {
   "cell_type": "code",
   "execution_count": null,
   "metadata": {
    "colab": {
     "base_uri": "https://localhost:8080/",
     "height": 35
    },
    "id": "DCpbepqA5HzL",
    "outputId": "aa5caca3-aa38-4000-da3a-d1a842fe9be6"
   },
   "outputs": [],
   "source": [
    "## call some_text\n"
   ]
  },
  {
   "cell_type": "code",
   "execution_count": null,
   "metadata": {
    "colab": {
     "base_uri": "https://localhost:8080/"
    },
    "id": "1JbSurQSRbPp",
    "outputId": "54242ccb-2a57-4c14-9824-a2abc4d83793"
   },
   "outputs": [],
   "source": [
    "## using a literal\n",
    "\n"
   ]
  },
  {
   "cell_type": "code",
   "execution_count": null,
   "metadata": {
    "colab": {
     "base_uri": "https://localhost:8080/"
    },
    "id": "DKNk7jXaRbPq",
    "outputId": "04967d1f-3e07-4be9-a6ac-0674af7b296d"
   },
   "outputs": [],
   "source": [
    "## using regex search\n",
    "\n"
   ]
  },
  {
   "cell_type": "markdown",
   "metadata": {
    "id": "ySje3J8wRbPq"
   },
   "source": [
    "#### Method 2.\n",
    "\n",
    "####  ```pattern_variable = re.compile(\"some_pattern\")```\n",
    "\n",
    "#### ```a_result = pattern_variable.search(some_string)```"
   ]
  },
  {
   "cell_type": "code",
   "execution_count": null,
   "metadata": {
    "colab": {
     "base_uri": "https://localhost:8080/"
    },
    "id": "U1zWNOHXRbPq",
    "outputId": "9ff12336-339e-4d34-e577-a7d4e2fb2b6f"
   },
   "outputs": [],
   "source": [
    "## use method 2\n"
   ]
  },
  {
   "cell_type": "markdown",
   "metadata": {
    "id": "bBCTf6t9RbPq"
   },
   "source": [
    "#### The two methods are identical, but method 2 with ```re.compile``` is more efficient since you store the pattern and reuse it.\n"
   ]
  },
  {
   "cell_type": "code",
   "execution_count": null,
   "metadata": {
    "id": "X33--weBRbPr"
   },
   "outputs": [],
   "source": [
    "## run this\n",
    "other_text = \"The military vet was able to overcome her PTSD with the help of a service dog.\""
   ]
  },
  {
   "cell_type": "code",
   "execution_count": null,
   "metadata": {
    "colab": {
     "base_uri": "https://localhost:8080/"
    },
    "id": "QRtIT9c3RbPr",
    "outputId": "7922457f-a676-4048-8a48-836b161f3f7c"
   },
   "outputs": [],
   "source": [
    "## CALL pattern on other_text\n"
   ]
  },
  {
   "cell_type": "markdown",
   "metadata": {
    "id": "bmKoEItBRbPu"
   },
   "source": [
    "### Returning the match object"
   ]
  },
  {
   "cell_type": "code",
   "execution_count": null,
   "metadata": {
    "colab": {
     "base_uri": "https://localhost:8080/"
    },
    "id": "yQICytPGRbPu",
    "outputId": "1de02353-2162-479f-e2fd-9ce7a59c8f4e"
   },
   "outputs": [],
   "source": [
    "## let's run this again\n",
    "my_pattern = re.compile(\"\\wog\")\n",
    "pet_search = my_pattern.search(some_text)\n",
    "pet_search"
   ]
  },
  {
   "cell_type": "code",
   "execution_count": null,
   "metadata": {
    "colab": {
     "base_uri": "https://localhost:8080/"
    },
    "id": "2nM3bHiKkm0S",
    "outputId": "c30e4c90-c664-486d-ba03-651fd12611d2"
   },
   "outputs": [],
   "source": [
    "## what type of object is the pattern?\n"
   ]
  },
  {
   "cell_type": "code",
   "execution_count": null,
   "metadata": {
    "colab": {
     "base_uri": "https://localhost:8080/"
    },
    "id": "_YTDNEi3RbPu",
    "outputId": "404a6c19-44c2-4ef7-fdf5-cbe1d2bfb2d4"
   },
   "outputs": [],
   "source": [
    "## what type of object did it return it (pet_search)?\n"
   ]
  },
  {
   "cell_type": "code",
   "execution_count": null,
   "metadata": {
    "colab": {
     "base_uri": "https://localhost:8080/"
    },
    "id": "9dXiH7zuRbPu",
    "outputId": "ea7d2793-f153-4200-a2a3-20d8176daead"
   },
   "outputs": [],
   "source": [
    "## pull out location from the match object\n"
   ]
  },
  {
   "cell_type": "code",
   "execution_count": null,
   "metadata": {
    "colab": {
     "base_uri": "https://localhost:8080/",
     "height": 201
    },
    "id": "wEhVZlY7_ap1",
    "outputId": "e2e6b07f-8d36-4e36-8bfe-6f9c4b305f19"
   },
   "outputs": [],
   "source": [
    "## pull out the match object\n",
    "### this will break\n"
   ]
  },
  {
   "cell_type": "markdown",
   "metadata": {
    "id": "Tz_wtOOgRbPv"
   },
   "source": [
    "#### ```.group()``` returns the matched pattern in from the text"
   ]
  },
  {
   "cell_type": "code",
   "execution_count": null,
   "metadata": {
    "colab": {
     "base_uri": "https://localhost:8080/",
     "height": 35
    },
    "id": "DaalLW2tRbPv",
    "outputId": "4164f5ff-cd3f-43fd-9566-f88b4e8b6247"
   },
   "outputs": [],
   "source": [
    "## pull out the matched pattern itself\n"
   ]
  },
  {
   "cell_type": "code",
   "execution_count": null,
   "metadata": {
    "colab": {
     "base_uri": "https://localhost:8080/",
     "height": 35
    },
    "id": "_0lwo1DjiyDO",
    "outputId": "2235d710-fd8f-4abd-a86a-180b3f757dd8"
   },
   "outputs": [],
   "source": [
    "## zeroth object\n"
   ]
  },
  {
   "cell_type": "code",
   "execution_count": null,
   "metadata": {
    "colab": {
     "base_uri": "https://localhost:8080/",
     "height": 35
    },
    "id": "HBi0dyrtAHTh",
    "outputId": "ee114265-969a-40f8-9265-1d006879e04f"
   },
   "outputs": [],
   "source": [
    "## run some text again\n",
    "some_text"
   ]
  },
  {
   "cell_type": "code",
   "execution_count": null,
   "metadata": {
    "colab": {
     "base_uri": "https://localhost:8080/"
    },
    "id": "8v4gx0KWRbPv",
    "outputId": "3771c4bf-4a8a-4ebf-e1eb-7cd3440fa5a3"
   },
   "outputs": [],
   "source": [
    "## let's look for something that we know if NOT in the text\n"
   ]
  },
  {
   "cell_type": "code",
   "execution_count": null,
   "metadata": {
    "colab": {
     "base_uri": "https://localhost:8080/"
    },
    "id": "paoHqjqxRbPv",
    "outputId": "6fa8abf1-0987-4eb2-a419-13f75d94a6e5"
   },
   "outputs": [],
   "source": [
    "## what type did it return?\n"
   ]
  },
  {
   "cell_type": "code",
   "execution_count": null,
   "metadata": {
    "id": "KuhUM09NRbPv"
   },
   "outputs": [],
   "source": [
    "## print what it returned \n"
   ]
  },
  {
   "cell_type": "markdown",
   "metadata": {
    "id": "2xG7VChuRbPv"
   },
   "source": [
    "#### You can build conditional logic based on what is returned -- even if nothing is returned."
   ]
  },
  {
   "cell_type": "code",
   "execution_count": null,
   "metadata": {
    "colab": {
     "base_uri": "https://localhost:8080/"
    },
    "id": "RtY6KCiBRbPv",
    "outputId": "2de955a5-210c-47dc-e038-ed548a67c4de"
   },
   "outputs": [],
   "source": [
    "## write conditional here\n",
    "\n"
   ]
  },
  {
   "cell_type": "code",
   "execution_count": null,
   "metadata": {
    "id": "1i26j0hXRbPv"
   },
   "outputs": [],
   "source": [
    "## run this cell\n",
    "other_text = \"The bird flew over the dog and cat.\"\n"
   ]
  },
  {
   "cell_type": "code",
   "execution_count": null,
   "metadata": {
    "colab": {
     "base_uri": "https://localhost:8080/"
    },
    "id": "e7m90-BN94J6",
    "outputId": "2ba2e77a-2ec8-4c9d-f444-51bd37c8818e"
   },
   "outputs": [],
   "source": [
    "## rerun the regex with \"bird\" for the  new text\n"
   ]
  },
  {
   "cell_type": "code",
   "execution_count": null,
   "metadata": {
    "colab": {
     "base_uri": "https://localhost:8080/"
    },
    "id": "Rpt3eyCaRbPw",
    "outputId": "32007da4-0b67-47a9-88ed-57f6388f5c45"
   },
   "outputs": [],
   "source": [
    "## rerun the conditional\n"
   ]
  },
  {
   "cell_type": "markdown",
   "metadata": {
    "id": "8dw_tIRjRbPr"
   },
   "source": [
    "### Python Interpreter and Regex conflict with ```\\```"
   ]
  },
  {
   "cell_type": "code",
   "execution_count": null,
   "metadata": {},
   "outputs": [],
   "source": [
    "## demo without raw string here"
   ]
  },
  {
   "cell_type": "markdown",
   "metadata": {},
   "source": [
    "This is confusing but here's just happened:\n",
    "\n",
    "The Python interpreter sees the first slash and takes it as an escape character and removes it.\n",
    "\n",
    "The code is then passed on to the Regex, which then sees a single slash which stands for an escape character instead of the slash in the string."
   ]
  },
  {
   "cell_type": "code",
   "execution_count": null,
   "metadata": {},
   "outputs": [],
   "source": [
    "## fix with raw string\n"
   ]
  },
  {
   "cell_type": "code",
   "execution_count": null,
   "metadata": {
    "id": "Lsrbc1_7RbPr"
   },
   "outputs": [],
   "source": [
    "## run this\n",
    "pet = \"dog\\ cat\""
   ]
  },
  {
   "cell_type": "code",
   "execution_count": null,
   "metadata": {
    "colab": {
     "base_uri": "https://localhost:8080/",
     "height": 35
    },
    "id": "zi-kweXE6q8W",
    "outputId": "f87b6c74-5cb4-4d4a-fa87-7b0fd4518103"
   },
   "outputs": [],
   "source": [
    "## call pet\n"
   ]
  },
  {
   "cell_type": "code",
   "execution_count": null,
   "metadata": {
    "colab": {
     "base_uri": "https://localhost:8080/"
    },
    "id": "S7rfiei_6tpO",
    "outputId": "acb1a921-86c8-4275-d427-9231aed70c4b"
   },
   "outputs": [],
   "source": [
    "## print function pet\n"
   ]
  },
  {
   "cell_type": "code",
   "execution_count": null,
   "metadata": {
    "colab": {
     "base_uri": "https://localhost:8080/"
    },
    "id": "io4wu8S-RbPs",
    "outputId": "5ac93dae-d38c-42b6-8ad2-1ed4a58294f1"
   },
   "outputs": [],
   "source": [
    "## write regex to find word with 3 characters\n"
   ]
  },
  {
   "cell_type": "code",
   "execution_count": null,
   "metadata": {
    "colab": {
     "base_uri": "https://localhost:8080/",
     "height": 132
    },
    "id": "3w3obl__RbPs",
    "outputId": "ec0d1f14-ba90-4d20-9c1e-0bdc034531f8"
   },
   "outputs": [],
   "source": [
    "### write regex to find word with 3 characters followed by a slash\n",
    "## this will break\n"
   ]
  },
  {
   "cell_type": "code",
   "execution_count": null,
   "metadata": {
    "colab": {
     "base_uri": "https://localhost:8080/",
     "height": 347
    },
    "id": "Ot4JB_kxRbPs",
    "outputId": "644e11f6-0c29-4eb0-8a68-d446b9961689"
   },
   "outputs": [],
   "source": [
    "## Let's try escaping the slash\n",
    "### this also breaks because the python interpreter takes away one slash as an escape,\n",
    "### and then regex is fed an escape for {\n",
    "\n"
   ]
  },
  {
   "cell_type": "markdown",
   "metadata": {
    "id": "ioUW1YbeRbPs"
   },
   "source": [
    "### This is confusing but here's just happened:\n",
    "\n",
    "```re.search(\"\\w{3}\\\\\", pet)```\n",
    "\n",
    "1. The Python interpreter sees the slash after the } and takes it as an escape character and removes it.\n",
    "2. The code is then passed on to the Regex, which then sees a single slash which stands for an escape character instead of the slash in the string.\n",
    "3. Everthing breaks.\n",
    "\n",
    "### One option is to double the number of slashes in the search pattern\n",
    "\n",
    "```re.search(\"\\w{3}\\\\\\\\\", pet)```\n",
    "\n",
    "1. The Python interpreter thinks of each extra slash as escape characters, and removes move.\n",
    "2. But we still have two slashes.\n",
    "3. Now the Regex sees one slash as an escape character and leaves one behind to search for a slash."
   ]
  },
  {
   "cell_type": "code",
   "execution_count": null,
   "metadata": {
    "colab": {
     "base_uri": "https://localhost:8080/"
    },
    "id": "xmEFUK-sRbPs",
    "outputId": "4140af00-a5f5-4902-f415-8ba916b76d05"
   },
   "outputs": [],
   "source": [
    "## double the slashes\n",
    "### This is confusing but here's just happened:\n",
    "### This is confusing but here's just happened:\n"
   ]
  },
  {
   "cell_type": "code",
   "execution_count": null,
   "metadata": {
    "colab": {
     "base_uri": "https://localhost:8080/"
    },
    "id": "YVfNMcwtgv5C",
    "outputId": "e4b8a703-4766-4f24-a678-fa621b64b83a"
   },
   "outputs": [],
   "source": []
  },
  {
   "cell_type": "markdown",
   "metadata": {
    "id": "hkBCemXGRbPt"
   },
   "source": [
    "### Raw String option\n",
    "\n",
    "Add an ```r``` before your Regex string to convert it to a raw string.\n",
    "\n",
    "```re.search(r\"\\w{3}\\\\\", pet)```"
   ]
  },
  {
   "cell_type": "code",
   "execution_count": null,
   "metadata": {
    "colab": {
     "base_uri": "https://localhost:8080/"
    },
    "id": "bwfuff5GRbPt",
    "outputId": "f221e342-cc54-43eb-cece-e53c3fb7ca19"
   },
   "outputs": [],
   "source": [
    "## raw string works.\n"
   ]
  },
  {
   "cell_type": "code",
   "execution_count": null,
   "metadata": {
    "id": "jI3qc2PTRbPt"
   },
   "outputs": [],
   "source": [
    "## print the target group \n"
   ]
  },
  {
   "cell_type": "markdown",
   "metadata": {
    "id": "vsR3f8a9RbPt"
   },
   "source": [
    "### When to use raw string ```r```\n",
    "\n",
    "#### Two cases\n",
    "1. When you need to escape the ```\\``` to actually find a slash.\n",
    "2. When you need to use ```\\b``` word boundary."
   ]
  },
  {
   "cell_type": "code",
   "execution_count": null,
   "metadata": {
    "id": "xxLqKaiWRbPt"
   },
   "outputs": [],
   "source": [
    "## run this\n",
    "pet2 = \"dog* and cat\""
   ]
  },
  {
   "cell_type": "code",
   "execution_count": null,
   "metadata": {
    "id": "TEXX1iX89VNv"
   },
   "outputs": [],
   "source": [
    "## call it\n"
   ]
  },
  {
   "cell_type": "code",
   "execution_count": null,
   "metadata": {
    "id": "lP0AGYXwRbPt"
   },
   "outputs": [],
   "source": [
    "## write a regex to find dog*\n",
    "### this will break since it will look for a word that is zero to 3 characters long\n"
   ]
  },
  {
   "cell_type": "code",
   "execution_count": null,
   "metadata": {
    "id": "GuSuyHjaRbPt"
   },
   "outputs": [],
   "source": [
    "## let's try it with an escape\n",
    "## note that the escape character has no problems here\n"
   ]
  },
  {
   "cell_type": "code",
   "execution_count": null,
   "metadata": {
    "id": "namf1MJRRbPu"
   },
   "outputs": [],
   "source": [
    "## same with re.compile\n"
   ]
  }
 ],
 "metadata": {
  "colab": {
   "collapsed_sections": [],
   "name": "week-12-regex-1-DEMO.ipynb",
   "provenance": []
  },
  "kernelspec": {
   "display_name": "Python 3",
   "language": "python",
   "name": "python3"
  },
  "language_info": {
   "codemirror_mode": {
    "name": "ipython",
    "version": 3
   },
   "file_extension": ".py",
   "mimetype": "text/x-python",
   "name": "python",
   "nbconvert_exporter": "python",
   "pygments_lexer": "ipython3",
   "version": "3.8.8"
  }
 },
 "nbformat": 4,
 "nbformat_minor": 1
}
