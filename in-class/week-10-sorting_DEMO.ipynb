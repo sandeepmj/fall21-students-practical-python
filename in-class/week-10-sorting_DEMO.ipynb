{
 "cells": [
  {
   "cell_type": "markdown",
   "metadata": {
    "id": "p9wjE_LxM9CY"
   },
   "source": [
    "If you were to sort the following list in ascending order, in what sequence should the files appear?\n",
    "\n",
    "```items = [\"apple30.2\", \"apple2\", \"apple10003\", \"apple1\",  \"apple11\"]```"
   ]
  },
  {
   "cell_type": "code",
   "execution_count": 2,
   "metadata": {
    "id": "uqTX2GlhoJzz"
   },
   "outputs": [],
   "source": [
    "## import libraries\n",
    "import glob\n",
    "## in order to export our file to our computer drive, you need this only in Colab:\n",
    "# from google.colab import files ### COLAB ONLY"
   ]
  },
  {
   "cell_type": "code",
   "execution_count": null,
   "metadata": {
    "id": "EI--1QP4oOM3"
   },
   "outputs": [],
   "source": [
    "### COLAB ONLY\n",
    "## upload files\n",
    "\n",
    "# files.upload()"
   ]
  },
  {
   "cell_type": "markdown",
   "metadata": {
    "id": "yUCfB-MgM_r1"
   },
   "source": [
    "### Have you encountered this yet?"
   ]
  },
  {
   "cell_type": "code",
   "execution_count": 5,
   "metadata": {
    "id": "6VG7E-UTM-q2"
   },
   "outputs": [
    {
     "data": {
      "text/plain": [
       "['sorting-samples/decision_1.txt',\n",
       " 'sorting-samples/decision_10.txt',\n",
       " 'sorting-samples/decision_11.txt',\n",
       " 'sorting-samples/decision_12.txt',\n",
       " 'sorting-samples/decision_13.txt',\n",
       " 'sorting-samples/decision_14.txt',\n",
       " 'sorting-samples/decision_15.txt',\n",
       " 'sorting-samples/decision_16.txt',\n",
       " 'sorting-samples/decision_17.txt',\n",
       " 'sorting-samples/decision_18.txt',\n",
       " 'sorting-samples/decision_19.txt',\n",
       " 'sorting-samples/decision_2.txt',\n",
       " 'sorting-samples/decision_20.txt',\n",
       " 'sorting-samples/decision_21.txt',\n",
       " 'sorting-samples/decision_22.txt',\n",
       " 'sorting-samples/decision_23.txt',\n",
       " 'sorting-samples/decision_24.txt',\n",
       " 'sorting-samples/decision_3.txt',\n",
       " 'sorting-samples/decision_4.txt',\n",
       " 'sorting-samples/decision_5.txt',\n",
       " 'sorting-samples/decision_6.txt',\n",
       " 'sorting-samples/decision_7.txt',\n",
       " 'sorting-samples/decision_8.txt',\n",
       " 'sorting-samples/decision_9.txt']"
      ]
     },
     "execution_count": 5,
     "metadata": {},
     "output_type": "execute_result"
    }
   ],
   "source": [
    "##pull in a bunch of files that look in order\n",
    "myfiles = sorted(glob.glob(\"sorting-samples/*.txt\"))\n",
    "myfiles"
   ]
  },
  {
   "cell_type": "markdown",
   "metadata": {
    "id": "6V73qyDYM9Cg"
   },
   "source": [
    "# The trouble with sorting\n",
    "#### Notice that is not quite what we expected. The order is being processed by the normal python sort algorithm which always sorts lexicographically.\n",
    "\n",
    "\n",
    "\n",
    "> The phrase lexicographic order means in alphabetical order. It is a common term in computer science. It may indicate that numbers are to be treated as strings so 10 comes before 2 because there is no positional weighting and the symbol 1 comes before 2.\n",
    "\n",
    "> -- Wiktionary\n",
    "\n",
    "\n",
    "\n",
    "\n",
    "\n",
    "\n"
   ]
  },
  {
   "cell_type": "code",
   "execution_count": 6,
   "metadata": {
    "id": "1V5wRBOcM9Ce"
   },
   "outputs": [
    {
     "data": {
      "text/plain": [
       "['apple30.2', 'apple2', 'apple10003', 'apple1', 'apple11']"
      ]
     },
     "execution_count": 6,
     "metadata": {},
     "output_type": "execute_result"
    }
   ],
   "source": [
    "## we have  list of items that we want to sort in ascending order:\n",
    "### RUN THIS CELL:\n",
    "items = [\"apple30.2\", \"apple2\", \"apple10003\", \"apple1\",  \"apple11\"]\n",
    "items"
   ]
  },
  {
   "cell_type": "code",
   "execution_count": 7,
   "metadata": {
    "id": "uKRuApHCM9Cg"
   },
   "outputs": [
    {
     "data": {
      "text/plain": [
       "['apple1', 'apple10003', 'apple11', 'apple2', 'apple30.2']"
      ]
     },
     "execution_count": 7,
     "metadata": {},
     "output_type": "execute_result"
    }
   ],
   "source": [
    "## let's try the built-in sorted() python function\n",
    "items.sort()\n",
    "items"
   ]
  },
  {
   "cell_type": "markdown",
   "metadata": {
    "id": "Jlj8Pp4PqGWX"
   },
   "source": [
    "#### Let's reset our list"
   ]
  },
  {
   "cell_type": "code",
   "execution_count": 8,
   "metadata": {
    "id": "i5lv5NNzM9Cg"
   },
   "outputs": [
    {
     "data": {
      "text/plain": [
       "['apple30.2', 'apple2', 'apple10003', 'apple1', 'apple11']"
      ]
     },
     "execution_count": 8,
     "metadata": {},
     "output_type": "execute_result"
    }
   ],
   "source": [
    "## RUN THIS CELL\n",
    "items = [\"apple30.2\", \"apple2\", \"apple10003\", \"apple1\",  \"apple11\"]\n",
    "items"
   ]
  },
  {
   "cell_type": "code",
   "execution_count": 9,
   "metadata": {
    "id": "dFDWpzQcM9Ch"
   },
   "outputs": [
    {
     "data": {
      "text/plain": [
       "['apple1', 'apple10003', 'apple11', 'apple2', 'apple30.2']"
      ]
     },
     "execution_count": 9,
     "metadata": {},
     "output_type": "execute_result"
    }
   ],
   "source": [
    "## we can try sort() which returns a changed list\n",
    "items = sorted(items)\n",
    "items"
   ]
  },
  {
   "cell_type": "markdown",
   "metadata": {
    "id": "xJdI1mK4M9Ch"
   },
   "source": [
    "#### Same problem."
   ]
  },
  {
   "cell_type": "markdown",
   "metadata": {
    "id": "XZ-3cY6SM9Ci"
   },
   "source": [
    "## Natsort to the rescue"
   ]
  },
  {
   "cell_type": "code",
   "execution_count": 10,
   "metadata": {
    "id": "n3sFIw9CM9Ci"
   },
   "outputs": [
    {
     "name": "stdout",
     "output_type": "stream",
     "text": [
      "Requirement already satisfied: natsort in /usr/local/anaconda3/lib/python3.8/site-packages (8.0.0)\r\n"
     ]
    }
   ],
   "source": [
    "## pip install natsort\n",
    "!pip install natsort"
   ]
  },
  {
   "cell_type": "code",
   "execution_count": 13,
   "metadata": {
    "id": "GbVeUEvMM9Ci"
   },
   "outputs": [],
   "source": [
    "## import library and module\n",
    "from natsort import natsorted"
   ]
  },
  {
   "cell_type": "code",
   "execution_count": 21,
   "metadata": {
    "id": "UjNYfGESM9Cj"
   },
   "outputs": [
    {
     "data": {
      "text/plain": [
       "['apple30.2', 'apple2', 'apple10003', 'apple1', 'apple11']"
      ]
     },
     "execution_count": 21,
     "metadata": {},
     "output_type": "execute_result"
    }
   ],
   "source": [
    "## RUN THIS CELL\n",
    "items = [\"apple30.2\", \"apple2\", \"apple10003\", \"apple1\",  \"apple11\"]\n",
    "items"
   ]
  },
  {
   "cell_type": "code",
   "execution_count": 23,
   "metadata": {
    "id": "CftKFnzoM9Cj"
   },
   "outputs": [
    {
     "data": {
      "text/plain": [
       "['apple1', 'apple2', 'apple11', 'apple30.2', 'apple10003']"
      ]
     },
     "execution_count": 23,
     "metadata": {},
     "output_type": "execute_result"
    }
   ],
   "source": [
    "## let's sort using natsorted\n",
    "items = natsorted(items)\n",
    "items"
   ]
  },
  {
   "cell_type": "markdown",
   "metadata": {
    "id": "2W7DXuTeM9Cj"
   },
   "source": [
    "## Real life problem\n",
    "\n",
    "Let's say you have to process a series of files like the ones found in the ```sample folder```.\n",
    "\n",
    "When you try to sort them, they come out all out of order."
   ]
  },
  {
   "cell_type": "code",
   "execution_count": 24,
   "metadata": {
    "id": "7kMOePQaM9Ck"
   },
   "outputs": [
    {
     "data": {
      "text/plain": [
       "['sorting-samples/decision_1.txt',\n",
       " 'sorting-samples/decision_10.txt',\n",
       " 'sorting-samples/decision_11.txt',\n",
       " 'sorting-samples/decision_12.txt',\n",
       " 'sorting-samples/decision_13.txt',\n",
       " 'sorting-samples/decision_14.txt',\n",
       " 'sorting-samples/decision_15.txt',\n",
       " 'sorting-samples/decision_16.txt',\n",
       " 'sorting-samples/decision_17.txt',\n",
       " 'sorting-samples/decision_18.txt',\n",
       " 'sorting-samples/decision_19.txt',\n",
       " 'sorting-samples/decision_2.txt',\n",
       " 'sorting-samples/decision_20.txt',\n",
       " 'sorting-samples/decision_21.txt',\n",
       " 'sorting-samples/decision_22.txt',\n",
       " 'sorting-samples/decision_23.txt',\n",
       " 'sorting-samples/decision_24.txt',\n",
       " 'sorting-samples/decision_3.txt',\n",
       " 'sorting-samples/decision_4.txt',\n",
       " 'sorting-samples/decision_5.txt',\n",
       " 'sorting-samples/decision_6.txt',\n",
       " 'sorting-samples/decision_7.txt',\n",
       " 'sorting-samples/decision_8.txt',\n",
       " 'sorting-samples/decision_9.txt']"
      ]
     },
     "execution_count": 24,
     "metadata": {},
     "output_type": "execute_result"
    }
   ],
   "source": [
    "## let's glob our files together\n",
    "myfiles = sorted(glob.glob(\"sorting-samples/*.txt\"))\n",
    "myfiles"
   ]
  },
  {
   "cell_type": "code",
   "execution_count": 25,
   "metadata": {
    "id": "pmn9ins6M9Ck"
   },
   "outputs": [
    {
     "data": {
      "text/plain": [
       "['sorting-samples/decision_1.txt',\n",
       " 'sorting-samples/decision_2.txt',\n",
       " 'sorting-samples/decision_3.txt',\n",
       " 'sorting-samples/decision_4.txt',\n",
       " 'sorting-samples/decision_5.txt',\n",
       " 'sorting-samples/decision_6.txt',\n",
       " 'sorting-samples/decision_7.txt',\n",
       " 'sorting-samples/decision_8.txt',\n",
       " 'sorting-samples/decision_9.txt',\n",
       " 'sorting-samples/decision_10.txt',\n",
       " 'sorting-samples/decision_11.txt',\n",
       " 'sorting-samples/decision_12.txt',\n",
       " 'sorting-samples/decision_13.txt',\n",
       " 'sorting-samples/decision_14.txt',\n",
       " 'sorting-samples/decision_15.txt',\n",
       " 'sorting-samples/decision_16.txt',\n",
       " 'sorting-samples/decision_17.txt',\n",
       " 'sorting-samples/decision_18.txt',\n",
       " 'sorting-samples/decision_19.txt',\n",
       " 'sorting-samples/decision_20.txt',\n",
       " 'sorting-samples/decision_21.txt',\n",
       " 'sorting-samples/decision_22.txt',\n",
       " 'sorting-samples/decision_23.txt',\n",
       " 'sorting-samples/decision_24.txt']"
      ]
     },
     "execution_count": 25,
     "metadata": {},
     "output_type": "execute_result"
    }
   ],
   "source": [
    "## we've already imported natsorted\n",
    "## let's natsort it.\n",
    "myfiles2 = natsorted(glob.glob(\"sorting-samples/*.txt\"))\n",
    "myfiles2"
   ]
  },
  {
   "cell_type": "code",
   "execution_count": null,
   "metadata": {
    "id": "V1Xyy2L-M9Ck"
   },
   "outputs": [],
   "source": []
  }
 ],
 "metadata": {
  "celltoolbar": "Slideshow",
  "colab": {
   "collapsed_sections": [],
   "name": "week-10-sorting_BLANK.ipynb",
   "provenance": [
    {
     "file_id": "1kHYdE3FRWnmG2vgJixLFjwK1RJssWmkd",
     "timestamp": 1629845325743
    }
   ]
  },
  "kernelspec": {
   "display_name": "Python 3",
   "language": "python",
   "name": "python3"
  },
  "language_info": {
   "codemirror_mode": {
    "name": "ipython",
    "version": 3
   },
   "file_extension": ".py",
   "mimetype": "text/x-python",
   "name": "python",
   "nbconvert_exporter": "python",
   "pygments_lexer": "ipython3",
   "version": "3.8.8"
  }
 },
 "nbformat": 4,
 "nbformat_minor": 1
}
