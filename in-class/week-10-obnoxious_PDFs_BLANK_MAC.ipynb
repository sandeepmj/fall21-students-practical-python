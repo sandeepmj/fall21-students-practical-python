{
 "cells": [
  {
   "cell_type": "markdown",
   "metadata": {
    "id": "6zjSpRXi7pOQ"
   },
   "source": [
    "# Reading PDFs"
   ]
  },
  {
   "cell_type": "markdown",
   "metadata": {
    "id": "ntis1tIo7dgw"
   },
   "source": [
    "## Install required libraries"
   ]
  },
  {
   "cell_type": "code",
   "execution_count": null,
   "metadata": {
    "colab": {
     "base_uri": "https://localhost:8080/"
    },
    "executionInfo": {
     "elapsed": 5229,
     "status": "ok",
     "timestamp": 1629854919172,
     "user": {
      "displayName": "Sandeep Junnarkar",
      "photoUrl": "",
      "userId": "15658885848901522782"
     },
     "user_tz": 420
    },
    "id": "yeliJ7ZJQQxl",
    "outputId": "c5a40555-04d0-48d8-f08a-17e1200bf01e"
   },
   "outputs": [],
   "source": [
    "## install PyPDF2 as part of our process\n",
    "## It's not part of the standard library.\n"
   ]
  },
  {
   "cell_type": "code",
   "execution_count": null,
   "metadata": {
    "executionInfo": {
     "elapsed": 132,
     "status": "ok",
     "timestamp": 1629855307657,
     "user": {
      "displayName": "Sandeep Junnarkar",
      "photoUrl": "",
      "userId": "15658885848901522782"
     },
     "user_tz": 420
    },
    "id": "B7nWxEgfQR-d"
   },
   "outputs": [],
   "source": [
    "## Import libraries\n",
    "## in order to export our file to our computer drive, you need this only in Colab:\n",
    "# from google.colab import files\n"
   ]
  },
  {
   "cell_type": "markdown",
   "metadata": {
    "id": "f6YV4pFe7yTU"
   },
   "source": [
    "## Upload demo PDFs"
   ]
  },
  {
   "cell_type": "code",
   "execution_count": null,
   "metadata": {
    "colab": {
     "background_save": true,
     "base_uri": "https://localhost:8080/",
     "height": 627,
     "output_embedded_package_id": "1rklkFkkYbjNINwmWSEQHvESqEiF0zCoi"
    },
    "executionInfo": {
     "elapsed": 70688,
     "status": "ok",
     "timestamp": 1629855035134,
     "user": {
      "displayName": "Sandeep Junnarkar",
      "photoUrl": "",
      "userId": "15658885848901522782"
     },
     "user_tz": 420
    },
    "id": "6SGLHdzmWPSG",
    "outputId": "91f46282-9e69-4580-b40a-9dcf0225b5a3"
   },
   "outputs": [],
   "source": [
    "## import colab's file uploader\n",
    "## upload \n",
    "# files.upload()"
   ]
  },
  {
   "cell_type": "markdown",
   "metadata": {
    "id": "uE95tjkZQTj7"
   },
   "source": [
    "## 1. Reading fairly well-behaving non-tabular PDFs\n"
   ]
  },
  {
   "cell_type": "code",
   "execution_count": null,
   "metadata": {
    "executionInfo": {
     "elapsed": 12,
     "status": "ok",
     "timestamp": 1629855125162,
     "user": {
      "displayName": "Sandeep Junnarkar",
      "photoUrl": "",
      "userId": "15658885848901522782"
     },
     "user_tz": 420
    },
    "id": "bL90z7PVyeF3"
   },
   "outputs": [],
   "source": [
    "## read and store document in an object\n"
   ]
  },
  {
   "cell_type": "code",
   "execution_count": null,
   "metadata": {
    "colab": {
     "base_uri": "https://localhost:8080/",
     "height": 0
    },
    "executionInfo": {
     "elapsed": 149,
     "status": "ok",
     "timestamp": 1629855144631,
     "user": {
      "displayName": "Sandeep Junnarkar",
      "photoUrl": "",
      "userId": "15658885848901522782"
     },
     "user_tz": 420
    },
    "id": "Ss0eSj7PynD7",
    "outputId": "0b178142-931c-46c2-8cec-0fbcfec15086"
   },
   "outputs": [],
   "source": [
    "## type of object\n"
   ]
  },
  {
   "cell_type": "code",
   "execution_count": null,
   "metadata": {
    "executionInfo": {
     "elapsed": 132,
     "status": "ok",
     "timestamp": 1629855325723,
     "user": {
      "displayName": "Sandeep Junnarkar",
      "photoUrl": "",
      "userId": "15658885848901522782"
     },
     "user_tz": 420
    },
    "id": "CAAFOhwbyszY"
   },
   "outputs": [],
   "source": [
    "## use pypdf to read that object\n"
   ]
  },
  {
   "cell_type": "code",
   "execution_count": null,
   "metadata": {
    "colab": {
     "base_uri": "https://localhost:8080/",
     "height": 0
    },
    "executionInfo": {
     "elapsed": 182,
     "status": "ok",
     "timestamp": 1629855337141,
     "user": {
      "displayName": "Sandeep Junnarkar",
      "photoUrl": "",
      "userId": "15658885848901522782"
     },
     "user_tz": 420
    },
    "id": "3VB4Fj7-eZ9Z",
    "outputId": "695ec42e-f029-441b-bf56-5bb5ab148428"
   },
   "outputs": [],
   "source": [
    "## type of object\n"
   ]
  },
  {
   "cell_type": "code",
   "execution_count": null,
   "metadata": {
    "colab": {
     "base_uri": "https://localhost:8080/",
     "height": 0
    },
    "executionInfo": {
     "elapsed": 141,
     "status": "ok",
     "timestamp": 1629855398275,
     "user": {
      "displayName": "Sandeep Junnarkar",
      "photoUrl": "",
      "userId": "15658885848901522782"
     },
     "user_tz": 420
    },
    "id": "GLz5imUny0Mn",
    "outputId": "74066652-be30-4a12-9dd2-fc26ff48d5c4"
   },
   "outputs": [],
   "source": [
    "## let's see how many pages we have\n"
   ]
  },
  {
   "cell_type": "code",
   "execution_count": null,
   "metadata": {
    "colab": {
     "base_uri": "https://localhost:8080/",
     "height": 0
    },
    "executionInfo": {
     "elapsed": 146,
     "status": "ok",
     "timestamp": 1629855466544,
     "user": {
      "displayName": "Sandeep Junnarkar",
      "photoUrl": "",
      "userId": "15658885848901522782"
     },
     "user_tz": 420
    },
    "id": "YCktTIFJy0XB",
    "outputId": "4bd76f93-55c2-422a-9aa1-de8b5b91314a"
   },
   "outputs": [],
   "source": [
    "## read a single page \n"
   ]
  },
  {
   "cell_type": "code",
   "execution_count": null,
   "metadata": {
    "colab": {
     "base_uri": "https://localhost:8080/",
     "height": 0
    },
    "executionInfo": {
     "elapsed": 139,
     "status": "ok",
     "timestamp": 1629855508850,
     "user": {
      "displayName": "Sandeep Junnarkar",
      "photoUrl": "",
      "userId": "15658885848901522782"
     },
     "user_tz": 420
    },
    "id": "FocJWiMQy0ar",
    "outputId": "08725f44-7064-4a17-c347-5c2bed59c8b8"
   },
   "outputs": [],
   "source": [
    "## store in an object first\n"
   ]
  },
  {
   "cell_type": "code",
   "execution_count": null,
   "metadata": {
    "colab": {
     "base_uri": "https://localhost:8080/",
     "height": 0
    },
    "executionInfo": {
     "elapsed": 242,
     "status": "ok",
     "timestamp": 1629855720480,
     "user": {
      "displayName": "Sandeep Junnarkar",
      "photoUrl": "",
      "userId": "15658885848901522782"
     },
     "user_tz": 420
    },
    "id": "GalXIjS53N00",
    "outputId": "175b5f35-7c63-41ca-cbec-8cef370d7f0a"
   },
   "outputs": [],
   "source": [
    "## read all pages and store in a list\n"
   ]
  },
  {
   "cell_type": "code",
   "execution_count": null,
   "metadata": {
    "colab": {
     "base_uri": "https://localhost:8080/",
     "height": 0
    },
    "executionInfo": {
     "elapsed": 144,
     "status": "ok",
     "timestamp": 1629855786266,
     "user": {
      "displayName": "Sandeep Junnarkar",
      "photoUrl": "",
      "userId": "15658885848901522782"
     },
     "user_tz": 420
    },
    "id": "Fmj4KXjg-Xv9",
    "outputId": "17b07cda-2862-4123-883e-7271f8b316ee"
   },
   "outputs": [],
   "source": [
    "## LENGHT\n"
   ]
  },
  {
   "cell_type": "code",
   "execution_count": null,
   "metadata": {
    "colab": {
     "base_uri": "https://localhost:8080/",
     "height": 0
    },
    "executionInfo": {
     "elapsed": 141,
     "status": "ok",
     "timestamp": 1629855822183,
     "user": {
      "displayName": "Sandeep Junnarkar",
      "photoUrl": "",
      "userId": "15658885848901522782"
     },
     "user_tz": 420
    },
    "id": "0qDzzgfT3iAd",
    "outputId": "0dd5830b-548c-4947-bb76-162f6099165b"
   },
   "outputs": [],
   "source": [
    "## print all pages so we can see them\n"
   ]
  },
  {
   "cell_type": "code",
   "execution_count": null,
   "metadata": {
    "executionInfo": {
     "elapsed": 130,
     "status": "ok",
     "timestamp": 1629855880195,
     "user": {
      "displayName": "Sandeep Junnarkar",
      "photoUrl": "",
      "userId": "15658885848901522782"
     },
     "user_tz": 420
    },
    "id": "mk57SJrpz8l0"
   },
   "outputs": [],
   "source": [
    "## Remember to close all open objects to avoid resource/processing power drain\n"
   ]
  },
  {
   "cell_type": "code",
   "execution_count": null,
   "metadata": {
    "colab": {
     "base_uri": "https://localhost:8080/",
     "height": 0
    },
    "executionInfo": {
     "elapsed": 137,
     "status": "ok",
     "timestamp": 1629856264518,
     "user": {
      "displayName": "Sandeep Junnarkar",
      "photoUrl": "",
      "userId": "15658885848901522782"
     },
     "user_tz": 420
    },
    "id": "IEuP8VWE3wGi",
    "outputId": "793b369c-fe0d-4984-f216-e6aa2ef7e24f"
   },
   "outputs": [],
   "source": [
    "## more efficient way since we are not leaving file open\n"
   ]
  },
  {
   "cell_type": "code",
   "execution_count": null,
   "metadata": {
    "colab": {
     "base_uri": "https://localhost:8080/",
     "height": 0
    },
    "executionInfo": {
     "elapsed": 143,
     "status": "ok",
     "timestamp": 1629856277991,
     "user": {
      "displayName": "Sandeep Junnarkar",
      "photoUrl": "",
      "userId": "15658885848901522782"
     },
     "user_tz": 420
    },
    "id": "3dDrKm6CAQvQ",
    "outputId": "6d9acb47-9b18-4c2a-9758-23e062b2451c"
   },
   "outputs": [],
   "source": [
    "## CALL \n"
   ]
  },
  {
   "cell_type": "markdown",
   "metadata": {
    "id": "CHXVpvI3zPh5"
   },
   "source": [
    "## 2. Not always so lucky - troublesome PDFs"
   ]
  },
  {
   "cell_type": "code",
   "execution_count": null,
   "metadata": {
    "colab": {
     "base_uri": "https://localhost:8080/",
     "height": 0
    },
    "executionInfo": {
     "elapsed": 222,
     "status": "ok",
     "timestamp": 1629856637534,
     "user": {
      "displayName": "Sandeep Junnarkar",
      "photoUrl": "",
      "userId": "15658885848901522782"
     },
     "user_tz": 420
    },
    "id": "LALYHk3a0CiP",
    "outputId": "91bc5adf-8718-4172-c0b3-b167c577fb44"
   },
   "outputs": [],
   "source": [
    "## let's read nixon-memo2.pdf\n",
    "## read and store document in an object\n"
   ]
  },
  {
   "cell_type": "markdown",
   "metadata": {
    "id": "PyQk9P8RQyqb"
   },
   "source": [
    "## 3. Obnoxious PDF"
   ]
  },
  {
   "cell_type": "code",
   "execution_count": null,
   "metadata": {
    "executionInfo": {
     "elapsed": 10,
     "status": "ok",
     "timestamp": 1629856956025,
     "user": {
      "displayName": "Sandeep Junnarkar",
      "photoUrl": "",
      "userId": "15658885848901522782"
     },
     "user_tz": 420
    },
    "id": "dUZxGxc1QSeR"
   },
   "outputs": [],
   "source": [
    "## place \"columbus_bank_trust.pdf\" in an object\n"
   ]
  },
  {
   "cell_type": "code",
   "execution_count": null,
   "metadata": {
    "executionInfo": {
     "elapsed": 308,
     "status": "ok",
     "timestamp": 1629857006864,
     "user": {
      "displayName": "Sandeep Junnarkar",
      "photoUrl": "",
      "userId": "15658885848901522782"
     },
     "user_tz": 420
    },
    "id": "gldOdsIbQShu"
   },
   "outputs": [],
   "source": [
    "## read it using PyPDF\n"
   ]
  },
  {
   "cell_type": "code",
   "execution_count": null,
   "metadata": {
    "colab": {
     "base_uri": "https://localhost:8080/",
     "height": 0
    },
    "executionInfo": {
     "elapsed": 146,
     "status": "ok",
     "timestamp": 1629857021200,
     "user": {
      "displayName": "Sandeep Junnarkar",
      "photoUrl": "",
      "userId": "15658885848901522782"
     },
     "user_tz": 420
    },
    "id": "1UUwPmXFQSlC",
    "outputId": "b9e1069e-6a08-4773-dbe5-0b52ce32ee88"
   },
   "outputs": [],
   "source": [
    "## how many pages?\n"
   ]
  },
  {
   "cell_type": "code",
   "execution_count": null,
   "metadata": {
    "executionInfo": {
     "elapsed": 133,
     "status": "ok",
     "timestamp": 1629857072294,
     "user": {
      "displayName": "Sandeep Junnarkar",
      "photoUrl": "",
      "userId": "15658885848901522782"
     },
     "user_tz": 420
    },
    "id": "Unh73yRoQSoK"
   },
   "outputs": [],
   "source": [
    "## extract a page\n"
   ]
  },
  {
   "cell_type": "code",
   "execution_count": null,
   "metadata": {
    "colab": {
     "base_uri": "https://localhost:8080/",
     "height": 35
    },
    "executionInfo": {
     "elapsed": 203,
     "status": "ok",
     "timestamp": 1629857114081,
     "user": {
      "displayName": "Sandeep Junnarkar",
      "photoUrl": "",
      "userId": "15658885848901522782"
     },
     "user_tz": 420
    },
    "id": "v57FA8r5QSrq",
    "outputId": "159dca3c-cec4-42e9-f476-43f0081f2231"
   },
   "outputs": [],
   "source": [
    "## read text\n"
   ]
  },
  {
   "cell_type": "code",
   "execution_count": null,
   "metadata": {
    "executionInfo": {
     "elapsed": 10,
     "status": "ok",
     "timestamp": 1629857253761,
     "user": {
      "displayName": "Sandeep Junnarkar",
      "photoUrl": "",
      "userId": "15658885848901522782"
     },
     "user_tz": 420
    },
    "id": "tTOrU3PED9SM"
   },
   "outputs": [],
   "source": [
    "## remember to close\n"
   ]
  },
  {
   "cell_type": "markdown",
   "metadata": {
    "id": "Glx0bEpqRFLX"
   },
   "source": [
    "# Strategy to Vanquish Obnoxious PDFs\n",
    "\n",
    "\n"
   ]
  },
  {
   "cell_type": "markdown",
   "metadata": {
    "id": "dfTV9ko7-XbI"
   },
   "source": [
    "### The problem:\n",
    "*   PDFs all have different encodings: UTF-8, ASCII, Unicode, etc\n",
    "*   Therefore a possible loss of data during the conversion \n",
    "\n",
    "### The solution:\n",
    "*   Convert the PDF to an image\n",
    "*   Use optical character recognition (OCR) to capture the text\n",
    "*   Export to a text file\n",
    "\n",
    "\n",
    "\n",
    "\n",
    "\n",
    "### Let's use Google's tesseract OCR (and all its dependencies)"
   ]
  },
  {
   "cell_type": "markdown",
   "metadata": {
    "id": "_85mcdF7_pdE"
   },
   "source": [
    "# Install and OCR for English documents"
   ]
  },
  {
   "cell_type": "markdown",
   "metadata": {},
   "source": [
    "### Step 1. Create a virtual environment\n",
    "\n",
    "Because Jupyter can't install these packages, we first need to create a virtual environment.\n",
    "\n",
    "- Launch terminal and ```mkdir``` a folder.\n",
    "- ```cd``` into that folder.\n",
    "- type: ```Python3 -m venv venv``` to create a virtual environment\n",
    "- type: ```source ./venv/bin/activate``` to activate that virtual environment"
   ]
  },
  {
   "cell_type": "markdown",
   "metadata": {},
   "source": [
    "### Step 2. Install Tesseract\n",
    "\n",
    "- We need Tesseract, Google's optical character recognition engine (not part of standard library). It can't be ```pip``` installed.\n",
    "\n",
    "- In Terminal, in the virtual environment you created, type: ```brew install tesseract```"
   ]
  },
  {
   "cell_type": "code",
   "execution_count": 1,
   "metadata": {},
   "outputs": [
    {
     "name": "stdout",
     "output_type": "stream",
     "text": [
      "List of available languages (163):\r\n",
      "afr\r\n",
      "amh\r\n",
      "ara\r\n",
      "asm\r\n",
      "aze\r\n",
      "aze_cyrl\r\n",
      "bel\r\n",
      "ben\r\n",
      "bod\r\n",
      "bos\r\n",
      "bre\r\n",
      "bul\r\n",
      "cat\r\n",
      "ceb\r\n",
      "ces\r\n",
      "chi_sim\r\n",
      "chi_sim_vert\r\n",
      "chi_tra\r\n",
      "chi_tra_vert\r\n",
      "chr\r\n",
      "cos\r\n",
      "cym\r\n",
      "dan\r\n",
      "deu\r\n",
      "div\r\n",
      "dzo\r\n",
      "ell\r\n",
      "eng\r\n",
      "enm\r\n",
      "epo\r\n",
      "equ\r\n",
      "est\r\n",
      "eus\r\n",
      "fao\r\n",
      "fas\r\n",
      "fil\r\n",
      "fin\r\n",
      "fra\r\n",
      "frk\r\n",
      "frm\r\n",
      "fry\r\n",
      "gla\r\n",
      "gle\r\n",
      "glg\r\n",
      "grc\r\n",
      "guj\r\n",
      "hat\r\n",
      "heb\r\n",
      "hin\r\n",
      "hrv\r\n",
      "hun\r\n",
      "hye\r\n",
      "iku\r\n",
      "ind\r\n",
      "isl\r\n",
      "ita\r\n",
      "ita_old\r\n",
      "jav\r\n",
      "jpn\r\n",
      "jpn_vert\r\n",
      "kan\r\n",
      "kat\r\n",
      "kat_old\r\n",
      "kaz\r\n",
      "khm\r\n",
      "kir\r\n",
      "kmr\r\n",
      "kor\r\n",
      "kor_vert\r\n",
      "lao\r\n",
      "lat\r\n",
      "lav\r\n",
      "lit\r\n",
      "ltz\r\n",
      "mal\r\n",
      "mar\r\n",
      "mkd\r\n",
      "mlt\r\n",
      "mon\r\n",
      "mri\r\n",
      "msa\r\n",
      "mya\r\n",
      "nep\r\n",
      "nld\r\n",
      "nor\r\n",
      "oci\r\n",
      "ori\r\n",
      "osd\r\n",
      "pan\r\n",
      "pol\r\n",
      "por\r\n",
      "pus\r\n",
      "que\r\n",
      "ron\r\n",
      "rus\r\n",
      "san\r\n",
      "script/Arabic\r\n",
      "script/Armenian\r\n",
      "script/Bengali\r\n",
      "script/Canadian_Aboriginal\r\n",
      "script/Cherokee\r\n",
      "script/Cyrillic\r\n",
      "script/Devanagari\r\n",
      "script/Ethiopic\r\n",
      "script/Fraktur\r\n",
      "script/Georgian\r\n",
      "script/Greek\r\n",
      "script/Gujarati\r\n",
      "script/Gurmukhi\r\n",
      "script/HanS\r\n",
      "script/HanS_vert\r\n",
      "script/HanT\r\n",
      "script/HanT_vert\r\n",
      "script/Hangul\r\n",
      "script/Hangul_vert\r\n",
      "script/Hebrew\r\n",
      "script/Japanese\r\n",
      "script/Japanese_vert\r\n",
      "script/Kannada\r\n",
      "script/Khmer\r\n",
      "script/Lao\r\n",
      "script/Latin\r\n",
      "script/Malayalam\r\n",
      "script/Myanmar\r\n",
      "script/Oriya\r\n",
      "script/Sinhala\r\n",
      "script/Syriac\r\n",
      "script/Tamil\r\n",
      "script/Telugu\r\n",
      "script/Thaana\r\n",
      "script/Thai\r\n",
      "script/Tibetan\r\n",
      "script/Vietnamese\r\n",
      "sin\r\n",
      "slk\r\n",
      "slv\r\n",
      "snd\r\n",
      "snum\r\n",
      "spa\r\n",
      "spa_old\r\n",
      "sqi\r\n",
      "srp\r\n",
      "srp_latn\r\n",
      "sun\r\n",
      "swa\r\n",
      "swe\r\n",
      "syr\r\n",
      "tam\r\n",
      "tat\r\n",
      "tel\r\n",
      "tgk\r\n",
      "tha\r\n",
      "tir\r\n",
      "ton\r\n",
      "tur\r\n",
      "uig\r\n",
      "ukr\r\n",
      "urd\r\n",
      "uzb\r\n",
      "uzb_cyrl\r\n",
      "vie\r\n",
      "yid\r\n",
      "yor\r\n"
     ]
    }
   ],
   "source": [
    "## What languages do we have installed now?\n",
    "!tesseract --list-langs"
   ]
  },
  {
   "cell_type": "markdown",
   "metadata": {},
   "source": [
    "### Step 3. Install Poppler\n",
    "\n",
    "- We need Poppler which converts ```.pdf```  to ```.txt``` files. But again, it is not part of the standard library and can't be pipped.\n",
    "- In Terminal, in the same virtual environment, type: ```brew install poppler```."
   ]
  },
  {
   "cell_type": "markdown",
   "metadata": {},
   "source": [
    "### Step 4. Install Pytesserct\n",
    "\n",
    "Pytesserct is a Python interface that allows us to work with Google's Tesseract.\n",
    "\n",
    "- ```pip install``` it from PyPi (hosted by Python Software Foundation)."
   ]
  },
  {
   "cell_type": "code",
   "execution_count": null,
   "metadata": {
    "colab": {
     "base_uri": "https://localhost:8080/"
    },
    "executionInfo": {
     "elapsed": 4127,
     "status": "ok",
     "timestamp": 1629857527666,
     "user": {
      "displayName": "Sandeep Junnarkar",
      "photoUrl": "",
      "userId": "15658885848901522782"
     },
     "user_tz": 420
    },
    "id": "iZjLlIV6QSu4",
    "outputId": "b0bb5df4-41b7-4fde-d6f3-0d2c2a957859"
   },
   "outputs": [],
   "source": [
    "#!pip install pytesseract\n"
   ]
  },
  {
   "cell_type": "markdown",
   "metadata": {},
   "source": [
    "### Step 5. install pdf2image\n",
    "This utility converts PDFs to PIL Image objects."
   ]
  },
  {
   "cell_type": "code",
   "execution_count": null,
   "metadata": {
    "colab": {
     "base_uri": "https://localhost:8080/"
    },
    "executionInfo": {
     "elapsed": 3258,
     "status": "ok",
     "timestamp": 1629857697557,
     "user": {
      "displayName": "Sandeep Junnarkar",
      "photoUrl": "",
      "userId": "15658885848901522782"
     },
     "user_tz": 420
    },
    "id": "RSWgIijhRaqd",
    "outputId": "5aeb11d1-786e-4928-cbe5-8d2b7ca846ae"
   },
   "outputs": [],
   "source": [
    "## !pip install pdf2image\n"
   ]
  },
  {
   "cell_type": "markdown",
   "metadata": {
    "id": "TEM6wOFoBJQo"
   },
   "source": [
    "The Image module provides a class with the same name which is used to represent a PIL image. The module also provides a number of factory functions, including functions to load images from files, and to create new images. (credit: Image Module)"
   ]
  },
  {
   "cell_type": "code",
   "execution_count": null,
   "metadata": {
    "executionInfo": {
     "elapsed": 141,
     "status": "ok",
     "timestamp": 1629857856922,
     "user": {
      "displayName": "Sandeep Junnarkar",
      "photoUrl": "",
      "userId": "15658885848901522782"
     },
     "user_tz": 420
    },
    "id": "6hBIxLmIRa40"
   },
   "outputs": [],
   "source": [
    "# Import libraries\n",
    "from PIL import Image\n",
    "import pytesseract\n",
    "import os ## navitage, create directories\n",
    "import shutil ## to delete the image folders with their imgs\n",
    "from pdf2image import convert_from_path ## to turn pdf to image\n",
    "import glob ## to glob files into a list\n",
    "from pathlib import Path ## to specify path to your files\n",
    "from natsort import natsorted, ns ## natural sorting\n",
    "## in order to export our file to our computer drive, you need this only in Colab:\n",
    "# from google.colab import files"
   ]
  },
  {
   "cell_type": "code",
   "execution_count": null,
   "metadata": {
    "id": "SPpOws82Ra8a"
   },
   "outputs": [],
   "source": [
    "## import colab's file uploader\n",
    "## upload \n",
    "# files.upload()"
   ]
  },
  {
   "cell_type": "code",
   "execution_count": null,
   "metadata": {
    "executionInfo": {
     "elapsed": 131,
     "status": "ok",
     "timestamp": 1629857892967,
     "user": {
      "displayName": "Sandeep Junnarkar",
      "photoUrl": "",
      "userId": "15658885848901522782"
     },
     "user_tz": 420
    },
    "id": "6IfpzkLqRauS"
   },
   "outputs": [],
   "source": [
    "## path to nixon-memo2.pdf\n"
   ]
  },
  {
   "cell_type": "code",
   "execution_count": null,
   "metadata": {
    "colab": {
     "base_uri": "https://localhost:8080/"
    },
    "executionInfo": {
     "elapsed": 1116,
     "status": "ok",
     "timestamp": 1629858040159,
     "user": {
      "displayName": "Sandeep Junnarkar",
      "photoUrl": "",
      "userId": "15658885848901522782"
     },
     "user_tz": 420
    },
    "id": "B9Yr7EEXutsF",
    "outputId": "2becca7f-c6e8-4b25-ec99-f1d6cd13a292"
   },
   "outputs": [],
   "source": [
    "pages = convert_from_path(PDF_file, 300) ## 500 dpi. balance between hi-res and computation power\n",
    "print(type(pages))\n",
    "pages"
   ]
  },
  {
   "cell_type": "code",
   "execution_count": null,
   "metadata": {
    "colab": {
     "base_uri": "https://localhost:8080/"
    },
    "executionInfo": {
     "elapsed": 267,
     "status": "ok",
     "timestamp": 1629858041692,
     "user": {
      "displayName": "Sandeep Junnarkar",
      "photoUrl": "",
      "userId": "15658885848901522782"
     },
     "user_tz": 420
    },
    "id": "aMynh50zG_DG",
    "outputId": "013e730a-3f5b-40de-f85e-44009b812b11"
   },
   "outputs": [],
   "source": []
  },
  {
   "cell_type": "code",
   "execution_count": null,
   "metadata": {
    "colab": {
     "base_uri": "https://localhost:8080/"
    },
    "executionInfo": {
     "elapsed": 15556,
     "status": "ok",
     "timestamp": 1629861322479,
     "user": {
      "displayName": "Sandeep Junnarkar",
      "photoUrl": "",
      "userId": "15658885848901522782"
     },
     "user_tz": 420
    },
    "id": "KZ4hNNIHRanJ",
    "outputId": "253ccae5-1074-4fff-a97f-8e2113c6e083"
   },
   "outputs": [],
   "source": [
    "## Take your PDF and convert each page to a JPEG\n",
    "\n",
    "# Store all the pages of the PDF in a variable\n",
    "pages = convert_from_path(PDF_file, 300) ## 500 dpi. balance between hi-res and computation power\n",
    "print(pages)\n",
    "print(f\"Give me a second...converting '{PDF_file}' to a JPEG\")\n",
    "\n",
    "# Counter to store images of each page of PDF to image\n",
    "image_counter = 1\n",
    "\n",
    "# Iterate through all the pages stored above\n",
    "for page in pages:\n",
    "    ## Declaring filename for each page of PDF as JPG\n",
    "    ## remove the .pdf extention (last 4 characters)\n",
    "    filename = str(PDF_file[ : -4])+\"_page_\"+str(image_counter)+\".jpg\"\n",
    "    print(f\"Here we go: {filename}\")\n",
    "    print(type(filename))\n",
    "    # Save the image of the page in system\n",
    "    page.save(filename, 'JPEG') ## here we tell it to be a \"jpeg\" file\n",
    "    # Increment the counter to update filename\n",
    "    image_counter+=1"
   ]
  },
  {
   "cell_type": "code",
   "execution_count": null,
   "metadata": {
    "colab": {
     "base_uri": "https://localhost:8080/"
    },
    "executionInfo": {
     "elapsed": 159,
     "status": "ok",
     "timestamp": 1629861198668,
     "user": {
      "displayName": "Sandeep Junnarkar",
      "photoUrl": "",
      "userId": "15658885848901522782"
     },
     "user_tz": 420
    },
    "id": "ODFqobmiRaE9",
    "outputId": "411aea14-6161-47bd-82d7-bb04eb15e5d7"
   },
   "outputs": [],
   "source": [
    "## path to the jpegs that were just produced\n",
    "\n",
    "img_path = \"nixon*.jpg\"\n",
    "myfiles = sorted(glob.glob(img_path))\n",
    "myfiles"
   ]
  },
  {
   "cell_type": "code",
   "execution_count": null,
   "metadata": {
    "executionInfo": {
     "elapsed": 201,
     "status": "ok",
     "timestamp": 1629861200848,
     "user": {
      "displayName": "Sandeep Junnarkar",
      "photoUrl": "",
      "userId": "15658885848901522782"
     },
     "user_tz": 420
    },
    "id": "CQnuT7YYR4WI"
   },
   "outputs": [],
   "source": [
    "## name your exported file\n",
    "outfile = \"nixon.txt\""
   ]
  },
  {
   "cell_type": "code",
   "execution_count": null,
   "metadata": {
    "colab": {
     "base_uri": "https://localhost:8080/"
    },
    "executionInfo": {
     "elapsed": 41489,
     "status": "ok",
     "timestamp": 1629861374335,
     "user": {
      "displayName": "Sandeep Junnarkar",
      "photoUrl": "",
      "userId": "15658885848901522782"
     },
     "user_tz": 420
    },
    "id": "N8YYpQvCR4c6",
    "outputId": "c6d8a334-95f1-43f2-8ded-8a72bd2145d5"
   },
   "outputs": [],
   "source": [
    "## Open each Jpeg, OCR and append text to output file\n",
    "\n",
    "with open(outfile, \"a\") as my_conversion_file:\n",
    "  ## grab all jpegs\n",
    "  img_files = sorted(glob.glob(img_path))\n",
    "  print(img_files)\n",
    "  counter = 0\n",
    "    ## name each file\n",
    "  for img_file in img_files:\n",
    "    counter+=1\n",
    "    print(f\"Converting image {counter} of {len(img_files)} to text\")\n",
    "    text = f\"FILE_Info: {img_file} \\n\\n\\n + {str(pytesseract.image_to_string(Image.open(img_file)))}\" \n",
    "\n",
    "  ## In many PDFs, at line ending, if a word can't\n",
    "    ## be written fully, a 'hyphen' is added.\n",
    "    ## To remove this, we replace every '-\\n' to ''.\n",
    "    text = text.replace('-\\n', '')\n",
    "\n",
    "    my_conversion_file.write(text)\n",
    "\n",
    "print(f\"Your converted PDFs are waiting in {outfile}!\")"
   ]
  },
  {
   "cell_type": "markdown",
   "metadata": {
    "id": "4rjparXn48Ix"
   },
   "source": [
    "## Turn into Functions"
   ]
  },
  {
   "cell_type": "code",
   "execution_count": null,
   "metadata": {
    "executionInfo": {
     "elapsed": 212,
     "status": "ok",
     "timestamp": 1629861871287,
     "user": {
      "displayName": "Sandeep Junnarkar",
      "photoUrl": "",
      "userId": "15658885848901522782"
     },
     "user_tz": 420
    },
    "id": "1CJDvtve47Uq"
   },
   "outputs": [],
   "source": [
    "### FUNCTION to convert pdf to jpg\n",
    "def to_jpg(PDF_file, pdf_path, resolution = 300):\n",
    "    print(\"Getting all your PDFs from target folder...\")\n",
    "    ## store in a folder for conversion\n",
    "    conversion_path = Path('conversion_img/')\n",
    "    conversion_path.mkdir(exist_ok=True)\n",
    "\n",
    "    '''\n",
    "    Part #1 : Converting PDF to images\n",
    "    '''\n",
    "\n",
    "    # Store all the pages of the PDF in a variable\n",
    "    pages = convert_from_path(pdf_path+PDF_file, resolution)\n",
    "    print(f\"Give me a second...converting '{PDF_file}' to a JPEG\")\n",
    "\n",
    "    # Counter to store images of each page of PDF to image\n",
    "    image_counter = 1\n",
    "\n",
    "    # Iterate through Sall the pages stored above\n",
    "    for page in pages:\n",
    "        ## Declaring filename for each page of PDF as JPG\n",
    "        ## remove the .pdf extention (last 4 characters)\n",
    "        filename = str(PDF_file[ : -4])+\"_page_\"+str(image_counter)+\".jpg\"\n",
    "        print(f\"Here we go: {filename}\")\n",
    "        filename = os.path.join(conversion_path,filename)\n",
    "        print(filename)\n",
    "        # Save the image of the page in system\n",
    "        page.save(filename, 'JPEG')\n",
    "\n",
    "        # Increment the counter to update filename\n",
    "        image_counter+=1"
   ]
  },
  {
   "cell_type": "code",
   "execution_count": null,
   "metadata": {
    "executionInfo": {
     "elapsed": 134,
     "status": "ok",
     "timestamp": 1629862375135,
     "user": {
      "displayName": "Sandeep Junnarkar",
      "photoUrl": "",
      "userId": "15658885848901522782"
     },
     "user_tz": 420
    },
    "id": "h879FlWD6Wo2"
   },
   "outputs": [],
   "source": [
    "### FUNCTION TO OCR JPG\n",
    "\n",
    "def jpg_to_txt(outfile):\n",
    "\n",
    "    '''\n",
    "    Part #2 - Recognizing text from the images using OCR\n",
    "    '''\n",
    "    ## store in an output folder\n",
    "    output_path = Path('output/')\n",
    "    output_path.mkdir(exist_ok=True)\n",
    "    conversion_path = Path('conversion_img/')\n",
    "\n",
    "    # # # # Creating a text file to write the output\n",
    "    outfile = os.path.join(output_path,outfile)\n",
    "    # # #\n",
    "    # # # # Open output file and append all info\n",
    "\n",
    "    with open(outfile, \"a\") as f:\n",
    "        ## grab all jpegs\n",
    "        img_files = sorted(Path(conversion_path).glob('*.jpg'), reverse=False)\n",
    "\n",
    "        ## path objects turn urls into strings and you can't sort numbers with underscores, etc\n",
    "        ## the function below uses regex to find the numbers and turn them into integer.\n",
    "        ## natsort library\n",
    "        ## https://natsort.readthedocs.io/en/master/howitworks.html\n",
    "        from natsort import natsorted, ns\n",
    "        img_files = [img_file.as_posix() for img_file in img_files]\n",
    "        img_files = natsorted(img_files, alg=ns.PATH)\n",
    "        print(img_files)\n",
    "\n",
    "        counter = 0\n",
    "        for img_file in img_files:\n",
    "            counter+=1\n",
    "            print(f\"Converting image {counter} of {len(img_files)} to text!\")\n",
    "            text = f\"\\n\\n\\nFILE_Info: {img_file} \\n\\n\\n \\\n",
    "             {str(pytesseract.image_to_string(Image.open(img_file)))}\"\n",
    "            # ###UNCHECK IF SPANISH\n",
    "            # text = f\"\\n\\n\\nFILE_Info: {img_file} \\n\\n\\n + {str(pytesseract.image_to_string(Image.open(img_file), lang='spa'))}\"\n",
    "            # print(text)\n",
    "\n",
    "            ## In many PDFs, at line ending, if a word can't\n",
    "            ## be written fully, a 'hyphen' is added.\n",
    "            ## To remove this, we replace every '-\\n' to ''.\n",
    "            text = text.replace('-\\n', '')\n",
    "            # print(f\"Here's the text: \\n {text}\")\n",
    "\n",
    "            f.write(text)\n",
    "\n",
    "            ## Delete the folder\n",
    "        shutil.rmtree(conversion_path)\n",
    "        print(f\"A text file called '{outfile}' is ready for you....\")"
   ]
  },
  {
   "cell_type": "code",
   "execution_count": null,
   "metadata": {
    "executionInfo": {
     "elapsed": 132,
     "status": "ok",
     "timestamp": 1629862426174,
     "user": {
      "displayName": "Sandeep Junnarkar",
      "photoUrl": "",
      "userId": "15658885848901522782"
     },
     "user_tz": 420
    },
    "id": "jEBZaU3j6d93"
   },
   "outputs": [],
   "source": [
    "def ocr_file(PDF_file, outfile, pdf_path = \"\", resolution = 300 ):\n",
    "    '''\n",
    "    args:\n",
    "    - pdf file name(as strings)\n",
    "    - name of outfile (as strings)\n",
    "    - path to pdf as string (default \"\" same folder)\n",
    "    - resolution as int between 300 and 600\n",
    "    '''\n",
    "    to_jpg(PDF_file, pdf_path, resolution)\n",
    "    jpg_to_txt(outfile)\n",
    "    "
   ]
  },
  {
   "cell_type": "code",
   "execution_count": null,
   "metadata": {
    "colab": {
     "base_uri": "https://localhost:8080/"
    },
    "executionInfo": {
     "elapsed": 11204,
     "status": "ok",
     "timestamp": 1629862471126,
     "user": {
      "displayName": "Sandeep Junnarkar",
      "photoUrl": "",
      "userId": "15658885848901522782"
     },
     "user_tz": 420
    },
    "id": "mfynqM_t6lig",
    "outputId": "f546eda3-a1e4-4c44-d975-d1e9dcbd6096"
   },
   "outputs": [],
   "source": [
    "## ocr the file \"nixon-memo1.pdf\"\n"
   ]
  },
  {
   "cell_type": "code",
   "execution_count": null,
   "metadata": {
    "colab": {
     "base_uri": "https://localhost:8080/"
    },
    "executionInfo": {
     "elapsed": 61475,
     "status": "ok",
     "timestamp": 1629862767025,
     "user": {
      "displayName": "Sandeep Junnarkar",
      "photoUrl": "",
      "userId": "15658885848901522782"
     },
     "user_tz": 420
    },
    "id": "HmZEHj_OYKjb",
    "outputId": "f378bde1-c789-46e3-c7dc-ccda5566102f"
   },
   "outputs": [],
   "source": [
    "## ocr the file \"bank.pdf\"\n"
   ]
  },
  {
   "cell_type": "markdown",
   "metadata": {
    "id": "3C_0TQG2y7wp"
   },
   "source": [
    "# OCRing languages other than English.\n",
    "\n",
    "English is the default language for Tesseract. \n",
    "\n",
    "The installation process is confusing and cumbersome. I have have tried to make it as clear as possible here in *Colab*. \n",
    "\n",
    "Installation in Jupyter Notebooks is a little different and so is installation for a virtual environment.\n",
    "\n",
    "[More here](https://askubuntu.com/questions/793634/how-do-i-install-a-new-language-pack-for-tesseract-on-16-04\n",
    ").\n",
    "\n"
   ]
  },
  {
   "cell_type": "markdown",
   "metadata": {
    "id": "ydLoy20zH70Y"
   },
   "source": [
    "# Installations"
   ]
  },
  {
   "cell_type": "markdown",
   "metadata": {
    "id": "P-9brS_xF6NM"
   },
   "source": [
    "### Step 1. Install languages\n",
    "\n",
    "- ```brew install tesseract-lang``` \n",
    "\n",
    "Note: This will install about 163 languages. The method to install specific languages is beyond the scope of this class."
   ]
  },
  {
   "cell_type": "code",
   "execution_count": null,
   "metadata": {
    "id": "zd0Q4NpxhRpW"
   },
   "outputs": [],
   "source": [
    "## What languages do we have installed so far?\n",
    "!tesseract --list-langs"
   ]
  },
  {
   "cell_type": "code",
   "execution_count": null,
   "metadata": {
    "id": "IwSQ7r3HIUm3"
   },
   "outputs": [],
   "source": [
    "## What languages do we have installed now?\n",
    "!tesseract --list-langs"
   ]
  },
  {
   "cell_type": "code",
   "execution_count": null,
   "metadata": {
    "id": "YU9ReieT1tBC"
   },
   "outputs": [],
   "source": [
    "## import colab's file uploader\n",
    "## upload \n",
    "# files.upload()\n"
   ]
  },
  {
   "cell_type": "code",
   "execution_count": null,
   "metadata": {
    "id": "dhzTEa7029Lp"
   },
   "outputs": [],
   "source": [
    "## grab 'spanish.pdf'\n",
    "PDF_file = \"spanish.pdf\"\n"
   ]
  },
  {
   "cell_type": "code",
   "execution_count": null,
   "metadata": {
    "id": "L7daC3kn3a3r"
   },
   "outputs": [],
   "source": [
    "## Take your PDF and convert each page to a JPEG\n",
    "\n",
    "# Store all the pages of the PDF in a variable\n",
    "pages = convert_from_path(PDF_file, 500) ## 500 dpi. balance between hi-res and computation power\n",
    "print(pages)\n",
    "print(f\"Give me a second...converting '{PDF_file}' to a JPEG\")\n",
    "\n",
    "# Counter to store images of each page of PDF to image\n",
    "image_counter = 1\n",
    "\n",
    "# Iterate through all the pages stored above\n",
    "for page in pages:\n",
    "    ## Declaring filename for each page of PDF as JPG\n",
    "    ## remove the .pdf extention (last 4 characters)\n",
    "    filename = str(PDF_file[ : -4])+\"_page_\"+str(image_counter)+\".jpg\"\n",
    "    print(f\"Here we go: {filename}\")\n",
    "\n",
    "    # Save the image of the page in system\n",
    "    page.save(filename, 'JPEG')\n",
    "\n",
    "    # Increment the counter to update filename\n",
    "    image_counter+=1"
   ]
  },
  {
   "cell_type": "code",
   "execution_count": null,
   "metadata": {
    "id": "0fn-Fqv24BLK"
   },
   "outputs": [],
   "source": [
    "## path to the jpegs that were just produced\n",
    "img_path = \"spanish*.jpg\"\n",
    "myfiles = sorted(glob.glob(img_path))\n",
    "myfiles"
   ]
  },
  {
   "cell_type": "code",
   "execution_count": null,
   "metadata": {
    "id": "8ArXPRPiEuMf"
   },
   "outputs": [],
   "source": [
    "## The text pulled from the jpegs will be appended to this file\n",
    "outfile = \"spanish_TEXT.txt\""
   ]
  },
  {
   "cell_type": "code",
   "execution_count": null,
   "metadata": {
    "id": "lc4cdrPWFBtq"
   },
   "outputs": [],
   "source": [
    "## Open each Jpeg, OCR and append text to output file\n",
    "\n",
    "##REMEMBER TO CHANGE THE LANGUAGE\n",
    "\n",
    "with open(outfile, \"a\") as my_convertion_file:\n",
    "    ## grab all jpegs\n",
    "    img_files = sorted(glob.glob(img_path))\n",
    "    counter = 0\n",
    "    for img_file in img_files:\n",
    "        counter+=1\n",
    "        print(f\"Converting image {counter} of {len(img_files)} to text!\")\n",
    "        # text = f\"\\n\\n\\nFILE_Info: {img_file} \\n\\n\\n + {str(pytesseract.image_to_string(Image.open(img_file)))}\" \n",
    "        \n",
    "        # ###UNCHECK for Arabic\n",
    "        text = f\"\\n\\n\\nFILE_Info: {img_file} \\n\\n\\n {str(pytesseract.image_to_string(Image.open(img_file), lang='spa'))}\"\n",
    "        print(text)\n",
    "\n",
    "        ## In many PDFs, at line ending, if a word can't\n",
    "        ## be written fully, a 'hyphen' is added.\n",
    "        ## To remove this, we replace every '-\\n' to ''.\n",
    "        text = text.replace('-\\n', '')\n",
    "        # print(f\"Here's the text: \\n {text}\")\n",
    "\n",
    "        my_convertion_file.write(text) ## write to my output file"
   ]
  },
  {
   "cell_type": "markdown",
   "metadata": {
    "id": "o5B2lEsNGVw1"
   },
   "source": [
    "# Let's try Chinese"
   ]
  },
  {
   "cell_type": "code",
   "execution_count": null,
   "metadata": {
    "id": "IfNuFo0sGmII"
   },
   "outputs": [],
   "source": [
    "## What languages do we have installed so far?\n",
    "!tesseract --list-langs"
   ]
  },
  {
   "cell_type": "code",
   "execution_count": null,
   "metadata": {
    "id": "BEw1zWcJywU3"
   },
   "outputs": [],
   "source": [
    "!apt-get install tesseract-ocr-chi-tra"
   ]
  },
  {
   "cell_type": "code",
   "execution_count": null,
   "metadata": {
    "id": "6W-yeVn-GrOZ"
   },
   "outputs": [],
   "source": [
    "## import colab's file uploader\n",
    "## upload \n",
    "files.upload()"
   ]
  },
  {
   "cell_type": "code",
   "execution_count": null,
   "metadata": {
    "id": "Ti2e6BQYGxOz"
   },
   "outputs": [],
   "source": [
    "PDF_file = \"chinese.pdf\""
   ]
  },
  {
   "cell_type": "code",
   "execution_count": null,
   "metadata": {
    "id": "E-teWUuuGxV5"
   },
   "outputs": [],
   "source": [
    "## Take your PDF and convert each page to a JPEG\n",
    "\n",
    "# Store all the pages of the PDF in a variable\n",
    "pages = convert_from_path(PDF_file, 500) ## 500 dpi. balance between hi-res and computation power\n",
    "print(pages)\n",
    "print(f\"Give me a second...converting '{PDF_file}' to a JPEG\")\n",
    "\n",
    "# Counter to store images of each page of PDF to image\n",
    "image_counter = 1\n",
    "\n",
    "# Iterate through all the pages stored above\n",
    "for page in pages:\n",
    "    ## Declaring filename for each page of PDF as JPG\n",
    "    ## remove the .pdf extention (last 4 characters)\n",
    "    filename = str(PDF_file[ : -4])+\"_page_\"+str(image_counter)+\".jpg\"\n",
    "    print(f\"Here we go: {filename}\")\n",
    "\n",
    "    # Save the image of the page in system\n",
    "    page.save(filename, 'JPEG')\n",
    "\n",
    "    # Increment the counter to update filename\n",
    "    image_counter+=1"
   ]
  },
  {
   "cell_type": "code",
   "execution_count": null,
   "metadata": {
    "id": "AKD9QQsoGxET"
   },
   "outputs": [],
   "source": [
    "## path to the jpegs that were just produced\n",
    "img_path = \"chinese*.jpg\"\n",
    "myfiles = sorted(glob.glob(img_path))\n",
    "myfiles"
   ]
  },
  {
   "cell_type": "code",
   "execution_count": null,
   "metadata": {
    "id": "nn4sbWXiHBYo"
   },
   "outputs": [],
   "source": [
    "## The text pulled from the jpegs will be appended to this file\n",
    "outfile = \"chinese_TEXT.txt\""
   ]
  },
  {
   "cell_type": "code",
   "execution_count": null,
   "metadata": {
    "id": "r6SFdx59HBfm"
   },
   "outputs": [],
   "source": [
    "## Open each Jpeg, OCR and append text to output file\n",
    "\n",
    "with open(outfile, \"a\") as my_convertion_file:\n",
    "    ## grab all jpegs\n",
    "    img_files = sorted(glob.glob(img_path))\n",
    "    counter = 0\n",
    "    for img_file in img_files:\n",
    "        counter+=1\n",
    "        print(f\"Converting image {counter} of {len(img_files)} to text!\")\n",
    "        # text = f\"\\n\\n\\nFILE_Info: {img_file} \\n\\n\\n + {str(pytesseract.image_to_string(Image.open(img_file)))}\" \n",
    "        \n",
    "        # ###UNCHECK for Arabic\n",
    "        text = f\"\\n\\n\\nFILE_Info: {img_file} \\n\\n\\n  {str(pytesseract.image_to_string(Image.open(img_file), lang='chi_tra'))}\"\n",
    "        print(text)\n",
    "\n",
    "        ## In many PDFs, at line ending, if a word can't\n",
    "        ## be written fully, a 'hyphen' is added.\n",
    "        ## To remove this, we replace every '-\\n' to ''.\n",
    "        text = text.replace('-\\n', '')\n",
    "        # print(f\"Here's the text: \\n {text}\")\n",
    "\n",
    "        my_convertion_file.write(text) ## write to my output file"
   ]
  },
  {
   "cell_type": "markdown",
   "metadata": {
    "id": "CXyPVjaXIhYn"
   },
   "source": [
    "# Let's try Japanese\n"
   ]
  },
  {
   "cell_type": "code",
   "execution_count": null,
   "metadata": {
    "id": "tgrVppWwx4_e"
   },
   "outputs": [],
   "source": [
    "## get Japanese OCR\n",
    "!apt-get install tesseract-ocr-jpn"
   ]
  },
  {
   "cell_type": "code",
   "execution_count": null,
   "metadata": {
    "id": "nJr2CzupK-i1"
   },
   "outputs": [],
   "source": [
    "## What languages do we have installed so far?\n",
    "!tesseract --list-langs"
   ]
  },
  {
   "cell_type": "code",
   "execution_count": null,
   "metadata": {
    "id": "8xiG6GSB5460"
   },
   "outputs": [],
   "source": [
    "## import colab's file uploader\n",
    "## upload \n",
    "files.upload()"
   ]
  },
  {
   "cell_type": "code",
   "execution_count": null,
   "metadata": {
    "id": "L4MwvPgjy91v"
   },
   "outputs": [],
   "source": [
    "PDF_file = \"japanese.pdf\"\n"
   ]
  },
  {
   "cell_type": "code",
   "execution_count": null,
   "metadata": {
    "id": "ak1lnjZ6zg0d"
   },
   "outputs": [],
   "source": [
    "## Take your PDF and convert each page to a JPEG\n",
    "\n",
    "# Store all the pages of the PDF in a variable\n",
    "pages = convert_from_path(PDF_file, 500) ## 1000 dpi. balance between hi-res and computation power\n",
    "print(pages)\n",
    "print(f\"Give me a second...converting '{PDF_file}' to a JPEG\")\n",
    "\n",
    "# Counter to store images of each page of PDF to image\n",
    "image_counter = 1\n",
    "\n",
    "# Iterate through all the pages stored above\n",
    "for page in pages:\n",
    "    ## Declaring filename for each page of PDF as JPG\n",
    "    ## remove the .pdf extention (last 4 characters)\n",
    "    filename = str(PDF_file[ : -4])+\"_page_\"+str(image_counter)+\".jpg\"\n",
    "    print(f\"Here we go: {filename}\")\n",
    "\n",
    "    # Save the image of the page in system\n",
    "    page.save(filename, 'JPEG')\n",
    "\n",
    "    # Increment the counter to update filename\n",
    "    image_counter+=1"
   ]
  },
  {
   "cell_type": "code",
   "execution_count": null,
   "metadata": {
    "id": "emNceO3Ozt6W"
   },
   "outputs": [],
   "source": [
    "## path to the jpegs that were just produced\n",
    "img_path = \"japanese*.jpg\"\n",
    "myfiles = sorted(glob.glob(img_path))\n",
    "myfiles"
   ]
  },
  {
   "cell_type": "code",
   "execution_count": null,
   "metadata": {
    "id": "If1AAy5yzxHQ"
   },
   "outputs": [],
   "source": [
    "## The text pulled from the jpegs will be appended to this file\n",
    "outfile = \"japanese_TEXT.txt\""
   ]
  },
  {
   "cell_type": "code",
   "execution_count": null,
   "metadata": {
    "id": "LTfiIdDC0DPj"
   },
   "outputs": [],
   "source": [
    "## Open each Jpeg, OCR and append text to output file\n",
    "\n",
    "with open(outfile, \"a\") as my_convertion_file:\n",
    "    ## grab all jpegs\n",
    "    img_files = sorted(glob.glob(img_path))\n",
    "    counter = 0\n",
    "    for img_file in img_files:\n",
    "        counter+=1\n",
    "        print(f\"Converting image {counter} of {len(img_files)} to text!\")\n",
    "        # text = f\"\\n\\n\\nFILE_Info: {img_file} \\n\\n\\n + {str(pytesseract.image_to_string(Image.open(img_file)))}\" \n",
    "        \n",
    "        # ###UNCHECK for Arabic\n",
    "        text = f\"\\n\\n\\nFILE_Info: {img_file} \\n\\n\\n  {str(pytesseract.image_to_string(Image.open(img_file), lang='jpn'))}\"\n",
    "        print(text)\n",
    "\n",
    "        ## In many PDFs, at line ending, if a word can't\n",
    "        ## be written fully, a 'hyphen' is added.\n",
    "        ## To remove this, we replace every '-\\n' to ''.\n",
    "        text = text.replace('-\\n', '')\n",
    "        # print(f\"Here's the text: \\n {text}\")\n",
    "\n",
    "        my_convertion_file.write(text) ## write to my output file"
   ]
  }
 ],
 "metadata": {
  "colab": {
   "collapsed_sections": [
    "_85mcdF7_pdE",
    "ydLoy20zH70Y",
    "j7AuTKRwIJJp",
    "o5B2lEsNGVw1",
    "CXyPVjaXIhYn"
   ],
   "name": "week-10-obnoxious_PDFs_DEMO.ipynb",
   "provenance": [
    {
     "file_id": "1F_WgIJ5cch8mhc3MdRmKXSWdkdhK2lm6",
     "timestamp": 1629842544893
    },
    {
     "file_id": "1nQBH0NTIHKFi_dbgybXqVQhoRclBJKW3",
     "timestamp": 1622641340826
    },
    {
     "file_id": "18Nu9_joWjXW0mC-zavKmvKuJGqeoqSmV",
     "timestamp": 1622638092363
    }
   ]
  },
  "kernelspec": {
   "display_name": "Python 3",
   "language": "python",
   "name": "python3"
  },
  "language_info": {
   "codemirror_mode": {
    "name": "ipython",
    "version": 3
   },
   "file_extension": ".py",
   "mimetype": "text/x-python",
   "name": "python",
   "nbconvert_exporter": "python",
   "pygments_lexer": "ipython3",
   "version": "3.8.8"
  }
 },
 "nbformat": 4,
 "nbformat_minor": 1
}
