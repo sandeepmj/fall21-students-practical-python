{
 "cells": [
  {
   "cell_type": "markdown",
   "metadata": {
    "id": "7QwY_aPURcTp"
   },
   "source": [
    "# Natural Language Processing"
   ]
  },
  {
   "cell_type": "markdown",
   "metadata": {
    "id": "Oha791Cm0eTu"
   },
   "source": [
    "### The problem?\n",
    "\n",
    "- Endless amounts of unstructured data found in emails, tweets, letters, memos, etc.\n",
    "- Even in transcripts\n",
    "- How can we make sense of all this data?\n",
    "- How can we 'easily' find relevant information for our reporting?"
   ]
  },
  {
   "cell_type": "markdown",
   "metadata": {
    "id": "g8_4Z57d0eTv"
   },
   "source": [
    "### The solution?\n",
    "- Computer programming to process all that text using **natural language processing**!\n",
    "- <a href=\"https://machinelearningmastery.com/natural-language-processing/\">Learn more</a> about the complexity and the history of NLP."
   ]
  },
  {
   "cell_type": "markdown",
   "metadata": {
    "id": "-zJheLEp0eTw"
   },
   "source": [
    "### Journalism examples\n",
    "\n",
    "- <a href=\"http://doctors.ajc.com/part_1_license_to_betray/\">License to betray</a> – Finding word stems and roots to uncover abuse. (<a href=\"http://doctors.ajc.com/about_this_investigation/?ecmp=doctorssexabuse_microsite_stories\">More info</a>)\n",
    "- <a href=\"https://www.revealnews.org/article/federal-judges-rulings-favored-companies-in-which-he-owned-stock/\">Federal judge’s rulings favored companies in which he owned stock</a> – Finding all stock owned by judges in disclosure forms and comparing to caseloads.\n",
    "- <a href=\"https://www.latimes.com/local/cityhall/la-me-crime-stats-20151015-story.html\">LAPD underreported serious assaults, skewing crime stats for 8 years</a> – Text classification analysis."
   ]
  },
  {
   "cell_type": "markdown",
   "metadata": {
    "id": "Qcacjpm50eT4"
   },
   "source": [
    "### The tools\n",
    "\n",
    "- Spacy v. NLTK\n",
    "- NLTK launched in 2001, Spacy in 2015\n",
    "- NLTK is now bloated and complex, requiring many steps to deal with many changes etc.\n",
    "- Spacy is lean and modern, and can compute some text 4x to 20x faster than NLTK.\n",
    "- Spacy does **nearly** everything that NLTK does, but better.\n",
    "- NLTK, however, is still the library of choice for sentiment analysis."
   ]
  },
  {
   "cell_type": "markdown",
   "metadata": {
    "id": "5vc74Y570eT5"
   },
   "source": [
    "# Working with Spacy"
   ]
  },
  {
   "cell_type": "markdown",
   "metadata": {
    "id": "ly8WKOVPYV9-"
   },
   "source": [
    "## Step 1. Install Spacy\n",
    "\n",
    "If this first time ever using spacy on this computer, you must first do either the ```!conda install``` or ```!pip install```:"
   ]
  },
  {
   "cell_type": "code",
   "execution_count": 1,
   "metadata": {
    "colab": {
     "base_uri": "https://localhost:8080/"
    },
    "id": "a-S6NorkRcTu",
    "outputId": "ebf3dd63-d14a-4a4c-f140-48f7984569a4"
   },
   "outputs": [
    {
     "name": "stdout",
     "output_type": "stream",
     "text": [
      "Requirement already satisfied: spacy in /usr/local/anaconda3/lib/python3.8/site-packages (3.2.1)\n",
      "Requirement already satisfied: srsly<3.0.0,>=2.4.1 in /usr/local/anaconda3/lib/python3.8/site-packages (from spacy) (2.4.2)\n",
      "Requirement already satisfied: pydantic!=1.8,!=1.8.1,<1.9.0,>=1.7.4 in /usr/local/anaconda3/lib/python3.8/site-packages (from spacy) (1.8.2)\n",
      "Requirement already satisfied: blis<0.8.0,>=0.4.0 in /usr/local/anaconda3/lib/python3.8/site-packages (from spacy) (0.7.5)\n",
      "Requirement already satisfied: requests<3.0.0,>=2.13.0 in /usr/local/anaconda3/lib/python3.8/site-packages (from spacy) (2.25.1)\n",
      "Requirement already satisfied: cymem<2.1.0,>=2.0.2 in /usr/local/anaconda3/lib/python3.8/site-packages (from spacy) (2.0.6)\n",
      "Requirement already satisfied: preshed<3.1.0,>=3.0.2 in /usr/local/anaconda3/lib/python3.8/site-packages (from spacy) (3.0.6)\n",
      "Requirement already satisfied: spacy-loggers<2.0.0,>=1.0.0 in /usr/local/anaconda3/lib/python3.8/site-packages (from spacy) (1.0.1)\n",
      "Requirement already satisfied: murmurhash<1.1.0,>=0.28.0 in /usr/local/anaconda3/lib/python3.8/site-packages (from spacy) (1.0.6)\n",
      "Requirement already satisfied: packaging>=20.0 in /usr/local/anaconda3/lib/python3.8/site-packages (from spacy) (20.9)\n",
      "Requirement already satisfied: setuptools in /usr/local/anaconda3/lib/python3.8/site-packages (from spacy) (52.0.0.post20210125)\n",
      "Requirement already satisfied: jinja2 in /usr/local/anaconda3/lib/python3.8/site-packages (from spacy) (2.11.3)\n",
      "Requirement already satisfied: tqdm<5.0.0,>=4.38.0 in /usr/local/anaconda3/lib/python3.8/site-packages (from spacy) (4.59.0)\n",
      "Requirement already satisfied: numpy>=1.15.0 in /usr/local/anaconda3/lib/python3.8/site-packages (from spacy) (1.20.1)\n",
      "Requirement already satisfied: pathy>=0.3.5 in /usr/local/anaconda3/lib/python3.8/site-packages (from spacy) (0.6.1)\n",
      "Requirement already satisfied: typer<0.5.0,>=0.3.0 in /usr/local/anaconda3/lib/python3.8/site-packages (from spacy) (0.4.0)\n",
      "Requirement already satisfied: thinc<8.1.0,>=8.0.12 in /usr/local/anaconda3/lib/python3.8/site-packages (from spacy) (8.0.13)\n",
      "Requirement already satisfied: wasabi<1.1.0,>=0.8.1 in /usr/local/anaconda3/lib/python3.8/site-packages (from spacy) (0.9.0)\n",
      "Requirement already satisfied: catalogue<2.1.0,>=2.0.6 in /usr/local/anaconda3/lib/python3.8/site-packages (from spacy) (2.0.6)\n",
      "Requirement already satisfied: spacy-legacy<3.1.0,>=3.0.8 in /usr/local/anaconda3/lib/python3.8/site-packages (from spacy) (3.0.8)\n",
      "Requirement already satisfied: langcodes<4.0.0,>=3.2.0 in /usr/local/anaconda3/lib/python3.8/site-packages (from spacy) (3.3.0)\n",
      "Requirement already satisfied: pyparsing>=2.0.2 in /usr/local/anaconda3/lib/python3.8/site-packages (from packaging>=20.0->spacy) (2.4.7)\n",
      "Requirement already satisfied: smart-open<6.0.0,>=5.0.0 in /usr/local/anaconda3/lib/python3.8/site-packages (from pathy>=0.3.5->spacy) (5.2.1)\n",
      "Requirement already satisfied: typing-extensions>=3.7.4.3 in /usr/local/anaconda3/lib/python3.8/site-packages (from pydantic!=1.8,!=1.8.1,<1.9.0,>=1.7.4->spacy) (3.7.4.3)\n",
      "Requirement already satisfied: idna<3,>=2.5 in /usr/local/anaconda3/lib/python3.8/site-packages (from requests<3.0.0,>=2.13.0->spacy) (2.10)\n",
      "Requirement already satisfied: urllib3<1.27,>=1.21.1 in /usr/local/anaconda3/lib/python3.8/site-packages (from requests<3.0.0,>=2.13.0->spacy) (1.26.4)\n",
      "Requirement already satisfied: chardet<5,>=3.0.2 in /usr/local/anaconda3/lib/python3.8/site-packages (from requests<3.0.0,>=2.13.0->spacy) (4.0.0)\n",
      "Requirement already satisfied: certifi>=2017.4.17 in /usr/local/anaconda3/lib/python3.8/site-packages (from requests<3.0.0,>=2.13.0->spacy) (2020.12.5)\n",
      "Requirement already satisfied: click<9.0.0,>=7.1.1 in /usr/local/anaconda3/lib/python3.8/site-packages (from typer<0.5.0,>=0.3.0->spacy) (7.1.2)\n",
      "Requirement already satisfied: MarkupSafe>=0.23 in /usr/local/anaconda3/lib/python3.8/site-packages (from jinja2->spacy) (1.1.1)\n"
     ]
    }
   ],
   "source": [
    "## pip install\n",
    "!pip install -U spacy\n"
   ]
  },
  {
   "cell_type": "code",
   "execution_count": 2,
   "metadata": {
    "id": "XdUvDJNDRcTy"
   },
   "outputs": [],
   "source": [
    "## import libary.\n",
    "\n",
    "import spacy"
   ]
  },
  {
   "cell_type": "markdown",
   "metadata": {
    "id": "G8xpwtwPRcT1"
   },
   "source": [
    "#### Which language model is best for you?\n",
    "<a href=\"https://spacy.io/usage/models\">https://spacy.io/usage/models</a>"
   ]
  },
  {
   "cell_type": "markdown",
   "metadata": {
    "id": "KcPisnnlRcT1"
   },
   "source": [
    "## Step 2. Install language model\n"
   ]
  },
  {
   "cell_type": "code",
   "execution_count": 3,
   "metadata": {
    "colab": {
     "base_uri": "https://localhost:8080/"
    },
    "id": "9L770hGkZePT",
    "outputId": "ae3bfe82-a6e4-4f59-e577-3a1065b5fa64"
   },
   "outputs": [
    {
     "name": "stdout",
     "output_type": "stream",
     "text": [
      "Collecting en-core-web-trf==3.2.0\n",
      "  Downloading https://github.com/explosion/spacy-models/releases/download/en_core_web_trf-3.2.0/en_core_web_trf-3.2.0-py3-none-any.whl (460.2 MB)\n",
      "\u001b[K     |████████████████████████████████| 460.2 MB 443 kB/s eta 0:00:01     |███▎                            | 47.6 MB 449 kB/s eta 0:15:18     |█████▌                          | 79.6 MB 459 kB/s eta 0:13:49     |███████▍                        | 106.8 MB 457 kB/s eta 0:12:53     |█████████                       | 129.6 MB 446 kB/s eta 0:12:21     |█████████▉                      | 141.6 MB 449 kB/s eta 0:11:50     |██████████                      | 142.9 MB 449 kB/s eta 0:11:47     |███████████████                 | 216.0 MB 414 kB/s eta 0:09:50     |███████████████▊                | 225.4 MB 443 kB/s eta 0:08:50     |██████████████████▌             | 266.7 MB 433 kB/s eta 0:07:27     |██████████████████▉             | 271.1 MB 459 kB/s eta 0:06:52     |███████████████████▋            | 282.5 MB 416 kB/s eta 0:07:08     |██████████████████████▋         | 324.7 MB 421 kB/s eta 0:05:22     |██████████████████████████▏     | 376.5 MB 641 kB/s eta 0:02:11     |███████████████████████████▋    | 396.5 MB 425 kB/s eta 0:02:30\n",
      "\u001b[?25hRequirement already satisfied: spacy-transformers<1.2.0,>=1.1.2 in /usr/local/anaconda3/lib/python3.8/site-packages (from en-core-web-trf==3.2.0) (1.1.3)\n",
      "Requirement already satisfied: spacy<3.3.0,>=3.2.0 in /usr/local/anaconda3/lib/python3.8/site-packages (from en-core-web-trf==3.2.0) (3.2.1)\n",
      "Requirement already satisfied: typer<0.5.0,>=0.3.0 in /usr/local/anaconda3/lib/python3.8/site-packages (from spacy<3.3.0,>=3.2.0->en-core-web-trf==3.2.0) (0.4.0)\n",
      "Requirement already satisfied: wasabi<1.1.0,>=0.8.1 in /usr/local/anaconda3/lib/python3.8/site-packages (from spacy<3.3.0,>=3.2.0->en-core-web-trf==3.2.0) (0.9.0)\n",
      "Requirement already satisfied: jinja2 in /usr/local/anaconda3/lib/python3.8/site-packages (from spacy<3.3.0,>=3.2.0->en-core-web-trf==3.2.0) (2.11.3)\n",
      "Requirement already satisfied: langcodes<4.0.0,>=3.2.0 in /usr/local/anaconda3/lib/python3.8/site-packages (from spacy<3.3.0,>=3.2.0->en-core-web-trf==3.2.0) (3.3.0)\n",
      "Requirement already satisfied: numpy>=1.15.0 in /usr/local/anaconda3/lib/python3.8/site-packages (from spacy<3.3.0,>=3.2.0->en-core-web-trf==3.2.0) (1.20.1)\n",
      "Requirement already satisfied: requests<3.0.0,>=2.13.0 in /usr/local/anaconda3/lib/python3.8/site-packages (from spacy<3.3.0,>=3.2.0->en-core-web-trf==3.2.0) (2.25.1)\n",
      "Requirement already satisfied: packaging>=20.0 in /usr/local/anaconda3/lib/python3.8/site-packages (from spacy<3.3.0,>=3.2.0->en-core-web-trf==3.2.0) (20.9)\n",
      "Requirement already satisfied: setuptools in /usr/local/anaconda3/lib/python3.8/site-packages (from spacy<3.3.0,>=3.2.0->en-core-web-trf==3.2.0) (52.0.0.post20210125)\n",
      "Requirement already satisfied: blis<0.8.0,>=0.4.0 in /usr/local/anaconda3/lib/python3.8/site-packages (from spacy<3.3.0,>=3.2.0->en-core-web-trf==3.2.0) (0.7.5)\n",
      "Requirement already satisfied: srsly<3.0.0,>=2.4.1 in /usr/local/anaconda3/lib/python3.8/site-packages (from spacy<3.3.0,>=3.2.0->en-core-web-trf==3.2.0) (2.4.2)\n",
      "Requirement already satisfied: preshed<3.1.0,>=3.0.2 in /usr/local/anaconda3/lib/python3.8/site-packages (from spacy<3.3.0,>=3.2.0->en-core-web-trf==3.2.0) (3.0.6)\n",
      "Requirement already satisfied: pathy>=0.3.5 in /usr/local/anaconda3/lib/python3.8/site-packages (from spacy<3.3.0,>=3.2.0->en-core-web-trf==3.2.0) (0.6.1)\n",
      "Requirement already satisfied: pydantic!=1.8,!=1.8.1,<1.9.0,>=1.7.4 in /usr/local/anaconda3/lib/python3.8/site-packages (from spacy<3.3.0,>=3.2.0->en-core-web-trf==3.2.0) (1.8.2)\n",
      "Requirement already satisfied: spacy-loggers<2.0.0,>=1.0.0 in /usr/local/anaconda3/lib/python3.8/site-packages (from spacy<3.3.0,>=3.2.0->en-core-web-trf==3.2.0) (1.0.1)\n",
      "Requirement already satisfied: cymem<2.1.0,>=2.0.2 in /usr/local/anaconda3/lib/python3.8/site-packages (from spacy<3.3.0,>=3.2.0->en-core-web-trf==3.2.0) (2.0.6)\n",
      "Requirement already satisfied: tqdm<5.0.0,>=4.38.0 in /usr/local/anaconda3/lib/python3.8/site-packages (from spacy<3.3.0,>=3.2.0->en-core-web-trf==3.2.0) (4.59.0)\n",
      "Requirement already satisfied: spacy-legacy<3.1.0,>=3.0.8 in /usr/local/anaconda3/lib/python3.8/site-packages (from spacy<3.3.0,>=3.2.0->en-core-web-trf==3.2.0) (3.0.8)\n",
      "Requirement already satisfied: murmurhash<1.1.0,>=0.28.0 in /usr/local/anaconda3/lib/python3.8/site-packages (from spacy<3.3.0,>=3.2.0->en-core-web-trf==3.2.0) (1.0.6)\n",
      "Requirement already satisfied: thinc<8.1.0,>=8.0.12 in /usr/local/anaconda3/lib/python3.8/site-packages (from spacy<3.3.0,>=3.2.0->en-core-web-trf==3.2.0) (8.0.13)\n",
      "Requirement already satisfied: catalogue<2.1.0,>=2.0.6 in /usr/local/anaconda3/lib/python3.8/site-packages (from spacy<3.3.0,>=3.2.0->en-core-web-trf==3.2.0) (2.0.6)\n",
      "Requirement already satisfied: pyparsing>=2.0.2 in /usr/local/anaconda3/lib/python3.8/site-packages (from packaging>=20.0->spacy<3.3.0,>=3.2.0->en-core-web-trf==3.2.0) (2.4.7)\n",
      "Requirement already satisfied: smart-open<6.0.0,>=5.0.0 in /usr/local/anaconda3/lib/python3.8/site-packages (from pathy>=0.3.5->spacy<3.3.0,>=3.2.0->en-core-web-trf==3.2.0) (5.2.1)\n",
      "Requirement already satisfied: typing-extensions>=3.7.4.3 in /usr/local/anaconda3/lib/python3.8/site-packages (from pydantic!=1.8,!=1.8.1,<1.9.0,>=1.7.4->spacy<3.3.0,>=3.2.0->en-core-web-trf==3.2.0) (3.7.4.3)\n",
      "Requirement already satisfied: chardet<5,>=3.0.2 in /usr/local/anaconda3/lib/python3.8/site-packages (from requests<3.0.0,>=2.13.0->spacy<3.3.0,>=3.2.0->en-core-web-trf==3.2.0) (4.0.0)\n",
      "Requirement already satisfied: idna<3,>=2.5 in /usr/local/anaconda3/lib/python3.8/site-packages (from requests<3.0.0,>=2.13.0->spacy<3.3.0,>=3.2.0->en-core-web-trf==3.2.0) (2.10)\n",
      "Requirement already satisfied: urllib3<1.27,>=1.21.1 in /usr/local/anaconda3/lib/python3.8/site-packages (from requests<3.0.0,>=2.13.0->spacy<3.3.0,>=3.2.0->en-core-web-trf==3.2.0) (1.26.4)\n",
      "Requirement already satisfied: certifi>=2017.4.17 in /usr/local/anaconda3/lib/python3.8/site-packages (from requests<3.0.0,>=2.13.0->spacy<3.3.0,>=3.2.0->en-core-web-trf==3.2.0) (2020.12.5)\n",
      "Requirement already satisfied: torch>=1.6.0 in /usr/local/anaconda3/lib/python3.8/site-packages (from spacy-transformers<1.2.0,>=1.1.2->en-core-web-trf==3.2.0) (1.10.0)\n",
      "Requirement already satisfied: spacy-alignments<1.0.0,>=0.7.2 in /usr/local/anaconda3/lib/python3.8/site-packages (from spacy-transformers<1.2.0,>=1.1.2->en-core-web-trf==3.2.0) (0.8.4)\n",
      "Requirement already satisfied: transformers<4.13.0,>=3.4.0 in /usr/local/anaconda3/lib/python3.8/site-packages (from spacy-transformers<1.2.0,>=1.1.2->en-core-web-trf==3.2.0) (4.12.5)\n",
      "Requirement already satisfied: huggingface-hub<1.0,>=0.1.0 in /usr/local/anaconda3/lib/python3.8/site-packages (from transformers<4.13.0,>=3.4.0->spacy-transformers<1.2.0,>=1.1.2->en-core-web-trf==3.2.0) (0.2.1)\n",
      "Requirement already satisfied: sacremoses in /usr/local/anaconda3/lib/python3.8/site-packages (from transformers<4.13.0,>=3.4.0->spacy-transformers<1.2.0,>=1.1.2->en-core-web-trf==3.2.0) (0.0.46)\n",
      "Requirement already satisfied: tokenizers<0.11,>=0.10.1 in /usr/local/anaconda3/lib/python3.8/site-packages (from transformers<4.13.0,>=3.4.0->spacy-transformers<1.2.0,>=1.1.2->en-core-web-trf==3.2.0) (0.10.3)\n",
      "Requirement already satisfied: regex!=2019.12.17 in /usr/local/anaconda3/lib/python3.8/site-packages (from transformers<4.13.0,>=3.4.0->spacy-transformers<1.2.0,>=1.1.2->en-core-web-trf==3.2.0) (2021.4.4)\n",
      "Requirement already satisfied: pyyaml>=5.1 in /usr/local/anaconda3/lib/python3.8/site-packages (from transformers<4.13.0,>=3.4.0->spacy-transformers<1.2.0,>=1.1.2->en-core-web-trf==3.2.0) (5.4.1)\n",
      "Requirement already satisfied: filelock in /usr/local/anaconda3/lib/python3.8/site-packages (from transformers<4.13.0,>=3.4.0->spacy-transformers<1.2.0,>=1.1.2->en-core-web-trf==3.2.0) (3.3.2)\n",
      "Requirement already satisfied: click<9.0.0,>=7.1.1 in /usr/local/anaconda3/lib/python3.8/site-packages (from typer<0.5.0,>=0.3.0->spacy<3.3.0,>=3.2.0->en-core-web-trf==3.2.0) (7.1.2)\n",
      "Requirement already satisfied: MarkupSafe>=0.23 in /usr/local/anaconda3/lib/python3.8/site-packages (from jinja2->spacy<3.3.0,>=3.2.0->en-core-web-trf==3.2.0) (1.1.1)\n",
      "Requirement already satisfied: six in /usr/local/anaconda3/lib/python3.8/site-packages (from sacremoses->transformers<4.13.0,>=3.4.0->spacy-transformers<1.2.0,>=1.1.2->en-core-web-trf==3.2.0) (1.15.0)\n",
      "Requirement already satisfied: joblib in /usr/local/anaconda3/lib/python3.8/site-packages (from sacremoses->transformers<4.13.0,>=3.4.0->spacy-transformers<1.2.0,>=1.1.2->en-core-web-trf==3.2.0) (1.0.1)\n"
     ]
    },
    {
     "name": "stdout",
     "output_type": "stream",
     "text": [
      "\u001b[38;5;2m✔ Download and installation successful\u001b[0m\r\n",
      "You can now load the package via spacy.load('en_core_web_trf')\r\n"
     ]
    }
   ],
   "source": [
    "!python -m spacy download en_core_web_trf\n"
   ]
  },
  {
   "cell_type": "code",
   "execution_count": null,
   "metadata": {
    "colab": {
     "base_uri": "https://localhost:8080/"
    },
    "id": "hBz3YSUXTtXq",
    "outputId": "b37fa4f2-7416-480a-ac62-7690c5bf86c1"
   },
   "outputs": [],
   "source": [
    "!python -m spacy download en_core_web_sm"
   ]
  },
  {
   "cell_type": "code",
   "execution_count": 4,
   "metadata": {
    "id": "Y1G7H56B0eT9"
   },
   "outputs": [],
   "source": [
    "## import that language model\n",
    "import en_core_web_trf"
   ]
  },
  {
   "cell_type": "markdown",
   "metadata": {
    "id": "uVP20HngRcT8"
   },
   "source": [
    "### Place English libary into a ```nlp``` pipeline"
   ]
  },
  {
   "cell_type": "code",
   "execution_count": 5,
   "metadata": {
    "id": "pqDMPPHxRcT8"
   },
   "outputs": [],
   "source": [
    "## build nlp pipeline (a function will tokenize, parse and ner for us)\n",
    "nlp = en_core_web_trf.load()"
   ]
  },
  {
   "cell_type": "code",
   "execution_count": 6,
   "metadata": {
    "colab": {
     "base_uri": "https://localhost:8080/"
    },
    "id": "R0G92vbFFFlU",
    "outputId": "8f561db0-948c-4942-ccca-84b6b85a38fd"
   },
   "outputs": [
    {
     "data": {
      "text/plain": [
       "spacy.lang.en.English"
      ]
     },
     "execution_count": 6,
     "metadata": {},
     "output_type": "execute_result"
    }
   ],
   "source": [
    "## what type of object is nlp\n",
    "type(nlp)"
   ]
  },
  {
   "cell_type": "markdown",
   "metadata": {
    "id": "-POKYJ3W0eT_"
   },
   "source": [
    "## Step 3. Text analysis"
   ]
  },
  {
   "cell_type": "code",
   "execution_count": 29,
   "metadata": {
    "id": "yy8E66pRRcT5"
   },
   "outputs": [],
   "source": [
    "### Sample English text:\n",
    "text = u'''\\\n",
    "On May 10, 2011, Microsoft announced its acquisition of Skype Technologies, \\\n",
    "creator of the VoIP service Skype, for $8.5 billion. \\\n",
    "Microsoft is headquartered near Seattle Washington while Skype remains in Palo Alto, California. \\\n",
    "Sandeep Junnarkar got this from Wikipedia. \\\n",
    "But he'd rather head to New York city to see Vincent van Gogh's The Starry Night at the Museum of Modern Art. \\\n",
    "Mount Washington, which is really Agiocochook, is the highest peak in the Northeastern United States \\\n",
    "at 6,288.2 ft and the most topographically prominent mountain east \\\n",
    "of the Mississippi River. It's not in the state of Mississippi. \\\n",
    "Ninety-year-old William Shatner, who gained fame portraying Captain James T. Kirk on \\\n",
    "the original \"Star Trek,\" just hitched a ride aboard a suborbital spacecraft \\\n",
    "that grazed the edge of outer space before parachuting to a landing, \\\n",
    "making Shatner the oldest person ever to travel to space. \\\n",
    "This may ground other astronaughts from future flights.\n",
    "'''"
   ]
  },
  {
   "cell_type": "code",
   "execution_count": 8,
   "metadata": {
    "colab": {
     "base_uri": "https://localhost:8080/",
     "height": 119
    },
    "id": "hNBJhDsM0eUA",
    "outputId": "2e171e72-6d3e-4c2e-ca35-39211df4b0d2"
   },
   "outputs": [
    {
     "name": "stdout",
     "output_type": "stream",
     "text": [
      "On May 10, 2011, Microsoft announced its acquisition of Skype Technologies, creator of the VoIP service Skype, for $8.5 billion. Microsoft is headquartered near Seattle Washington while Skype remains in Palo Alto, California. Sandeep Junnarkar got this from Wikipedia. But he'd rather head to New York city to see Vincent van Gogh's The Starry Night at the Museum of Modern Art. Mount Washington, which is really Agiocochook, is the highest peak in the Northeastern United States at 6,288.2 ft and the most topographically prominent mountain east of the Mississippi River. It's not in the state of Mississippi. Ninety-year-old William Shatner, who gained fame portraying Captain James T. Kirk on the original \"Star Trek,\" just hitched a ride aboard a suborbital spacecraft that grazed the edge of outer space before parachuting to a landing, making Shatner the oldest person ever to travel to space.\n",
      "\n"
     ]
    }
   ],
   "source": [
    "## print the text\n",
    "print(text)"
   ]
  },
  {
   "cell_type": "markdown",
   "metadata": {
    "id": "nZQdKpPKRcT_"
   },
   "source": [
    "### Tokenize our text\n",
    "\n",
    "- Tokenizing is always the first step in text analysis. \n",
    "- It breaks all text into isolated but related units (including spaces, symbols, punctuation, numbers, words etc.)\n",
    "- However, it retains the connection between all the words, sentences, and paragraphs."
   ]
  },
  {
   "cell_type": "code",
   "execution_count": 30,
   "metadata": {
    "colab": {
     "base_uri": "https://localhost:8080/"
    },
    "id": "SHeDiZnRRcUA",
    "outputId": "d1d05010-334c-430c-8f8c-937edadb0af8"
   },
   "outputs": [
    {
     "data": {
      "text/plain": [
       "On May 10, 2011, Microsoft announced its acquisition of Skype Technologies, creator of the VoIP service Skype, for $8.5 billion. Microsoft is headquartered near Seattle Washington while Skype remains in Palo Alto, California. Sandeep Junnarkar got this from Wikipedia. But he'd rather head to New York city to see Vincent van Gogh's The Starry Night at the Museum of Modern Art. Mount Washington, which is really Agiocochook, is the highest peak in the Northeastern United States at 6,288.2 ft and the most topographically prominent mountain east of the Mississippi River. It's not in the state of Mississippi. Ninety-year-old William Shatner, who gained fame portraying Captain James T. Kirk on the original \"Star Trek,\" just hitched a ride aboard a suborbital spacecraft that grazed the edge of outer space before parachuting to a landing, making Shatner the oldest person ever to travel to space. This may ground other astronaughts from future flights."
      ]
     },
     "execution_count": 30,
     "metadata": {},
     "output_type": "execute_result"
    }
   ],
   "source": [
    "## let's run the nlp function and create a spacy doc\n",
    "doc = nlp(text)\n",
    "doc"
   ]
  },
  {
   "cell_type": "code",
   "execution_count": 10,
   "metadata": {
    "colab": {
     "base_uri": "https://localhost:8080/"
    },
    "id": "y1aV38l6RcUC",
    "outputId": "860a0b0e-dd34-43a6-d6be-14284ad949b1"
   },
   "outputs": [
    {
     "data": {
      "text/plain": [
       "spacy.tokens.doc.Doc"
      ]
     },
     "execution_count": 10,
     "metadata": {},
     "output_type": "execute_result"
    }
   ],
   "source": [
    "## what type of data is it?\n",
    "type(doc)"
   ]
  },
  {
   "cell_type": "code",
   "execution_count": 11,
   "metadata": {
    "colab": {
     "base_uri": "https://localhost:8080/"
    },
    "id": "9zJ_bNTzRcUF",
    "outputId": "9cf4a487-cafc-4968-e0d6-68f0dcabae4b"
   },
   "outputs": [
    {
     "name": "stdout",
     "output_type": "stream",
     "text": [
      "On\n",
      "********\n",
      "May\n",
      "********\n",
      "10\n",
      "********\n",
      ",\n",
      "********\n",
      "2011\n",
      "********\n",
      ",\n",
      "********\n",
      "Microsoft\n",
      "********\n",
      "announced\n",
      "********\n",
      "its\n",
      "********\n",
      "acquisition\n",
      "********\n",
      "of\n",
      "********\n",
      " \n",
      "********\n",
      "Skype\n",
      "********\n",
      "Technologies\n",
      "********\n",
      ",\n",
      "********\n",
      "creator\n",
      "********\n",
      "of\n",
      "********\n",
      "the\n",
      "********\n",
      " \n",
      "********\n",
      "VoIP\n",
      "********\n",
      " \n",
      "********\n",
      "service\n",
      "********\n",
      " \n",
      "********\n",
      "Skype\n",
      "********\n",
      ",\n",
      "********\n",
      "for\n",
      "********\n",
      "$\n",
      "********\n",
      "8.5\n",
      "********\n",
      "billion\n",
      "********\n",
      ".\n",
      "********\n",
      "Microsoft\n",
      "********\n",
      "is\n",
      "********\n",
      "headquartered\n",
      "********\n",
      "near\n",
      "********\n",
      "Seattle\n",
      "********\n",
      "Washington\n",
      "********\n",
      "while\n",
      "********\n",
      "Skype\n",
      "********\n",
      "remains\n",
      "********\n",
      "in\n",
      "********\n",
      "Palo\n",
      "********\n",
      "Alto\n",
      "********\n",
      ",\n",
      "********\n",
      "California\n",
      "********\n",
      ".\n",
      "********\n",
      "Sandeep\n",
      "********\n",
      "Junnarkar\n",
      "********\n",
      "got\n",
      "********\n",
      "this\n",
      "********\n",
      "from\n",
      "********\n",
      "Wikipedia\n",
      "********\n",
      ".\n",
      "********\n",
      "But\n",
      "********\n",
      "he\n",
      "********\n",
      "'d\n",
      "********\n",
      "rather\n",
      "********\n",
      "head\n",
      "********\n",
      "to\n",
      "********\n",
      "New\n",
      "********\n",
      "York\n",
      "********\n",
      "city\n",
      "********\n",
      "to\n",
      "********\n",
      "see\n",
      "********\n",
      "Vincent\n",
      "********\n",
      "van\n",
      "********\n",
      "Gogh\n",
      "********\n",
      "'s\n",
      "********\n",
      "The\n",
      "********\n",
      "Starry\n",
      "********\n",
      "Night\n",
      "********\n",
      "at\n",
      "********\n",
      "the\n",
      "********\n",
      "Museum\n",
      "********\n",
      "of\n",
      "********\n",
      "Modern\n",
      "********\n",
      "Art\n",
      "********\n",
      ".\n",
      "********\n",
      "Mount\n",
      "********\n",
      "Washington\n",
      "********\n",
      ",\n",
      "********\n",
      "which\n",
      "********\n",
      "is\n",
      "********\n",
      "really\n",
      "********\n",
      "Agiocochook\n",
      "********\n",
      ",\n",
      "********\n",
      "is\n",
      "********\n",
      "the\n",
      "********\n",
      "highest\n",
      "********\n",
      "peak\n",
      "********\n",
      "in\n",
      "********\n",
      "the\n",
      "********\n",
      "Northeastern\n",
      "********\n",
      "United\n",
      "********\n",
      "States\n",
      "********\n",
      "at\n",
      "********\n",
      "6,288.2\n",
      "********\n",
      "ft\n",
      "********\n",
      "and\n",
      "********\n",
      "the\n",
      "********\n",
      "most\n",
      "********\n",
      "topographically\n",
      "********\n",
      "prominent\n",
      "********\n",
      "mountain\n",
      "********\n",
      "east\n",
      "********\n",
      "of\n",
      "********\n",
      "the\n",
      "********\n",
      "Mississippi\n",
      "********\n",
      "River\n",
      "********\n",
      ".\n",
      "********\n",
      "It\n",
      "********\n",
      "'s\n",
      "********\n",
      "not\n",
      "********\n",
      "in\n",
      "********\n",
      "the\n",
      "********\n",
      "state\n",
      "********\n",
      "of\n",
      "********\n",
      "Mississippi\n",
      "********\n",
      ".\n",
      "********\n",
      "Ninety\n",
      "********\n",
      "-\n",
      "********\n",
      "year\n",
      "********\n",
      "-\n",
      "********\n",
      "old\n",
      "********\n",
      "William\n",
      "********\n",
      "Shatner\n",
      "********\n",
      ",\n",
      "********\n",
      "who\n",
      "********\n",
      "gained\n",
      "********\n",
      "fame\n",
      "********\n",
      "portraying\n",
      "********\n",
      "Captain\n",
      "********\n",
      "James\n",
      "********\n",
      "T.\n",
      "********\n",
      "Kirk\n",
      "********\n",
      "on\n",
      "********\n",
      "the\n",
      "********\n",
      "original\n",
      "********\n",
      "\"\n",
      "********\n",
      "Star\n",
      "********\n",
      "Trek\n",
      "********\n",
      ",\n",
      "********\n",
      "\"\n",
      "********\n",
      "just\n",
      "********\n",
      "hitched\n",
      "********\n",
      "a\n",
      "********\n",
      "ride\n",
      "********\n",
      "aboard\n",
      "********\n",
      "a\n",
      "********\n",
      "suborbital\n",
      "********\n",
      "spacecraft\n",
      "********\n",
      "that\n",
      "********\n",
      "grazed\n",
      "********\n",
      "the\n",
      "********\n",
      "edge\n",
      "********\n",
      "of\n",
      "********\n",
      "outer\n",
      "********\n",
      "space\n",
      "********\n",
      "before\n",
      "********\n",
      "parachuting\n",
      "********\n",
      "to\n",
      "********\n",
      "a\n",
      "********\n",
      "landing\n",
      "********\n",
      ",\n",
      "********\n",
      "making\n",
      "********\n",
      "Shatner\n",
      "********\n",
      "the\n",
      "********\n",
      "oldest\n",
      "********\n",
      "person\n",
      "********\n",
      "ever\n",
      "********\n",
      "to\n",
      "********\n",
      "travel\n",
      "********\n",
      "to\n",
      "********\n",
      "space\n",
      "********\n",
      ".\n",
      "********\n",
      "\n",
      "\n",
      "********\n"
     ]
    }
   ],
   "source": [
    "## show each token\n",
    "for item in doc:\n",
    "    print(item)\n",
    "    print(\"********\")"
   ]
  },
  {
   "cell_type": "markdown",
   "metadata": {
    "id": "uMUERucM0eUB"
   },
   "source": [
    "### Stop Words\n",
    "\n",
    "- These are common words that add no additional meaning to our analysis.\n",
    "- Words like ```the```, ```and``` and ```any```.\n",
    "- Spacy has just over 326 ```stop words``` in its default library.\n",
    "- Read more on <a href=\"https://medium.com/@saitejaponugoti/stop-words-in-nlp-5b248dadad47\">stop words</a>"
   ]
  },
  {
   "cell_type": "code",
   "execution_count": 12,
   "metadata": {
    "id": "yMSO9wv80eUB"
   },
   "outputs": [
    {
     "data": {
      "text/plain": [
       "{\"'d\",\n",
       " \"'ll\",\n",
       " \"'m\",\n",
       " \"'re\",\n",
       " \"'s\",\n",
       " \"'ve\",\n",
       " 'a',\n",
       " 'about',\n",
       " 'above',\n",
       " 'across',\n",
       " 'after',\n",
       " 'afterwards',\n",
       " 'again',\n",
       " 'against',\n",
       " 'all',\n",
       " 'almost',\n",
       " 'alone',\n",
       " 'along',\n",
       " 'already',\n",
       " 'also',\n",
       " 'although',\n",
       " 'always',\n",
       " 'am',\n",
       " 'among',\n",
       " 'amongst',\n",
       " 'amount',\n",
       " 'an',\n",
       " 'and',\n",
       " 'another',\n",
       " 'any',\n",
       " 'anyhow',\n",
       " 'anyone',\n",
       " 'anything',\n",
       " 'anyway',\n",
       " 'anywhere',\n",
       " 'are',\n",
       " 'around',\n",
       " 'as',\n",
       " 'at',\n",
       " 'back',\n",
       " 'be',\n",
       " 'became',\n",
       " 'because',\n",
       " 'become',\n",
       " 'becomes',\n",
       " 'becoming',\n",
       " 'been',\n",
       " 'before',\n",
       " 'beforehand',\n",
       " 'behind',\n",
       " 'being',\n",
       " 'below',\n",
       " 'beside',\n",
       " 'besides',\n",
       " 'between',\n",
       " 'beyond',\n",
       " 'both',\n",
       " 'bottom',\n",
       " 'but',\n",
       " 'by',\n",
       " 'ca',\n",
       " 'call',\n",
       " 'can',\n",
       " 'cannot',\n",
       " 'could',\n",
       " 'did',\n",
       " 'do',\n",
       " 'does',\n",
       " 'doing',\n",
       " 'done',\n",
       " 'down',\n",
       " 'due',\n",
       " 'during',\n",
       " 'each',\n",
       " 'eight',\n",
       " 'either',\n",
       " 'eleven',\n",
       " 'else',\n",
       " 'elsewhere',\n",
       " 'empty',\n",
       " 'enough',\n",
       " 'even',\n",
       " 'ever',\n",
       " 'every',\n",
       " 'everyone',\n",
       " 'everything',\n",
       " 'everywhere',\n",
       " 'except',\n",
       " 'few',\n",
       " 'fifteen',\n",
       " 'fifty',\n",
       " 'first',\n",
       " 'five',\n",
       " 'for',\n",
       " 'former',\n",
       " 'formerly',\n",
       " 'forty',\n",
       " 'four',\n",
       " 'from',\n",
       " 'front',\n",
       " 'full',\n",
       " 'further',\n",
       " 'get',\n",
       " 'give',\n",
       " 'go',\n",
       " 'had',\n",
       " 'has',\n",
       " 'have',\n",
       " 'he',\n",
       " 'hence',\n",
       " 'her',\n",
       " 'here',\n",
       " 'hereafter',\n",
       " 'hereby',\n",
       " 'herein',\n",
       " 'hereupon',\n",
       " 'hers',\n",
       " 'herself',\n",
       " 'him',\n",
       " 'himself',\n",
       " 'his',\n",
       " 'how',\n",
       " 'however',\n",
       " 'hundred',\n",
       " 'i',\n",
       " 'if',\n",
       " 'in',\n",
       " 'indeed',\n",
       " 'into',\n",
       " 'is',\n",
       " 'it',\n",
       " 'its',\n",
       " 'itself',\n",
       " 'just',\n",
       " 'keep',\n",
       " 'last',\n",
       " 'latter',\n",
       " 'latterly',\n",
       " 'least',\n",
       " 'less',\n",
       " 'made',\n",
       " 'make',\n",
       " 'many',\n",
       " 'may',\n",
       " 'me',\n",
       " 'meanwhile',\n",
       " 'might',\n",
       " 'mine',\n",
       " 'more',\n",
       " 'moreover',\n",
       " 'most',\n",
       " 'mostly',\n",
       " 'move',\n",
       " 'much',\n",
       " 'must',\n",
       " 'my',\n",
       " 'myself',\n",
       " \"n't\",\n",
       " 'name',\n",
       " 'namely',\n",
       " 'neither',\n",
       " 'never',\n",
       " 'nevertheless',\n",
       " 'next',\n",
       " 'nine',\n",
       " 'no',\n",
       " 'nobody',\n",
       " 'none',\n",
       " 'noone',\n",
       " 'nor',\n",
       " 'not',\n",
       " 'nothing',\n",
       " 'now',\n",
       " 'nowhere',\n",
       " 'n‘t',\n",
       " 'n’t',\n",
       " 'of',\n",
       " 'off',\n",
       " 'often',\n",
       " 'on',\n",
       " 'once',\n",
       " 'one',\n",
       " 'only',\n",
       " 'onto',\n",
       " 'or',\n",
       " 'other',\n",
       " 'others',\n",
       " 'otherwise',\n",
       " 'our',\n",
       " 'ours',\n",
       " 'ourselves',\n",
       " 'out',\n",
       " 'over',\n",
       " 'own',\n",
       " 'part',\n",
       " 'per',\n",
       " 'perhaps',\n",
       " 'please',\n",
       " 'put',\n",
       " 'quite',\n",
       " 'rather',\n",
       " 're',\n",
       " 'really',\n",
       " 'regarding',\n",
       " 'same',\n",
       " 'say',\n",
       " 'see',\n",
       " 'seem',\n",
       " 'seemed',\n",
       " 'seeming',\n",
       " 'seems',\n",
       " 'serious',\n",
       " 'several',\n",
       " 'she',\n",
       " 'should',\n",
       " 'show',\n",
       " 'side',\n",
       " 'since',\n",
       " 'six',\n",
       " 'sixty',\n",
       " 'so',\n",
       " 'some',\n",
       " 'somehow',\n",
       " 'someone',\n",
       " 'something',\n",
       " 'sometime',\n",
       " 'sometimes',\n",
       " 'somewhere',\n",
       " 'still',\n",
       " 'such',\n",
       " 'take',\n",
       " 'ten',\n",
       " 'than',\n",
       " 'that',\n",
       " 'the',\n",
       " 'their',\n",
       " 'them',\n",
       " 'themselves',\n",
       " 'then',\n",
       " 'thence',\n",
       " 'there',\n",
       " 'thereafter',\n",
       " 'thereby',\n",
       " 'therefore',\n",
       " 'therein',\n",
       " 'thereupon',\n",
       " 'these',\n",
       " 'they',\n",
       " 'third',\n",
       " 'this',\n",
       " 'those',\n",
       " 'though',\n",
       " 'three',\n",
       " 'through',\n",
       " 'throughout',\n",
       " 'thru',\n",
       " 'thus',\n",
       " 'to',\n",
       " 'together',\n",
       " 'too',\n",
       " 'top',\n",
       " 'toward',\n",
       " 'towards',\n",
       " 'twelve',\n",
       " 'twenty',\n",
       " 'two',\n",
       " 'under',\n",
       " 'unless',\n",
       " 'until',\n",
       " 'up',\n",
       " 'upon',\n",
       " 'us',\n",
       " 'used',\n",
       " 'using',\n",
       " 'various',\n",
       " 'very',\n",
       " 'via',\n",
       " 'was',\n",
       " 'we',\n",
       " 'well',\n",
       " 'were',\n",
       " 'what',\n",
       " 'whatever',\n",
       " 'when',\n",
       " 'whence',\n",
       " 'whenever',\n",
       " 'where',\n",
       " 'whereafter',\n",
       " 'whereas',\n",
       " 'whereby',\n",
       " 'wherein',\n",
       " 'whereupon',\n",
       " 'wherever',\n",
       " 'whether',\n",
       " 'which',\n",
       " 'while',\n",
       " 'whither',\n",
       " 'who',\n",
       " 'whoever',\n",
       " 'whole',\n",
       " 'whom',\n",
       " 'whose',\n",
       " 'why',\n",
       " 'will',\n",
       " 'with',\n",
       " 'within',\n",
       " 'without',\n",
       " 'would',\n",
       " 'yet',\n",
       " 'you',\n",
       " 'your',\n",
       " 'yours',\n",
       " 'yourself',\n",
       " 'yourselves',\n",
       " '‘d',\n",
       " '‘ll',\n",
       " '‘m',\n",
       " '‘re',\n",
       " '‘s',\n",
       " '‘ve',\n",
       " '’d',\n",
       " '’ll',\n",
       " '’m',\n",
       " '’re',\n",
       " '’s',\n",
       " '’ve'}"
      ]
     },
     "execution_count": 12,
     "metadata": {},
     "output_type": "execute_result"
    }
   ],
   "source": [
    "## show all default stop words\n",
    "nlp.Defaults.stop_words"
   ]
  },
  {
   "cell_type": "code",
   "execution_count": 18,
   "metadata": {
    "colab": {
     "base_uri": "https://localhost:8080/"
    },
    "id": "FAiwWY8v0eUB",
    "outputId": "fb46375d-2e72-4651-a458-9fa30b11efa2"
   },
   "outputs": [
    {
     "data": {
      "text/plain": [
       "True"
      ]
     },
     "execution_count": 18,
     "metadata": {},
     "output_type": "execute_result"
    }
   ],
   "source": [
    "## check if a word (have, near, be) is a stop word \n",
    "nlp.vocab[\"is\"].is_stop\n"
   ]
  },
  {
   "cell_type": "code",
   "execution_count": 19,
   "metadata": {
    "id": "L10l-lko0eUC"
   },
   "outputs": [
    {
     "data": {
      "text/plain": [
       "326"
      ]
     },
     "execution_count": 19,
     "metadata": {},
     "output_type": "execute_result"
    }
   ],
   "source": [
    "## how many stop words do we have?\n",
    "len(nlp.Defaults.stop_words)"
   ]
  },
  {
   "cell_type": "code",
   "execution_count": 21,
   "metadata": {
    "id": "Ge7mNkyg0eUC"
   },
   "outputs": [],
   "source": [
    "## Add your own stop word\n",
    " ### adds stop word to default\n",
    " #### adds stop word to current memory\n",
    "nlp.Defaults.stop_words.add(\"lol\")\n",
    "nlp.vocab[\"lol\"].is_stop = True"
   ]
  },
  {
   "cell_type": "code",
   "execution_count": 23,
   "metadata": {
    "colab": {
     "base_uri": "https://localhost:8080/"
    },
    "id": "yjQmjehR0eUC",
    "outputId": "cbf8f2c3-9375-4e9e-d6b7-57278f349afc"
   },
   "outputs": [
    {
     "data": {
      "text/plain": [
       "True"
      ]
     },
     "execution_count": 23,
     "metadata": {},
     "output_type": "execute_result"
    }
   ],
   "source": [
    "## CHECK IF 'lol' is a stop word\n",
    "nlp.vocab[\"lol\"].is_stop"
   ]
  },
  {
   "cell_type": "code",
   "execution_count": 25,
   "metadata": {},
   "outputs": [
    {
     "data": {
      "text/plain": [
       "327"
      ]
     },
     "execution_count": 25,
     "metadata": {},
     "output_type": "execute_result"
    }
   ],
   "source": [
    "len(nlp.Defaults.stop_words)"
   ]
  },
  {
   "cell_type": "code",
   "execution_count": 31,
   "metadata": {
    "colab": {
     "base_uri": "https://localhost:8080/"
    },
    "id": "tnShOMmu0eUC",
    "outputId": "2bb1b94c-840d-406f-b70d-70ac03fbce8b"
   },
   "outputs": [
    {
     "name": "stdout",
     "output_type": "stream",
     "text": [
      "On: 85 - ADP\n",
      "May: 96 - PROPN\n",
      "10: 93 - NUM\n",
      ",: 97 - PUNCT\n",
      "2011: 93 - NUM\n",
      ",: 97 - PUNCT\n",
      "Microsoft: 96 - PROPN\n",
      "announced: 100 - VERB\n",
      "its: 95 - PRON\n",
      "acquisition: 92 - NOUN\n",
      "of: 85 - ADP\n",
      " : 103 - SPACE\n",
      "Skype: 96 - PROPN\n",
      "Technologies: 96 - PROPN\n",
      ",: 97 - PUNCT\n",
      "creator: 92 - NOUN\n",
      "of: 85 - ADP\n",
      "the: 90 - DET\n",
      " : 103 - SPACE\n",
      "VoIP: 92 - NOUN\n",
      " : 103 - SPACE\n",
      "service: 92 - NOUN\n",
      " : 103 - SPACE\n",
      "Skype: 96 - PROPN\n",
      ",: 97 - PUNCT\n",
      "for: 85 - ADP\n",
      "$: 99 - SYM\n",
      "8.5: 93 - NUM\n",
      "billion: 93 - NUM\n",
      ".: 97 - PUNCT\n",
      "Microsoft: 96 - PROPN\n",
      "is: 87 - AUX\n",
      "headquartered: 100 - VERB\n",
      "near: 85 - ADP\n",
      "Seattle: 96 - PROPN\n",
      "Washington: 96 - PROPN\n",
      "while: 98 - SCONJ\n",
      "Skype: 96 - PROPN\n",
      "remains: 100 - VERB\n",
      "in: 85 - ADP\n",
      "Palo: 96 - PROPN\n",
      "Alto: 96 - PROPN\n",
      ",: 97 - PUNCT\n",
      "California: 96 - PROPN\n",
      ".: 97 - PUNCT\n",
      "Sandeep: 96 - PROPN\n",
      "Junnarkar: 96 - PROPN\n",
      "got: 100 - VERB\n",
      "this: 95 - PRON\n",
      "from: 85 - ADP\n",
      "Wikipedia: 96 - PROPN\n",
      ".: 97 - PUNCT\n",
      "But: 89 - CCONJ\n",
      "he: 95 - PRON\n",
      "'d: 87 - AUX\n",
      "rather: 86 - ADV\n",
      "head: 100 - VERB\n",
      "to: 85 - ADP\n",
      "New: 96 - PROPN\n",
      "York: 96 - PROPN\n",
      "city: 92 - NOUN\n",
      "to: 94 - PART\n",
      "see: 100 - VERB\n",
      "Vincent: 96 - PROPN\n",
      "van: 96 - PROPN\n",
      "Gogh: 96 - PROPN\n",
      "'s: 94 - PART\n",
      "The: 90 - DET\n",
      "Starry: 84 - ADJ\n",
      "Night: 96 - PROPN\n",
      "at: 85 - ADP\n",
      "the: 90 - DET\n",
      "Museum: 96 - PROPN\n",
      "of: 85 - ADP\n",
      "Modern: 96 - PROPN\n",
      "Art: 96 - PROPN\n",
      ".: 97 - PUNCT\n",
      "Mount: 96 - PROPN\n",
      "Washington: 96 - PROPN\n",
      ",: 97 - PUNCT\n",
      "which: 95 - PRON\n",
      "is: 87 - AUX\n",
      "really: 86 - ADV\n",
      "Agiocochook: 96 - PROPN\n",
      ",: 97 - PUNCT\n",
      "is: 87 - AUX\n",
      "the: 90 - DET\n",
      "highest: 84 - ADJ\n",
      "peak: 92 - NOUN\n",
      "in: 85 - ADP\n",
      "the: 90 - DET\n",
      "Northeastern: 84 - ADJ\n",
      "United: 96 - PROPN\n",
      "States: 96 - PROPN\n",
      "at: 85 - ADP\n",
      "6,288.2: 93 - NUM\n",
      "ft: 92 - NOUN\n",
      "and: 89 - CCONJ\n",
      "the: 90 - DET\n",
      "most: 86 - ADV\n",
      "topographically: 86 - ADV\n",
      "prominent: 84 - ADJ\n",
      "mountain: 92 - NOUN\n",
      "east: 86 - ADV\n",
      "of: 85 - ADP\n",
      "the: 90 - DET\n",
      "Mississippi: 96 - PROPN\n",
      "River: 96 - PROPN\n",
      ".: 97 - PUNCT\n",
      "It: 95 - PRON\n",
      "'s: 87 - AUX\n",
      "not: 94 - PART\n",
      "in: 85 - ADP\n",
      "the: 90 - DET\n",
      "state: 92 - NOUN\n",
      "of: 85 - ADP\n",
      "Mississippi: 96 - PROPN\n",
      ".: 97 - PUNCT\n",
      "Ninety: 93 - NUM\n",
      "-: 97 - PUNCT\n",
      "year: 92 - NOUN\n",
      "-: 97 - PUNCT\n",
      "old: 84 - ADJ\n",
      "William: 96 - PROPN\n",
      "Shatner: 96 - PROPN\n",
      ",: 97 - PUNCT\n",
      "who: 95 - PRON\n",
      "gained: 100 - VERB\n",
      "fame: 92 - NOUN\n",
      "portraying: 100 - VERB\n",
      "Captain: 96 - PROPN\n",
      "James: 96 - PROPN\n",
      "T.: 96 - PROPN\n",
      "Kirk: 96 - PROPN\n",
      "on: 85 - ADP\n",
      "the: 90 - DET\n",
      "original: 84 - ADJ\n",
      "\": 97 - PUNCT\n",
      "Star: 96 - PROPN\n",
      "Trek: 96 - PROPN\n",
      ",: 97 - PUNCT\n",
      "\": 97 - PUNCT\n",
      "just: 86 - ADV\n",
      "hitched: 100 - VERB\n",
      "a: 90 - DET\n",
      "ride: 92 - NOUN\n",
      "aboard: 85 - ADP\n",
      "a: 90 - DET\n",
      "suborbital: 84 - ADJ\n",
      "spacecraft: 92 - NOUN\n",
      "that: 95 - PRON\n",
      "grazed: 100 - VERB\n",
      "the: 90 - DET\n",
      "edge: 92 - NOUN\n",
      "of: 85 - ADP\n",
      "outer: 84 - ADJ\n",
      "space: 92 - NOUN\n",
      "before: 85 - ADP\n",
      "parachuting: 100 - VERB\n",
      "to: 85 - ADP\n",
      "a: 90 - DET\n",
      "landing: 92 - NOUN\n",
      ",: 97 - PUNCT\n",
      "making: 100 - VERB\n",
      "Shatner: 96 - PROPN\n",
      "the: 90 - DET\n",
      "oldest: 84 - ADJ\n",
      "person: 92 - NOUN\n",
      "ever: 86 - ADV\n",
      "to: 94 - PART\n",
      "travel: 100 - VERB\n",
      "to: 85 - ADP\n",
      "space: 92 - NOUN\n",
      ".: 97 - PUNCT\n",
      "This: 95 - PRON\n",
      "may: 87 - AUX\n",
      "ground: 100 - VERB\n",
      "other: 84 - ADJ\n",
      "astronaughts: 92 - NOUN\n",
      "from: 85 - ADP\n",
      "future: 84 - ADJ\n",
      "flights: 92 - NOUN\n",
      ".: 97 - PUNCT\n",
      "\n",
      ": 103 - SPACE\n"
     ]
    }
   ],
   "source": [
    "## how many do stop words do we have now?\n",
    "for token in doc:\n",
    "    print(f\"{token.text}: {token.pos} - {token.pos_}\")"
   ]
  },
  {
   "cell_type": "code",
   "execution_count": null,
   "metadata": {
    "id": "JUH7KVzk0eUC"
   },
   "outputs": [],
   "source": [
    "## Remove a stop word from list because it is relevant.\n",
    "## notice the word \"empty\" is a stop word.\n",
    "\n",
    "## remove from default\n",
    " ## remove from current memory"
   ]
  },
  {
   "cell_type": "code",
   "execution_count": null,
   "metadata": {
    "colab": {
     "base_uri": "https://localhost:8080/"
    },
    "id": "rMFTgVOE0eUC",
    "outputId": "88ad48e4-efe3-4459-dcbe-2c5f1036f396"
   },
   "outputs": [],
   "source": [
    "## CHECK IF 'empty' is a stop word\n"
   ]
  },
  {
   "cell_type": "markdown",
   "metadata": {
    "id": "aquQS_ei0eUD"
   },
   "source": [
    "### Parts of speech\n",
    "\n"
   ]
  },
  {
   "cell_type": "code",
   "execution_count": null,
   "metadata": {
    "id": "VpKDyPcf0eUD"
   },
   "outputs": [],
   "source": [
    "## print all parts of speech words\n"
   ]
  },
  {
   "cell_type": "markdown",
   "metadata": {
    "id": "etUe4DXn0eUD"
   },
   "source": [
    "### Step 4. Named Entity Recognition (NER)\n",
    "\n",
    "#### Spacy easily returns the words that matter to us like names of companies, people, places, art works, numbers, etc.\n",
    "\n",
    "- ```.ents``` ------------> Finds all entities in doc spacy object.\n",
    "\n",
    "- ```ent.text``` ------------> The actual text.\n",
    "\n",
    "- ```ent.label``` ------------> A numeric code for the entity.\n",
    "\n",
    "- ```ent.label_``` ------------> The word's entity category.\n",
    "\n",
    "- ```spacy.explain(ent.label_)``` ---------> A description of the category.\n",
    "\n",
    "\n"
   ]
  },
  {
   "cell_type": "code",
   "execution_count": 32,
   "metadata": {
    "colab": {
     "base_uri": "https://localhost:8080/",
     "height": 119
    },
    "id": "XRYeP_YgZGl-",
    "outputId": "bed9137f-174f-4dce-9861-f1a2a17d64a9"
   },
   "outputs": [
    {
     "name": "stdout",
     "output_type": "stream",
     "text": [
      "On May 10, 2011, Microsoft announced its acquisition of Skype Technologies, creator of the VoIP service Skype, for $8.5 billion. Microsoft is headquartered near Seattle Washington while Skype remains in Palo Alto, California. Sandeep Junnarkar got this from Wikipedia. But he'd rather head to New York city to see Vincent van Gogh's The Starry Night at the Museum of Modern Art. Mount Washington, which is really Agiocochook, is the highest peak in the Northeastern United States at 6,288.2 ft and the most topographically prominent mountain east of the Mississippi River. It's not in the state of Mississippi. Ninety-year-old William Shatner, who gained fame portraying Captain James T. Kirk on the original \"Star Trek,\" just hitched a ride aboard a suborbital spacecraft that grazed the edge of outer space before parachuting to a landing, making Shatner the oldest person ever to travel to space. This may ground other astronaughts from future flights.\n",
      "\n"
     ]
    }
   ],
   "source": [
    "## print text\n",
    "print(text)"
   ]
  },
  {
   "cell_type": "code",
   "execution_count": null,
   "metadata": {
    "id": "N6SeufBLZQZS"
   },
   "outputs": [],
   "source": [
    "## loop through doc\n"
   ]
  },
  {
   "cell_type": "code",
   "execution_count": 36,
   "metadata": {
    "id": "TjwIeyY_0eUD"
   },
   "outputs": [
    {
     "name": "stdout",
     "output_type": "stream",
     "text": [
      "May 10, 2011---> DATE ----> Absolute or relative dates or periods\n",
      "Microsoft---> ORG ----> Companies, agencies, institutions, etc.\n",
      "Skype Technologies---> ORG ----> Companies, agencies, institutions, etc.\n",
      "$8.5 billion---> MONEY ----> Monetary values, including unit\n",
      "Microsoft---> ORG ----> Companies, agencies, institutions, etc.\n",
      "Seattle---> GPE ----> Countries, cities, states\n",
      "Washington---> GPE ----> Countries, cities, states\n",
      "Skype---> ORG ----> Companies, agencies, institutions, etc.\n",
      "Palo Alto---> GPE ----> Countries, cities, states\n",
      "California---> GPE ----> Countries, cities, states\n",
      "Sandeep Junnarkar---> PERSON ----> People, including fictional\n",
      "Wikipedia---> ORG ----> Companies, agencies, institutions, etc.\n",
      "New York---> GPE ----> Countries, cities, states\n",
      "Vincent van Gogh's---> PERSON ----> People, including fictional\n",
      "The Starry Night---> WORK_OF_ART ----> Titles of books, songs, etc.\n",
      "the Museum of Modern Art---> ORG ----> Companies, agencies, institutions, etc.\n",
      "Mount Washington---> LOC ----> Non-GPE locations, mountain ranges, bodies of water\n",
      "Agiocochook---> LOC ----> Non-GPE locations, mountain ranges, bodies of water\n",
      "the Northeastern United States---> LOC ----> Non-GPE locations, mountain ranges, bodies of water\n",
      "6,288.2 ft---> QUANTITY ----> Measurements, as of weight or distance\n",
      "the Mississippi River---> LOC ----> Non-GPE locations, mountain ranges, bodies of water\n",
      "Mississippi---> GPE ----> Countries, cities, states\n",
      "Ninety-year-old---> DATE ----> Absolute or relative dates or periods\n",
      "William Shatner---> PERSON ----> People, including fictional\n",
      "James T. Kirk---> PERSON ----> People, including fictional\n",
      "Star Trek---> WORK_OF_ART ----> Titles of books, songs, etc.\n",
      "Shatner---> PERSON ----> People, including fictional\n"
     ]
    }
   ],
   "source": [
    "## find all entities\n",
    "for word in doc.ents:\n",
    "    print(f\"{word}---> {word.label_} ----> {spacy.explain(word.label_)}\")\n",
    "    "
   ]
  },
  {
   "cell_type": "code",
   "execution_count": null,
   "metadata": {
    "colab": {
     "base_uri": "https://localhost:8080/"
    },
    "id": "KaEp30d00eUD",
    "outputId": "0f99dd8f-9002-46e3-fa33-277407655b59"
   },
   "outputs": [],
   "source": [
    "## find all entities with their label\n"
   ]
  },
  {
   "cell_type": "code",
   "execution_count": null,
   "metadata": {
    "colab": {
     "base_uri": "https://localhost:8080/"
    },
    "id": "0JMCwOjc0eUD",
    "outputId": "dff63e58-771c-42e3-ecdb-108f767fd8dc"
   },
   "outputs": [],
   "source": [
    "## find all entities with their label and label descriptors\n"
   ]
  },
  {
   "cell_type": "markdown",
   "metadata": {
    "id": "DVKIMZVR0eUE"
   },
   "source": [
    "### Create a CSV that holds all the organizations/companies in a document"
   ]
  },
  {
   "cell_type": "code",
   "execution_count": 39,
   "metadata": {
    "colab": {
     "base_uri": "https://localhost:8080/"
    },
    "id": "obGl2WIH0eUE",
    "outputId": "c29db873-ddb3-4a8f-db54-fa8bbdb7a2f6"
   },
   "outputs": [
    {
     "data": {
      "text/plain": [
       "['DATE', 'ORG', 'ORG', 'MONEY', 'ORG', 'GPE', 'GPE', 'ORG', 'GPE', 'GPE']"
      ]
     },
     "execution_count": 39,
     "metadata": {},
     "output_type": "execute_result"
    }
   ],
   "source": [
    "## find all entities and place in a list using list comprehension\n",
    "\n",
    "\n",
    "entities = [word.text for word in doc.ents] ## find all entities\n",
    "entities \n",
    "\n",
    "## find all entity labels\n",
    "ent_labels = [word.label_ for word in doc.ents]\n",
    "ent_labels[0:10]"
   ]
  },
  {
   "cell_type": "code",
   "execution_count": 40,
   "metadata": {},
   "outputs": [
    {
     "data": {
      "text/plain": [
       "['May 10, 2011',\n",
       " 'Microsoft',\n",
       " 'Skype Technologies',\n",
       " '$8.5 billion',\n",
       " 'Microsoft',\n",
       " 'Seattle',\n",
       " 'Washington',\n",
       " 'Skype',\n",
       " 'Palo Alto',\n",
       " 'California']"
      ]
     },
     "execution_count": 40,
     "metadata": {},
     "output_type": "execute_result"
    }
   ],
   "source": [
    "entities[0:10]"
   ]
  },
  {
   "cell_type": "code",
   "execution_count": 41,
   "metadata": {
    "colab": {
     "base_uri": "https://localhost:8080/"
    },
    "id": "6lDD-PzV0eUE",
    "outputId": "73e357b8-fce7-4845-d5e8-fb125cc61048"
   },
   "outputs": [
    {
     "data": {
      "text/plain": [
       "[{'DATE': 'May 10, 2011'},\n",
       " {'ORG': 'Microsoft'},\n",
       " {'ORG': 'Skype Technologies'},\n",
       " {'MONEY': '$8.5 billion'},\n",
       " {'ORG': 'Microsoft'},\n",
       " {'GPE': 'Seattle'},\n",
       " {'GPE': 'Washington'},\n",
       " {'ORG': 'Skype'},\n",
       " {'GPE': 'Palo Alto'},\n",
       " {'GPE': 'California'},\n",
       " {'PERSON': 'Sandeep Junnarkar'},\n",
       " {'ORG': 'Wikipedia'},\n",
       " {'GPE': 'New York'},\n",
       " {'PERSON': \"Vincent van Gogh's\"},\n",
       " {'WORK_OF_ART': 'The Starry Night'},\n",
       " {'ORG': 'the Museum of Modern Art'},\n",
       " {'LOC': 'Mount Washington'},\n",
       " {'LOC': 'Agiocochook'},\n",
       " {'LOC': 'the Northeastern United States'},\n",
       " {'QUANTITY': '6,288.2 ft'},\n",
       " {'LOC': 'the Mississippi River'},\n",
       " {'GPE': 'Mississippi'},\n",
       " {'DATE': 'Ninety-year-old'},\n",
       " {'PERSON': 'William Shatner'},\n",
       " {'PERSON': 'James T. Kirk'},\n",
       " {'WORK_OF_ART': 'Star Trek'},\n",
       " {'PERSON': 'Shatner'}]"
      ]
     },
     "execution_count": 41,
     "metadata": {},
     "output_type": "execute_result"
    }
   ],
   "source": [
    "### Turn the two lists into a dictionary using a for loop\n",
    "my_entities_fl = []\n",
    "for (key, value) in zip(ent_labels, entities):\n",
    "    my_dict = {key: value}\n",
    "    my_entities_fl.append(my_dict)\n",
    "    \n",
    "my_entities_fl"
   ]
  },
  {
   "cell_type": "code",
   "execution_count": 43,
   "metadata": {},
   "outputs": [
    {
     "data": {
      "text/plain": [
       "[{'PERSON': 'Sandeep Junnarkar'},\n",
       " {'PERSON': \"Vincent van Gogh's\"},\n",
       " {'PERSON': 'William Shatner'},\n",
       " {'PERSON': 'James T. Kirk'},\n",
       " {'PERSON': 'Shatner'}]"
      ]
     },
     "execution_count": 43,
     "metadata": {},
     "output_type": "execute_result"
    }
   ],
   "source": [
    "my_entities_fl2 = []\n",
    "for (key, value) in zip(ent_labels, entities):\n",
    "    if key == \"PERSON\":\n",
    "        my_dict = {key: value}\n",
    "        my_entities_fl2.append(my_dict)\n",
    "    \n",
    "my_entities_fl2"
   ]
  },
  {
   "cell_type": "code",
   "execution_count": 44,
   "metadata": {},
   "outputs": [],
   "source": [
    "import pandas as pd"
   ]
  },
  {
   "cell_type": "code",
   "execution_count": 46,
   "metadata": {},
   "outputs": [],
   "source": [
    "df = pd.DataFrame(my_entities_fl2)\n",
    "df.to_csv(\"people_only.csv\", encoding = \"UTF-8\", index= False)"
   ]
  },
  {
   "cell_type": "code",
   "execution_count": 47,
   "metadata": {
    "colab": {
     "base_uri": "https://localhost:8080/"
    },
    "id": "tnXiq7c00eUE",
    "outputId": "4a4becb5-d8d8-4895-e8d4-247c5feaf65c"
   },
   "outputs": [],
   "source": [
    "### Turn the two lists into a dictionary using \n",
    "### dictionary comprehension within list comprehension\n",
    "\n"
   ]
  },
  {
   "cell_type": "code",
   "execution_count": null,
   "metadata": {
    "colab": {
     "base_uri": "https://localhost:8080/"
    },
    "id": "BwblY2sL0eUE",
    "outputId": "43ef5b25-466c-4ea1-cc4f-600472ac5a2c"
   },
   "outputs": [],
   "source": [
    "## the previous lists hold all entities. \n",
    "## let's narrow them down to the orgs/companies\n"
   ]
  },
  {
   "cell_type": "code",
   "execution_count": null,
   "metadata": {
    "colab": {
     "base_uri": "https://localhost:8080/"
    },
    "id": "IzfOECUN0eUE",
    "outputId": "f5e3f015-e69e-44c1-a06e-24bcbf245c30"
   },
   "outputs": [],
   "source": [
    "## What data types are these?\n"
   ]
  },
  {
   "cell_type": "markdown",
   "metadata": {
    "id": "_DQHim4b0eUF"
   },
   "source": [
    "### Let's deduplicate\n",
    "\n",
    "We could wait and use unique in Pandas."
   ]
  },
  {
   "cell_type": "code",
   "execution_count": null,
   "metadata": {
    "colab": {
     "base_uri": "https://localhost:8080/"
    },
    "id": "-kkuor1z0eUF",
    "outputId": "fe3f652a-e039-435c-c97a-d6f0c650a816"
   },
   "outputs": [],
   "source": [
    "## deduplicate a dictionary\n"
   ]
  },
  {
   "cell_type": "code",
   "execution_count": null,
   "metadata": {
    "id": "-5YKD-EL0eUF"
   },
   "outputs": [],
   "source": [
    "## import pandas\n",
    "import pandas as pd"
   ]
  },
  {
   "cell_type": "code",
   "execution_count": null,
   "metadata": {
    "colab": {
     "base_uri": "https://localhost:8080/"
    },
    "id": "rI8kP_PL0eUF",
    "outputId": "06e0fedf-52c1-4560-be76-ec98da0ec218"
   },
   "outputs": [],
   "source": [
    "# ## use pandas to write to csv file\n",
    "filename = \"test_entities.csv\"\n",
    "df = pd.DataFrame(orgs_only) ## we turn our life dict into a dataframe which we're call df\n",
    "df.to_csv(filename, encoding='utf-8', index=False)\n",
    "\n",
    "print(f\"{filename} is in your project folder!\")"
   ]
  },
  {
   "cell_type": "code",
   "execution_count": 49,
   "metadata": {
    "id": "R_aeW2aMRcUK"
   },
   "outputs": [],
   "source": [
    "\n",
    "## function to find entities\n",
    "def show_entities(my_text):\n",
    "  '''\n",
    "  my_text must be a spacy doc tokenized object; \n",
    "  already run through nlp pipeline\n",
    "  '''\n",
    "  each_token = \"Token\"\n",
    "  entity_type = \"Entity\"\n",
    "  entity_def = \"Entity Defined\"\n",
    "  print(f\"{each_token:{30}}{entity_type:{15}}{entity_def}\")\n",
    "  if my_text.ents:\n",
    "      for word in doc.ents:\n",
    "          print(f\"{word.text:{30}} {word.label_:{15}} {str(spacy.explain(word.label_))}\")\n",
    "  else:\n",
    "      print(\"There are no entities in this text\")\n"
   ]
  },
  {
   "cell_type": "code",
   "execution_count": 50,
   "metadata": {
    "colab": {
     "base_uri": "https://localhost:8080/"
    },
    "id": "oTNWHsd_RxW9",
    "outputId": "83f5c246-bdfb-4e61-8d59-ce6e05dffc16"
   },
   "outputs": [
    {
     "name": "stdout",
     "output_type": "stream",
     "text": [
      "Token                         Entity         Entity Defined\n",
      "May 10, 2011                   DATE            Absolute or relative dates or periods\n",
      "Microsoft                      ORG             Companies, agencies, institutions, etc.\n",
      "Skype Technologies             ORG             Companies, agencies, institutions, etc.\n",
      "$8.5 billion                   MONEY           Monetary values, including unit\n",
      "Microsoft                      ORG             Companies, agencies, institutions, etc.\n",
      "Seattle                        GPE             Countries, cities, states\n",
      "Washington                     GPE             Countries, cities, states\n",
      "Skype                          ORG             Companies, agencies, institutions, etc.\n",
      "Palo Alto                      GPE             Countries, cities, states\n",
      "California                     GPE             Countries, cities, states\n",
      "Sandeep Junnarkar              PERSON          People, including fictional\n",
      "Wikipedia                      ORG             Companies, agencies, institutions, etc.\n",
      "New York                       GPE             Countries, cities, states\n",
      "Vincent van Gogh's             PERSON          People, including fictional\n",
      "The Starry Night               WORK_OF_ART     Titles of books, songs, etc.\n",
      "the Museum of Modern Art       ORG             Companies, agencies, institutions, etc.\n",
      "Mount Washington               LOC             Non-GPE locations, mountain ranges, bodies of water\n",
      "Agiocochook                    LOC             Non-GPE locations, mountain ranges, bodies of water\n",
      "the Northeastern United States LOC             Non-GPE locations, mountain ranges, bodies of water\n",
      "6,288.2 ft                     QUANTITY        Measurements, as of weight or distance\n",
      "the Mississippi River          LOC             Non-GPE locations, mountain ranges, bodies of water\n",
      "Mississippi                    GPE             Countries, cities, states\n",
      "Ninety-year-old                DATE            Absolute or relative dates or periods\n",
      "William Shatner                PERSON          People, including fictional\n",
      "James T. Kirk                  PERSON          People, including fictional\n",
      "Star Trek                      WORK_OF_ART     Titles of books, songs, etc.\n",
      "Shatner                        PERSON          People, including fictional\n"
     ]
    }
   ],
   "source": [
    "## show entities in my english sentence\n",
    "show_entities(doc)"
   ]
  },
  {
   "cell_type": "markdown",
   "metadata": {
    "id": "Pd_EdQG50eUF"
   },
   "source": [
    "## Word Frequency"
   ]
  },
  {
   "cell_type": "code",
   "execution_count": 52,
   "metadata": {
    "colab": {
     "base_uri": "https://localhost:8080/"
    },
    "id": "R7Zb8rES0eUG",
    "outputId": "a48d9ada-688b-4103-dd9d-dfadd4d9edc5"
   },
   "outputs": [],
   "source": [
    "from collections import Counter  ## a package that helps us count up frequency\n",
    "## Counter(some_variable)\n",
    "## variable_name.most.common(some_number)\n",
    "\n",
    "#remove stopwords and punctuations\n",
    "\n"
   ]
  },
  {
   "cell_type": "code",
   "execution_count": 55,
   "metadata": {
    "collapsed": true
   },
   "outputs": [
    {
     "data": {
      "text/plain": [
       "['10',\n",
       " '2011',\n",
       " 'Microsoft',\n",
       " 'announced',\n",
       " 'acquisition',\n",
       " 'Skype',\n",
       " 'Technologies',\n",
       " 'creator',\n",
       " 'VoIP',\n",
       " 'service',\n",
       " 'Skype',\n",
       " '$',\n",
       " '8.5',\n",
       " 'billion',\n",
       " 'Microsoft',\n",
       " 'headquartered',\n",
       " 'near',\n",
       " 'Seattle',\n",
       " 'Washington',\n",
       " 'Skype',\n",
       " 'remains',\n",
       " 'Palo',\n",
       " 'Alto',\n",
       " 'California',\n",
       " 'Sandeep',\n",
       " 'Junnarkar',\n",
       " 'got',\n",
       " 'Wikipedia',\n",
       " 'head',\n",
       " 'New',\n",
       " 'York',\n",
       " 'city',\n",
       " 'Vincent',\n",
       " 'van',\n",
       " 'Gogh',\n",
       " 'Starry',\n",
       " 'Night',\n",
       " 'Museum',\n",
       " 'Modern',\n",
       " 'Art',\n",
       " 'Mount',\n",
       " 'Washington',\n",
       " 'Agiocochook',\n",
       " 'highest',\n",
       " 'peak',\n",
       " 'Northeastern',\n",
       " 'United',\n",
       " 'States',\n",
       " '6,288.2',\n",
       " 'ft',\n",
       " 'topographically',\n",
       " 'prominent',\n",
       " 'mountain',\n",
       " 'east',\n",
       " 'Mississippi',\n",
       " 'River',\n",
       " 'state',\n",
       " 'Mississippi',\n",
       " 'Ninety',\n",
       " 'year',\n",
       " 'old',\n",
       " 'William',\n",
       " 'Shatner',\n",
       " 'gained',\n",
       " 'fame',\n",
       " 'portraying',\n",
       " 'Captain',\n",
       " 'James',\n",
       " 'T.',\n",
       " 'Kirk',\n",
       " 'original',\n",
       " 'Star',\n",
       " 'Trek',\n",
       " 'hitched',\n",
       " 'ride',\n",
       " 'aboard',\n",
       " 'suborbital',\n",
       " 'spacecraft',\n",
       " 'grazed',\n",
       " 'edge',\n",
       " 'outer',\n",
       " 'space',\n",
       " 'parachuting',\n",
       " 'landing',\n",
       " 'making',\n",
       " 'Shatner',\n",
       " 'oldest',\n",
       " 'person',\n",
       " 'travel',\n",
       " 'space',\n",
       " 'ground',\n",
       " 'astronaughts',\n",
       " 'future',\n",
       " 'flights',\n",
       " '\\n']"
      ]
     },
     "execution_count": 55,
     "metadata": {},
     "output_type": "execute_result"
    }
   ],
   "source": [
    "words = [word.text for word in doc \\\n",
    "        if word.is_stop != True and \\\n",
    "        word.is_punct != True \\\n",
    "        and word.text !=\"\\xa0\"]\n",
    "words"
   ]
  },
  {
   "cell_type": "code",
   "execution_count": 56,
   "metadata": {
    "collapsed": true
   },
   "outputs": [
    {
     "data": {
      "text/plain": [
       "Counter({'10': 1,\n",
       "         '2011': 1,\n",
       "         'Microsoft': 2,\n",
       "         'announced': 1,\n",
       "         'acquisition': 1,\n",
       "         'Skype': 3,\n",
       "         'Technologies': 1,\n",
       "         'creator': 1,\n",
       "         'VoIP': 1,\n",
       "         'service': 1,\n",
       "         '$': 1,\n",
       "         '8.5': 1,\n",
       "         'billion': 1,\n",
       "         'headquartered': 1,\n",
       "         'near': 1,\n",
       "         'Seattle': 1,\n",
       "         'Washington': 2,\n",
       "         'remains': 1,\n",
       "         'Palo': 1,\n",
       "         'Alto': 1,\n",
       "         'California': 1,\n",
       "         'Sandeep': 1,\n",
       "         'Junnarkar': 1,\n",
       "         'got': 1,\n",
       "         'Wikipedia': 1,\n",
       "         'head': 1,\n",
       "         'New': 1,\n",
       "         'York': 1,\n",
       "         'city': 1,\n",
       "         'Vincent': 1,\n",
       "         'van': 1,\n",
       "         'Gogh': 1,\n",
       "         'Starry': 1,\n",
       "         'Night': 1,\n",
       "         'Museum': 1,\n",
       "         'Modern': 1,\n",
       "         'Art': 1,\n",
       "         'Mount': 1,\n",
       "         'Agiocochook': 1,\n",
       "         'highest': 1,\n",
       "         'peak': 1,\n",
       "         'Northeastern': 1,\n",
       "         'United': 1,\n",
       "         'States': 1,\n",
       "         '6,288.2': 1,\n",
       "         'ft': 1,\n",
       "         'topographically': 1,\n",
       "         'prominent': 1,\n",
       "         'mountain': 1,\n",
       "         'east': 1,\n",
       "         'Mississippi': 2,\n",
       "         'River': 1,\n",
       "         'state': 1,\n",
       "         'Ninety': 1,\n",
       "         'year': 1,\n",
       "         'old': 1,\n",
       "         'William': 1,\n",
       "         'Shatner': 2,\n",
       "         'gained': 1,\n",
       "         'fame': 1,\n",
       "         'portraying': 1,\n",
       "         'Captain': 1,\n",
       "         'James': 1,\n",
       "         'T.': 1,\n",
       "         'Kirk': 1,\n",
       "         'original': 1,\n",
       "         'Star': 1,\n",
       "         'Trek': 1,\n",
       "         'hitched': 1,\n",
       "         'ride': 1,\n",
       "         'aboard': 1,\n",
       "         'suborbital': 1,\n",
       "         'spacecraft': 1,\n",
       "         'grazed': 1,\n",
       "         'edge': 1,\n",
       "         'outer': 1,\n",
       "         'space': 2,\n",
       "         'parachuting': 1,\n",
       "         'landing': 1,\n",
       "         'making': 1,\n",
       "         'oldest': 1,\n",
       "         'person': 1,\n",
       "         'travel': 1,\n",
       "         'ground': 1,\n",
       "         'astronaughts': 1,\n",
       "         'future': 1,\n",
       "         'flights': 1,\n",
       "         '\\n': 1})"
      ]
     },
     "execution_count": 56,
     "metadata": {},
     "output_type": "execute_result"
    }
   ],
   "source": [
    "word_freq = Counter(words)\n",
    "word_freq"
   ]
  },
  {
   "cell_type": "code",
   "execution_count": 59,
   "metadata": {},
   "outputs": [
    {
     "data": {
      "text/plain": [
       "[('Skype', 3), ('Microsoft', 2), ('Washington', 2), ('Mississippi', 2)]"
      ]
     },
     "execution_count": 59,
     "metadata": {},
     "output_type": "execute_result"
    }
   ],
   "source": [
    "top_words = word_freq.most_common(4)\n",
    "top_words"
   ]
  },
  {
   "cell_type": "code",
   "execution_count": null,
   "metadata": {
    "id": "U3L1Z9V90eUG"
   },
   "outputs": [],
   "source": [
    "#remove that weird unicode\n"
   ]
  },
  {
   "cell_type": "markdown",
   "metadata": {
    "id": "1nkzIHWcRcUM"
   },
   "source": [
    "## Install other languages\n",
    "#### Other languages can be found at https://spacy.io/usage/models\n",
    "\n",
    "#### Disclaimer: Language models are built by open source communities. English and German are the most advanced language models."
   ]
  },
  {
   "cell_type": "markdown",
   "metadata": {
    "id": "QC8HluMERcUN"
   },
   "source": [
    "### Spanish language model"
   ]
  },
  {
   "cell_type": "code",
   "execution_count": 60,
   "metadata": {
    "colab": {
     "base_uri": "https://localhost:8080/"
    },
    "id": "SuHEEuUDSXPa",
    "outputId": "6f2c0fe2-cb7a-497d-8f55-49bd63e796e0"
   },
   "outputs": [
    {
     "name": "stdout",
     "output_type": "stream",
     "text": [
      "Collecting es-core-news-sm==3.2.0\n",
      "  Downloading https://github.com/explosion/spacy-models/releases/download/es_core_news_sm-3.2.0/es_core_news_sm-3.2.0-py3-none-any.whl (14.0 MB)\n",
      "\u001b[K     |████████████████████████████████| 14.0 MB 5.3 MB/s eta 0:00:01    |█████▌                          | 2.4 MB 5.3 MB/s eta 0:00:03\n",
      "\u001b[?25hRequirement already satisfied: spacy<3.3.0,>=3.2.0 in /usr/local/anaconda3/lib/python3.8/site-packages (from es-core-news-sm==3.2.0) (3.2.1)\n",
      "Requirement already satisfied: tqdm<5.0.0,>=4.38.0 in /usr/local/anaconda3/lib/python3.8/site-packages (from spacy<3.3.0,>=3.2.0->es-core-news-sm==3.2.0) (4.59.0)\n",
      "Requirement already satisfied: spacy-legacy<3.1.0,>=3.0.8 in /usr/local/anaconda3/lib/python3.8/site-packages (from spacy<3.3.0,>=3.2.0->es-core-news-sm==3.2.0) (3.0.8)\n",
      "Requirement already satisfied: srsly<3.0.0,>=2.4.1 in /usr/local/anaconda3/lib/python3.8/site-packages (from spacy<3.3.0,>=3.2.0->es-core-news-sm==3.2.0) (2.4.2)\n",
      "Requirement already satisfied: requests<3.0.0,>=2.13.0 in /usr/local/anaconda3/lib/python3.8/site-packages (from spacy<3.3.0,>=3.2.0->es-core-news-sm==3.2.0) (2.25.1)\n",
      "Requirement already satisfied: setuptools in /usr/local/anaconda3/lib/python3.8/site-packages (from spacy<3.3.0,>=3.2.0->es-core-news-sm==3.2.0) (52.0.0.post20210125)\n",
      "Requirement already satisfied: preshed<3.1.0,>=3.0.2 in /usr/local/anaconda3/lib/python3.8/site-packages (from spacy<3.3.0,>=3.2.0->es-core-news-sm==3.2.0) (3.0.6)\n",
      "Requirement already satisfied: spacy-loggers<2.0.0,>=1.0.0 in /usr/local/anaconda3/lib/python3.8/site-packages (from spacy<3.3.0,>=3.2.0->es-core-news-sm==3.2.0) (1.0.1)\n",
      "Requirement already satisfied: pydantic!=1.8,!=1.8.1,<1.9.0,>=1.7.4 in /usr/local/anaconda3/lib/python3.8/site-packages (from spacy<3.3.0,>=3.2.0->es-core-news-sm==3.2.0) (1.8.2)\n",
      "Requirement already satisfied: jinja2 in /usr/local/anaconda3/lib/python3.8/site-packages (from spacy<3.3.0,>=3.2.0->es-core-news-sm==3.2.0) (2.11.3)\n",
      "Requirement already satisfied: numpy>=1.15.0 in /usr/local/anaconda3/lib/python3.8/site-packages (from spacy<3.3.0,>=3.2.0->es-core-news-sm==3.2.0) (1.20.1)\n",
      "Requirement already satisfied: cymem<2.1.0,>=2.0.2 in /usr/local/anaconda3/lib/python3.8/site-packages (from spacy<3.3.0,>=3.2.0->es-core-news-sm==3.2.0) (2.0.6)\n",
      "Requirement already satisfied: typer<0.5.0,>=0.3.0 in /usr/local/anaconda3/lib/python3.8/site-packages (from spacy<3.3.0,>=3.2.0->es-core-news-sm==3.2.0) (0.4.0)\n",
      "Requirement already satisfied: murmurhash<1.1.0,>=0.28.0 in /usr/local/anaconda3/lib/python3.8/site-packages (from spacy<3.3.0,>=3.2.0->es-core-news-sm==3.2.0) (1.0.6)\n",
      "Requirement already satisfied: catalogue<2.1.0,>=2.0.6 in /usr/local/anaconda3/lib/python3.8/site-packages (from spacy<3.3.0,>=3.2.0->es-core-news-sm==3.2.0) (2.0.6)\n",
      "Requirement already satisfied: thinc<8.1.0,>=8.0.12 in /usr/local/anaconda3/lib/python3.8/site-packages (from spacy<3.3.0,>=3.2.0->es-core-news-sm==3.2.0) (8.0.13)\n",
      "Requirement already satisfied: packaging>=20.0 in /usr/local/anaconda3/lib/python3.8/site-packages (from spacy<3.3.0,>=3.2.0->es-core-news-sm==3.2.0) (20.9)\n",
      "Requirement already satisfied: wasabi<1.1.0,>=0.8.1 in /usr/local/anaconda3/lib/python3.8/site-packages (from spacy<3.3.0,>=3.2.0->es-core-news-sm==3.2.0) (0.9.0)\n",
      "Requirement already satisfied: langcodes<4.0.0,>=3.2.0 in /usr/local/anaconda3/lib/python3.8/site-packages (from spacy<3.3.0,>=3.2.0->es-core-news-sm==3.2.0) (3.3.0)\n",
      "Requirement already satisfied: pathy>=0.3.5 in /usr/local/anaconda3/lib/python3.8/site-packages (from spacy<3.3.0,>=3.2.0->es-core-news-sm==3.2.0) (0.6.1)\n",
      "Requirement already satisfied: blis<0.8.0,>=0.4.0 in /usr/local/anaconda3/lib/python3.8/site-packages (from spacy<3.3.0,>=3.2.0->es-core-news-sm==3.2.0) (0.7.5)\n",
      "Requirement already satisfied: pyparsing>=2.0.2 in /usr/local/anaconda3/lib/python3.8/site-packages (from packaging>=20.0->spacy<3.3.0,>=3.2.0->es-core-news-sm==3.2.0) (2.4.7)\n",
      "Requirement already satisfied: smart-open<6.0.0,>=5.0.0 in /usr/local/anaconda3/lib/python3.8/site-packages (from pathy>=0.3.5->spacy<3.3.0,>=3.2.0->es-core-news-sm==3.2.0) (5.2.1)\n",
      "Requirement already satisfied: typing-extensions>=3.7.4.3 in /usr/local/anaconda3/lib/python3.8/site-packages (from pydantic!=1.8,!=1.8.1,<1.9.0,>=1.7.4->spacy<3.3.0,>=3.2.0->es-core-news-sm==3.2.0) (3.7.4.3)\n",
      "Requirement already satisfied: certifi>=2017.4.17 in /usr/local/anaconda3/lib/python3.8/site-packages (from requests<3.0.0,>=2.13.0->spacy<3.3.0,>=3.2.0->es-core-news-sm==3.2.0) (2020.12.5)\n",
      "Requirement already satisfied: chardet<5,>=3.0.2 in /usr/local/anaconda3/lib/python3.8/site-packages (from requests<3.0.0,>=2.13.0->spacy<3.3.0,>=3.2.0->es-core-news-sm==3.2.0) (4.0.0)\n",
      "Requirement already satisfied: idna<3,>=2.5 in /usr/local/anaconda3/lib/python3.8/site-packages (from requests<3.0.0,>=2.13.0->spacy<3.3.0,>=3.2.0->es-core-news-sm==3.2.0) (2.10)\n",
      "Requirement already satisfied: urllib3<1.27,>=1.21.1 in /usr/local/anaconda3/lib/python3.8/site-packages (from requests<3.0.0,>=2.13.0->spacy<3.3.0,>=3.2.0->es-core-news-sm==3.2.0) (1.26.4)\n",
      "Requirement already satisfied: click<9.0.0,>=7.1.1 in /usr/local/anaconda3/lib/python3.8/site-packages (from typer<0.5.0,>=0.3.0->spacy<3.3.0,>=3.2.0->es-core-news-sm==3.2.0) (7.1.2)\n",
      "Requirement already satisfied: MarkupSafe>=0.23 in /usr/local/anaconda3/lib/python3.8/site-packages (from jinja2->spacy<3.3.0,>=3.2.0->es-core-news-sm==3.2.0) (1.1.1)\n",
      "\u001b[38;5;2m✔ Download and installation successful\u001b[0m\n",
      "You can now load the package via spacy.load('es_core_news_sm')\n"
     ]
    }
   ],
   "source": [
    "## !python install the library\n",
    "!python -m spacy download es_core_news_sm"
   ]
  },
  {
   "cell_type": "code",
   "execution_count": 61,
   "metadata": {
    "id": "qmjeb7LYRcUQ"
   },
   "outputs": [],
   "source": [
    "## import the library and create nlp pipleline\n",
    "import es_core_news_sm\n",
    "nlp = es_core_news_sm.load()"
   ]
  },
  {
   "cell_type": "code",
   "execution_count": 62,
   "metadata": {
    "id": "XEfgJHvERcUW"
   },
   "outputs": [],
   "source": [
    "### Sample Spanish Text (sorry!)\n",
    "stext = \"\"\"\n",
    "El 10 de mayo de 2011, Microsoft anunció la adquisición de Skype Technologies, \\\n",
    "creador del servicio de VoIP Skype, por 8.500 millones de dólares. Microsoft tiene \\\n",
    "su sede cerca de Seattle Washington, mientras que Skype permanece en Palo Alto, California. \\\n",
    "Sandeep Junnarkar obtuvo esto de Wikipedia. Pero preferiría ir a la ciudad \\\n",
    "de Nueva York para ver La noche estrellada de Vincent van Gogh en el Museo de Arte Moderno. \\\n",
    "El monte Washington, que en realidad es Agiocochook, es el pico más alto del noreste \\\n",
    "de los Estados Unidos con 6.288,2 pies y la montaña más prominente topográficamente \\\n",
    "al este del río Mississippi. No está en el estado de Mississippi. \\\n",
    "William Shatner, de noventa años, quien saltó a la fama por interpretar al \\\n",
    "capitán James T. Kirk en la película original \"Star Trek\", acaba de subirse a \\\n",
    "una nave espacial suborbital que rozó el borde del espacio exterior antes \\\n",
    "de lanzarse en paracaídas hacia un aterrizaje, convirtiendo a Shatner en el más antiguo. \\\n",
    "persona que haya viajado al espacio.\n",
    "\"\"\""
   ]
  },
  {
   "cell_type": "code",
   "execution_count": 63,
   "metadata": {
    "id": "eg767ypnRcUY"
   },
   "outputs": [],
   "source": [
    "## tokenize and show parts of speech for each token\n",
    "doc = nlp(stext)"
   ]
  },
  {
   "cell_type": "code",
   "execution_count": null,
   "metadata": {
    "colab": {
     "base_uri": "https://localhost:8080/"
    },
    "id": "dt67pTWYGmVf",
    "outputId": "66fb5930-9c89-40e5-c380-a9a946161021"
   },
   "outputs": [],
   "source": [
    "## show the tokens\n"
   ]
  },
  {
   "cell_type": "code",
   "execution_count": 64,
   "metadata": {
    "colab": {
     "base_uri": "https://localhost:8080/"
    },
    "id": "onKjJi8ORcUa",
    "outputId": "4c5780de-e80d-4065-977e-b367dc3aa564"
   },
   "outputs": [
    {
     "name": "stdout",
     "output_type": "stream",
     "text": [
      "Token                         Entity         Entity Defined\n",
      "Microsoft                      ORG             Companies, agencies, institutions, etc.\n",
      "Skype Technologies             MISC            Miscellaneous entities, e.g. events, nationalities, products or works of art\n",
      "VoIP Skype                     MISC            Miscellaneous entities, e.g. events, nationalities, products or works of art\n",
      "Microsoft                      ORG             Companies, agencies, institutions, etc.\n",
      "Seattle                        LOC             Non-GPE locations, mountain ranges, bodies of water\n",
      "Washington                     ORG             Companies, agencies, institutions, etc.\n",
      "Skype                          MISC            Miscellaneous entities, e.g. events, nationalities, products or works of art\n",
      "Palo Alto                      LOC             Non-GPE locations, mountain ranges, bodies of water\n",
      "California                     LOC             Non-GPE locations, mountain ranges, bodies of water\n",
      "Sandeep Junnarkar              PER             Named person or family.\n",
      "Wikipedia                      MISC            Miscellaneous entities, e.g. events, nationalities, products or works of art\n",
      "Nueva York                     LOC             Non-GPE locations, mountain ranges, bodies of water\n",
      "La noche estrellada            MISC            Miscellaneous entities, e.g. events, nationalities, products or works of art\n",
      "Vincent van Gogh               PER             Named person or family.\n",
      "Museo de Arte Moderno.         LOC             Non-GPE locations, mountain ranges, bodies of water\n",
      "Washington                     LOC             Non-GPE locations, mountain ranges, bodies of water\n",
      "Agiocochook                    MISC            Miscellaneous entities, e.g. events, nationalities, products or works of art\n",
      "los Estados Unidos             LOC             Non-GPE locations, mountain ranges, bodies of water\n",
      "río Mississippi.               LOC             Non-GPE locations, mountain ranges, bodies of water\n",
      "Mississippi                    LOC             Non-GPE locations, mountain ranges, bodies of water\n",
      "William Shatner                PER             Named person or family.\n",
      "James T. Kirk                  PER             Named person or family.\n",
      "Star Trek                      MISC            Miscellaneous entities, e.g. events, nationalities, products or works of art\n",
      "Shatner                        PER             Named person or family.\n"
     ]
    }
   ],
   "source": [
    "## show entities\n",
    "show_entities(doc)"
   ]
  },
  {
   "cell_type": "markdown",
   "metadata": {
    "id": "3MSEF5iHleMY"
   },
   "source": [
    "### Chinese language model"
   ]
  },
  {
   "cell_type": "code",
   "execution_count": null,
   "metadata": {
    "colab": {
     "base_uri": "https://localhost:8080/"
    },
    "id": "uLTao2Lmlgng",
    "outputId": "4588d12b-0622-4c94-e910-a043e9896336"
   },
   "outputs": [],
   "source": [
    "## !python install the library\n"
   ]
  },
  {
   "cell_type": "code",
   "execution_count": null,
   "metadata": {
    "id": "tNRPxSFDlr7J"
   },
   "outputs": [],
   "source": [
    "## import the library and create nlp pipleline\n"
   ]
  },
  {
   "cell_type": "code",
   "execution_count": null,
   "metadata": {
    "id": "mZw79PW1qzTc"
   },
   "outputs": [],
   "source": [
    "### Sample Chinese Text (sorry!)\n",
    "ctext = '''\n",
    "2011年5月10日，微軟宣布收購Skype Technologies，\n",
    "VoIP服務的創造者，價格為85億美元。\n",
    "微軟總部位於華盛頓州西雅圖市附近，而Skype仍位於加利福尼亞州帕洛阿爾托。\\\n",
    "Sandeep Junnarkar從Wikipedia獲得了此信息。\\\n",
    "但他寧願前往法國巴黎在羅浮宮看《蒙娜麗莎》。\\\n",
    "華盛頓山（實際上是Agiocochook）是美國東北部的最高峰\\\n",
    "位於6,288.2英尺，是東面地形最突出的山脈\\\n",
    "密西西比河。\n",
    "'''"
   ]
  },
  {
   "cell_type": "code",
   "execution_count": null,
   "metadata": {
    "id": "qFzWDLcBpf8-"
   },
   "outputs": [],
   "source": [
    "## create a spacy doc object\n"
   ]
  },
  {
   "cell_type": "code",
   "execution_count": null,
   "metadata": {
    "colab": {
     "base_uri": "https://localhost:8080/"
    },
    "id": "_RPV9T2irG3J",
    "outputId": "5cbb20c2-59df-465b-f8a8-c4bc798b3c68"
   },
   "outputs": [],
   "source": [
    "## run our function!\n"
   ]
  },
  {
   "cell_type": "code",
   "execution_count": null,
   "metadata": {
    "colab": {
     "base_uri": "https://localhost:8080/"
    },
    "id": "74w8PMQI0eUI",
    "outputId": "2ede75a4-3f6e-4766-c970-76b7c62bebbb"
   },
   "outputs": [],
   "source": []
  },
  {
   "cell_type": "code",
   "execution_count": null,
   "metadata": {
    "colab": {
     "base_uri": "https://localhost:8080/",
     "height": 129
    },
    "id": "fCOD8R_IlaI2",
    "outputId": "87467387-9711-4b9f-8c91-bb02b0ee39d5"
   },
   "outputs": [],
   "source": []
  },
  {
   "cell_type": "code",
   "execution_count": null,
   "metadata": {
    "colab": {
     "base_uri": "https://localhost:8080/",
     "height": 472
    },
    "id": "T3CtcLLClIz5",
    "outputId": "5eabf793-da58-4117-c1f3-3c91988d6e78"
   },
   "outputs": [],
   "source": []
  }
 ],
 "metadata": {
  "celltoolbar": "Slideshow",
  "colab": {
   "collapsed_sections": [
    "fvkdsW79RcUN"
   ],
   "name": "week-14-spacy_DEMO.ipynb",
   "provenance": []
  },
  "kernelspec": {
   "display_name": "Python 3",
   "language": "python",
   "name": "python3"
  },
  "language_info": {
   "codemirror_mode": {
    "name": "ipython",
    "version": 3
   },
   "file_extension": ".py",
   "mimetype": "text/x-python",
   "name": "python",
   "nbconvert_exporter": "python",
   "pygments_lexer": "ipython3",
   "version": "3.8.8"
  }
 },
 "nbformat": 4,
 "nbformat_minor": 1
}
