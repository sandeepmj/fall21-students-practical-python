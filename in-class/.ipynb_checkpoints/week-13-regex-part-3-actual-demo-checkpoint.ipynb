{
 "cells": [
  {
   "cell_type": "markdown",
   "metadata": {
    "id": "RtXF5HKNRbPh"
   },
   "source": [
    "# Regular Expressions – Part 3 Capturing into DF\n",
    "\n",
    "Pages we need to visit:\n",
    "\n",
    "- Live Testing: https://regex101.com/\n",
    "- Sandeep's <a href=\"https://docs.google.com/spreadsheets/d/1A39lM4SiGZbzZPxrjEXkR05aksAewudccWmojoIU0Gk/edit?usp=sharing\">REGEX Tip sheet</a>\n",
    "\n",
    "### Some dummy text:"
   ]
  },
  {
   "cell_type": "markdown",
   "metadata": {
    "id": "inLRh4fXRbPm"
   },
   "source": [
    "12534 127 ab aba abba sandeepj@bloomberg.net abbba, abbbbba, (518) 469-4581 abcde.The dog is a not a hog. ABA ABBA ABBBA.\n",
    "\n",
    "\n",
    "Ab_CD123  123456 and 12456\ttor 12531245134562. 123867584789. $40.44 or $3 or $52,583.08 or $610,235.11\n",
    "\n",
    "The cat sat down and called 514-957-3453 while the other caaaaaat purred. This cat is in California while this caaaat is in Iraq, but none are in ct. My dog prefers cat food to dog food but hates fish food.My food tastes yummy!\n",
    "\n",
    "AB_cd \t<+>-.,!@# $%^&*();\\/|_^@1# (917) 488-5410\n",
    "\n",
    "*!dsar2d1\n",
    "\n",
    "I told him to search the thesaurus where sandeep.junnarkar@journalism.cuny.edu he'd be able to sjnews@gmail.com find words like them.\n",
    "\n",
    "abcdefgczhijklmnopqrstuvwxyz\tABCDEFGCZHIJKLMNOPQRSTUVWXYZ\n",
    "\n",
    "A h0g is a hog.\n",
    "\n",
    "Dog and dog and DOG. His number is 415.458.9163.\n",
    "\n",
    "&^%@ 129"
   ]
  },
  {
   "cell_type": "code",
   "execution_count": 1,
   "metadata": {
    "id": "7obJksVBRbPn"
   },
   "outputs": [],
   "source": [
    "## place dummy text into a variable called mydoc\n",
    "mydoc = '''\n",
    "12534 127 ab aba abba sandeepj@bloomberg.net abbba, abbbbba, (518) 469-4581 abcde.The dog is a not a hog. ABA ABBA ABBBA.\n",
    "\n",
    "\n",
    "Ab_CD123  123456 and 12456\ttor 12531245134562. 123867584789. $40.44 or $3 or $52,583.08 or $610,235.11\n",
    "\n",
    "The cat sat down and called 514-957-3453 while the other caaaaaat purred. This cat is in California while this caaaat is in Iraq, but none are in ct. My dog prefers cat food to dog food but hates fish food.My food tastes yummy!\n",
    "\n",
    "AB_cd \t<+>-.,!@# $%^&*();\\/|_^@1# (917) 488-5410\n",
    "\n",
    "*!dsar2d1\n",
    "\n",
    "I told him to search the thesaurus where sandeep.junnarkar@journalism.cuny.edu he'd be able to sjnews@gmail.com find words like them.\n",
    "\n",
    "abcdefgczhijklmnopqrstuvwxyz\tABCDEFGCZHIJKLMNOPQRSTUVWXYZ\n",
    "\n",
    "A h0g is a hog.\n",
    "\n",
    "Dog and dog and DOG. His number is 415.458.9163.\n",
    "\n",
    "&^%@ 129\n",
    "\n",
    "abba\n",
    "\n",
    "\n",
    "\n",
    "'''"
   ]
  },
  {
   "cell_type": "code",
   "execution_count": 2,
   "metadata": {
    "colab": {
     "base_uri": "https://localhost:8080/",
     "height": 119
    },
    "id": "9EuypuZIRbPn",
    "outputId": "7951d33b-94b4-4694-de09-ef0bb5f7d04a"
   },
   "outputs": [
    {
     "data": {
      "text/plain": [
       "\"\\n12534 127 ab aba abba sandeepj@bloomberg.net abbba, abbbbba, (518) 469-4581 abcde.The dog is a not a hog. ABA ABBA ABBBA.\\n\\n\\nAb_CD123  123456 and 12456\\ttor 12531245134562. 123867584789. $40.44 or $3 or $52,583.08 or $610,235.11\\n\\nThe cat sat down and called 514-957-3453 while the other caaaaaat purred. This cat is in California while this caaaat is in Iraq, but none are in ct. My dog prefers cat food to dog food but hates fish food.My food tastes yummy!\\n\\nAB_cd \\t<+>-.,!@# $%^&*();\\\\/|_^@1# (917) 488-5410\\n\\n*!dsar2d1\\n\\nI told him to search the thesaurus where sandeep.junnarkar@journalism.cuny.edu he'd be able to sjnews@gmail.com find words like them.\\n\\nabcdefgczhijklmnopqrstuvwxyz\\tABCDEFGCZHIJKLMNOPQRSTUVWXYZ\\n\\nA h0g is a hog.\\n\\nDog and dog and DOG. His number is 415.458.9163.\\n\\n&^%@ 129\\n\\nabba\\n\\n\\n\\n\""
      ]
     },
     "execution_count": 2,
     "metadata": {},
     "output_type": "execute_result"
    }
   ],
   "source": [
    "## call mydoc\n",
    "mydoc"
   ]
  },
  {
   "cell_type": "code",
   "execution_count": 4,
   "metadata": {
    "id": "4qF0fu3BRbPo"
   },
   "outputs": [],
   "source": [
    "## import libraries\n",
    "import re\n",
    "import pandas as pd"
   ]
  },
  {
   "cell_type": "markdown",
   "metadata": {
    "id": "zN1HOzKev6XH"
   },
   "source": [
    "### Is a value present?"
   ]
  },
  {
   "cell_type": "code",
   "execution_count": 6,
   "metadata": {
    "id": "q7vv6mbWRbPw"
   },
   "outputs": [],
   "source": [
    "## example list - run it\n",
    "mylist = [1, 2, 3, 4, 5, 6, 8, 7, 9]"
   ]
  },
  {
   "cell_type": "code",
   "execution_count": 7,
   "metadata": {
    "colab": {
     "base_uri": "https://localhost:8080/"
    },
    "id": "xqoYsl95RbPw",
    "outputId": "c84b82cc-bdb2-45c6-8f3c-dcdacda29a98"
   },
   "outputs": [
    {
     "data": {
      "text/plain": [
       "True"
      ]
     },
     "execution_count": 7,
     "metadata": {},
     "output_type": "execute_result"
    }
   ],
   "source": [
    "## is the number 1 in the list?\n",
    "1 in mylist"
   ]
  },
  {
   "cell_type": "code",
   "execution_count": 8,
   "metadata": {
    "colab": {
     "base_uri": "https://localhost:8080/"
    },
    "id": "ykVTPOyiAA3u",
    "outputId": "ac02774f-2f1f-4839-9d50-b2a976e624ab"
   },
   "outputs": [
    {
     "data": {
      "text/plain": [
       "False"
      ]
     },
     "execution_count": 8,
     "metadata": {},
     "output_type": "execute_result"
    }
   ],
   "source": [
    "## is the number 12 in the list?\n",
    "12 in mylist"
   ]
  },
  {
   "cell_type": "code",
   "execution_count": 9,
   "metadata": {
    "colab": {
     "base_uri": "https://localhost:8080/"
    },
    "id": "QRFCMCxnmEwB",
    "outputId": "75b40c54-1af9-4f69-f8d8-7c5d668ab9b3"
   },
   "outputs": [
    {
     "data": {
      "text/plain": [
       "True"
      ]
     },
     "execution_count": 9,
     "metadata": {},
     "output_type": "execute_result"
    }
   ],
   "source": [
    "### is \"12534\" in mydoc\n",
    "\"12534\" in mydoc"
   ]
  },
  {
   "cell_type": "code",
   "execution_count": 10,
   "metadata": {
    "colab": {
     "base_uri": "https://localhost:8080/"
    },
    "id": "JcG7Gqt5BXac",
    "outputId": "80f50956-fc12-4e7b-c04c-9adee3296095"
   },
   "outputs": [
    {
     "data": {
      "text/plain": [
       "False"
      ]
     },
     "execution_count": 10,
     "metadata": {},
     "output_type": "execute_result"
    }
   ],
   "source": [
    "## is \"x34\" in mydoc\n",
    "\"x34\" in mydoc"
   ]
  },
  {
   "cell_type": "markdown",
   "metadata": {
    "id": "yweWFG7VRbPw"
   },
   "source": [
    "#### Let's actually use a regex pattern"
   ]
  },
  {
   "cell_type": "code",
   "execution_count": 11,
   "metadata": {
    "id": "mFQn6RQRRbPw"
   },
   "outputs": [],
   "source": [
    "## find all words and digits (excluding symbols)\n",
    "pat = re.compile(\"\\w+\")"
   ]
  },
  {
   "cell_type": "code",
   "execution_count": 13,
   "metadata": {
    "colab": {
     "base_uri": "https://localhost:8080/"
    },
    "id": "nipegrsERbPw",
    "outputId": "e54595fe-7a84-49a2-d0d2-5e6d51a7cf76"
   },
   "outputs": [
    {
     "data": {
      "text/plain": [
       "<re.Match object; span=(1, 6), match='12534'>"
      ]
     },
     "execution_count": 13,
     "metadata": {},
     "output_type": "execute_result"
    }
   ],
   "source": [
    "## let's run it on our mydoc string\n",
    "re.search(pat, mydoc)"
   ]
  },
  {
   "cell_type": "code",
   "execution_count": null,
   "metadata": {
    "colab": {
     "base_uri": "https://localhost:8080/",
     "height": 35
    },
    "id": "UqxaYCC2RbPw",
    "outputId": "4409981e-726c-4988-c662-9519480a52bf"
   },
   "outputs": [],
   "source": [
    "## put out the actual match\n"
   ]
  },
  {
   "cell_type": "markdown",
   "metadata": {
    "id": "MrBX5n0bRbPx"
   },
   "source": [
    "## ```findall```\n",
    "\n",
    "Returns a list of all found items\n",
    "\n",
    "``` result = your_pattern.findall(doc_to_search)```\n"
   ]
  },
  {
   "cell_type": "code",
   "execution_count": 14,
   "metadata": {
    "id": "s43uPmZdRbPx"
   },
   "outputs": [
    {
     "data": {
      "text/plain": [
       "['12534',\n",
       " '127',\n",
       " 'ab',\n",
       " 'aba',\n",
       " 'abba',\n",
       " 'sandeepj',\n",
       " 'bloomberg',\n",
       " 'net',\n",
       " 'abbba',\n",
       " 'abbbbba',\n",
       " '518',\n",
       " '469',\n",
       " '4581',\n",
       " 'abcde',\n",
       " 'The',\n",
       " 'dog',\n",
       " 'is',\n",
       " 'a',\n",
       " 'not',\n",
       " 'a',\n",
       " 'hog',\n",
       " 'ABA',\n",
       " 'ABBA',\n",
       " 'ABBBA',\n",
       " 'Ab_CD123',\n",
       " '123456',\n",
       " 'and',\n",
       " '12456',\n",
       " 'tor',\n",
       " '12531245134562',\n",
       " '123867584789',\n",
       " '40',\n",
       " '44',\n",
       " 'or',\n",
       " '3',\n",
       " 'or',\n",
       " '52',\n",
       " '583',\n",
       " '08',\n",
       " 'or',\n",
       " '610',\n",
       " '235',\n",
       " '11',\n",
       " 'The',\n",
       " 'cat',\n",
       " 'sat',\n",
       " 'down',\n",
       " 'and',\n",
       " 'called',\n",
       " '514',\n",
       " '957',\n",
       " '3453',\n",
       " 'while',\n",
       " 'the',\n",
       " 'other',\n",
       " 'caaaaaat',\n",
       " 'purred',\n",
       " 'This',\n",
       " 'cat',\n",
       " 'is',\n",
       " 'in',\n",
       " 'California',\n",
       " 'while',\n",
       " 'this',\n",
       " 'caaaat',\n",
       " 'is',\n",
       " 'in',\n",
       " 'Iraq',\n",
       " 'but',\n",
       " 'none',\n",
       " 'are',\n",
       " 'in',\n",
       " 'ct',\n",
       " 'My',\n",
       " 'dog',\n",
       " 'prefers',\n",
       " 'cat',\n",
       " 'food',\n",
       " 'to',\n",
       " 'dog',\n",
       " 'food',\n",
       " 'but',\n",
       " 'hates',\n",
       " 'fish',\n",
       " 'food',\n",
       " 'My',\n",
       " 'food',\n",
       " 'tastes',\n",
       " 'yummy',\n",
       " 'AB_cd',\n",
       " '_',\n",
       " '1',\n",
       " '917',\n",
       " '488',\n",
       " '5410',\n",
       " 'dsar2d1',\n",
       " 'I',\n",
       " 'told',\n",
       " 'him',\n",
       " 'to',\n",
       " 'search',\n",
       " 'the',\n",
       " 'thesaurus',\n",
       " 'where',\n",
       " 'sandeep',\n",
       " 'junnarkar',\n",
       " 'journalism',\n",
       " 'cuny',\n",
       " 'edu',\n",
       " 'he',\n",
       " 'd',\n",
       " 'be',\n",
       " 'able',\n",
       " 'to',\n",
       " 'sjnews',\n",
       " 'gmail',\n",
       " 'com',\n",
       " 'find',\n",
       " 'words',\n",
       " 'like',\n",
       " 'them',\n",
       " 'abcdefgczhijklmnopqrstuvwxyz',\n",
       " 'ABCDEFGCZHIJKLMNOPQRSTUVWXYZ',\n",
       " 'A',\n",
       " 'h0g',\n",
       " 'is',\n",
       " 'a',\n",
       " 'hog',\n",
       " 'Dog',\n",
       " 'and',\n",
       " 'dog',\n",
       " 'and',\n",
       " 'DOG',\n",
       " 'His',\n",
       " 'number',\n",
       " 'is',\n",
       " '415',\n",
       " '458',\n",
       " '9163',\n",
       " '129',\n",
       " 'abba']"
      ]
     },
     "execution_count": 14,
     "metadata": {},
     "output_type": "execute_result"
    }
   ],
   "source": [
    "## use findall to find all matching patterns\n",
    "x = pat.findall(mydoc)\n",
    "x"
   ]
  },
  {
   "cell_type": "code",
   "execution_count": 15,
   "metadata": {
    "colab": {
     "base_uri": "https://localhost:8080/"
    },
    "id": "CLKrsWmcRbPx",
    "outputId": "4561d9d1-5ed1-42cc-c85e-19281924048f"
   },
   "outputs": [
    {
     "data": {
      "text/plain": [
       "list"
      ]
     },
     "execution_count": 15,
     "metadata": {},
     "output_type": "execute_result"
    }
   ],
   "source": [
    "## what object is it?\n",
    "type(x)"
   ]
  },
  {
   "cell_type": "markdown",
   "metadata": {},
   "source": [
    "## Import document(s) to scan"
   ]
  },
  {
   "cell_type": "code",
   "execution_count": 16,
   "metadata": {},
   "outputs": [
    {
     "data": {
      "text/plain": [
       "'DEMO TEXT\\n\\nTELEPHONE NUMBERS\\nTel. 718-392-4793\\nTel. (646) 469-3211\\nTel. 917.425.2796\\n\\nNUMBERS\\n1\\n12\\n123\\n123,456\\n123,456,789\\n123,456,789.01\\n\\nEMAILS\\nsandeep.junnarkar@journalism.cuny.edu\\nsandeepj@gmail.com\\nsjunnarkar@bloomberg.net\\nsandeep.junnarkar@news.co.uk\\n\\n\\nPOLICE\\nDet. Frank Castille\\nPolice Officer Dan D. Dennings\\nLt. Patrician Grace\\nDetective Susan Treeble\\nOfficer Cantwell Brady-Stevens\\n\\n\\nMOCK TABLE\\ncat 3452 black\\ndog 234 white\\nfish 3562 silver\\nrat 94 white\\nbird 1957 purple\\nhorse 3 black\\nchameleon  5724 green\\nsnake 6730 red\\n'"
      ]
     },
     "execution_count": 16,
     "metadata": {},
     "output_type": "execute_result"
    }
   ],
   "source": [
    "## access external document\n",
    "## store text into a variable\n",
    "with open(\"demo.txt\", \"r\") as text_obj:\n",
    "    text = text_obj.read()\n",
    "text"
   ]
  },
  {
   "cell_type": "code",
   "execution_count": 17,
   "metadata": {},
   "outputs": [
    {
     "name": "stdout",
     "output_type": "stream",
     "text": [
      "DEMO TEXT\n",
      "\n",
      "TELEPHONE NUMBERS\n",
      "Tel. 718-392-4793\n",
      "Tel. (646) 469-3211\n",
      "Tel. 917.425.2796\n",
      "\n",
      "NUMBERS\n",
      "1\n",
      "12\n",
      "123\n",
      "123,456\n",
      "123,456,789\n",
      "123,456,789.01\n",
      "\n",
      "EMAILS\n",
      "sandeep.junnarkar@journalism.cuny.edu\n",
      "sandeepj@gmail.com\n",
      "sjunnarkar@bloomberg.net\n",
      "sandeep.junnarkar@news.co.uk\n",
      "\n",
      "\n",
      "POLICE\n",
      "Det. Frank Castille\n",
      "Police Officer Dan D. Dennings\n",
      "Lt. Patrician Grace\n",
      "Detective Susan Treeble\n",
      "Officer Cantwell Brady-Stevens\n",
      "\n",
      "\n",
      "MOCK TABLE\n",
      "cat 3452 black\n",
      "dog 234 white\n",
      "fish 3562 silver\n",
      "rat 94 white\n",
      "bird 1957 purple\n",
      "horse 3 black\n",
      "chameleon  5724 green\n",
      "snake 6730 red\n",
      "\n"
     ]
    }
   ],
   "source": [
    "## print text\n",
    "print(text)"
   ]
  },
  {
   "cell_type": "code",
   "execution_count": 18,
   "metadata": {},
   "outputs": [
    {
     "data": {
      "text/plain": [
       "'DEMO TEXT\\n\\nTELEPHONE NUMBERS\\nTel. 718-392-4793\\nTel. (646) 469-3211\\nTel. 917.425.2796\\n\\nNUMBERS\\n1\\n12\\n123\\n123,456\\n123,456,789\\n123,456,789.01\\n\\nEMAILS\\nsandeep.junnarkar@journalism.cuny.edu\\nsandeepj@gmail.com\\nsjunnarkar@bloomberg.net\\nsandeep.junnarkar@news.co.uk\\n\\n\\nPOLICE\\nDet. Frank Castille\\nPolice Officer Dan D. Dennings\\nLt. Patrician Grace\\nDetective Susan Treeble\\nOfficer Cantwell Brady-Stevens\\n\\n\\nMOCK TABLE\\ncat 3452 black\\ndog 234 white\\nfish 3562 silver\\nrat 94 white\\nbird 1957 purple\\nhorse 3 black\\nchameleon  5724 green\\nsnake 6730 red\\n'"
      ]
     },
     "execution_count": 18,
     "metadata": {},
     "output_type": "execute_result"
    }
   ],
   "source": [
    "## call text\n",
    "text"
   ]
  },
  {
   "cell_type": "code",
   "execution_count": 23,
   "metadata": {
    "colab": {
     "base_uri": "https://localhost:8080/"
    },
    "id": "3RoifPaq9n-I",
    "outputId": "b4d8342e-47c8-4857-d390-ccea76eac79b"
   },
   "outputs": [
    {
     "data": {
      "text/plain": [
       "['718-392-4793', '(646) 469-3211', '917.425.2796']"
      ]
     },
     "execution_count": 23,
     "metadata": {},
     "output_type": "execute_result"
    }
   ],
   "source": [
    "## find all phone numbers\n",
    "tel_pat = re.compile(\"\\(?\\d{3}\\)?[-\\s\\.]?\\d{3}[-\\s\\.]?\\d{4}\")\n",
    "tel_numbers = tel_pat.findall(text)\n",
    "tel_numbers"
   ]
  },
  {
   "cell_type": "code",
   "execution_count": 24,
   "metadata": {
    "colab": {
     "base_uri": "https://localhost:8080/"
    },
    "id": "FA72TKhVRbPx",
    "outputId": "ae5184c0-2eb5-41b9-e466-89e102a55f4e"
   },
   "outputs": [
    {
     "data": {
      "text/plain": [
       "re.compile(r'\\(?\\d{3}\\)?[-\\s\\.]?\\d{3}[-\\s\\.]?\\d{4}', re.UNICODE)"
      ]
     },
     "execution_count": 24,
     "metadata": {},
     "output_type": "execute_result"
    }
   ],
   "source": [
    "## call our tel_pat to see someting interesting\n",
    "tel_pat"
   ]
  },
  {
   "cell_type": "markdown",
   "metadata": {
    "id": "1d7yjMi3RbPy"
   },
   "source": [
    "### Flags\n",
    "\n",
    "- ```re.IGNORECASE``` or ```re.I``` for ignore case\n",
    "- ```re.MULTILINE¶``` or ```re.M``` for multiline\n",
    "- ```re.DOTALL``` or ```re.S``` for period includes new lines\n",
    "- ```re.VERBOSE``` or ```re.X``` for breaking up the regex\n",
    "\n",
    "<a href=\"https://docs.python.org/3/library/re.html#re.ASCII\">More on flags</a>."
   ]
  },
  {
   "cell_type": "code",
   "execution_count": 25,
   "metadata": {},
   "outputs": [],
   "source": [
    "## find all words at the beginning of a line\n",
    "pat1 = re.compile(r\"^[a-z]+\\b\")"
   ]
  },
  {
   "cell_type": "code",
   "execution_count": 26,
   "metadata": {},
   "outputs": [
    {
     "data": {
      "text/plain": [
       "[]"
      ]
     },
     "execution_count": 26,
     "metadata": {},
     "output_type": "execute_result"
    }
   ],
   "source": [
    "## print all matches\n",
    "pat1.findall(text)"
   ]
  },
  {
   "cell_type": "code",
   "execution_count": 27,
   "metadata": {},
   "outputs": [],
   "source": [
    "## find all words at the beginning of a line\n",
    "## ^ or $ need multiline flag\n",
    "pat2 = re.compile(r\"^[a-z]+\\b\", re.M)"
   ]
  },
  {
   "cell_type": "code",
   "execution_count": 28,
   "metadata": {},
   "outputs": [
    {
     "data": {
      "text/plain": [
       "['sandeep',\n",
       " 'sandeepj',\n",
       " 'sjunnarkar',\n",
       " 'sandeep',\n",
       " 'cat',\n",
       " 'dog',\n",
       " 'fish',\n",
       " 'rat',\n",
       " 'bird',\n",
       " 'horse',\n",
       " 'chameleon',\n",
       " 'snake']"
      ]
     },
     "execution_count": 28,
     "metadata": {},
     "output_type": "execute_result"
    }
   ],
   "source": [
    "## print all matches\n",
    "pat2.findall(text)"
   ]
  },
  {
   "cell_type": "code",
   "execution_count": 29,
   "metadata": {
    "id": "PR1muPLjRbPx"
   },
   "outputs": [],
   "source": [
    "## find all words at the beginning of a line regardless of case\n",
    "pat3 = re.compile(r\"^[a-z]+\\b\", re.M | re.I)"
   ]
  },
  {
   "cell_type": "code",
   "execution_count": 30,
   "metadata": {
    "colab": {
     "base_uri": "https://localhost:8080/"
    },
    "id": "OYv9Y3E2xH4W",
    "outputId": "21c39a04-7209-4503-fe36-8a95825ff5ae"
   },
   "outputs": [
    {
     "data": {
      "text/plain": [
       "['DEMO',\n",
       " 'TELEPHONE',\n",
       " 'Tel',\n",
       " 'Tel',\n",
       " 'Tel',\n",
       " 'NUMBERS',\n",
       " 'EMAILS',\n",
       " 'sandeep',\n",
       " 'sandeepj',\n",
       " 'sjunnarkar',\n",
       " 'sandeep',\n",
       " 'POLICE',\n",
       " 'Det',\n",
       " 'Police',\n",
       " 'Lt',\n",
       " 'Detective',\n",
       " 'Officer',\n",
       " 'MOCK',\n",
       " 'cat',\n",
       " 'dog',\n",
       " 'fish',\n",
       " 'rat',\n",
       " 'bird',\n",
       " 'horse',\n",
       " 'chameleon',\n",
       " 'snake']"
      ]
     },
     "execution_count": 30,
     "metadata": {},
     "output_type": "execute_result"
    }
   ],
   "source": [
    "## find all matches for pat3\n",
    "pat3.findall(text)"
   ]
  },
  {
   "cell_type": "markdown",
   "metadata": {
    "id": "f3niV9QR39YW"
   },
   "source": [
    "## Capture Mock Table data\n",
    "Place animals, ID and color and place into dataframe"
   ]
  },
  {
   "cell_type": "code",
   "execution_count": 31,
   "metadata": {
    "id": "CX5rdgtY4BAO"
   },
   "outputs": [
    {
     "data": {
      "text/plain": [
       "'DEMO TEXT\\n\\nTELEPHONE NUMBERS\\nTel. 718-392-4793\\nTel. (646) 469-3211\\nTel. 917.425.2796\\n\\nNUMBERS\\n1\\n12\\n123\\n123,456\\n123,456,789\\n123,456,789.01\\n\\nEMAILS\\nsandeep.junnarkar@journalism.cuny.edu\\nsandeepj@gmail.com\\nsjunnarkar@bloomberg.net\\nsandeep.junnarkar@news.co.uk\\n\\n\\nPOLICE\\nDet. Frank Castille\\nPolice Officer Dan D. Dennings\\nLt. Patrician Grace\\nDetective Susan Treeble\\nOfficer Cantwell Brady-Stevens\\n\\n\\nMOCK TABLE\\ncat 3452 black\\ndog 234 white\\nfish 3562 silver\\nrat 94 white\\nbird 1957 purple\\nhorse 3 black\\nchameleon  5724 green\\nsnake 6730 red\\n'"
      ]
     },
     "execution_count": 31,
     "metadata": {},
     "output_type": "execute_result"
    }
   ],
   "source": [
    "## call text\n",
    "text"
   ]
  },
  {
   "cell_type": "code",
   "execution_count": 32,
   "metadata": {
    "colab": {
     "base_uri": "https://localhost:8080/"
    },
    "id": "HQMxI5oo4MWW",
    "outputId": "760d5315-77ac-403a-a1a9-824caa21404e"
   },
   "outputs": [
    {
     "name": "stdout",
     "output_type": "stream",
     "text": [
      "DEMO TEXT\n",
      "\n",
      "TELEPHONE NUMBERS\n",
      "Tel. 718-392-4793\n",
      "Tel. (646) 469-3211\n",
      "Tel. 917.425.2796\n",
      "\n",
      "NUMBERS\n",
      "1\n",
      "12\n",
      "123\n",
      "123,456\n",
      "123,456,789\n",
      "123,456,789.01\n",
      "\n",
      "EMAILS\n",
      "sandeep.junnarkar@journalism.cuny.edu\n",
      "sandeepj@gmail.com\n",
      "sjunnarkar@bloomberg.net\n",
      "sandeep.junnarkar@news.co.uk\n",
      "\n",
      "\n",
      "POLICE\n",
      "Det. Frank Castille\n",
      "Police Officer Dan D. Dennings\n",
      "Lt. Patrician Grace\n",
      "Detective Susan Treeble\n",
      "Officer Cantwell Brady-Stevens\n",
      "\n",
      "\n",
      "MOCK TABLE\n",
      "cat 3452 black\n",
      "dog 234 white\n",
      "fish 3562 silver\n",
      "rat 94 white\n",
      "bird 1957 purple\n",
      "horse 3 black\n",
      "chameleon  5724 green\n",
      "snake 6730 red\n",
      "\n"
     ]
    }
   ],
   "source": [
    "## print it\n",
    "print(text)"
   ]
  },
  {
   "cell_type": "code",
   "execution_count": 33,
   "metadata": {
    "colab": {
     "base_uri": "https://localhost:8080/"
    },
    "id": "mnYcNqltAyVX",
    "outputId": "d38b6b44-28e3-4da9-8124-14b20e412ee9"
   },
   "outputs": [
    {
     "data": {
      "text/plain": [
       "['cat 3452 black',\n",
       " 'dog 234 white',\n",
       " 'fish 3562 silver',\n",
       " 'rat 94 white',\n",
       " 'bird 1957 purple',\n",
       " 'horse 3 black',\n",
       " 'chameleon  5724 green',\n",
       " 'snake 6730 red']"
      ]
     },
     "execution_count": 33,
     "metadata": {},
     "output_type": "execute_result"
    }
   ],
   "source": [
    "## MATCH ALL animal data\n",
    "mock_pat = re.compile(\"^[a-z]+\\s+\\d+\\s\\w+$\", re.MULTILINE)\n",
    "mock_t = mock_pat.findall(text)\n",
    "mock_t"
   ]
  },
  {
   "cell_type": "code",
   "execution_count": 35,
   "metadata": {},
   "outputs": [
    {
     "data": {
      "text/html": [
       "<div>\n",
       "<style scoped>\n",
       "    .dataframe tbody tr th:only-of-type {\n",
       "        vertical-align: middle;\n",
       "    }\n",
       "\n",
       "    .dataframe tbody tr th {\n",
       "        vertical-align: top;\n",
       "    }\n",
       "\n",
       "    .dataframe thead th {\n",
       "        text-align: right;\n",
       "    }\n",
       "</style>\n",
       "<table border=\"1\" class=\"dataframe\">\n",
       "  <thead>\n",
       "    <tr style=\"text-align: right;\">\n",
       "      <th></th>\n",
       "      <th>0</th>\n",
       "    </tr>\n",
       "  </thead>\n",
       "  <tbody>\n",
       "    <tr>\n",
       "      <th>0</th>\n",
       "      <td>cat 3452 black</td>\n",
       "    </tr>\n",
       "    <tr>\n",
       "      <th>1</th>\n",
       "      <td>dog 234 white</td>\n",
       "    </tr>\n",
       "    <tr>\n",
       "      <th>2</th>\n",
       "      <td>fish 3562 silver</td>\n",
       "    </tr>\n",
       "    <tr>\n",
       "      <th>3</th>\n",
       "      <td>rat 94 white</td>\n",
       "    </tr>\n",
       "    <tr>\n",
       "      <th>4</th>\n",
       "      <td>bird 1957 purple</td>\n",
       "    </tr>\n",
       "    <tr>\n",
       "      <th>5</th>\n",
       "      <td>horse 3 black</td>\n",
       "    </tr>\n",
       "    <tr>\n",
       "      <th>6</th>\n",
       "      <td>chameleon  5724 green</td>\n",
       "    </tr>\n",
       "    <tr>\n",
       "      <th>7</th>\n",
       "      <td>snake 6730 red</td>\n",
       "    </tr>\n",
       "  </tbody>\n",
       "</table>\n",
       "</div>"
      ],
      "text/plain": [
       "                       0\n",
       "0         cat 3452 black\n",
       "1          dog 234 white\n",
       "2       fish 3562 silver\n",
       "3           rat 94 white\n",
       "4       bird 1957 purple\n",
       "5          horse 3 black\n",
       "6  chameleon  5724 green\n",
       "7         snake 6730 red"
      ]
     },
     "execution_count": 35,
     "metadata": {},
     "output_type": "execute_result"
    }
   ],
   "source": [
    "df = pd.DataFrame(mock_t)\n",
    "df"
   ]
  },
  {
   "cell_type": "code",
   "execution_count": 37,
   "metadata": {},
   "outputs": [
    {
     "data": {
      "text/plain": [
       "[('cat', '3452', 'black'),\n",
       " ('dog', '234', 'white'),\n",
       " ('fish', '3562', 'silver'),\n",
       " ('rat', '94', 'white'),\n",
       " ('bird', '1957', 'purple'),\n",
       " ('horse', '3', 'black'),\n",
       " ('chameleon', '5724', 'green'),\n",
       " ('snake', '6730', 'red')]"
      ]
     },
     "execution_count": 37,
     "metadata": {},
     "output_type": "execute_result"
    }
   ],
   "source": [
    "## Make it easier to read with VERBOSE\n",
    "mock_pat = re.compile(\"\"\"(^[a-z]+) # capture animal name\n",
    "                        \\s+ # exclude capture of space\n",
    "                        (\\d+) # capture ID number\n",
    "                        \\s # exclude capture of space\n",
    "                        (\\w+)$ # capature animal color\n",
    "                    \"\"\",\n",
    "                     re.M | re.VERBOSE)\n",
    "\n",
    "mock_table = mock_pat.findall(text)\n",
    "mock_table"
   ]
  },
  {
   "cell_type": "code",
   "execution_count": 38,
   "metadata": {
    "colab": {
     "base_uri": "https://localhost:8080/"
    },
    "id": "7YrdZRgEFIag",
    "outputId": "606ea2cc-64a3-4fa4-9e57-99df13e07aaf"
   },
   "outputs": [
    {
     "name": "stdout",
     "output_type": "stream",
     "text": [
      "<class 'tuple'>\n",
      "<class 'tuple'>\n",
      "<class 'tuple'>\n",
      "<class 'tuple'>\n",
      "<class 'tuple'>\n",
      "<class 'tuple'>\n",
      "<class 'tuple'>\n",
      "<class 'tuple'>\n"
     ]
    }
   ],
   "source": [
    "## type of object\n",
    "for item in mock_table:\n",
    "    print(type(item))"
   ]
  },
  {
   "cell_type": "code",
   "execution_count": 39,
   "metadata": {
    "colab": {
     "base_uri": "https://localhost:8080/",
     "height": 269
    },
    "id": "3VCBrnegFQht",
    "outputId": "91837b7f-4ce0-4cd6-e875-21bbbe82c7f5"
   },
   "outputs": [
    {
     "data": {
      "text/html": [
       "<div>\n",
       "<style scoped>\n",
       "    .dataframe tbody tr th:only-of-type {\n",
       "        vertical-align: middle;\n",
       "    }\n",
       "\n",
       "    .dataframe tbody tr th {\n",
       "        vertical-align: top;\n",
       "    }\n",
       "\n",
       "    .dataframe thead th {\n",
       "        text-align: right;\n",
       "    }\n",
       "</style>\n",
       "<table border=\"1\" class=\"dataframe\">\n",
       "  <thead>\n",
       "    <tr style=\"text-align: right;\">\n",
       "      <th></th>\n",
       "      <th>Animal</th>\n",
       "      <th>ID</th>\n",
       "      <th>Color</th>\n",
       "    </tr>\n",
       "  </thead>\n",
       "  <tbody>\n",
       "    <tr>\n",
       "      <th>0</th>\n",
       "      <td>cat</td>\n",
       "      <td>3452</td>\n",
       "      <td>black</td>\n",
       "    </tr>\n",
       "    <tr>\n",
       "      <th>1</th>\n",
       "      <td>dog</td>\n",
       "      <td>234</td>\n",
       "      <td>white</td>\n",
       "    </tr>\n",
       "    <tr>\n",
       "      <th>2</th>\n",
       "      <td>fish</td>\n",
       "      <td>3562</td>\n",
       "      <td>silver</td>\n",
       "    </tr>\n",
       "    <tr>\n",
       "      <th>3</th>\n",
       "      <td>rat</td>\n",
       "      <td>94</td>\n",
       "      <td>white</td>\n",
       "    </tr>\n",
       "    <tr>\n",
       "      <th>4</th>\n",
       "      <td>bird</td>\n",
       "      <td>1957</td>\n",
       "      <td>purple</td>\n",
       "    </tr>\n",
       "    <tr>\n",
       "      <th>5</th>\n",
       "      <td>horse</td>\n",
       "      <td>3</td>\n",
       "      <td>black</td>\n",
       "    </tr>\n",
       "    <tr>\n",
       "      <th>6</th>\n",
       "      <td>chameleon</td>\n",
       "      <td>5724</td>\n",
       "      <td>green</td>\n",
       "    </tr>\n",
       "    <tr>\n",
       "      <th>7</th>\n",
       "      <td>snake</td>\n",
       "      <td>6730</td>\n",
       "      <td>red</td>\n",
       "    </tr>\n",
       "  </tbody>\n",
       "</table>\n",
       "</div>"
      ],
      "text/plain": [
       "      Animal    ID   Color\n",
       "0        cat  3452   black\n",
       "1        dog   234   white\n",
       "2       fish  3562  silver\n",
       "3        rat    94   white\n",
       "4       bird  1957  purple\n",
       "5      horse     3   black\n",
       "6  chameleon  5724   green\n",
       "7      snake  6730     red"
      ]
     },
     "execution_count": 39,
     "metadata": {},
     "output_type": "execute_result"
    }
   ],
   "source": [
    "## export to df\n",
    "df1 = pd.DataFrame(mock_table)\n",
    "df1.columns = [\"Animal\", \"ID\", \"Color\"]\n",
    "\n",
    "df1"
   ]
  },
  {
   "cell_type": "markdown",
   "metadata": {},
   "source": [
    "## Capture Weapons data\n",
    "Place weapons dataframe"
   ]
  },
  {
   "cell_type": "code",
   "execution_count": 40,
   "metadata": {},
   "outputs": [
    {
     "data": {
      "text/plain": [
       "'Weapon Type/Force Used 2000 2001 2002 2003 2004 totals\\nPersonal Weapons 12,945 17,830 20,636 21,933 25,050 98,394\\nNone 2,702 3,114 2,974 3,294 4,176 16,260\\nOther 1,775 2,311 2,332 2,420 2,842 11,680\\nKnife/Cutting Instrument 1,511 2,082 2,080 2,445 2,852 10,970\\nHandgun 307 376 398 430 497 2,008\\nBlunt Object 283 404 394 455 469 2,005\\nFirearm (type not stated) 94 131 103 135 146 609\\nOther Firearm 74 107 92 155 154 582\\nExplosives 145 139 93 89 95 561\\nMotor Vehicle 43 52 46 59 71 271\\nFire/Incendiary Device 36 34 42 36 88 236\\nRifle 23 33 33 24 37 150\\nShotgun 15 24 30 19 24 112\\nDrugs/Narcotics/Sleeping Pills 9 4 8 14 6 41\\nPoison 1 8 4 11 16 40\\nAsphyxiation 2 1 3 6 2 14\\nUnknown 593 1,128 1,163 1,069 1,098 5,051'"
      ]
     },
     "execution_count": 40,
     "metadata": {},
     "output_type": "execute_result"
    }
   ],
   "source": [
    "## pull in weapons.txt\n",
    "\n",
    "with open(\"weapons.txt\", \"r\") as w:\n",
    "    wtext = w.read()\n",
    "\n",
    "wtext"
   ]
  },
  {
   "cell_type": "code",
   "execution_count": 41,
   "metadata": {},
   "outputs": [
    {
     "name": "stdout",
     "output_type": "stream",
     "text": [
      "Weapon Type/Force Used 2000 2001 2002 2003 2004 totals\n",
      "Personal Weapons 12,945 17,830 20,636 21,933 25,050 98,394\n",
      "None 2,702 3,114 2,974 3,294 4,176 16,260\n",
      "Other 1,775 2,311 2,332 2,420 2,842 11,680\n",
      "Knife/Cutting Instrument 1,511 2,082 2,080 2,445 2,852 10,970\n",
      "Handgun 307 376 398 430 497 2,008\n",
      "Blunt Object 283 404 394 455 469 2,005\n",
      "Firearm (type not stated) 94 131 103 135 146 609\n",
      "Other Firearm 74 107 92 155 154 582\n",
      "Explosives 145 139 93 89 95 561\n",
      "Motor Vehicle 43 52 46 59 71 271\n",
      "Fire/Incendiary Device 36 34 42 36 88 236\n",
      "Rifle 23 33 33 24 37 150\n",
      "Shotgun 15 24 30 19 24 112\n",
      "Drugs/Narcotics/Sleeping Pills 9 4 8 14 6 41\n",
      "Poison 1 8 4 11 16 40\n",
      "Asphyxiation 2 1 3 6 2 14\n",
      "Unknown 593 1,128 1,163 1,069 1,098 5,051\n"
     ]
    }
   ],
   "source": [
    "print(wtext)"
   ]
  },
  {
   "cell_type": "code",
   "execution_count": 48,
   "metadata": {},
   "outputs": [],
   "source": [
    "## regex to find pattern\n",
    "w_pat = re.compile(\"\"\"(?P<weapon_type>^\\D+) ## capture weapons type\n",
    "                   \\s # exclude space\n",
    "                   (?P<y_2000>[,\\d]+) # capture 2000\n",
    "                   \\s # exclude space\n",
    "                   (?P<y_2001>[,\\d]+) # capture 2001\n",
    "                   \\s\n",
    "                   (?P<y_2002>[,\\d]+) # capture 2002\n",
    "                   \\s\n",
    "                   (?P<y_2003>[,\\d]+) # capture 2003\n",
    "                   \\s\n",
    "                   (?P<y_2004>[,\\d]+) # capture 2004\n",
    "                   \\s\n",
    "                   (?P<totals>[,\\w]+) #capture totals\n",
    "                   \"\"\",\n",
    "                  re.X | re.M | re.I)"
   ]
  },
  {
   "cell_type": "code",
   "execution_count": 49,
   "metadata": {
    "colab": {
     "base_uri": "https://localhost:8080/"
    },
    "id": "_f9-JuZR7qDH",
    "outputId": "62665a88-2349-4b1e-865b-d0cd8560ef3c"
   },
   "outputs": [
    {
     "data": {
      "text/plain": [
       "<re.Match object; span=(0, 54), match='Weapon Type/Force Used 2000 2001 2002 2003 2004 t>"
      ]
     },
     "execution_count": 49,
     "metadata": {},
     "output_type": "execute_result"
    }
   ],
   "source": [
    "## test with search\n",
    "re.search(w_pat, wtext)"
   ]
  },
  {
   "cell_type": "code",
   "execution_count": 50,
   "metadata": {},
   "outputs": [
    {
     "data": {
      "text/plain": [
       "[('Weapon Type/Force Used', '2000', '2001', '2002', '2003', '2004', 'totals'),\n",
       " ('Personal Weapons',\n",
       "  '12,945',\n",
       "  '17,830',\n",
       "  '20,636',\n",
       "  '21,933',\n",
       "  '25,050',\n",
       "  '98,394'),\n",
       " ('None', '2,702', '3,114', '2,974', '3,294', '4,176', '16,260'),\n",
       " ('Other', '1,775', '2,311', '2,332', '2,420', '2,842', '11,680'),\n",
       " ('Knife/Cutting Instrument',\n",
       "  '1,511',\n",
       "  '2,082',\n",
       "  '2,080',\n",
       "  '2,445',\n",
       "  '2,852',\n",
       "  '10,970'),\n",
       " ('Handgun', '307', '376', '398', '430', '497', '2,008'),\n",
       " ('Blunt Object', '283', '404', '394', '455', '469', '2,005'),\n",
       " ('Firearm (type not stated)', '94', '131', '103', '135', '146', '609'),\n",
       " ('Other Firearm', '74', '107', '92', '155', '154', '582'),\n",
       " ('Explosives', '145', '139', '93', '89', '95', '561'),\n",
       " ('Motor Vehicle', '43', '52', '46', '59', '71', '271'),\n",
       " ('Fire/Incendiary Device', '36', '34', '42', '36', '88', '236'),\n",
       " ('Rifle', '23', '33', '33', '24', '37', '150'),\n",
       " ('Shotgun', '15', '24', '30', '19', '24', '112'),\n",
       " ('Drugs/Narcotics/Sleeping Pills', '9', '4', '8', '14', '6', '41'),\n",
       " ('Poison', '1', '8', '4', '11', '16', '40'),\n",
       " ('Asphyxiation', '2', '1', '3', '6', '2', '14'),\n",
       " ('Unknown', '593', '1,128', '1,163', '1,069', '1,098', '5,051')]"
      ]
     },
     "execution_count": 50,
     "metadata": {},
     "output_type": "execute_result"
    }
   ],
   "source": [
    "## CAPTURE into weapons table\n",
    "w_table = re.findall(w_pat, wtext)\n",
    "w_table"
   ]
  },
  {
   "cell_type": "code",
   "execution_count": 51,
   "metadata": {},
   "outputs": [
    {
     "data": {
      "text/html": [
       "<div>\n",
       "<style scoped>\n",
       "    .dataframe tbody tr th:only-of-type {\n",
       "        vertical-align: middle;\n",
       "    }\n",
       "\n",
       "    .dataframe tbody tr th {\n",
       "        vertical-align: top;\n",
       "    }\n",
       "\n",
       "    .dataframe thead th {\n",
       "        text-align: right;\n",
       "    }\n",
       "</style>\n",
       "<table border=\"1\" class=\"dataframe\">\n",
       "  <thead>\n",
       "    <tr style=\"text-align: right;\">\n",
       "      <th></th>\n",
       "      <th>0</th>\n",
       "      <th>1</th>\n",
       "      <th>2</th>\n",
       "      <th>3</th>\n",
       "      <th>4</th>\n",
       "      <th>5</th>\n",
       "      <th>6</th>\n",
       "    </tr>\n",
       "  </thead>\n",
       "  <tbody>\n",
       "    <tr>\n",
       "      <th>0</th>\n",
       "      <td>Weapon Type/Force Used</td>\n",
       "      <td>2000</td>\n",
       "      <td>2001</td>\n",
       "      <td>2002</td>\n",
       "      <td>2003</td>\n",
       "      <td>2004</td>\n",
       "      <td>totals</td>\n",
       "    </tr>\n",
       "    <tr>\n",
       "      <th>1</th>\n",
       "      <td>Personal Weapons</td>\n",
       "      <td>12,945</td>\n",
       "      <td>17,830</td>\n",
       "      <td>20,636</td>\n",
       "      <td>21,933</td>\n",
       "      <td>25,050</td>\n",
       "      <td>98,394</td>\n",
       "    </tr>\n",
       "    <tr>\n",
       "      <th>2</th>\n",
       "      <td>None</td>\n",
       "      <td>2,702</td>\n",
       "      <td>3,114</td>\n",
       "      <td>2,974</td>\n",
       "      <td>3,294</td>\n",
       "      <td>4,176</td>\n",
       "      <td>16,260</td>\n",
       "    </tr>\n",
       "    <tr>\n",
       "      <th>3</th>\n",
       "      <td>Other</td>\n",
       "      <td>1,775</td>\n",
       "      <td>2,311</td>\n",
       "      <td>2,332</td>\n",
       "      <td>2,420</td>\n",
       "      <td>2,842</td>\n",
       "      <td>11,680</td>\n",
       "    </tr>\n",
       "    <tr>\n",
       "      <th>4</th>\n",
       "      <td>Knife/Cutting Instrument</td>\n",
       "      <td>1,511</td>\n",
       "      <td>2,082</td>\n",
       "      <td>2,080</td>\n",
       "      <td>2,445</td>\n",
       "      <td>2,852</td>\n",
       "      <td>10,970</td>\n",
       "    </tr>\n",
       "    <tr>\n",
       "      <th>5</th>\n",
       "      <td>Handgun</td>\n",
       "      <td>307</td>\n",
       "      <td>376</td>\n",
       "      <td>398</td>\n",
       "      <td>430</td>\n",
       "      <td>497</td>\n",
       "      <td>2,008</td>\n",
       "    </tr>\n",
       "    <tr>\n",
       "      <th>6</th>\n",
       "      <td>Blunt Object</td>\n",
       "      <td>283</td>\n",
       "      <td>404</td>\n",
       "      <td>394</td>\n",
       "      <td>455</td>\n",
       "      <td>469</td>\n",
       "      <td>2,005</td>\n",
       "    </tr>\n",
       "    <tr>\n",
       "      <th>7</th>\n",
       "      <td>Firearm (type not stated)</td>\n",
       "      <td>94</td>\n",
       "      <td>131</td>\n",
       "      <td>103</td>\n",
       "      <td>135</td>\n",
       "      <td>146</td>\n",
       "      <td>609</td>\n",
       "    </tr>\n",
       "    <tr>\n",
       "      <th>8</th>\n",
       "      <td>Other Firearm</td>\n",
       "      <td>74</td>\n",
       "      <td>107</td>\n",
       "      <td>92</td>\n",
       "      <td>155</td>\n",
       "      <td>154</td>\n",
       "      <td>582</td>\n",
       "    </tr>\n",
       "    <tr>\n",
       "      <th>9</th>\n",
       "      <td>Explosives</td>\n",
       "      <td>145</td>\n",
       "      <td>139</td>\n",
       "      <td>93</td>\n",
       "      <td>89</td>\n",
       "      <td>95</td>\n",
       "      <td>561</td>\n",
       "    </tr>\n",
       "    <tr>\n",
       "      <th>10</th>\n",
       "      <td>Motor Vehicle</td>\n",
       "      <td>43</td>\n",
       "      <td>52</td>\n",
       "      <td>46</td>\n",
       "      <td>59</td>\n",
       "      <td>71</td>\n",
       "      <td>271</td>\n",
       "    </tr>\n",
       "    <tr>\n",
       "      <th>11</th>\n",
       "      <td>Fire/Incendiary Device</td>\n",
       "      <td>36</td>\n",
       "      <td>34</td>\n",
       "      <td>42</td>\n",
       "      <td>36</td>\n",
       "      <td>88</td>\n",
       "      <td>236</td>\n",
       "    </tr>\n",
       "    <tr>\n",
       "      <th>12</th>\n",
       "      <td>Rifle</td>\n",
       "      <td>23</td>\n",
       "      <td>33</td>\n",
       "      <td>33</td>\n",
       "      <td>24</td>\n",
       "      <td>37</td>\n",
       "      <td>150</td>\n",
       "    </tr>\n",
       "    <tr>\n",
       "      <th>13</th>\n",
       "      <td>Shotgun</td>\n",
       "      <td>15</td>\n",
       "      <td>24</td>\n",
       "      <td>30</td>\n",
       "      <td>19</td>\n",
       "      <td>24</td>\n",
       "      <td>112</td>\n",
       "    </tr>\n",
       "    <tr>\n",
       "      <th>14</th>\n",
       "      <td>Drugs/Narcotics/Sleeping Pills</td>\n",
       "      <td>9</td>\n",
       "      <td>4</td>\n",
       "      <td>8</td>\n",
       "      <td>14</td>\n",
       "      <td>6</td>\n",
       "      <td>41</td>\n",
       "    </tr>\n",
       "    <tr>\n",
       "      <th>15</th>\n",
       "      <td>Poison</td>\n",
       "      <td>1</td>\n",
       "      <td>8</td>\n",
       "      <td>4</td>\n",
       "      <td>11</td>\n",
       "      <td>16</td>\n",
       "      <td>40</td>\n",
       "    </tr>\n",
       "    <tr>\n",
       "      <th>16</th>\n",
       "      <td>Asphyxiation</td>\n",
       "      <td>2</td>\n",
       "      <td>1</td>\n",
       "      <td>3</td>\n",
       "      <td>6</td>\n",
       "      <td>2</td>\n",
       "      <td>14</td>\n",
       "    </tr>\n",
       "    <tr>\n",
       "      <th>17</th>\n",
       "      <td>Unknown</td>\n",
       "      <td>593</td>\n",
       "      <td>1,128</td>\n",
       "      <td>1,163</td>\n",
       "      <td>1,069</td>\n",
       "      <td>1,098</td>\n",
       "      <td>5,051</td>\n",
       "    </tr>\n",
       "  </tbody>\n",
       "</table>\n",
       "</div>"
      ],
      "text/plain": [
       "                                 0       1       2       3       4       5  \\\n",
       "0           Weapon Type/Force Used    2000    2001    2002    2003    2004   \n",
       "1                 Personal Weapons  12,945  17,830  20,636  21,933  25,050   \n",
       "2                             None   2,702   3,114   2,974   3,294   4,176   \n",
       "3                            Other   1,775   2,311   2,332   2,420   2,842   \n",
       "4         Knife/Cutting Instrument   1,511   2,082   2,080   2,445   2,852   \n",
       "5                          Handgun     307     376     398     430     497   \n",
       "6                     Blunt Object     283     404     394     455     469   \n",
       "7        Firearm (type not stated)      94     131     103     135     146   \n",
       "8                    Other Firearm      74     107      92     155     154   \n",
       "9                       Explosives     145     139      93      89      95   \n",
       "10                   Motor Vehicle      43      52      46      59      71   \n",
       "11          Fire/Incendiary Device      36      34      42      36      88   \n",
       "12                           Rifle      23      33      33      24      37   \n",
       "13                         Shotgun      15      24      30      19      24   \n",
       "14  Drugs/Narcotics/Sleeping Pills       9       4       8      14       6   \n",
       "15                          Poison       1       8       4      11      16   \n",
       "16                    Asphyxiation       2       1       3       6       2   \n",
       "17                         Unknown     593   1,128   1,163   1,069   1,098   \n",
       "\n",
       "         6  \n",
       "0   totals  \n",
       "1   98,394  \n",
       "2   16,260  \n",
       "3   11,680  \n",
       "4   10,970  \n",
       "5    2,008  \n",
       "6    2,005  \n",
       "7      609  \n",
       "8      582  \n",
       "9      561  \n",
       "10     271  \n",
       "11     236  \n",
       "12     150  \n",
       "13     112  \n",
       "14      41  \n",
       "15      40  \n",
       "16      14  \n",
       "17   5,051  "
      ]
     },
     "execution_count": 51,
     "metadata": {},
     "output_type": "execute_result"
    }
   ],
   "source": [
    "df = pd.DataFrame(w_table)\n",
    "df"
   ]
  },
  {
   "cell_type": "code",
   "execution_count": 52,
   "metadata": {},
   "outputs": [
    {
     "data": {
      "text/plain": [
       "['Weapon Type/Force Used', '2000', '2001', '2002', '2003', '2004', 'totals']"
      ]
     },
     "execution_count": 52,
     "metadata": {},
     "output_type": "execute_result"
    }
   ],
   "source": [
    "## how do we capture the first tuble item as a list?\n",
    "list(w_table[0])"
   ]
  },
  {
   "cell_type": "code",
   "execution_count": 53,
   "metadata": {},
   "outputs": [
    {
     "data": {
      "text/plain": [
       "[('Personal Weapons',\n",
       "  '12,945',\n",
       "  '17,830',\n",
       "  '20,636',\n",
       "  '21,933',\n",
       "  '25,050',\n",
       "  '98,394'),\n",
       " ('None', '2,702', '3,114', '2,974', '3,294', '4,176', '16,260'),\n",
       " ('Other', '1,775', '2,311', '2,332', '2,420', '2,842', '11,680'),\n",
       " ('Knife/Cutting Instrument',\n",
       "  '1,511',\n",
       "  '2,082',\n",
       "  '2,080',\n",
       "  '2,445',\n",
       "  '2,852',\n",
       "  '10,970'),\n",
       " ('Handgun', '307', '376', '398', '430', '497', '2,008'),\n",
       " ('Blunt Object', '283', '404', '394', '455', '469', '2,005'),\n",
       " ('Firearm (type not stated)', '94', '131', '103', '135', '146', '609'),\n",
       " ('Other Firearm', '74', '107', '92', '155', '154', '582'),\n",
       " ('Explosives', '145', '139', '93', '89', '95', '561'),\n",
       " ('Motor Vehicle', '43', '52', '46', '59', '71', '271'),\n",
       " ('Fire/Incendiary Device', '36', '34', '42', '36', '88', '236'),\n",
       " ('Rifle', '23', '33', '33', '24', '37', '150'),\n",
       " ('Shotgun', '15', '24', '30', '19', '24', '112'),\n",
       " ('Drugs/Narcotics/Sleeping Pills', '9', '4', '8', '14', '6', '41'),\n",
       " ('Poison', '1', '8', '4', '11', '16', '40'),\n",
       " ('Asphyxiation', '2', '1', '3', '6', '2', '14'),\n",
       " ('Unknown', '593', '1,128', '1,163', '1,069', '1,098', '5,051')]"
      ]
     },
     "execution_count": 53,
     "metadata": {},
     "output_type": "execute_result"
    }
   ],
   "source": [
    "list(w_table[1:])"
   ]
  },
  {
   "cell_type": "code",
   "execution_count": 54,
   "metadata": {
    "colab": {
     "base_uri": "https://localhost:8080/",
     "height": 388
    },
    "id": "bKysO65Q7qO-",
    "outputId": "59724385-6eb8-48ce-b06a-b4894166b505"
   },
   "outputs": [
    {
     "data": {
      "text/html": [
       "<div>\n",
       "<style scoped>\n",
       "    .dataframe tbody tr th:only-of-type {\n",
       "        vertical-align: middle;\n",
       "    }\n",
       "\n",
       "    .dataframe tbody tr th {\n",
       "        vertical-align: top;\n",
       "    }\n",
       "\n",
       "    .dataframe thead th {\n",
       "        text-align: right;\n",
       "    }\n",
       "</style>\n",
       "<table border=\"1\" class=\"dataframe\">\n",
       "  <thead>\n",
       "    <tr style=\"text-align: right;\">\n",
       "      <th></th>\n",
       "      <th>Weapon Type/Force Used</th>\n",
       "      <th>2000</th>\n",
       "      <th>2001</th>\n",
       "      <th>2002</th>\n",
       "      <th>2003</th>\n",
       "      <th>2004</th>\n",
       "      <th>totals</th>\n",
       "    </tr>\n",
       "  </thead>\n",
       "  <tbody>\n",
       "    <tr>\n",
       "      <th>0</th>\n",
       "      <td>Personal Weapons</td>\n",
       "      <td>12,945</td>\n",
       "      <td>17,830</td>\n",
       "      <td>20,636</td>\n",
       "      <td>21,933</td>\n",
       "      <td>25,050</td>\n",
       "      <td>98,394</td>\n",
       "    </tr>\n",
       "    <tr>\n",
       "      <th>1</th>\n",
       "      <td>None</td>\n",
       "      <td>2,702</td>\n",
       "      <td>3,114</td>\n",
       "      <td>2,974</td>\n",
       "      <td>3,294</td>\n",
       "      <td>4,176</td>\n",
       "      <td>16,260</td>\n",
       "    </tr>\n",
       "    <tr>\n",
       "      <th>2</th>\n",
       "      <td>Other</td>\n",
       "      <td>1,775</td>\n",
       "      <td>2,311</td>\n",
       "      <td>2,332</td>\n",
       "      <td>2,420</td>\n",
       "      <td>2,842</td>\n",
       "      <td>11,680</td>\n",
       "    </tr>\n",
       "    <tr>\n",
       "      <th>3</th>\n",
       "      <td>Knife/Cutting Instrument</td>\n",
       "      <td>1,511</td>\n",
       "      <td>2,082</td>\n",
       "      <td>2,080</td>\n",
       "      <td>2,445</td>\n",
       "      <td>2,852</td>\n",
       "      <td>10,970</td>\n",
       "    </tr>\n",
       "    <tr>\n",
       "      <th>4</th>\n",
       "      <td>Handgun</td>\n",
       "      <td>307</td>\n",
       "      <td>376</td>\n",
       "      <td>398</td>\n",
       "      <td>430</td>\n",
       "      <td>497</td>\n",
       "      <td>2,008</td>\n",
       "    </tr>\n",
       "    <tr>\n",
       "      <th>5</th>\n",
       "      <td>Blunt Object</td>\n",
       "      <td>283</td>\n",
       "      <td>404</td>\n",
       "      <td>394</td>\n",
       "      <td>455</td>\n",
       "      <td>469</td>\n",
       "      <td>2,005</td>\n",
       "    </tr>\n",
       "    <tr>\n",
       "      <th>6</th>\n",
       "      <td>Firearm (type not stated)</td>\n",
       "      <td>94</td>\n",
       "      <td>131</td>\n",
       "      <td>103</td>\n",
       "      <td>135</td>\n",
       "      <td>146</td>\n",
       "      <td>609</td>\n",
       "    </tr>\n",
       "    <tr>\n",
       "      <th>7</th>\n",
       "      <td>Other Firearm</td>\n",
       "      <td>74</td>\n",
       "      <td>107</td>\n",
       "      <td>92</td>\n",
       "      <td>155</td>\n",
       "      <td>154</td>\n",
       "      <td>582</td>\n",
       "    </tr>\n",
       "    <tr>\n",
       "      <th>8</th>\n",
       "      <td>Explosives</td>\n",
       "      <td>145</td>\n",
       "      <td>139</td>\n",
       "      <td>93</td>\n",
       "      <td>89</td>\n",
       "      <td>95</td>\n",
       "      <td>561</td>\n",
       "    </tr>\n",
       "    <tr>\n",
       "      <th>9</th>\n",
       "      <td>Motor Vehicle</td>\n",
       "      <td>43</td>\n",
       "      <td>52</td>\n",
       "      <td>46</td>\n",
       "      <td>59</td>\n",
       "      <td>71</td>\n",
       "      <td>271</td>\n",
       "    </tr>\n",
       "    <tr>\n",
       "      <th>10</th>\n",
       "      <td>Fire/Incendiary Device</td>\n",
       "      <td>36</td>\n",
       "      <td>34</td>\n",
       "      <td>42</td>\n",
       "      <td>36</td>\n",
       "      <td>88</td>\n",
       "      <td>236</td>\n",
       "    </tr>\n",
       "    <tr>\n",
       "      <th>11</th>\n",
       "      <td>Rifle</td>\n",
       "      <td>23</td>\n",
       "      <td>33</td>\n",
       "      <td>33</td>\n",
       "      <td>24</td>\n",
       "      <td>37</td>\n",
       "      <td>150</td>\n",
       "    </tr>\n",
       "    <tr>\n",
       "      <th>12</th>\n",
       "      <td>Shotgun</td>\n",
       "      <td>15</td>\n",
       "      <td>24</td>\n",
       "      <td>30</td>\n",
       "      <td>19</td>\n",
       "      <td>24</td>\n",
       "      <td>112</td>\n",
       "    </tr>\n",
       "    <tr>\n",
       "      <th>13</th>\n",
       "      <td>Drugs/Narcotics/Sleeping Pills</td>\n",
       "      <td>9</td>\n",
       "      <td>4</td>\n",
       "      <td>8</td>\n",
       "      <td>14</td>\n",
       "      <td>6</td>\n",
       "      <td>41</td>\n",
       "    </tr>\n",
       "    <tr>\n",
       "      <th>14</th>\n",
       "      <td>Poison</td>\n",
       "      <td>1</td>\n",
       "      <td>8</td>\n",
       "      <td>4</td>\n",
       "      <td>11</td>\n",
       "      <td>16</td>\n",
       "      <td>40</td>\n",
       "    </tr>\n",
       "    <tr>\n",
       "      <th>15</th>\n",
       "      <td>Asphyxiation</td>\n",
       "      <td>2</td>\n",
       "      <td>1</td>\n",
       "      <td>3</td>\n",
       "      <td>6</td>\n",
       "      <td>2</td>\n",
       "      <td>14</td>\n",
       "    </tr>\n",
       "    <tr>\n",
       "      <th>16</th>\n",
       "      <td>Unknown</td>\n",
       "      <td>593</td>\n",
       "      <td>1,128</td>\n",
       "      <td>1,163</td>\n",
       "      <td>1,069</td>\n",
       "      <td>1,098</td>\n",
       "      <td>5,051</td>\n",
       "    </tr>\n",
       "  </tbody>\n",
       "</table>\n",
       "</div>"
      ],
      "text/plain": [
       "            Weapon Type/Force Used    2000    2001    2002    2003    2004  \\\n",
       "0                 Personal Weapons  12,945  17,830  20,636  21,933  25,050   \n",
       "1                             None   2,702   3,114   2,974   3,294   4,176   \n",
       "2                            Other   1,775   2,311   2,332   2,420   2,842   \n",
       "3         Knife/Cutting Instrument   1,511   2,082   2,080   2,445   2,852   \n",
       "4                          Handgun     307     376     398     430     497   \n",
       "5                     Blunt Object     283     404     394     455     469   \n",
       "6        Firearm (type not stated)      94     131     103     135     146   \n",
       "7                    Other Firearm      74     107      92     155     154   \n",
       "8                       Explosives     145     139      93      89      95   \n",
       "9                    Motor Vehicle      43      52      46      59      71   \n",
       "10          Fire/Incendiary Device      36      34      42      36      88   \n",
       "11                           Rifle      23      33      33      24      37   \n",
       "12                         Shotgun      15      24      30      19      24   \n",
       "13  Drugs/Narcotics/Sleeping Pills       9       4       8      14       6   \n",
       "14                          Poison       1       8       4      11      16   \n",
       "15                    Asphyxiation       2       1       3       6       2   \n",
       "16                         Unknown     593   1,128   1,163   1,069   1,098   \n",
       "\n",
       "    totals  \n",
       "0   98,394  \n",
       "1   16,260  \n",
       "2   11,680  \n",
       "3   10,970  \n",
       "4    2,008  \n",
       "5    2,005  \n",
       "6      609  \n",
       "7      582  \n",
       "8      561  \n",
       "9      271  \n",
       "10     236  \n",
       "11     150  \n",
       "12     112  \n",
       "13      41  \n",
       "14      40  \n",
       "15      14  \n",
       "16   5,051  "
      ]
     },
     "execution_count": 54,
     "metadata": {},
     "output_type": "execute_result"
    }
   ],
   "source": [
    "## convert into df\n",
    "df = pd.DataFrame(w_table[1:])\n",
    "df.columns = list(w_table[0])\n",
    "df"
   ]
  },
  {
   "cell_type": "code",
   "execution_count": null,
   "metadata": {
    "id": "0Sq2fRzV8X7u"
   },
   "outputs": [],
   "source": [
    "## export as CSV\n"
   ]
  },
  {
   "cell_type": "markdown",
   "metadata": {
    "id": "9PmgWaXKRbP8"
   },
   "source": [
    "## Find key data points embedded in text\n",
    "\n",
    "#### demo text:"
   ]
  },
  {
   "cell_type": "code",
   "execution_count": null,
   "metadata": {
    "id": "ySCUxOb5RbQA"
   },
   "outputs": [],
   "source": [
    "some_text = '''\n",
    "Name: Sandeep Junnarkar\n",
    "Proin elementum, ipsum id ullamcorper euismod, diam diam laoreet urna. \n",
    "Date: January 5, 2011\n",
    "Eu tempus eros augue quis nulla. \n",
    "Location: Berkeley, Ca\n",
    "\n",
    "Name: Peter Smith\n",
    "Proin elementum, ipsum id ullamcorper euismod, diam diam laoreet urna. \n",
    "Date: March 24, 1988\n",
    "Eu tempus eros augue quis nulla. \n",
    "Location: New York, NY\n",
    "\n",
    "Name: American Artist\n",
    "Proin elementum, ipsum id ullamcorper euismod, diam diam laoreet urna. \n",
    "Date: July 1, 2022\n",
    "Eu tempus eros augue quis nulla. \n",
    "Location: Flushing, NY\n",
    "\n",
    "Name: Jill F. Doe\n",
    "Proin elementum, ipsum id ullamcorper euismod, diam diam laoreet urna. \n",
    "Date: December 16, 2010\n",
    "Eu tempus eros augue quis nulla. \n",
    "Location: Miami, Florida\n",
    "'''"
   ]
  },
  {
   "cell_type": "code",
   "execution_count": null,
   "metadata": {},
   "outputs": [],
   "source": [
    "## patterns:\n"
   ]
  },
  {
   "cell_type": "code",
   "execution_count": null,
   "metadata": {},
   "outputs": [],
   "source": [
    "## find dates\n"
   ]
  },
  {
   "cell_type": "code",
   "execution_count": null,
   "metadata": {},
   "outputs": [],
   "source": [
    "## find names\n"
   ]
  },
  {
   "cell_type": "code",
   "execution_count": null,
   "metadata": {},
   "outputs": [],
   "source": [
    "## pulling in multiple capture groups\n"
   ]
  },
  {
   "cell_type": "code",
   "execution_count": null,
   "metadata": {},
   "outputs": [],
   "source": [
    "## lo\n",
    "loc_list = loc_pat.findall(some_text)\n",
    "loc_list"
   ]
  },
  {
   "cell_type": "code",
   "execution_count": null,
   "metadata": {},
   "outputs": [],
   "source": [
    "df = pd.DataFrame(list(zip(names_list, loc_list, date_list)),\n",
    "                 columns = [\"name\", \"location\", \"date\"])\n",
    "df"
   ]
  },
  {
   "cell_type": "code",
   "execution_count": null,
   "metadata": {},
   "outputs": [],
   "source": []
  }
 ],
 "metadata": {
  "colab": {
   "collapsed_sections": [],
   "name": "PREP for week-13-regex-2-DEMO.ipynb",
   "provenance": []
  },
  "kernelspec": {
   "display_name": "Python 3",
   "language": "python",
   "name": "python3"
  },
  "language_info": {
   "codemirror_mode": {
    "name": "ipython",
    "version": 3
   },
   "file_extension": ".py",
   "mimetype": "text/x-python",
   "name": "python",
   "nbconvert_exporter": "python",
   "pygments_lexer": "ipython3",
   "version": "3.8.8"
  }
 },
 "nbformat": 4,
 "nbformat_minor": 1
}
