{
 "cells": [
  {
   "cell_type": "markdown",
   "metadata": {
    "id": "fv1F1HyA9zmX"
   },
   "source": [
    "# Capture and organize data in downloaded files "
   ]
  },
  {
   "cell_type": "markdown",
   "metadata": {
    "id": "EsXo4Upb9zmb"
   },
   "source": [
    "We downloaded these ```.txt``` and ```.pdf``` files in our most recent scrape. We won't scrape them again. \n",
    "\n",
    "We will read the text files using Python and export data to csv. (are you seeing a pattern yet?)"
   ]
  },
  {
   "cell_type": "markdown",
   "metadata": {
    "id": "lyvc6CPd-FUC"
   },
   "source": [
    "# Import libraries\n"
   ]
  },
  {
   "cell_type": "code",
   "execution_count": null,
   "metadata": {
    "id": "m2ru6dyM9zmb"
   },
   "outputs": [],
   "source": [
    "## in order to export our file to our computer drive, you need this only in Colab:\n",
    "from google.colab import files\n",
    "import os ## for file/folder management\n",
    "from pathlib import Path ## to provide a path to files/folders\n",
    "## import the glob library for collecting specific files into a list\n",
    "import glob \n",
    "import pandas as pd ## to export csv file\n"
   ]
  },
  {
   "cell_type": "markdown",
   "metadata": {
    "id": "AB2_Oy8HlCRW"
   },
   "source": [
    "## where am i?"
   ]
  },
  {
   "cell_type": "code",
   "execution_count": null,
   "metadata": {
    "id": "CAuO3kqilCRW"
   },
   "outputs": [],
   "source": []
  },
  {
   "cell_type": "code",
   "execution_count": null,
   "metadata": {
    "id": "Ezd1IYJQD95X"
   },
   "outputs": [],
   "source": [
    "## let's capture the files in a list\n",
    "## unlike earlier when when we capture the locations,\n",
    "## these are the actual files with their contents.\n"
   ]
  },
  {
   "cell_type": "code",
   "execution_count": null,
   "metadata": {
    "id": "fvax9kwamuMx"
   },
   "outputs": [],
   "source": [
    "#let's turn each file into readable content\n"
   ]
  },
  {
   "cell_type": "markdown",
   "metadata": {
    "id": "OdcgUwoknrrd"
   },
   "source": [
    "## We can interpret this ```<class '_io.TextIOWrapper'>``` to read the actual contents"
   ]
  },
  {
   "cell_type": "code",
   "execution_count": null,
   "metadata": {
    "id": "fqN9xmTuD-Ao"
   },
   "outputs": [],
   "source": [
    "## let's see what the first line of each file contains\n",
    "\n"
   ]
  },
  {
   "cell_type": "code",
   "execution_count": null,
   "metadata": {
    "id": "WmZYM2D4D99U"
   },
   "outputs": [],
   "source": [
    "## let's see what each entire file contains\n",
    "\n",
    "\n",
    "\n"
   ]
  },
  {
   "cell_type": "code",
   "execution_count": null,
   "metadata": {
    "id": "oU_37TIvD-Dl"
   },
   "outputs": [],
   "source": [
    "## let read all the lines and put into a list\n",
    "\n",
    "## let's see what the first line of file contains\n",
    "\n",
    "\n",
    "    "
   ]
  },
  {
   "cell_type": "code",
   "execution_count": null,
   "metadata": {
    "id": "y72rctb5D-Gu"
   },
   "outputs": [],
   "source": [
    "## Now let's place clients and decisions into variables called client and decision\n",
    "\n"
   ]
  },
  {
   "cell_type": "code",
   "execution_count": null,
   "metadata": {
    "id": "5yuvCxJoD-KT"
   },
   "outputs": [],
   "source": [
    "## let's remove the word client and the extra line\n",
    "\n"
   ]
  },
  {
   "cell_type": "code",
   "execution_count": null,
   "metadata": {
    "id": "opp5s8STjCye"
   },
   "outputs": [],
   "source": [
    "## We don't want an entire sentence – just what the decision was.\n",
    "## we just want to know the status of lease in one word renew or terminate\n",
    "\n"
   ]
  },
  {
   "cell_type": "code",
   "execution_count": null,
   "metadata": {
    "id": "9hEhNKkXjYHT"
   },
   "outputs": [],
   "source": [
    "## We want to store in a list to export as CSV file\n"
   ]
  },
  {
   "cell_type": "markdown",
   "metadata": {
    "id": "isxnLpPRlCRa"
   },
   "source": [
    "### Confirm where we are path-wise"
   ]
  },
  {
   "cell_type": "code",
   "execution_count": null,
   "metadata": {
    "id": "D-Qc3BZ8lCRa"
   },
   "outputs": [],
   "source": []
  },
  {
   "cell_type": "markdown",
   "metadata": {
    "id": "k9KTw-enlCRb"
   },
   "source": [
    "### Create new results directory (note we come out of the downloaded_files folder first)"
   ]
  },
  {
   "cell_type": "code",
   "execution_count": null,
   "metadata": {
    "id": "WglOFfLHlCRb"
   },
   "outputs": [],
   "source": []
  },
  {
   "cell_type": "code",
   "execution_count": null,
   "metadata": {
    "id": "otpHcPn4lCRb"
   },
   "outputs": [],
   "source": [
    "### cd into our results folder\n",
    "\n"
   ]
  },
  {
   "cell_type": "markdown",
   "metadata": {
    "id": "oKYRUg24lCRb"
   },
   "source": [
    "### Confirm we are in the results folder"
   ]
  },
  {
   "cell_type": "code",
   "execution_count": null,
   "metadata": {
    "id": "F-AMX1rIlCRb"
   },
   "outputs": [],
   "source": []
  },
  {
   "cell_type": "code",
   "execution_count": null,
   "metadata": {
    "id": "sIw6MAQNkazG"
   },
   "outputs": [],
   "source": [
    "## Export as CSV\n",
    "\n",
    "## use pandas to write to csv file\n",
    "## we already imported pandas as pd\n",
    "filename = \"lease_decisions.csv\" ## what are file name is\n",
    "df = pd.DataFrame(decisions) ## we turn our list of dicts into a dataframe which we're call df\n",
    "df\n",
    "df.to_csv(filename, encoding='utf-8', index=False) ## export to csv as utf-8 coding (it just has to be this)\n",
    "print(f\"{filename} is in your results folder!\") ## a print out that tells us the file is ready"
   ]
  }
 ],
 "metadata": {
  "celltoolbar": "Slideshow",
  "colab": {
   "collapsed_sections": [],
   "name": "week-8C-download-and-read_BLANK.ipynb",
   "provenance": [
    {
     "file_id": "1tC30RwvbvYZQU9bLZ75I6kBbMski9LFN",
     "timestamp": 1628626954402
    }
   ]
  },
  "kernelspec": {
   "display_name": "Python 3",
   "language": "python",
   "name": "python3"
  },
  "language_info": {
   "codemirror_mode": {
    "name": "ipython",
    "version": 3
   },
   "file_extension": ".py",
   "mimetype": "text/x-python",
   "name": "python",
   "nbconvert_exporter": "python",
   "pygments_lexer": "ipython3",
   "version": "3.8.8"
  }
 },
 "nbformat": 4,
 "nbformat_minor": 1
}
