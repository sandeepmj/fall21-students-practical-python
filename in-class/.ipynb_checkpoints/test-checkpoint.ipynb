{
 "cells": [
  {
   "cell_type": "code",
   "execution_count": 1,
   "id": "aae1dd09",
   "metadata": {},
   "outputs": [
    {
     "data": {
      "text/plain": [
       "'/Users/sandeep.junnarkar/Dropbox/coding/courses/fall21-students-practical-python/in-class'"
      ]
     },
     "execution_count": 1,
     "metadata": {},
     "output_type": "execute_result"
    }
   ],
   "source": [
    "pwd"
   ]
  },
  {
   "cell_type": "code",
   "execution_count": 2,
   "id": "643c7f3f",
   "metadata": {},
   "outputs": [
    {
     "name": "stdout",
     "output_type": "stream",
     "text": [
      "/Users/sandeep.junnarkar/Dropbox/coding/courses/fall21-students-practical-python\n"
     ]
    }
   ],
   "source": [
    "cd .."
   ]
  },
  {
   "cell_type": "code",
   "execution_count": 3,
   "id": "de9d4b97",
   "metadata": {},
   "outputs": [
    {
     "name": "stdout",
     "output_type": "stream",
     "text": [
      "[Errno 2] No such file or directory: 'fall21-students-practical-python'\n",
      "/Users/sandeep.junnarkar/Dropbox/coding/courses/fall21-students-practical-python\n"
     ]
    }
   ],
   "source": [
    "cd fall21-students-practical-python"
   ]
  },
  {
   "cell_type": "code",
   "execution_count": 4,
   "id": "19ee5c94",
   "metadata": {},
   "outputs": [
    {
     "data": {
      "text/plain": [
       "'/Users/sandeep.junnarkar/Dropbox/coding/courses/fall21-students-practical-python'"
      ]
     },
     "execution_count": 4,
     "metadata": {},
     "output_type": "execute_result"
    }
   ],
   "source": [
    "pwd"
   ]
  },
  {
   "cell_type": "code",
   "execution_count": 5,
   "id": "acc8b614",
   "metadata": {},
   "outputs": [
    {
     "name": "stdout",
     "output_type": "stream",
     "text": [
      "/Users/sandeep.junnarkar/Dropbox/coding/courses/fall21-students-practical-python/in-class\n"
     ]
    }
   ],
   "source": [
    "cd in-class"
   ]
  },
  {
   "cell_type": "code",
   "execution_count": 6,
   "id": "4456551d",
   "metadata": {},
   "outputs": [],
   "source": [
    "import os"
   ]
  },
  {
   "cell_type": "code",
   "execution_count": 7,
   "id": "61594d00",
   "metadata": {},
   "outputs": [
    {
     "name": "stdout",
     "output_type": "stream",
     "text": [
      "test.ipynb\r\n",
      "week-1-working-with-datatypes-BLANKS.ipynb\r\n",
      "week-2-inclass-exercises-BLANKS.ipynb\r\n",
      "week-2-inclass-exercises-DEMO.ipynb\r\n",
      "week-3-A-list comprehensions BLANKS.ipynb\r\n",
      "week-3-A-list comprehensions DEMO.ipynb\r\n",
      "week-3-B-defined-functions-BLANKS.ipynb\r\n",
      "week-3-B-defined-functions-DEMO.ipynb\r\n",
      "week-3-C-Lambdas-BLANK.ipynb\r\n",
      "week-4-scraping-intro-beautifulsoup-BLANKS.ipynb\r\n",
      "week-4-scraping-intro-beautifulsoup-DEMO.ipynb\r\n",
      "week-5-A-single-page-table_BLANKS.ipynb\r\n",
      "week-5-A-single-page-table_DEMO.ipynb\r\n",
      "week-5-B-inclass-non-tabular-scrape_BLANKS.ipynb\r\n",
      "week-5-B-inclass-non-tabular-scrape_DEMO.ipynb\r\n",
      "week-6-multi-page-table-scrape-BLANK.ipynb\r\n",
      "week-6-multi-page-table-scrape-DEMO.ipynb\r\n",
      "week-7-download_docs_BLANK.ipynb\r\n",
      "week-7-download_docs_DEMO.ipynb\r\n",
      "week-7-flattening_lists_BLANK.ipynb\r\n",
      "week-7-flattening_lists_DEMO.ipynb\r\n",
      "\u001b[1m\u001b[36mweek-8-sample-folder\u001b[m\u001b[m/\r\n",
      "week-8-sample-folder.zip\r\n",
      "week-8A-file_folder_mngmt_BLANK.ipynb\r\n",
      "week-8B-download-and-read_BLANK.ipynb\r\n"
     ]
    }
   ],
   "source": [
    "ls"
   ]
  },
  {
   "cell_type": "code",
   "execution_count": 9,
   "id": "ca80e661",
   "metadata": {},
   "outputs": [
    {
     "name": "stdout",
     "output_type": "stream",
     "text": [
      "/Users/sandeep.junnarkar\n"
     ]
    }
   ],
   "source": [
    "cd ~"
   ]
  },
  {
   "cell_type": "code",
   "execution_count": null,
   "id": "573fbd3e",
   "metadata": {},
   "outputs": [],
   "source": []
  }
 ],
 "metadata": {
  "kernelspec": {
   "display_name": "Python 3",
   "language": "python",
   "name": "python3"
  },
  "language_info": {
   "codemirror_mode": {
    "name": "ipython",
    "version": 3
   },
   "file_extension": ".py",
   "mimetype": "text/x-python",
   "name": "python",
   "nbconvert_exporter": "python",
   "pygments_lexer": "ipython3",
   "version": "3.8.8"
  }
 },
 "nbformat": 4,
 "nbformat_minor": 5
}
