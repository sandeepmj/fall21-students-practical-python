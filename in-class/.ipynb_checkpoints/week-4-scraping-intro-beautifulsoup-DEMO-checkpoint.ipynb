{
 "cells": [
  {
   "cell_type": "code",
   "execution_count": 1,
   "metadata": {},
   "outputs": [
    {
     "name": "stdout",
     "output_type": "stream",
     "text": [
      "Requirement already satisfied: icecream in /usr/local/anaconda3/lib/python3.8/site-packages (2.1.1)\n",
      "Requirement already satisfied: pygments>=2.2.0 in /usr/local/anaconda3/lib/python3.8/site-packages (from icecream) (2.8.1)\n",
      "Requirement already satisfied: executing>=0.3.1 in /usr/local/anaconda3/lib/python3.8/site-packages (from icecream) (0.8.0)\n",
      "Requirement already satisfied: asttokens>=2.0.1 in /usr/local/anaconda3/lib/python3.8/site-packages (from icecream) (2.0.5)\n",
      "Requirement already satisfied: colorama>=0.3.9 in /usr/local/anaconda3/lib/python3.8/site-packages (from icecream) (0.4.4)\n",
      "Requirement already satisfied: six in /usr/local/anaconda3/lib/python3.8/site-packages (from asttokens>=2.0.1->icecream) (1.15.0)\n",
      "Note: you may need to restart the kernel to use updated packages.\n"
     ]
    }
   ],
   "source": [
    "pip install icecream"
   ]
  },
  {
   "cell_type": "markdown",
   "metadata": {},
   "source": [
    "### We'll learn to some basic scraping techniques using this mock site <a href=\"https://sandeepmj.github.io/scrape-example-page/demo-text.html\">demo page</a>. \n",
    "\n",
    "The webpage is ```https://sandeepmj.github.io/scrape-example-page/demo-text.html```"
   ]
  },
  {
   "cell_type": "markdown",
   "metadata": {},
   "source": [
    "### All web scraping requires a little sleuthing:\n",
    "\n",
    "* Where and how is the content held on the page?\n",
    "* How can we access it?\n",
    "* Is there a pattern?\n",
    "* Is there anything that breaks the pattern?"
   ]
  },
  {
   "cell_type": "code",
   "execution_count": 2,
   "metadata": {},
   "outputs": [],
   "source": [
    "## import library\n",
    "from bs4 import BeautifulSoup ## package to parse HTML and XML\n",
    "import icecream as ic ## for debugging\n",
    "import requests ## The most widely downloaded package - captures content from web\n"
   ]
  },
  {
   "cell_type": "code",
   "execution_count": 8,
   "metadata": {},
   "outputs": [],
   "source": [
    "## Requesting web content\n",
    "\n",
    "##scrape url website\n",
    "url = \"https://sandeepmj.github.io/scrape-example-page/demo-text.html\"\n",
    "response = requests.get(url)"
   ]
  },
  {
   "cell_type": "code",
   "execution_count": 9,
   "metadata": {},
   "outputs": [
    {
     "data": {
      "text/plain": [
       "200"
      ]
     },
     "execution_count": 9,
     "metadata": {},
     "output_type": "execute_result"
    }
   ],
   "source": [
    "## did it work?\n",
    "response.status_code"
   ]
  },
  {
   "cell_type": "code",
   "execution_count": 10,
   "metadata": {},
   "outputs": [
    {
     "data": {
      "text/plain": [
       "requests.models.Response"
      ]
     },
     "execution_count": 10,
     "metadata": {},
     "output_type": "execute_result"
    }
   ],
   "source": [
    "## what type of object did we capture?\n",
    "type(response)"
   ]
  },
  {
   "cell_type": "markdown",
   "metadata": {},
   "source": [
    "## Pull out what we want by using\n",
    "\n",
    "- ```response.text``` for string content like HTML, XML etc.\n",
    "- ```response.content``` for binary content like PDFs, images, etc."
   ]
  },
  {
   "cell_type": "code",
   "execution_count": 11,
   "metadata": {},
   "outputs": [
    {
     "data": {
      "text/plain": [
       "str"
      ]
     },
     "execution_count": 11,
     "metadata": {},
     "output_type": "execute_result"
    }
   ],
   "source": [
    "## what object does it return\n",
    "type(response.text)"
   ]
  },
  {
   "cell_type": "markdown",
   "metadata": {},
   "source": [
    "## Create a BeautifulSoup object\n",
    "<img src=\"\">"
   ]
  },
  {
   "cell_type": "code",
   "execution_count": 12,
   "metadata": {},
   "outputs": [
    {
     "data": {
      "text/plain": [
       "bs4.BeautifulSoup"
      ]
     },
     "execution_count": 12,
     "metadata": {},
     "output_type": "execute_result"
    }
   ],
   "source": [
    "## we add name of our file\n",
    "soup = BeautifulSoup(response.text, \"html.parser\")\n",
    "type(soup)"
   ]
  },
  {
   "cell_type": "code",
   "execution_count": 13,
   "metadata": {},
   "outputs": [
    {
     "data": {
      "text/plain": [
       "<!DOCTYPE html>\n",
       "\n",
       "<html lang=\"en\">\n",
       "<head>\n",
       "<title>title tag</title>\n",
       "<style>\n",
       "body {padding: 20px; max-width: 700px; margin: 0 auto;}\n",
       "</style>\n",
       "</head>\n",
       "<body>\n",
       "<h1 class=\"title\"><b>The title headline is Demo for BeautifulSoup</b></h1>\n",
       "<p>Learning to scrape using BeautifulSoup.</p>\n",
       "<div class=\"content article\">\n",
       "<section>\n",
       "<p>Here's some pretty useless info:</p>\n",
       "</section>\n",
       "<section class=\"main\" id=\"all_plants\">\n",
       "<h2 class=\"subhead\" id=\"vegitation\">Plants</h2>\n",
       "<p class=\"article\">Three plants that thrive in deep shade:</p>\n",
       "<ol>\n",
       "<li><a class=\"plants life\" href=\"http://example.com/plant1\" id=\"plant1\">Plant 1</a>: <span class=\"cost\">$10</span></li>\n",
       "<li><a class=\"plants life\" href=\"http://example.com/plant2\" id=\"plant2\">Plant 2</a>: <span class=\"cost\">$20</span></li>\n",
       "<li><a class=\"plants life\" href=\"http://example.com/plant3\" id=\"plant3\">Plant 3</a> <span class=\"cost\">$30</span></li>\n",
       "</ol>\n",
       "</section>\n",
       "<section class=\"main\" id=\"all_animals\">\n",
       "<h2 class=\"subhead\" id=\"creatures\">Animals</h2>\n",
       "<p class=\"article\"> Three animals in the barn:</p>\n",
       "<ol>\n",
       "<li><a class=\"animals life\" href=\"http://example.com/animal1\" id=\"animal1\">Animal 1</a>: <span class=\"cost\">$500</span></li>\n",
       "<li><a class=\"animals life\" href=\"http://example.com/animal2\" id=\"animal2\">Animal 2</a>: <span class=\"cost\">$600</span> </li>\n",
       "<li><a class=\"animals life\" href=\"http://example.com/animal3\" id=\"animal3\">Animal 3</a>: <span class=\"cost\">$700</span></li>\n",
       "</ol>\n",
       "</section>\n",
       "<section>\n",
       "<h2 class=\"subhead\" id=\"objects\">Objects</h2>\n",
       "<p class=\"article\"> Three shiny rocks:</p>\n",
       "<ol>\n",
       "<li><a class=\"rock inanimate\" href=\"http://example.com/rock1\" id=\"rock1\"><span>Rock 1</span></a></li>\n",
       "<li><a class=\"rock inanimate\" href=\"http://example.com/rock2\" id=\"rock2\"><span>Rock 2</span></a></li>\n",
       "<li><a class=\"rock inanimate\" href=\"http://example.com/rock2\" id=\"rock3\"><span>Rock 3</span></a></li>\n",
       "</ol>\n",
       "</section>\n",
       "<section>\n",
       "<h2>The seven classifications of animals</h2>\n",
       "<ul>\n",
       "<li><a class=\"animals\" href=\"http://example.com/kingdom\">Kingdom</a></li>\n",
       "<li><a class=\"animals\" href=\"http://example.com/phylum\">Phylum</a></li>\n",
       "<li><a class=\"animals\" href=\"http://example.com/class\">Class</a></li>\n",
       "<li><a class=\"animals\" href=\"http://example.com/order\">Order</a></li>\n",
       "<li><a class=\"animals\" href=\"http://example.com/family\">Family</a></li>\n",
       "<li><a class=\"animals\" href=\"http://example.com/genus\">Genus</a></li>\n",
       "<li><a class=\"animals\" href=\"http://example.com/species\">Species</a></li>\n",
       "</ul>\n",
       "</section>\n",
       "</div>\n",
       "</body>\n",
       "</html>"
      ]
     },
     "execution_count": 13,
     "metadata": {},
     "output_type": "execute_result"
    }
   ],
   "source": [
    "soup"
   ]
  },
  {
   "cell_type": "code",
   "execution_count": 14,
   "metadata": {},
   "outputs": [
    {
     "name": "stdout",
     "output_type": "stream",
     "text": [
      "<!DOCTYPE html>\n",
      "<html lang=\"en\">\n",
      " <head>\n",
      "  <title>\n",
      "   title tag\n",
      "  </title>\n",
      "  <style>\n",
      "   body {padding: 20px; max-width: 700px; margin: 0 auto;}\n",
      "  </style>\n",
      " </head>\n",
      " <body>\n",
      "  <h1 class=\"title\">\n",
      "   <b>\n",
      "    The title headline is Demo for BeautifulSoup\n",
      "   </b>\n",
      "  </h1>\n",
      "  <p>\n",
      "   Learning to scrape using BeautifulSoup.\n",
      "  </p>\n",
      "  <div class=\"content article\">\n",
      "   <section>\n",
      "    <p>\n",
      "     Here's some pretty useless info:\n",
      "    </p>\n",
      "   </section>\n",
      "   <section class=\"main\" id=\"all_plants\">\n",
      "    <h2 class=\"subhead\" id=\"vegitation\">\n",
      "     Plants\n",
      "    </h2>\n",
      "    <p class=\"article\">\n",
      "     Three plants that thrive in deep shade:\n",
      "    </p>\n",
      "    <ol>\n",
      "     <li>\n",
      "      <a class=\"plants life\" href=\"http://example.com/plant1\" id=\"plant1\">\n",
      "       Plant 1\n",
      "      </a>\n",
      "      :\n",
      "      <span class=\"cost\">\n",
      "       $10\n",
      "      </span>\n",
      "     </li>\n",
      "     <li>\n",
      "      <a class=\"plants life\" href=\"http://example.com/plant2\" id=\"plant2\">\n",
      "       Plant 2\n",
      "      </a>\n",
      "      :\n",
      "      <span class=\"cost\">\n",
      "       $20\n",
      "      </span>\n",
      "     </li>\n",
      "     <li>\n",
      "      <a class=\"plants life\" href=\"http://example.com/plant3\" id=\"plant3\">\n",
      "       Plant 3\n",
      "      </a>\n",
      "      <span class=\"cost\">\n",
      "       $30\n",
      "      </span>\n",
      "     </li>\n",
      "    </ol>\n",
      "   </section>\n",
      "   <section class=\"main\" id=\"all_animals\">\n",
      "    <h2 class=\"subhead\" id=\"creatures\">\n",
      "     Animals\n",
      "    </h2>\n",
      "    <p class=\"article\">\n",
      "     Three animals in the barn:\n",
      "    </p>\n",
      "    <ol>\n",
      "     <li>\n",
      "      <a class=\"animals life\" href=\"http://example.com/animal1\" id=\"animal1\">\n",
      "       Animal 1\n",
      "      </a>\n",
      "      :\n",
      "      <span class=\"cost\">\n",
      "       $500\n",
      "      </span>\n",
      "     </li>\n",
      "     <li>\n",
      "      <a class=\"animals life\" href=\"http://example.com/animal2\" id=\"animal2\">\n",
      "       Animal 2\n",
      "      </a>\n",
      "      :\n",
      "      <span class=\"cost\">\n",
      "       $600\n",
      "      </span>\n",
      "     </li>\n",
      "     <li>\n",
      "      <a class=\"animals life\" href=\"http://example.com/animal3\" id=\"animal3\">\n",
      "       Animal 3\n",
      "      </a>\n",
      "      :\n",
      "      <span class=\"cost\">\n",
      "       $700\n",
      "      </span>\n",
      "     </li>\n",
      "    </ol>\n",
      "   </section>\n",
      "   <section>\n",
      "    <h2 class=\"subhead\" id=\"objects\">\n",
      "     Objects\n",
      "    </h2>\n",
      "    <p class=\"article\">\n",
      "     Three shiny rocks:\n",
      "    </p>\n",
      "    <ol>\n",
      "     <li>\n",
      "      <a class=\"rock inanimate\" href=\"http://example.com/rock1\" id=\"rock1\">\n",
      "       <span>\n",
      "        Rock 1\n",
      "       </span>\n",
      "      </a>\n",
      "     </li>\n",
      "     <li>\n",
      "      <a class=\"rock inanimate\" href=\"http://example.com/rock2\" id=\"rock2\">\n",
      "       <span>\n",
      "        Rock 2\n",
      "       </span>\n",
      "      </a>\n",
      "     </li>\n",
      "     <li>\n",
      "      <a class=\"rock inanimate\" href=\"http://example.com/rock2\" id=\"rock3\">\n",
      "       <span>\n",
      "        Rock 3\n",
      "       </span>\n",
      "      </a>\n",
      "     </li>\n",
      "    </ol>\n",
      "   </section>\n",
      "   <section>\n",
      "    <h2>\n",
      "     The seven classifications of animals\n",
      "    </h2>\n",
      "    <ul>\n",
      "     <li>\n",
      "      <a class=\"animals\" href=\"http://example.com/kingdom\">\n",
      "       Kingdom\n",
      "      </a>\n",
      "     </li>\n",
      "     <li>\n",
      "      <a class=\"animals\" href=\"http://example.com/phylum\">\n",
      "       Phylum\n",
      "      </a>\n",
      "     </li>\n",
      "     <li>\n",
      "      <a class=\"animals\" href=\"http://example.com/class\">\n",
      "       Class\n",
      "      </a>\n",
      "     </li>\n",
      "     <li>\n",
      "      <a class=\"animals\" href=\"http://example.com/order\">\n",
      "       Order\n",
      "      </a>\n",
      "     </li>\n",
      "     <li>\n",
      "      <a class=\"animals\" href=\"http://example.com/family\">\n",
      "       Family\n",
      "      </a>\n",
      "     </li>\n",
      "     <li>\n",
      "      <a class=\"animals\" href=\"http://example.com/genus\">\n",
      "       Genus\n",
      "      </a>\n",
      "     </li>\n",
      "     <li>\n",
      "      <a class=\"animals\" href=\"http://example.com/species\">\n",
      "       Species\n",
      "      </a>\n",
      "     </li>\n",
      "    </ul>\n",
      "   </section>\n",
      "  </div>\n",
      " </body>\n",
      "</html>\n",
      "\n"
     ]
    }
   ],
   "source": [
    "## prettify our printout\n",
    "print(soup.prettify())"
   ]
  },
  {
   "cell_type": "code",
   "execution_count": 15,
   "metadata": {},
   "outputs": [
    {
     "data": {
      "text/plain": [
       "bs4.BeautifulSoup"
      ]
     },
     "execution_count": 15,
     "metadata": {},
     "output_type": "execute_result"
    }
   ],
   "source": [
    "## What type of file is it?\n",
    "type(soup)"
   ]
  },
  {
   "cell_type": "code",
   "execution_count": 16,
   "metadata": {},
   "outputs": [
    {
     "data": {
      "text/plain": [
       "<title>title tag</title>"
      ]
     },
     "execution_count": 16,
     "metadata": {},
     "output_type": "execute_result"
    }
   ],
   "source": [
    "## get title of page\n",
    "soup.title"
   ]
  },
  {
   "cell_type": "code",
   "execution_count": 17,
   "metadata": {},
   "outputs": [
    {
     "data": {
      "text/plain": [
       "<h1 class=\"title\"><b>The title headline is Demo for BeautifulSoup</b></h1>"
      ]
     },
     "execution_count": 17,
     "metadata": {},
     "output_type": "execute_result"
    }
   ],
   "source": [
    "## What about the h1 tag with the class of title? \n",
    "## How can we have two titles?\n",
    "\n",
    "soup.h1"
   ]
  },
  {
   "cell_type": "markdown",
   "metadata": {},
   "source": [
    "### string v. get_text()\n",
    "\n",
    "In most cases, our final step in a scrape is to convert everything to a string. We don't want all the html. \n",
    "\n",
    "We can use ```.string``` or ```get_text().```\n",
    "\n",
    "- ```get_text()``` is far more powerful because you can add parameters to strip, specify separators, etc.\n",
    "\n",
    "I **only** use ```get_text()```.\n"
   ]
  },
  {
   "cell_type": "code",
   "execution_count": 18,
   "metadata": {},
   "outputs": [
    {
     "data": {
      "text/plain": [
       "'title tag'"
      ]
     },
     "execution_count": 18,
     "metadata": {},
     "output_type": "execute_result"
    }
   ],
   "source": [
    "## return just a string of the tag:\n",
    "soup.title.string"
   ]
  },
  {
   "cell_type": "code",
   "execution_count": 19,
   "metadata": {},
   "outputs": [
    {
     "data": {
      "text/plain": [
       "'title tag'"
      ]
     },
     "execution_count": 19,
     "metadata": {},
     "output_type": "execute_result"
    }
   ],
   "source": [
    "## get only title text and not html\n",
    "soup.title.get_text()"
   ]
  },
  {
   "cell_type": "code",
   "execution_count": 21,
   "metadata": {},
   "outputs": [
    {
     "name": "stdout",
     "output_type": "stream",
     "text": [
      "None\n"
     ]
    }
   ],
   "source": [
    "## use string on soup (returns nothing)\n",
    "print(soup.string)"
   ]
  },
  {
   "cell_type": "code",
   "execution_count": 22,
   "metadata": {},
   "outputs": [
    {
     "data": {
      "text/plain": [
       "\"\\n\\n\\ntitle tag\\n\\n\\n\\nThe title headline is Demo for BeautifulSoup\\nLearning to scrape using BeautifulSoup.\\n\\n\\nHere's some pretty useless info:\\n\\n\\nPlants\\nThree plants that thrive in deep shade:\\n\\nPlant 1: $10\\nPlant 2: $20\\nPlant 3 $30\\n\\n\\n\\nAnimals\\n Three animals in the barn:\\n\\nAnimal 1: $500\\nAnimal 2: $600 \\nAnimal 3: $700\\n\\n\\n\\nObjects\\n Three shiny rocks:\\n\\nRock 1\\nRock 2\\nRock 3\\n\\n\\n\\nThe seven classifications of animals\\n\\nKingdom\\nPhylum\\nClass\\nOrder\\nFamily\\nGenus\\nSpecies\\n\\n\\n\\n\\n\\n\""
      ]
     },
     "execution_count": 22,
     "metadata": {},
     "output_type": "execute_result"
    }
   ],
   "source": [
    "## get text from soup\n",
    "soup.get_text()"
   ]
  },
  {
   "cell_type": "code",
   "execution_count": 23,
   "metadata": {},
   "outputs": [
    {
     "data": {
      "text/plain": [
       "\"title tagThe title headline is Demo for BeautifulSoupLearning to scrape using BeautifulSoup.Here's some pretty useless info:PlantsThree plants that thrive in deep shade:Plant 1:$10Plant 2:$20Plant 3$30AnimalsThree animals in the barn:Animal 1:$500Animal 2:$600Animal 3:$700ObjectsThree shiny rocks:Rock 1Rock 2Rock 3The seven classifications of animalsKingdomPhylumClassOrderFamilyGenusSpecies\""
      ]
     },
     "execution_count": 23,
     "metadata": {},
     "output_type": "execute_result"
    }
   ],
   "source": [
    "## get rid of weird characters\n",
    "soup.get_text(strip=\"True\")"
   ]
  },
  {
   "cell_type": "code",
   "execution_count": 24,
   "metadata": {},
   "outputs": [
    {
     "data": {
      "text/plain": [
       "'Learning to scrape using BeautifulSoup.'"
      ]
     },
     "execution_count": 24,
     "metadata": {},
     "output_type": "execute_result"
    }
   ],
   "source": [
    "## get p tag text\n",
    "soup.p.get_text()"
   ]
  },
  {
   "cell_type": "markdown",
   "metadata": {},
   "source": [
    "# Targeting content\n",
    "\n"
   ]
  },
  {
   "cell_type": "markdown",
   "metadata": {},
   "source": [
    "## Searching for IDs\n",
    "\n",
    "```soup(id=\"ID_name\")```"
   ]
  },
  {
   "cell_type": "code",
   "execution_count": 25,
   "metadata": {},
   "outputs": [
    {
     "data": {
      "text/plain": [
       "[<section class=\"main\" id=\"all_plants\">\n",
       " <h2 class=\"subhead\" id=\"vegitation\">Plants</h2>\n",
       " <p class=\"article\">Three plants that thrive in deep shade:</p>\n",
       " <ol>\n",
       " <li><a class=\"plants life\" href=\"http://example.com/plant1\" id=\"plant1\">Plant 1</a>: <span class=\"cost\">$10</span></li>\n",
       " <li><a class=\"plants life\" href=\"http://example.com/plant2\" id=\"plant2\">Plant 2</a>: <span class=\"cost\">$20</span></li>\n",
       " <li><a class=\"plants life\" href=\"http://example.com/plant3\" id=\"plant3\">Plant 3</a> <span class=\"cost\">$30</span></li>\n",
       " </ol>\n",
       " </section>]"
      ]
     },
     "execution_count": 25,
     "metadata": {},
     "output_type": "execute_result"
    }
   ],
   "source": [
    "## SEARCH BY ID for \"all_plants\"\n",
    "soup(id=\"all_plants\")"
   ]
  },
  {
   "cell_type": "code",
   "execution_count": 32,
   "metadata": {},
   "outputs": [
    {
     "data": {
      "text/plain": [
       "bs4.element.ResultSet"
      ]
     },
     "execution_count": 32,
     "metadata": {},
     "output_type": "execute_result"
    }
   ],
   "source": [
    "type(soup(id=\"all_plants\"))"
   ]
  },
  {
   "cell_type": "code",
   "execution_count": 33,
   "metadata": {},
   "outputs": [
    {
     "data": {
      "text/plain": [
       "<section class=\"main\" id=\"all_plants\">\n",
       "<h2 class=\"subhead\" id=\"vegitation\">Plants</h2>\n",
       "<p class=\"article\">Three plants that thrive in deep shade:</p>\n",
       "<ol>\n",
       "<li><a class=\"plants life\" href=\"http://example.com/plant1\" id=\"plant1\">Plant 1</a>: <span class=\"cost\">$10</span></li>\n",
       "<li><a class=\"plants life\" href=\"http://example.com/plant2\" id=\"plant2\">Plant 2</a>: <span class=\"cost\">$20</span></li>\n",
       "<li><a class=\"plants life\" href=\"http://example.com/plant3\" id=\"plant3\">Plant 3</a> <span class=\"cost\">$30</span></li>\n",
       "</ol>\n",
       "</section>"
      ]
     },
     "execution_count": 33,
     "metadata": {},
     "output_type": "execute_result"
    }
   ],
   "source": [
    "soup(id=\"all_plants\")[0]"
   ]
  },
  {
   "cell_type": "code",
   "execution_count": 27,
   "metadata": {},
   "outputs": [
    {
     "data": {
      "text/plain": [
       "[<h2 class=\"subhead\" id=\"vegitation\">Plants</h2>]"
      ]
     },
     "execution_count": 27,
     "metadata": {},
     "output_type": "execute_result"
    }
   ],
   "source": [
    "## SEARCH BY ID for \"vegitation\"\n",
    "soup(id=\"vegitation\")"
   ]
  },
  {
   "cell_type": "code",
   "execution_count": 28,
   "metadata": {},
   "outputs": [
    {
     "data": {
      "text/plain": [
       "[<a class=\"plants life\" href=\"http://example.com/plant1\" id=\"plant1\">Plant 1</a>]"
      ]
     },
     "execution_count": 28,
     "metadata": {},
     "output_type": "execute_result"
    }
   ],
   "source": [
    "## SEARCH BY ID for \"plant1\"\n",
    "soup(id=\"plant1\")"
   ]
  },
  {
   "cell_type": "code",
   "execution_count": 31,
   "metadata": {},
   "outputs": [
    {
     "data": {
      "text/plain": [
       "[<a class=\"animals life\" href=\"http://example.com/animal3\" id=\"animal3\">Animal 3</a>]"
      ]
     },
     "execution_count": 31,
     "metadata": {},
     "output_type": "execute_result"
    }
   ],
   "source": [
    "## SEARCH BY ID for \"animal3\"\n",
    "soup(id=\"animal3\")"
   ]
  },
  {
   "cell_type": "markdown",
   "metadata": {},
   "source": [
    "## Finding ```class```\n",
    "\n",
    "Let's say we want to find the ```p tag``` content for the ```article class``` \n",
    "\n",
    "```find()``` returns the first occurence of any item you are searching for.\n",
    "\n",
    "There are three ways to target our content but only Method 3 is the correct way\n",
    "\n",
    "\n"
   ]
  },
  {
   "cell_type": "code",
   "execution_count": 34,
   "metadata": {},
   "outputs": [
    {
     "data": {
      "text/plain": [
       "<p>Learning to scrape using BeautifulSoup.</p>"
      ]
     },
     "execution_count": 34,
     "metadata": {},
     "output_type": "execute_result"
    }
   ],
   "source": [
    "## a wide net is not best\n",
    "soup.p"
   ]
  },
  {
   "cell_type": "markdown",
   "metadata": {},
   "source": [
    "### Method 1. Target the tag only.\n",
    "\n",
    "```soup.find(\"tag_name\")```\n"
   ]
  },
  {
   "cell_type": "code",
   "execution_count": 35,
   "metadata": {},
   "outputs": [
    {
     "data": {
      "text/plain": [
       "<p>Learning to scrape using BeautifulSoup.</p>"
      ]
     },
     "execution_count": 35,
     "metadata": {},
     "output_type": "execute_result"
    }
   ],
   "source": [
    "## simple but without precision\n",
    "## still too wide a net\n",
    "soup.find(\"p\")"
   ]
  },
  {
   "cell_type": "markdown",
   "metadata": {},
   "source": [
    "### Method 2. Target the class only\n",
    "\n",
    "\n",
    "\n",
    "\n",
    "- Use ```soup.find(class_=\"class_name\"``` to be clear what class we are looking for.\n",
    "- ```class_``` is not Python or BeautifulSoup. It is simply there to tell us we are looking for a ```class```. Because ```class``` (a type of data) is a Python reserved word, we add the ```_``` to tell us we are referring to an ```HTML class```.\n"
   ]
  },
  {
   "cell_type": "code",
   "execution_count": 36,
   "metadata": {},
   "outputs": [
    {
     "data": {
      "text/plain": [
       "<div class=\"content article\">\n",
       "<section>\n",
       "<p>Here's some pretty useless info:</p>\n",
       "</section>\n",
       "<section class=\"main\" id=\"all_plants\">\n",
       "<h2 class=\"subhead\" id=\"vegitation\">Plants</h2>\n",
       "<p class=\"article\">Three plants that thrive in deep shade:</p>\n",
       "<ol>\n",
       "<li><a class=\"plants life\" href=\"http://example.com/plant1\" id=\"plant1\">Plant 1</a>: <span class=\"cost\">$10</span></li>\n",
       "<li><a class=\"plants life\" href=\"http://example.com/plant2\" id=\"plant2\">Plant 2</a>: <span class=\"cost\">$20</span></li>\n",
       "<li><a class=\"plants life\" href=\"http://example.com/plant3\" id=\"plant3\">Plant 3</a> <span class=\"cost\">$30</span></li>\n",
       "</ol>\n",
       "</section>\n",
       "<section class=\"main\" id=\"all_animals\">\n",
       "<h2 class=\"subhead\" id=\"creatures\">Animals</h2>\n",
       "<p class=\"article\"> Three animals in the barn:</p>\n",
       "<ol>\n",
       "<li><a class=\"animals life\" href=\"http://example.com/animal1\" id=\"animal1\">Animal 1</a>: <span class=\"cost\">$500</span></li>\n",
       "<li><a class=\"animals life\" href=\"http://example.com/animal2\" id=\"animal2\">Animal 2</a>: <span class=\"cost\">$600</span> </li>\n",
       "<li><a class=\"animals life\" href=\"http://example.com/animal3\" id=\"animal3\">Animal 3</a>: <span class=\"cost\">$700</span></li>\n",
       "</ol>\n",
       "</section>\n",
       "<section>\n",
       "<h2 class=\"subhead\" id=\"objects\">Objects</h2>\n",
       "<p class=\"article\"> Three shiny rocks:</p>\n",
       "<ol>\n",
       "<li><a class=\"rock inanimate\" href=\"http://example.com/rock1\" id=\"rock1\"><span>Rock 1</span></a></li>\n",
       "<li><a class=\"rock inanimate\" href=\"http://example.com/rock2\" id=\"rock2\"><span>Rock 2</span></a></li>\n",
       "<li><a class=\"rock inanimate\" href=\"http://example.com/rock2\" id=\"rock3\"><span>Rock 3</span></a></li>\n",
       "</ol>\n",
       "</section>\n",
       "<section>\n",
       "<h2>The seven classifications of animals</h2>\n",
       "<ul>\n",
       "<li><a class=\"animals\" href=\"http://example.com/kingdom\">Kingdom</a></li>\n",
       "<li><a class=\"animals\" href=\"http://example.com/phylum\">Phylum</a></li>\n",
       "<li><a class=\"animals\" href=\"http://example.com/class\">Class</a></li>\n",
       "<li><a class=\"animals\" href=\"http://example.com/order\">Order</a></li>\n",
       "<li><a class=\"animals\" href=\"http://example.com/family\">Family</a></li>\n",
       "<li><a class=\"animals\" href=\"http://example.com/genus\">Genus</a></li>\n",
       "<li><a class=\"animals\" href=\"http://example.com/species\">Species</a></li>\n",
       "</ul>\n",
       "</section>\n",
       "</div>"
      ]
     },
     "execution_count": 36,
     "metadata": {},
     "output_type": "execute_result"
    }
   ],
   "source": [
    "# find the first p tag with the class \"article\"\n",
    "## this is still too wide\n",
    "soup.find(class_=\"article\")"
   ]
  },
  {
   "cell_type": "markdown",
   "metadata": {},
   "source": [
    "### Method 3. Precision, clarity and simplicity\n",
    "\n",
    "In the previous example, we could have run into trouble in case the ```class = \"article\"``` applied to multiple tags.\n",
    "\n",
    "- Use the ```tag``` and the ```class``` to add precision, clarity and simplicity.\n",
    "\n",
    "```soup.find(\"tag_name\", class_=\"class_name\")```"
   ]
  },
  {
   "cell_type": "code",
   "execution_count": 37,
   "metadata": {},
   "outputs": [
    {
     "data": {
      "text/plain": [
       "<p class=\"article\">Three plants that thrive in deep shade:</p>"
      ]
     },
     "execution_count": 37,
     "metadata": {},
     "output_type": "execute_result"
    }
   ],
   "source": [
    "# find the first p tag with the class \"article\"\n",
    "soup.find(\"p\", class_=\"article\")"
   ]
  },
  {
   "cell_type": "markdown",
   "metadata": {},
   "source": [
    "## ```find_all``` tags, classes\n",
    "\n",
    "- ```find_all``` is **the most widely** used BeautifulSoup command.\n",
    "- Unlike ```find``` it returns **ALL** occurences of a class or tag.\n",
    "- Remember ```find``` returns just the first occurence.\n",
    "- ```soup.find_all(\"tag_name\", class_=\"class_name\")```\n",
    "- It returns all occurences in a **```beautifulSoup object```** that is similiar to a **```list```**."
   ]
  },
  {
   "cell_type": "code",
   "execution_count": 38,
   "metadata": {},
   "outputs": [
    {
     "data": {
      "text/plain": [
       "[<p class=\"article\">Three plants that thrive in deep shade:</p>,\n",
       " <p class=\"article\"> Three animals in the barn:</p>,\n",
       " <p class=\"article\"> Three shiny rocks:</p>]"
      ]
     },
     "execution_count": 38,
     "metadata": {},
     "output_type": "execute_result"
    }
   ],
   "source": [
    "## Return all p tag content with the class \"article\"\n",
    "soup.find_all(\"p\", class_=\"article\")"
   ]
  },
  {
   "cell_type": "code",
   "execution_count": 39,
   "metadata": {},
   "outputs": [
    {
     "data": {
      "text/plain": [
       "bs4.element.ResultSet"
      ]
     },
     "execution_count": 39,
     "metadata": {},
     "output_type": "execute_result"
    }
   ],
   "source": [
    "## what type of object is returned\n",
    "type(soup.find_all(\"p\", class_=\"article\"))"
   ]
  },
  {
   "cell_type": "code",
   "execution_count": 40,
   "metadata": {},
   "outputs": [
    {
     "data": {
      "text/plain": [
       "[<section class=\"main\" id=\"all_plants\">\n",
       " <h2 class=\"subhead\" id=\"vegitation\">Plants</h2>\n",
       " <p class=\"article\">Three plants that thrive in deep shade:</p>\n",
       " <ol>\n",
       " <li><a class=\"plants life\" href=\"http://example.com/plant1\" id=\"plant1\">Plant 1</a>: <span class=\"cost\">$10</span></li>\n",
       " <li><a class=\"plants life\" href=\"http://example.com/plant2\" id=\"plant2\">Plant 2</a>: <span class=\"cost\">$20</span></li>\n",
       " <li><a class=\"plants life\" href=\"http://example.com/plant3\" id=\"plant3\">Plant 3</a> <span class=\"cost\">$30</span></li>\n",
       " </ol>\n",
       " </section>,\n",
       " <section class=\"main\" id=\"all_animals\">\n",
       " <h2 class=\"subhead\" id=\"creatures\">Animals</h2>\n",
       " <p class=\"article\"> Three animals in the barn:</p>\n",
       " <ol>\n",
       " <li><a class=\"animals life\" href=\"http://example.com/animal1\" id=\"animal1\">Animal 1</a>: <span class=\"cost\">$500</span></li>\n",
       " <li><a class=\"animals life\" href=\"http://example.com/animal2\" id=\"animal2\">Animal 2</a>: <span class=\"cost\">$600</span> </li>\n",
       " <li><a class=\"animals life\" href=\"http://example.com/animal3\" id=\"animal3\">Animal 3</a>: <span class=\"cost\">$700</span></li>\n",
       " </ol>\n",
       " </section>]"
      ]
     },
     "execution_count": 40,
     "metadata": {},
     "output_type": "execute_result"
    }
   ],
   "source": [
    "## Return all all content in the sections with the main class\n",
    "soup.find_all(\"section\", class_=\"main\")"
   ]
  },
  {
   "cell_type": "code",
   "execution_count": 41,
   "metadata": {},
   "outputs": [
    {
     "data": {
      "text/plain": [
       "2"
      ]
     },
     "execution_count": 41,
     "metadata": {},
     "output_type": "execute_result"
    }
   ],
   "source": [
    "## how many items are in this object\n",
    "len(soup.find_all(\"section\", class_=\"main\"))"
   ]
  },
  {
   "cell_type": "code",
   "execution_count": 45,
   "metadata": {},
   "outputs": [
    {
     "name": "stdout",
     "output_type": "stream",
     "text": [
      "<section class=\"main\" id=\"all_plants\">\n",
      "<h2 class=\"subhead\" id=\"vegitation\">Plants</h2>\n",
      "<p class=\"article\">Three plants that thrive in deep shade:</p>\n",
      "<ol>\n",
      "<li><a class=\"plants life\" href=\"http://example.com/plant1\" id=\"plant1\">Plant 1</a>: <span class=\"cost\">$10</span></li>\n",
      "<li><a class=\"plants life\" href=\"http://example.com/plant2\" id=\"plant2\">Plant 2</a>: <span class=\"cost\">$20</span></li>\n",
      "<li><a class=\"plants life\" href=\"http://example.com/plant3\" id=\"plant3\">Plant 3</a> <span class=\"cost\">$30</span></li>\n",
      "</ol>\n",
      "</section>\n",
      "*********\n",
      "<section class=\"main\" id=\"all_animals\">\n",
      "<h2 class=\"subhead\" id=\"creatures\">Animals</h2>\n",
      "<p class=\"article\"> Three animals in the barn:</p>\n",
      "<ol>\n",
      "<li><a class=\"animals life\" href=\"http://example.com/animal1\" id=\"animal1\">Animal 1</a>: <span class=\"cost\">$500</span></li>\n",
      "<li><a class=\"animals life\" href=\"http://example.com/animal2\" id=\"animal2\">Animal 2</a>: <span class=\"cost\">$600</span> </li>\n",
      "<li><a class=\"animals life\" href=\"http://example.com/animal3\" id=\"animal3\">Animal 3</a>: <span class=\"cost\">$700</span></li>\n",
      "</ol>\n",
      "</section>\n",
      "*********\n"
     ]
    }
   ],
   "source": [
    "for item in soup.find_all(\"section\", class_=\"main\"):\n",
    "    print(item)\n",
    "    print(\"*********\")"
   ]
  },
  {
   "cell_type": "code",
   "execution_count": 48,
   "metadata": {},
   "outputs": [
    {
     "data": {
      "text/plain": [
       "5"
      ]
     },
     "execution_count": 48,
     "metadata": {},
     "output_type": "execute_result"
    }
   ],
   "source": [
    "## how many items are there if we targeted only the tag \"section\"\n",
    "len(soup.find_all(\"section\"))"
   ]
  },
  {
   "cell_type": "markdown",
   "metadata": {},
   "source": [
    "### Find all life forms on the page"
   ]
  },
  {
   "cell_type": "code",
   "execution_count": 49,
   "metadata": {},
   "outputs": [
    {
     "data": {
      "text/plain": [
       "[<a class=\"plants life\" href=\"http://example.com/plant1\" id=\"plant1\">Plant 1</a>,\n",
       " <a class=\"plants life\" href=\"http://example.com/plant2\" id=\"plant2\">Plant 2</a>,\n",
       " <a class=\"plants life\" href=\"http://example.com/plant3\" id=\"plant3\">Plant 3</a>,\n",
       " <a class=\"animals life\" href=\"http://example.com/animal1\" id=\"animal1\">Animal 1</a>,\n",
       " <a class=\"animals life\" href=\"http://example.com/animal2\" id=\"animal2\">Animal 2</a>,\n",
       " <a class=\"animals life\" href=\"http://example.com/animal3\" id=\"animal3\">Animal 3</a>]"
      ]
     },
     "execution_count": 49,
     "metadata": {},
     "output_type": "execute_result"
    }
   ],
   "source": [
    "## code it here\n",
    "soup.find_all(\"a\", class_=\"life\")"
   ]
  },
  {
   "cell_type": "markdown",
   "metadata": {},
   "source": [
    "## The old ways\n",
    "\n",
    "Earlier versions of BeautifulSoup did not use the ```class_``` notation. They used:\n",
    "\n",
    "```soup.find_all(\"tag\", {\"class\": \"class_name\"})```\n",
    "\n",
    "and ever older way:\n",
    "\n",
    "```soup.find_all(\"tag\", attrs={\"class\": \"class_name\"})```\n",
    "\n",
    "FYI since you might still encounter these in your stacking.\n",
    "\n",
    "To recap, the most current/modern way is:\n",
    "\n",
    "```soup.find_all(\"tag_name\", class_=\"class_name\")```"
   ]
  },
  {
   "cell_type": "markdown",
   "metadata": {},
   "source": [
    "# Excluding classes\n",
    "\n",
    "Most modern sites have tags that include multiple classes. \n",
    "\n",
    "What if you want to target a tag with a single class but that class also appears in tags with others that holds other types of content.\n",
    "\n",
    "For example, target the ```animals``` class tag that does not also have the ```life``` class.\n",
    "\n",
    "In this case we use ```.select``` which looks for that tag by itself.\n",
    "\n",
    "```soup.select('[class=\"class_name\"]')```\n"
   ]
  },
  {
   "cell_type": "code",
   "execution_count": 51,
   "metadata": {},
   "outputs": [
    {
     "data": {
      "text/plain": [
       "[<a class=\"animals life\" href=\"http://example.com/animal1\" id=\"animal1\">Animal 1</a>,\n",
       " <a class=\"animals life\" href=\"http://example.com/animal2\" id=\"animal2\">Animal 2</a>,\n",
       " <a class=\"animals life\" href=\"http://example.com/animal3\" id=\"animal3\">Animal 3</a>,\n",
       " <a class=\"animals\" href=\"http://example.com/kingdom\">Kingdom</a>,\n",
       " <a class=\"animals\" href=\"http://example.com/phylum\">Phylum</a>,\n",
       " <a class=\"animals\" href=\"http://example.com/class\">Class</a>,\n",
       " <a class=\"animals\" href=\"http://example.com/order\">Order</a>,\n",
       " <a class=\"animals\" href=\"http://example.com/family\">Family</a>,\n",
       " <a class=\"animals\" href=\"http://example.com/genus\">Genus</a>,\n",
       " <a class=\"animals\" href=\"http://example.com/species\">Species</a>]"
      ]
     },
     "execution_count": 51,
     "metadata": {},
     "output_type": "execute_result"
    }
   ],
   "source": [
    "'''\n",
    "if use find_all to look for the class animals\n",
    "it turns all animals class, along with life class\n",
    "'''\n",
    "\n",
    "soup.find_all(\"a\", class_=\"animals\")"
   ]
  },
  {
   "cell_type": "code",
   "execution_count": 54,
   "metadata": {},
   "outputs": [
    {
     "data": {
      "text/plain": [
       "[<a class=\"animals\" href=\"http://example.com/kingdom\">Kingdom</a>,\n",
       " <a class=\"animals\" href=\"http://example.com/phylum\">Phylum</a>,\n",
       " <a class=\"animals\" href=\"http://example.com/class\">Class</a>,\n",
       " <a class=\"animals\" href=\"http://example.com/order\">Order</a>,\n",
       " <a class=\"animals\" href=\"http://example.com/family\">Family</a>,\n",
       " <a class=\"animals\" href=\"http://example.com/genus\">Genus</a>,\n",
       " <a class=\"animals\" href=\"http://example.com/species\">Species</a>]"
      ]
     },
     "execution_count": 54,
     "metadata": {},
     "output_type": "execute_result"
    }
   ],
   "source": [
    "## write code here\n",
    "\n",
    "soup.select('[class=\"animals\"]')"
   ]
  },
  {
   "cell_type": "markdown",
   "metadata": {},
   "source": [
    "## Storing values\n",
    "\n",
    "We haven't been saving in values in memory. \n"
   ]
  },
  {
   "cell_type": "code",
   "execution_count": 55,
   "metadata": {},
   "outputs": [
    {
     "data": {
      "text/plain": [
       "[<a class=\"plants life\" href=\"http://example.com/plant1\" id=\"plant1\">Plant 1</a>,\n",
       " <a class=\"plants life\" href=\"http://example.com/plant2\" id=\"plant2\">Plant 2</a>,\n",
       " <a class=\"plants life\" href=\"http://example.com/plant3\" id=\"plant3\">Plant 3</a>,\n",
       " <a class=\"animals life\" href=\"http://example.com/animal1\" id=\"animal1\">Animal 1</a>,\n",
       " <a class=\"animals life\" href=\"http://example.com/animal2\" id=\"animal2\">Animal 2</a>,\n",
       " <a class=\"animals life\" href=\"http://example.com/animal3\" id=\"animal3\">Animal 3</a>]"
      ]
     },
     "execution_count": 55,
     "metadata": {},
     "output_type": "execute_result"
    }
   ],
   "source": [
    "## Again, save all lifeforms in a object called lifeforms\n",
    "lifeforms = soup.find_all(\"a\", class_=\"life\")\n",
    "lifeforms"
   ]
  },
  {
   "cell_type": "code",
   "execution_count": 56,
   "metadata": {},
   "outputs": [
    {
     "data": {
      "text/plain": [
       "bs4.element.ResultSet"
      ]
     },
     "execution_count": 56,
     "metadata": {},
     "output_type": "execute_result"
    }
   ],
   "source": [
    "## what kind of object it it?\n",
    "type(lifeforms)"
   ]
  },
  {
   "cell_type": "markdown",
   "metadata": {},
   "source": [
    "### Print lifeforms. Does it look familiar?"
   ]
  },
  {
   "cell_type": "code",
   "execution_count": 57,
   "metadata": {},
   "outputs": [
    {
     "data": {
      "text/plain": [
       "[<a class=\"plants life\" href=\"http://example.com/plant1\" id=\"plant1\">Plant 1</a>,\n",
       " <a class=\"plants life\" href=\"http://example.com/plant2\" id=\"plant2\">Plant 2</a>,\n",
       " <a class=\"plants life\" href=\"http://example.com/plant3\" id=\"plant3\">Plant 3</a>,\n",
       " <a class=\"animals life\" href=\"http://example.com/animal1\" id=\"animal1\">Animal 1</a>,\n",
       " <a class=\"animals life\" href=\"http://example.com/animal2\" id=\"animal2\">Animal 2</a>,\n",
       " <a class=\"animals life\" href=\"http://example.com/animal3\" id=\"animal3\">Animal 3</a>]"
      ]
     },
     "execution_count": 57,
     "metadata": {},
     "output_type": "execute_result"
    }
   ],
   "source": [
    "## print lifeforms\n",
    "lifeforms"
   ]
  },
  {
   "cell_type": "code",
   "execution_count": 58,
   "metadata": {},
   "outputs": [
    {
     "name": "stdout",
     "output_type": "stream",
     "text": [
      "<a class=\"plants life\" href=\"http://example.com/plant1\" id=\"plant1\">Plant 1</a>\n",
      "************\n",
      "<a class=\"plants life\" href=\"http://example.com/plant2\" id=\"plant2\">Plant 2</a>\n",
      "************\n",
      "<a class=\"plants life\" href=\"http://example.com/plant3\" id=\"plant3\">Plant 3</a>\n",
      "************\n",
      "<a class=\"animals life\" href=\"http://example.com/animal1\" id=\"animal1\">Animal 1</a>\n",
      "************\n",
      "<a class=\"animals life\" href=\"http://example.com/animal2\" id=\"animal2\">Animal 2</a>\n",
      "************\n",
      "<a class=\"animals life\" href=\"http://example.com/animal3\" id=\"animal3\">Animal 3</a>\n",
      "************\n"
     ]
    }
   ],
   "source": [
    "## print it out with a break between each\n",
    "for life in lifeforms:\n",
    "    print(life)\n",
    "    print(\"************\")"
   ]
  },
  {
   "cell_type": "markdown",
   "metadata": {},
   "source": [
    "### You can't just get the text for the lifeforms.\n",
    "### Why? You can't call ```.get_text()``` on a ```<class 'bs4.element.ResultSet'>``` object.\n"
   ]
  },
  {
   "cell_type": "code",
   "execution_count": 59,
   "metadata": {},
   "outputs": [
    {
     "ename": "AttributeError",
     "evalue": "ResultSet object has no attribute 'get_text'. You're probably treating a list of elements like a single element. Did you call find_all() when you meant to call find()?",
     "output_type": "error",
     "traceback": [
      "\u001b[0;31m---------------------------------------------------------------------------\u001b[0m",
      "\u001b[0;31mAttributeError\u001b[0m                            Traceback (most recent call last)",
      "\u001b[0;32m<ipython-input-59-f22ff703da0f>\u001b[0m in \u001b[0;36m<module>\u001b[0;34m\u001b[0m\n\u001b[1;32m      1\u001b[0m \u001b[0;31m## try it\u001b[0m\u001b[0;34m\u001b[0m\u001b[0;34m\u001b[0m\u001b[0;34m\u001b[0m\u001b[0m\n\u001b[0;32m----> 2\u001b[0;31m \u001b[0mlifeforms\u001b[0m\u001b[0;34m.\u001b[0m\u001b[0mget_text\u001b[0m\u001b[0;34m(\u001b[0m\u001b[0;34m)\u001b[0m\u001b[0;34m\u001b[0m\u001b[0;34m\u001b[0m\u001b[0m\n\u001b[0m",
      "\u001b[0;32m/usr/local/anaconda3/lib/python3.8/site-packages/bs4/element.py\u001b[0m in \u001b[0;36m__getattr__\u001b[0;34m(self, key)\u001b[0m\n\u001b[1;32m   2171\u001b[0m     \u001b[0;32mdef\u001b[0m \u001b[0m__getattr__\u001b[0m\u001b[0;34m(\u001b[0m\u001b[0mself\u001b[0m\u001b[0;34m,\u001b[0m \u001b[0mkey\u001b[0m\u001b[0;34m)\u001b[0m\u001b[0;34m:\u001b[0m\u001b[0;34m\u001b[0m\u001b[0;34m\u001b[0m\u001b[0m\n\u001b[1;32m   2172\u001b[0m         \u001b[0;34m\"\"\"Raise a helpful exception to explain a common code fix.\"\"\"\u001b[0m\u001b[0;34m\u001b[0m\u001b[0;34m\u001b[0m\u001b[0m\n\u001b[0;32m-> 2173\u001b[0;31m         raise AttributeError(\n\u001b[0m\u001b[1;32m   2174\u001b[0m             \u001b[0;34m\"ResultSet object has no attribute '%s'. You're probably treating a list of elements like a single element. Did you call find_all() when you meant to call find()?\"\u001b[0m \u001b[0;34m%\u001b[0m \u001b[0mkey\u001b[0m\u001b[0;34m\u001b[0m\u001b[0;34m\u001b[0m\u001b[0m\n\u001b[1;32m   2175\u001b[0m         )\n",
      "\u001b[0;31mAttributeError\u001b[0m: ResultSet object has no attribute 'get_text'. You're probably treating a list of elements like a single element. Did you call find_all() when you meant to call find()?"
     ]
    }
   ],
   "source": [
    "## try it\n",
    "lifeforms.get_text()"
   ]
  },
  {
   "cell_type": "markdown",
   "metadata": {},
   "source": [
    "## Instead, iterate through and work on each item in the list whic in this case is a ```<class 'bs4.element.Tag'>```"
   ]
  },
  {
   "cell_type": "code",
   "execution_count": 60,
   "metadata": {},
   "outputs": [
    {
     "name": "stdout",
     "output_type": "stream",
     "text": [
      "<class 'bs4.element.Tag'>\n",
      "<class 'bs4.element.Tag'>\n",
      "<class 'bs4.element.Tag'>\n",
      "<class 'bs4.element.Tag'>\n",
      "<class 'bs4.element.Tag'>\n",
      "<class 'bs4.element.Tag'>\n"
     ]
    }
   ],
   "source": [
    "## see type of object\n",
    "for life in lifeforms:\n",
    "    print(type(life))"
   ]
  },
  {
   "cell_type": "code",
   "execution_count": 62,
   "metadata": {},
   "outputs": [
    {
     "name": "stdout",
     "output_type": "stream",
     "text": [
      "Plant 1\n",
      "*********\n",
      "Plant 2\n",
      "*********\n",
      "Plant 3\n",
      "*********\n",
      "Animal 1\n",
      "*********\n",
      "Animal 2\n",
      "*********\n",
      "Animal 3\n",
      "*********\n"
     ]
    }
   ],
   "source": [
    "for life in lifeforms:\n",
    "    print(life.get_text())\n",
    "    print(\"*********\")"
   ]
  },
  {
   "cell_type": "code",
   "execution_count": 63,
   "metadata": {},
   "outputs": [
    {
     "data": {
      "text/plain": [
       "['Plant 1', 'Plant 2', 'Plant 3', 'Animal 1', 'Animal 2', 'Animal 3']"
      ]
     },
     "execution_count": 63,
     "metadata": {},
     "output_type": "execute_result"
    }
   ],
   "source": [
    "## just the text, no html\n",
    "## Using for loop\n",
    "lifeforms_list = []\n",
    "\n",
    "for life in lifeforms:\n",
    "    lifeforms_list.append(life.get_text())\n",
    "\n",
    "lifeforms_list"
   ]
  },
  {
   "cell_type": "code",
   "execution_count": 64,
   "metadata": {},
   "outputs": [
    {
     "data": {
      "text/plain": [
       "['Plant 1', 'Plant 2', 'Plant 3', 'Animal 1', 'Animal 2', 'Animal 3']"
      ]
     },
     "execution_count": 64,
     "metadata": {},
     "output_type": "execute_result"
    }
   ],
   "source": [
    "## just the text, no html\n",
    "## Using for list comprehension\n",
    "\n",
    "lifeforms_lc = [life.get_text() for life in lifeforms]\n",
    "lifeforms_lc"
   ]
  },
  {
   "cell_type": "markdown",
   "metadata": {},
   "source": [
    "## Get the urls for each"
   ]
  },
  {
   "cell_type": "code",
   "execution_count": 69,
   "metadata": {
    "collapsed": true
   },
   "outputs": [
    {
     "name": "stdout",
     "output_type": "stream",
     "text": [
      "<a class=\"plants life\" href=\"http://example.com/plant1\" id=\"plant1\">Plant 1</a>\n",
      "http://example.com/plant1\n",
      "<a class=\"plants life\" href=\"http://example.com/plant2\" id=\"plant2\">Plant 2</a>\n",
      "http://example.com/plant2\n",
      "<a class=\"plants life\" href=\"http://example.com/plant3\" id=\"plant3\">Plant 3</a>\n",
      "http://example.com/plant3\n",
      "<a class=\"animals life\" href=\"http://example.com/animal1\" id=\"animal1\">Animal 1</a>\n",
      "http://example.com/animal1\n",
      "<a class=\"animals life\" href=\"http://example.com/animal2\" id=\"animal2\">Animal 2</a>\n",
      "http://example.com/animal2\n",
      "<a class=\"animals life\" href=\"http://example.com/animal3\" id=\"animal3\">Animal 3</a>\n",
      "http://example.com/animal3\n"
     ]
    }
   ],
   "source": [
    "## use for loop\n",
    "all_urls_fl = []\n",
    "for link in lifeforms:\n",
    "    print(link)\n",
    "    url = link.get(\"href\")\n",
    "    print(url)\n",
    "    all_urls_fl.append(url)\n",
    "    \n"
   ]
  },
  {
   "cell_type": "code",
   "execution_count": 70,
   "metadata": {},
   "outputs": [
    {
     "data": {
      "text/plain": [
       "['http://example.com/plant1',\n",
       " 'http://example.com/plant2',\n",
       " 'http://example.com/plant3',\n",
       " 'http://example.com/animal1',\n",
       " 'http://example.com/animal2',\n",
       " 'http://example.com/animal3']"
      ]
     },
     "execution_count": 70,
     "metadata": {},
     "output_type": "execute_result"
    }
   ],
   "source": [
    "all_urls_fl"
   ]
  },
  {
   "cell_type": "code",
   "execution_count": 71,
   "metadata": {},
   "outputs": [
    {
     "data": {
      "text/plain": [
       "['http://example.com/plant1',\n",
       " 'http://example.com/plant2',\n",
       " 'http://example.com/plant3',\n",
       " 'http://example.com/animal1',\n",
       " 'http://example.com/animal2',\n",
       " 'http://example.com/animal3']"
      ]
     },
     "execution_count": 71,
     "metadata": {},
     "output_type": "execute_result"
    }
   ],
   "source": [
    "# using list comprehension\n",
    "all_urls_lc = [link.get(\"href\") for link in lifeforms]\n",
    "all_urls_lc"
   ]
  },
  {
   "cell_type": "markdown",
   "metadata": {},
   "source": [
    "## Cost\n",
    "\n",
    "Let's grab the cost\n",
    "\n",
    "How do we target the cost?"
   ]
  },
  {
   "cell_type": "code",
   "execution_count": 73,
   "metadata": {},
   "outputs": [
    {
     "data": {
      "text/plain": [
       "[<span class=\"cost\">$10</span>,\n",
       " <span class=\"cost\">$20</span>,\n",
       " <span class=\"cost\">$30</span>,\n",
       " <span class=\"cost\">$500</span>,\n",
       " <span class=\"cost\">$600</span>,\n",
       " <span class=\"cost\">$700</span>,\n",
       " <span>Rock 1</span>,\n",
       " <span>Rock 2</span>,\n",
       " <span>Rock 3</span>]"
      ]
     },
     "execution_count": 73,
     "metadata": {},
     "output_type": "execute_result"
    }
   ],
   "source": [
    "## A wide target:\n",
    "cost = soup.find_all(\"span\")\n",
    "cost"
   ]
  },
  {
   "cell_type": "code",
   "execution_count": 74,
   "metadata": {},
   "outputs": [
    {
     "data": {
      "text/plain": [
       "[<span class=\"cost\">$10</span>,\n",
       " <span class=\"cost\">$20</span>,\n",
       " <span class=\"cost\">$30</span>,\n",
       " <span class=\"cost\">$500</span>,\n",
       " <span class=\"cost\">$600</span>,\n",
       " <span class=\"cost\">$700</span>]"
      ]
     },
     "execution_count": 74,
     "metadata": {},
     "output_type": "execute_result"
    }
   ],
   "source": [
    "## narrow the target\n",
    "cost = soup.find_all(\"span\", class_=\"cost\")\n",
    "cost"
   ]
  },
  {
   "cell_type": "code",
   "execution_count": 75,
   "metadata": {},
   "outputs": [
    {
     "data": {
      "text/plain": [
       "['$10', '$20', '$30', '$500', '$600', '$700']"
      ]
     },
     "execution_count": 75,
     "metadata": {},
     "output_type": "execute_result"
    }
   ],
   "source": [
    "## using for loop\n",
    "cost_list_fl = []\n",
    "for price in cost:\n",
    "    cost_list_fl.append(price.get_text())\n",
    "cost_list_fl"
   ]
  },
  {
   "cell_type": "code",
   "execution_count": 76,
   "metadata": {},
   "outputs": [
    {
     "data": {
      "text/plain": [
       "['$10', '$20', '$30', '$500', '$600', '$700']"
      ]
     },
     "execution_count": 76,
     "metadata": {},
     "output_type": "execute_result"
    }
   ],
   "source": [
    "## using list comprehension\n",
    "cost_list_lc = [cost.get_text() for cost in soup.find_all(\"span\", class_=\"cost\")]\n",
    "cost_list_lc"
   ]
  },
  {
   "cell_type": "code",
   "execution_count": 77,
   "metadata": {},
   "outputs": [],
   "source": [
    "## in your function to clean string values\n",
    "def clean_numbers(some_string_number):\n",
    "  '''\n",
    "  Enter a number or a list of numbers. \n",
    "  The items can be strings, integers, floats or a mix of all. \n",
    "  I will convert it to an integer.\n",
    "  '''\n",
    "  if isinstance(some_string_number, str): \n",
    "    amount = round(float(some_string_number.replace(\"$\",\"\").replace(\",\",\"\")))\n",
    "\n",
    "  else:\n",
    "    amount = round(float(some_string_number))\n",
    "\n",
    "  return amount"
   ]
  },
  {
   "cell_type": "code",
   "execution_count": 79,
   "metadata": {},
   "outputs": [
    {
     "data": {
      "text/plain": [
       "[<span class=\"cost\">$10</span>,\n",
       " <span class=\"cost\">$20</span>,\n",
       " <span class=\"cost\">$30</span>,\n",
       " <span class=\"cost\">$500</span>,\n",
       " <span class=\"cost\">$600</span>,\n",
       " <span class=\"cost\">$700</span>]"
      ]
     },
     "execution_count": 79,
     "metadata": {},
     "output_type": "execute_result"
    }
   ],
   "source": [
    "cost"
   ]
  },
  {
   "cell_type": "code",
   "execution_count": 78,
   "metadata": {},
   "outputs": [
    {
     "data": {
      "text/plain": [
       "[10, 20, 30, 500, 600, 700]"
      ]
     },
     "execution_count": 78,
     "metadata": {},
     "output_type": "execute_result"
    }
   ],
   "source": [
    "## final cost\n",
    "cost_final = [clean_numbers(amount.get_text()) for amount in cost]\n",
    "cost_final"
   ]
  },
  {
   "cell_type": "markdown",
   "metadata": {},
   "source": [
    "## Prepare to Export\n",
    "\n",
    "You now have one list that holds the name of the lifeform and another that holds the related URL.\n",
    "\n",
    "Let's create a dict call ```life_dict```.\n",
    "\n",
    "Keys are name and url...values are the related values\n"
   ]
  },
  {
   "cell_type": "code",
   "execution_count": 80,
   "metadata": {},
   "outputs": [
    {
     "data": {
      "text/plain": [
       "[{'life_forms': 'Plant 1', 'cost': 10, 'link': 'http://example.com/plant1'},\n",
       " {'life_forms': 'Plant 2', 'cost': 20, 'link': 'http://example.com/plant2'},\n",
       " {'life_forms': 'Plant 3', 'cost': 30, 'link': 'http://example.com/plant3'},\n",
       " {'life_forms': 'Animal 1', 'cost': 500, 'link': 'http://example.com/animal1'},\n",
       " {'life_forms': 'Animal 2', 'cost': 600, 'link': 'http://example.com/animal2'},\n",
       " {'life_forms': 'Animal 3', 'cost': 700, 'link': 'http://example.com/animal3'}]"
      ]
     },
     "execution_count": 80,
     "metadata": {},
     "output_type": "execute_result"
    }
   ],
   "source": [
    "## create it here\n",
    "life_dict_list = []\n",
    "\n",
    "for (life, cost, url) in zip(lifeforms_lc, cost_final, all_urls_lc):\n",
    "    life = {\"life_forms\": life, \"cost\": cost, \"link\": url}\n",
    "    life_dict_list.append(life)\n",
    "\n",
    "life_dict_list\n"
   ]
  },
  {
   "cell_type": "markdown",
   "metadata": {},
   "source": [
    "## Export as CSV\n",
    "\n",
    "We'll use Pandas to export our data to an external file.\n",
    "\n",
    "We'll cover this in more detail soon, but for now here it is:"
   ]
  },
  {
   "cell_type": "code",
   "execution_count": 81,
   "metadata": {},
   "outputs": [],
   "source": [
    "## import pandas\n",
    "import pandas as pd"
   ]
  },
  {
   "cell_type": "code",
   "execution_count": 82,
   "metadata": {},
   "outputs": [],
   "source": [
    "## use pandas to write to csv file\n",
    "filename = \"lifeforms.csv\"\n",
    "df = pd.DataFrame(life_dict_list)"
   ]
  },
  {
   "cell_type": "code",
   "execution_count": 83,
   "metadata": {},
   "outputs": [
    {
     "data": {
      "text/html": [
       "<div>\n",
       "<style scoped>\n",
       "    .dataframe tbody tr th:only-of-type {\n",
       "        vertical-align: middle;\n",
       "    }\n",
       "\n",
       "    .dataframe tbody tr th {\n",
       "        vertical-align: top;\n",
       "    }\n",
       "\n",
       "    .dataframe thead th {\n",
       "        text-align: right;\n",
       "    }\n",
       "</style>\n",
       "<table border=\"1\" class=\"dataframe\">\n",
       "  <thead>\n",
       "    <tr style=\"text-align: right;\">\n",
       "      <th></th>\n",
       "      <th>life_forms</th>\n",
       "      <th>cost</th>\n",
       "      <th>link</th>\n",
       "    </tr>\n",
       "  </thead>\n",
       "  <tbody>\n",
       "    <tr>\n",
       "      <th>0</th>\n",
       "      <td>Plant 1</td>\n",
       "      <td>10</td>\n",
       "      <td>http://example.com/plant1</td>\n",
       "    </tr>\n",
       "    <tr>\n",
       "      <th>1</th>\n",
       "      <td>Plant 2</td>\n",
       "      <td>20</td>\n",
       "      <td>http://example.com/plant2</td>\n",
       "    </tr>\n",
       "    <tr>\n",
       "      <th>2</th>\n",
       "      <td>Plant 3</td>\n",
       "      <td>30</td>\n",
       "      <td>http://example.com/plant3</td>\n",
       "    </tr>\n",
       "    <tr>\n",
       "      <th>3</th>\n",
       "      <td>Animal 1</td>\n",
       "      <td>500</td>\n",
       "      <td>http://example.com/animal1</td>\n",
       "    </tr>\n",
       "    <tr>\n",
       "      <th>4</th>\n",
       "      <td>Animal 2</td>\n",
       "      <td>600</td>\n",
       "      <td>http://example.com/animal2</td>\n",
       "    </tr>\n",
       "    <tr>\n",
       "      <th>5</th>\n",
       "      <td>Animal 3</td>\n",
       "      <td>700</td>\n",
       "      <td>http://example.com/animal3</td>\n",
       "    </tr>\n",
       "  </tbody>\n",
       "</table>\n",
       "</div>"
      ],
      "text/plain": [
       "  life_forms  cost                        link\n",
       "0    Plant 1    10   http://example.com/plant1\n",
       "1    Plant 2    20   http://example.com/plant2\n",
       "2    Plant 3    30   http://example.com/plant3\n",
       "3   Animal 1   500  http://example.com/animal1\n",
       "4   Animal 2   600  http://example.com/animal2\n",
       "5   Animal 3   700  http://example.com/animal3"
      ]
     },
     "execution_count": 83,
     "metadata": {},
     "output_type": "execute_result"
    }
   ],
   "source": [
    "df"
   ]
  },
  {
   "cell_type": "code",
   "execution_count": 84,
   "metadata": {},
   "outputs": [],
   "source": [
    "df.to_csv(filename, encoding =\"UTF-8\", index=False)"
   ]
  },
  {
   "cell_type": "markdown",
   "metadata": {},
   "source": [
    "# BeautifulSoup\n",
    "\n",
    "We covered some basic BeautifulSoup functionality:\n",
    "\n",
    "- Remember ```soup``` is just a term we use to store an entire webpage or file. We could call it anything we want.\n",
    "- Searching by ```tags``` like ```title```, ```h1```, ```span``` etc.\n",
    "- Searching by ```class``` or ```id```\n",
    "- Finding all occurences of an item using ```find_all()```\n",
    "- Finding the first occurence of an item using ```find()```\n",
    "- Removing the html and returning just the string by using ```.string``` or ```get_text()```\n",
    "- Grabbing just the URL(s) using ```get(\"href\")```\n",
    "\n",
    "These are the most frequently used BeautifulSoup functions. You can [find many more](https://www.crummy.com/software/BeautifulSoup/bs4/doc/#) in the documentation. \n"
   ]
  }
 ],
 "metadata": {
  "kernelspec": {
   "display_name": "Python 3",
   "language": "python",
   "name": "python3"
  },
  "language_info": {
   "codemirror_mode": {
    "name": "ipython",
    "version": 3
   },
   "file_extension": ".py",
   "mimetype": "text/x-python",
   "name": "python",
   "nbconvert_exporter": "python",
   "pygments_lexer": "ipython3",
   "version": "3.8.8"
  }
 },
 "nbformat": 4,
 "nbformat_minor": 4
}
