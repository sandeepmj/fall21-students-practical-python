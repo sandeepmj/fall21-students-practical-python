{
 "cells": [
  {
   "cell_type": "markdown",
   "metadata": {
    "id": "Sxg1P4mJjLQJ"
   },
   "source": [
    "# News stories in which gender plays key role\n",
    "\n",
    "### Some stories are based on knowing gender distribution. Here are some examples:\n",
    "\n",
    "* **Washington Post**: Here’s how Hillary Clinton knows that 61 percent of her donors were women [<a href=\"https://www.washingtonpost.com/news/the-fix/wp/2015/07/16/heres-how-hillary-clinton-knows-that-61-percent-of-her-donors-were-women\">link</a>]\n",
    "\n",
    "* **The Atlantic**: When Will the Gender Gap in Science Disappear? [<a href=\"https://www.theatlantic.com/science/archive/2018/04/when-will-the-gender-gap-in-science-disappear/558413/\">Link</a>]\n",
    "\n",
    "* **Bloomberg News**: Record Numbers of Women Running for Office [<a href=\"https://www.bloomberg.com/graphics/2018-women-candidates/\">Link</a>]\n",
    "\n",
    "* **The Guardian**: How we analysed 70m comments on the Guardian website [<a href=\"https://www.theguardian.com/technology/2016/apr/12/how-we-analysed-70m-comments-guardian-website\">Link</a>]\n",
    "\n",
    "For these pieces, gender was **estimated** based on person's first name."
   ]
  },
  {
   "cell_type": "markdown",
   "metadata": {
    "id": "-8Cdt9LxnuGp"
   },
   "source": [
    "### An acknowledgment to our Non-Binary community\n",
    "\n",
    "The Python library, ```Genderize```, is based on the theory that analyzing a first name can help estimate someone’s gender. But that really applies only in a binary world in which a name is either male or female. We **don’t** live in a binary world and this approach risks erasing the identities of our non-binary community members. \n",
    "\n",
    "Many non-binary people understand the systems of classification that dominate our world and choose names that are outside those systems. For example, American Artist, who changed their legal name in a way makes them memorable yet indecipherable to an algorithm.\n",
    "\n",
    "The reality is that one’s name does not determine one’s gender.\n",
    "\n",
    "As journalists, we may find ourselves working on critical projects where we need to know gender identities. For example:\n",
    "\n",
    "- How many refugees in a camp are male and how many are female? \n",
    "- What is the gender diversity of top executive leadership in an industry? \n",
    "- What form of gender equality is there in tenured science professorships or in major prizes?\n",
    "\n",
    "We could certainly ask each individual, but ```Genderize``` is currently the most effective way of approaching massive datasets of names to estimate gender."
   ]
  },
  {
   "cell_type": "markdown",
   "metadata": {
    "id": "StJdcVxSjLQK"
   },
   "source": [
    "## ```pip install Genderize``` (a library available for many programming languages)"
   ]
  },
  {
   "cell_type": "code",
   "execution_count": null,
   "metadata": {
    "id": "4rgCZ1P0jLQL"
   },
   "outputs": [],
   "source": [
    "!pip install Genderize"
   ]
  },
  {
   "cell_type": "code",
   "execution_count": null,
   "metadata": {
    "id": "0Ona1dSjjLQP"
   },
   "outputs": [],
   "source": [
    "## import necessary libraries\n",
    "import pandas as pd\n",
    "from genderize import Genderize as gd\n",
    "# from google.colab import files  ## to export our files to our computer drive"
   ]
  },
  {
   "cell_type": "markdown",
   "metadata": {
    "id": "aDtXhaUAjLQS"
   },
   "source": [
    "# ```gd().get(list_name)```"
   ]
  },
  {
   "cell_type": "code",
   "execution_count": null,
   "metadata": {
    "id": "56BCbPjujLQS"
   },
   "outputs": [],
   "source": [
    "### requires a list\n"
   ]
  },
  {
   "cell_type": "markdown",
   "metadata": {
    "id": "2t_VSDwAjLQV"
   },
   "source": [
    "### From Genderize site:\n",
    "The **probability** indicates the certainty of the assigned gender. Basically the ratio of male to females. \n",
    "\n",
    "The **count** represents the number of <a href=\"https://genderize.io/our-data\">data rows examined</a> in order to calculate the response.\n",
    "\n"
   ]
  },
  {
   "cell_type": "code",
   "execution_count": null,
   "metadata": {
    "id": "7yyHST0xjLQV"
   },
   "outputs": [],
   "source": [
    "## does not work on an individual name that is not in a list\n"
   ]
  },
  {
   "cell_type": "code",
   "execution_count": null,
   "metadata": {
    "id": "VF1i_UzejLQY"
   },
   "outputs": [],
   "source": [
    "## But you can make a single name into a list\n",
    "\n",
    "\n"
   ]
  },
  {
   "cell_type": "code",
   "execution_count": null,
   "metadata": {
    "id": "RPLWzxapjLQa"
   },
   "outputs": [],
   "source": [
    "## you can now call the genderize method on list\n"
   ]
  },
  {
   "cell_type": "code",
   "execution_count": null,
   "metadata": {
    "id": "Nwt1P1GYjLQd"
   },
   "outputs": [],
   "source": [
    "## Genderize works by analyzing first names and estimating their gender probability \n",
    "## run this cell\n",
    "f_names = ['Rarin','Sandeep', 'Sahar', 'Yoshiko','Susan', 'Nabila','Pat', \"Lupita\"]\n",
    "f_names"
   ]
  },
  {
   "cell_type": "code",
   "execution_count": null,
   "metadata": {
    "id": "m6EBjdNUjLQg"
   },
   "outputs": [],
   "source": [
    "## run it on f_names\n"
   ]
  },
  {
   "cell_type": "code",
   "execution_count": null,
   "metadata": {
    "id": "XHWyXpVwjLQi"
   },
   "outputs": [],
   "source": [
    "## We can pull out specific data by specifying the keys using a for loop\n"
   ]
  },
  {
   "cell_type": "code",
   "execution_count": null,
   "metadata": {
    "id": "-hpKE_TTjLQk"
   },
   "outputs": [],
   "source": [
    "## FUNCTION to get gender data from genderize\n"
   ]
  },
  {
   "cell_type": "code",
   "execution_count": null,
   "metadata": {
    "id": "RS_tQmA9jLQn"
   },
   "outputs": [],
   "source": [
    "## test it on \"Sandeep\"\n"
   ]
  },
  {
   "cell_type": "code",
   "execution_count": null,
   "metadata": {
    "id": "V5ZN-BMdjLQs"
   },
   "outputs": [],
   "source": [
    "## now use the function in our for loop\n"
   ]
  },
  {
   "cell_type": "markdown",
   "metadata": {
    "id": "xnU7r99LjLQv"
   },
   "source": [
    "## Apply to a Pandas dataframe"
   ]
  },
  {
   "cell_type": "code",
   "execution_count": null,
   "metadata": {
    "id": "apnOz1agjLQv"
   },
   "outputs": [],
   "source": [
    "## COLAB ONLY\n",
    "## upload Excel file names.xlsx\n",
    "# files.upload()"
   ]
  },
  {
   "cell_type": "code",
   "execution_count": null,
   "metadata": {
    "id": "s1XMfL2vjLQy"
   },
   "outputs": [],
   "source": [
    "## read csv file into pandas dataframe\n",
    "## see the head\n"
   ]
  },
  {
   "cell_type": "code",
   "execution_count": null,
   "metadata": {
    "id": "dWPDctQGjLQ0"
   },
   "outputs": [],
   "source": [
    "## see the tail\n"
   ]
  },
  {
   "cell_type": "markdown",
   "metadata": {
    "id": "X4tyGUBKjdM0"
   },
   "source": [
    "## What the problem here?"
   ]
  },
  {
   "cell_type": "code",
   "execution_count": null,
   "metadata": {
    "id": "GPEIzKSgjLQ4"
   },
   "outputs": [],
   "source": [
    "## Split the first and last name into separate columns\n"
   ]
  },
  {
   "cell_type": "code",
   "execution_count": null,
   "metadata": {
    "id": "YLxN7_MtjLQ6"
   },
   "outputs": [],
   "source": [
    "## reorder the columns\n"
   ]
  },
  {
   "cell_type": "code",
   "execution_count": null,
   "metadata": {
    "id": "y45N6lVzjLQ8"
   },
   "outputs": [],
   "source": [
    "## function to take a string name, convert to list and return gender\n",
    "## NOTICE it taps our earlier gender_data() function\n"
   ]
  },
  {
   "cell_type": "code",
   "execution_count": null,
   "metadata": {
    "id": "zRm9onB4jLQ_"
   },
   "outputs": [],
   "source": [
    "## Test on \"Sandeep\"\n"
   ]
  },
  {
   "cell_type": "code",
   "execution_count": null,
   "metadata": {
    "id": "uxrIo8z4jLRB"
   },
   "outputs": [],
   "source": [
    "## apply as a lambda expression on our dataframe\n"
   ]
  },
  {
   "cell_type": "markdown",
   "metadata": {
    "id": "KDwAKLr4jLRD"
   },
   "source": [
    "## But we need a sense of the probability"
   ]
  },
  {
   "cell_type": "code",
   "execution_count": null,
   "metadata": {
    "id": "oGync8TMjLRD"
   },
   "outputs": [],
   "source": [
    "## function to return probability\n",
    "## NOTICE it taps our earlier gender_data() function\n"
   ]
  },
  {
   "cell_type": "code",
   "execution_count": null,
   "metadata": {
    "id": "GzLI2q6FjLRF"
   },
   "outputs": [],
   "source": [
    "## test probability on \"Sandeep\"\n"
   ]
  },
  {
   "cell_type": "code",
   "execution_count": null,
   "metadata": {
    "id": "jG96kLxbjLRI"
   },
   "outputs": [],
   "source": [
    "## create new column called \"Probability\" in our df\n"
   ]
  },
  {
   "cell_type": "code",
   "execution_count": null,
   "metadata": {
    "id": "aXWATX0XjLRJ"
   },
   "outputs": [],
   "source": [
    "### FUNCTION to return certainty\n",
    "## NOTICE it taps our earlier gender_data() AND gender_probability() functions\n",
    "\n"
   ]
  },
  {
   "cell_type": "code",
   "execution_count": null,
   "metadata": {
    "id": "8p3RdHnVjLRL"
   },
   "outputs": [],
   "source": [
    "## get gender on name \"Pat\"\n"
   ]
  },
  {
   "cell_type": "code",
   "execution_count": null,
   "metadata": {
    "id": "7_a7T0V-jLRN"
   },
   "outputs": [],
   "source": [
    "## get probability on name \"Pat\"\n"
   ]
  },
  {
   "cell_type": "code",
   "execution_count": null,
   "metadata": {
    "id": "plFUpsSzjLRP"
   },
   "outputs": [],
   "source": [
    "## get gender certainty on name \"Pat\"\n"
   ]
  },
  {
   "cell_type": "code",
   "execution_count": null,
   "metadata": {
    "id": "QwfltGxdjLRR"
   },
   "outputs": [],
   "source": [
    "## create a column called \"Certainty\" in our df\n"
   ]
  },
  {
   "cell_type": "markdown",
   "metadata": {
    "id": "TWzxU2dWjLRS"
   },
   "source": [
    "## Slice flagged items for a manual check"
   ]
  },
  {
   "cell_type": "code",
   "execution_count": null,
   "metadata": {
    "id": "owlIxiAjjLRT"
   },
   "outputs": [],
   "source": [
    "## write pandas to create a slice\n"
   ]
  }
 ],
 "metadata": {
  "celltoolbar": "Slideshow",
  "colab": {
   "collapsed_sections": [],
   "name": "week-11-gender_estimator_BLANK.ipynb",
   "provenance": [
    {
     "file_id": "1qXX2xOtNO13b1TT-t7NmLo-gFljLzwVD",
     "timestamp": 1603223397806
    }
   ]
  },
  "kernelspec": {
   "display_name": "Python 3",
   "language": "python",
   "name": "python3"
  },
  "language_info": {
   "codemirror_mode": {
    "name": "ipython",
    "version": 3
   },
   "file_extension": ".py",
   "mimetype": "text/x-python",
   "name": "python",
   "nbconvert_exporter": "python",
   "pygments_lexer": "ipython3",
   "version": "3.8.8"
  }
 },
 "nbformat": 4,
 "nbformat_minor": 1
}
