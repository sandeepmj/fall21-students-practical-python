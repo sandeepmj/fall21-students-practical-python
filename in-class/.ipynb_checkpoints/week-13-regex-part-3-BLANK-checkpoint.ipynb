{
 "cells": [
  {
   "cell_type": "markdown",
   "metadata": {
    "id": "RtXF5HKNRbPh"
   },
   "source": [
    "# Regular Expressions – Part 3 Capturing into DF\n",
    "\n",
    "Pages we need to visit:\n",
    "\n",
    "- Live Testing: https://regex101.com/\n",
    "- Sandeep's <a href=\"https://docs.google.com/spreadsheets/d/1A39lM4SiGZbzZPxrjEXkR05aksAewudccWmojoIU0Gk/edit?usp=sharing\">REGEX Tip sheet</a>\n",
    "\n",
    "### Some dummy text:"
   ]
  },
  {
   "cell_type": "markdown",
   "metadata": {
    "id": "inLRh4fXRbPm"
   },
   "source": [
    "12534 127 ab aba abba sandeepj@bloomberg.net abbba, abbbbba, (518) 469-4581 abcde.The dog is a not a hog. ABA ABBA ABBBA.\n",
    "\n",
    "\n",
    "Ab_CD123  123456 and 12456\ttor 12531245134562. 123867584789. $40.44 or $3 or $52,583.08 or $610,235.11\n",
    "\n",
    "The cat sat down and called 514-957-3453 while the other caaaaaat purred. This cat is in California while this caaaat is in Iraq, but none are in ct. My dog prefers cat food to dog food but hates fish food.My food tastes yummy!\n",
    "\n",
    "AB_cd \t<+>-.,!@# $%^&*();\\/|_^@1# (917) 488-5410\n",
    "\n",
    "*!dsar2d1\n",
    "\n",
    "I told him to search the thesaurus where sandeep.junnarkar@journalism.cuny.edu he'd be able to sjnews@gmail.com find words like them.\n",
    "\n",
    "abcdefgczhijklmnopqrstuvwxyz\tABCDEFGCZHIJKLMNOPQRSTUVWXYZ\n",
    "\n",
    "A h0g is a hog.\n",
    "\n",
    "Dog and dog and DOG. His number is 415.458.9163.\n",
    "\n",
    "&^%@ 129"
   ]
  },
  {
   "cell_type": "code",
   "execution_count": 1,
   "metadata": {
    "id": "7obJksVBRbPn"
   },
   "outputs": [],
   "source": [
    "## place dummy text into a variable called mydoc\n",
    "mydoc = '''\n",
    "12534 127 ab aba abba sandeepj@bloomberg.net abbba, abbbbba, (518) 469-4581 abcde.The dog is a not a hog. ABA ABBA ABBBA.\n",
    "\n",
    "\n",
    "Ab_CD123  123456 and 12456\ttor 12531245134562. 123867584789. $40.44 or $3 or $52,583.08 or $610,235.11\n",
    "\n",
    "The cat sat down and called 514-957-3453 while the other caaaaaat purred. This cat is in California while this caaaat is in Iraq, but none are in ct. My dog prefers cat food to dog food but hates fish food.My food tastes yummy!\n",
    "\n",
    "AB_cd \t<+>-.,!@# $%^&*();\\/|_^@1# (917) 488-5410\n",
    "\n",
    "*!dsar2d1\n",
    "\n",
    "I told him to search the thesaurus where sandeep.junnarkar@journalism.cuny.edu he'd be able to sjnews@gmail.com find words like them.\n",
    "\n",
    "abcdefgczhijklmnopqrstuvwxyz\tABCDEFGCZHIJKLMNOPQRSTUVWXYZ\n",
    "\n",
    "A h0g is a hog.\n",
    "\n",
    "Dog and dog and DOG. His number is 415.458.9163.\n",
    "\n",
    "&^%@ 129\n",
    "\n",
    "abba\n",
    "\n",
    "\n",
    "\n",
    "'''"
   ]
  },
  {
   "cell_type": "code",
   "execution_count": 2,
   "metadata": {
    "colab": {
     "base_uri": "https://localhost:8080/",
     "height": 119
    },
    "id": "9EuypuZIRbPn",
    "outputId": "7951d33b-94b4-4694-de09-ef0bb5f7d04a"
   },
   "outputs": [
    {
     "data": {
      "text/plain": [
       "\"\\n12534 127 ab aba abba sandeepj@bloomberg.net abbba, abbbbba, (518) 469-4581 abcde.The dog is a not a hog. ABA ABBA ABBBA.\\n\\n\\nAb_CD123  123456 and 12456\\ttor 12531245134562. 123867584789. $40.44 or $3 or $52,583.08 or $610,235.11\\n\\nThe cat sat down and called 514-957-3453 while the other caaaaaat purred. This cat is in California while this caaaat is in Iraq, but none are in ct. My dog prefers cat food to dog food but hates fish food.My food tastes yummy!\\n\\nAB_cd \\t<+>-.,!@# $%^&*();\\\\/|_^@1# (917) 488-5410\\n\\n*!dsar2d1\\n\\nI told him to search the thesaurus where sandeep.junnarkar@journalism.cuny.edu he'd be able to sjnews@gmail.com find words like them.\\n\\nabcdefgczhijklmnopqrstuvwxyz\\tABCDEFGCZHIJKLMNOPQRSTUVWXYZ\\n\\nA h0g is a hog.\\n\\nDog and dog and DOG. His number is 415.458.9163.\\n\\n&^%@ 129\\n\\nabba\\n\\n\\n\\n\""
      ]
     },
     "execution_count": 2,
     "metadata": {},
     "output_type": "execute_result"
    }
   ],
   "source": [
    "## call mydoc\n",
    "mydoc"
   ]
  },
  {
   "cell_type": "code",
   "execution_count": 4,
   "metadata": {
    "id": "4qF0fu3BRbPo"
   },
   "outputs": [],
   "source": [
    "## import libraries\n",
    "import re\n",
    "import pandas as pd"
   ]
  },
  {
   "cell_type": "markdown",
   "metadata": {
    "id": "zN1HOzKev6XH"
   },
   "source": [
    "### Is a value present?"
   ]
  },
  {
   "cell_type": "code",
   "execution_count": 6,
   "metadata": {
    "id": "q7vv6mbWRbPw"
   },
   "outputs": [],
   "source": [
    "## example list - run it\n",
    "mylist = [1, 2, 3, 4, 5, 6, 8, 7, 9]"
   ]
  },
  {
   "cell_type": "code",
   "execution_count": 7,
   "metadata": {
    "colab": {
     "base_uri": "https://localhost:8080/"
    },
    "id": "xqoYsl95RbPw",
    "outputId": "c84b82cc-bdb2-45c6-8f3c-dcdacda29a98"
   },
   "outputs": [
    {
     "data": {
      "text/plain": [
       "True"
      ]
     },
     "execution_count": 7,
     "metadata": {},
     "output_type": "execute_result"
    }
   ],
   "source": [
    "## is the number 1 in the list?\n",
    "1 in mylist"
   ]
  },
  {
   "cell_type": "code",
   "execution_count": 8,
   "metadata": {
    "colab": {
     "base_uri": "https://localhost:8080/"
    },
    "id": "ykVTPOyiAA3u",
    "outputId": "ac02774f-2f1f-4839-9d50-b2a976e624ab"
   },
   "outputs": [
    {
     "data": {
      "text/plain": [
       "False"
      ]
     },
     "execution_count": 8,
     "metadata": {},
     "output_type": "execute_result"
    }
   ],
   "source": [
    "## is the number 12 in the list?\n",
    "12 in mylist"
   ]
  },
  {
   "cell_type": "code",
   "execution_count": null,
   "metadata": {
    "colab": {
     "base_uri": "https://localhost:8080/"
    },
    "id": "QRFCMCxnmEwB",
    "outputId": "75b40c54-1af9-4f69-f8d8-7c5d668ab9b3"
   },
   "outputs": [],
   "source": [
    "### is \"12534\" in mydoc\n"
   ]
  },
  {
   "cell_type": "code",
   "execution_count": null,
   "metadata": {
    "colab": {
     "base_uri": "https://localhost:8080/"
    },
    "id": "JcG7Gqt5BXac",
    "outputId": "80f50956-fc12-4e7b-c04c-9adee3296095"
   },
   "outputs": [],
   "source": [
    "## is \"x34\" in mydoc\n"
   ]
  },
  {
   "cell_type": "markdown",
   "metadata": {
    "id": "yweWFG7VRbPw"
   },
   "source": [
    "#### Let's actually use a regex pattern"
   ]
  },
  {
   "cell_type": "code",
   "execution_count": null,
   "metadata": {
    "id": "mFQn6RQRRbPw"
   },
   "outputs": [],
   "source": [
    "## find all words and digits (excluding symbols)\n"
   ]
  },
  {
   "cell_type": "code",
   "execution_count": null,
   "metadata": {
    "colab": {
     "base_uri": "https://localhost:8080/"
    },
    "id": "nipegrsERbPw",
    "outputId": "e54595fe-7a84-49a2-d0d2-5e6d51a7cf76"
   },
   "outputs": [],
   "source": [
    "## let's run it on our mydoc string\n"
   ]
  },
  {
   "cell_type": "code",
   "execution_count": null,
   "metadata": {
    "colab": {
     "base_uri": "https://localhost:8080/",
     "height": 35
    },
    "id": "UqxaYCC2RbPw",
    "outputId": "4409981e-726c-4988-c662-9519480a52bf"
   },
   "outputs": [],
   "source": [
    "## put out the actual match\n"
   ]
  },
  {
   "cell_type": "markdown",
   "metadata": {
    "id": "MrBX5n0bRbPx"
   },
   "source": [
    "## ```findall```\n",
    "\n",
    "Returns a list of all found items\n",
    "\n",
    "``` result = your_pattern.findall(doc_to_search)```\n"
   ]
  },
  {
   "cell_type": "code",
   "execution_count": null,
   "metadata": {
    "id": "s43uPmZdRbPx"
   },
   "outputs": [],
   "source": [
    "## use findall to find all matching patterns\n"
   ]
  },
  {
   "cell_type": "code",
   "execution_count": null,
   "metadata": {
    "colab": {
     "base_uri": "https://localhost:8080/"
    },
    "id": "CLKrsWmcRbPx",
    "outputId": "4561d9d1-5ed1-42cc-c85e-19281924048f"
   },
   "outputs": [],
   "source": [
    "## what object is it?\n"
   ]
  },
  {
   "cell_type": "markdown",
   "metadata": {},
   "source": [
    "## Import document(s) to scan"
   ]
  },
  {
   "cell_type": "code",
   "execution_count": null,
   "metadata": {},
   "outputs": [],
   "source": [
    "## access external document\n",
    "## store text into a variable\n",
    "\n"
   ]
  },
  {
   "cell_type": "code",
   "execution_count": null,
   "metadata": {},
   "outputs": [],
   "source": [
    "## print text\n"
   ]
  },
  {
   "cell_type": "code",
   "execution_count": null,
   "metadata": {},
   "outputs": [],
   "source": [
    "## call text\n"
   ]
  },
  {
   "cell_type": "code",
   "execution_count": null,
   "metadata": {
    "colab": {
     "base_uri": "https://localhost:8080/"
    },
    "id": "3RoifPaq9n-I",
    "outputId": "b4d8342e-47c8-4857-d390-ccea76eac79b"
   },
   "outputs": [],
   "source": [
    "## find all phone numbers\n"
   ]
  },
  {
   "cell_type": "code",
   "execution_count": null,
   "metadata": {
    "colab": {
     "base_uri": "https://localhost:8080/"
    },
    "id": "FA72TKhVRbPx",
    "outputId": "ae5184c0-2eb5-41b9-e466-89e102a55f4e"
   },
   "outputs": [],
   "source": [
    "## call our tel_pat to see someting interesting\n"
   ]
  },
  {
   "cell_type": "markdown",
   "metadata": {
    "id": "1d7yjMi3RbPy"
   },
   "source": [
    "### Flags\n",
    "\n",
    "- ```re.IGNORECASE``` or ```re.I``` for ignore case\n",
    "- ```re.MULTILINE¶``` or ```re.M``` for multiline\n",
    "- ```re.DOTALL``` or ```re.S``` for period includes new lines\n",
    "- ```re.VERBOSE``` or ```re.X``` for breaking up the regex\n",
    "\n",
    "<a href=\"https://docs.python.org/3/library/re.html#re.ASCII\">More on flags</a>."
   ]
  },
  {
   "cell_type": "code",
   "execution_count": null,
   "metadata": {},
   "outputs": [],
   "source": [
    "## find all words at the beginning of a line\n"
   ]
  },
  {
   "cell_type": "code",
   "execution_count": null,
   "metadata": {},
   "outputs": [],
   "source": [
    "## print all matches\n"
   ]
  },
  {
   "cell_type": "code",
   "execution_count": null,
   "metadata": {},
   "outputs": [],
   "source": [
    "## find all words at the beginning of a line\n",
    "## ^ or $ need multiline flag\n"
   ]
  },
  {
   "cell_type": "code",
   "execution_count": null,
   "metadata": {},
   "outputs": [],
   "source": [
    "## print all matches\n"
   ]
  },
  {
   "cell_type": "code",
   "execution_count": null,
   "metadata": {
    "id": "PR1muPLjRbPx"
   },
   "outputs": [],
   "source": [
    "## find all words at the beginning of a line regardless of case\n"
   ]
  },
  {
   "cell_type": "code",
   "execution_count": null,
   "metadata": {
    "colab": {
     "base_uri": "https://localhost:8080/"
    },
    "id": "OYv9Y3E2xH4W",
    "outputId": "21c39a04-7209-4503-fe36-8a95825ff5ae"
   },
   "outputs": [],
   "source": [
    "## find all matches for pat2\n"
   ]
  },
  {
   "cell_type": "markdown",
   "metadata": {
    "id": "f3niV9QR39YW"
   },
   "source": [
    "## Capture Mock Table data\n",
    "Place animals, ID and color and place into dataframe"
   ]
  },
  {
   "cell_type": "code",
   "execution_count": null,
   "metadata": {
    "id": "CX5rdgtY4BAO"
   },
   "outputs": [],
   "source": [
    "## call text\n"
   ]
  },
  {
   "cell_type": "code",
   "execution_count": null,
   "metadata": {
    "colab": {
     "base_uri": "https://localhost:8080/"
    },
    "id": "HQMxI5oo4MWW",
    "outputId": "760d5315-77ac-403a-a1a9-824caa21404e"
   },
   "outputs": [],
   "source": [
    "## print it\n"
   ]
  },
  {
   "cell_type": "code",
   "execution_count": null,
   "metadata": {
    "colab": {
     "base_uri": "https://localhost:8080/"
    },
    "id": "mnYcNqltAyVX",
    "outputId": "d38b6b44-28e3-4da9-8124-14b20e412ee9"
   },
   "outputs": [],
   "source": [
    "## MATCH ALL animal data\n"
   ]
  },
  {
   "cell_type": "code",
   "execution_count": null,
   "metadata": {},
   "outputs": [],
   "source": [
    "## Make it easier to read with VERBOSE\n"
   ]
  },
  {
   "cell_type": "code",
   "execution_count": null,
   "metadata": {
    "colab": {
     "base_uri": "https://localhost:8080/"
    },
    "id": "7YrdZRgEFIag",
    "outputId": "606ea2cc-64a3-4fa4-9e57-99df13e07aaf"
   },
   "outputs": [],
   "source": [
    "## type of object"
   ]
  },
  {
   "cell_type": "code",
   "execution_count": null,
   "metadata": {
    "colab": {
     "base_uri": "https://localhost:8080/",
     "height": 269
    },
    "id": "3VCBrnegFQht",
    "outputId": "91837b7f-4ce0-4cd6-e875-21bbbe82c7f5"
   },
   "outputs": [],
   "source": [
    "## export to df\n"
   ]
  },
  {
   "cell_type": "markdown",
   "metadata": {},
   "source": [
    "## Capture Weapons data\n",
    "Place weapons dataframe"
   ]
  },
  {
   "cell_type": "code",
   "execution_count": null,
   "metadata": {},
   "outputs": [],
   "source": [
    "## pull in weapons\n"
   ]
  },
  {
   "cell_type": "code",
   "execution_count": null,
   "metadata": {},
   "outputs": [],
   "source": [
    "## regex to find pattern\n"
   ]
  },
  {
   "cell_type": "code",
   "execution_count": null,
   "metadata": {
    "colab": {
     "base_uri": "https://localhost:8080/"
    },
    "id": "_f9-JuZR7qDH",
    "outputId": "62665a88-2349-4b1e-865b-d0cd8560ef3c"
   },
   "outputs": [],
   "source": [
    "## test with search\n"
   ]
  },
  {
   "cell_type": "code",
   "execution_count": null,
   "metadata": {},
   "outputs": [],
   "source": [
    "## CAPTURE into weapons table\n"
   ]
  },
  {
   "cell_type": "code",
   "execution_count": null,
   "metadata": {},
   "outputs": [],
   "source": [
    "## how do we capture the first tuble item as a list?\n"
   ]
  },
  {
   "cell_type": "code",
   "execution_count": null,
   "metadata": {
    "colab": {
     "base_uri": "https://localhost:8080/",
     "height": 388
    },
    "id": "bKysO65Q7qO-",
    "outputId": "59724385-6eb8-48ce-b06a-b4894166b505"
   },
   "outputs": [],
   "source": [
    "## convert into df\n"
   ]
  },
  {
   "cell_type": "code",
   "execution_count": null,
   "metadata": {
    "id": "0Sq2fRzV8X7u"
   },
   "outputs": [],
   "source": [
    "## export as CSV\n"
   ]
  },
  {
   "cell_type": "markdown",
   "metadata": {
    "id": "9PmgWaXKRbP8"
   },
   "source": [
    "## Find key data points embedded in text\n",
    "\n",
    "#### demo text:"
   ]
  },
  {
   "cell_type": "code",
   "execution_count": null,
   "metadata": {
    "id": "ySCUxOb5RbQA"
   },
   "outputs": [],
   "source": [
    "some_text = '''\n",
    "Name: Sandeep Junnarkar\n",
    "Proin elementum, ipsum id ullamcorper euismod, diam diam laoreet urna. \n",
    "Date: January 5, 2011\n",
    "Eu tempus eros augue quis nulla. \n",
    "Location: Berkeley, Ca\n",
    "\n",
    "Name: Peter Smith\n",
    "Proin elementum, ipsum id ullamcorper euismod, diam diam laoreet urna. \n",
    "Date: March 24, 1988\n",
    "Eu tempus eros augue quis nulla. \n",
    "Location: New York, NY\n",
    "\n",
    "Name: American Artist\n",
    "Proin elementum, ipsum id ullamcorper euismod, diam diam laoreet urna. \n",
    "Date: July 1, 2022\n",
    "Eu tempus eros augue quis nulla. \n",
    "Location: Flushing, NY\n",
    "\n",
    "Name: Jill F. Doe\n",
    "Proin elementum, ipsum id ullamcorper euismod, diam diam laoreet urna. \n",
    "Date: December 16, 2010\n",
    "Eu tempus eros augue quis nulla. \n",
    "Location: Miami, Florida\n",
    "'''"
   ]
  },
  {
   "cell_type": "code",
   "execution_count": null,
   "metadata": {},
   "outputs": [],
   "source": [
    "## patterns:\n"
   ]
  },
  {
   "cell_type": "code",
   "execution_count": null,
   "metadata": {},
   "outputs": [],
   "source": [
    "## find dates\n"
   ]
  },
  {
   "cell_type": "code",
   "execution_count": null,
   "metadata": {},
   "outputs": [],
   "source": [
    "## find names\n"
   ]
  },
  {
   "cell_type": "code",
   "execution_count": null,
   "metadata": {},
   "outputs": [],
   "source": [
    "## pulling in multiple capture groups\n"
   ]
  },
  {
   "cell_type": "code",
   "execution_count": null,
   "metadata": {},
   "outputs": [],
   "source": [
    "## lo\n",
    "loc_list = loc_pat.findall(some_text)\n",
    "loc_list"
   ]
  },
  {
   "cell_type": "code",
   "execution_count": null,
   "metadata": {},
   "outputs": [],
   "source": [
    "df = pd.DataFrame(list(zip(names_list, loc_list, date_list)),\n",
    "                 columns = [\"name\", \"location\", \"date\"])\n",
    "df"
   ]
  },
  {
   "cell_type": "code",
   "execution_count": null,
   "metadata": {},
   "outputs": [],
   "source": []
  }
 ],
 "metadata": {
  "colab": {
   "collapsed_sections": [],
   "name": "PREP for week-13-regex-2-DEMO.ipynb",
   "provenance": []
  },
  "kernelspec": {
   "display_name": "Python 3",
   "language": "python",
   "name": "python3"
  },
  "language_info": {
   "codemirror_mode": {
    "name": "ipython",
    "version": 3
   },
   "file_extension": ".py",
   "mimetype": "text/x-python",
   "name": "python",
   "nbconvert_exporter": "python",
   "pygments_lexer": "ipython3",
   "version": "3.8.8"
  }
 },
 "nbformat": 4,
 "nbformat_minor": 1
}
