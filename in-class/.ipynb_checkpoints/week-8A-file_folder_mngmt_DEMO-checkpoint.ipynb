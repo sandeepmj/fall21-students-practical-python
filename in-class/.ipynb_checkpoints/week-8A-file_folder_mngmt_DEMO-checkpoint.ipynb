{
 "cells": [
  {
   "cell_type": "markdown",
   "metadata": {
    "id": "GZacCx2Yzims"
   },
   "source": [
    "# Files and Folder using Python \n",
    "\n",
    "#### As we create and tap files for analysis, we need to stay organized programmatically.\n",
    "\n",
    "- Let's understand Google Colab storage structure.\n",
    "\n",
    "- We'll use the ```os module``` and ```pathlib``` to create, navigate and delete files and folders programmatically.\n",
    "\n",
    "- We'll also use command line/UNIX commands like ```ls```, ```cd``` and ```mkdir```.\n",
    "\n",
    "- [Download the sample files](https://drive.google.com/file/d/1uTbYtyV_1QBLvW0yUKaDRuk8Bgjhl3Er/view?usp=sharing) we will need."
   ]
  },
  {
   "cell_type": "code",
   "execution_count": null,
   "metadata": {
    "id": "w7tpVnQ7zimy"
   },
   "outputs": [],
   "source": [
    "## import libraries\n",
    "import os  ## allows you to navigate, create, delete folders\n",
    "from pathlib import Path ## allows to create paths to files and folders\n",
    "import shutil ## To empty a directory with files in it, we use another library called shutil\n",
    "from google.colab import files ## code for downloading in google colab\n",
    "import glob ## import the glob library for collecting specific files into a list\n"
   ]
  },
  {
   "cell_type": "markdown",
   "metadata": {
    "id": "OaOCcvP_5eYU"
   },
   "source": [
    "## UNIX Command Line\n",
    "\n",
    "### NOTE: these commands have to be in empty cells"
   ]
  },
  {
   "cell_type": "markdown",
   "metadata": {
    "id": "SNa7p6pz5uQK"
   },
   "source": [
    "## Where am I?\n",
    "\n",
    "## ```pwd```"
   ]
  },
  {
   "cell_type": "code",
   "execution_count": null,
   "metadata": {
    "id": "NweRIXSD5vwB"
   },
   "outputs": [],
   "source": []
  },
  {
   "cell_type": "markdown",
   "metadata": {
    "id": "v8Yl83mh50Gi"
   },
   "source": [
    "## list directories\n",
    "\n",
    "## ```ls```"
   ]
  },
  {
   "cell_type": "code",
   "execution_count": null,
   "metadata": {
    "id": "2Aozyaz_52KH"
   },
   "outputs": [],
   "source": []
  },
  {
   "cell_type": "markdown",
   "metadata": {
    "id": "AM5PC1S46A8S"
   },
   "source": [
    "## change directories\n",
    "\n",
    "## ```cd```\n",
    "\n",
    "let's enter our ```sample_data``` folder"
   ]
  },
  {
   "cell_type": "code",
   "execution_count": null,
   "metadata": {
    "id": "CShXmMUT6DWC"
   },
   "outputs": [],
   "source": []
  },
  {
   "cell_type": "markdown",
   "metadata": {
    "id": "-15W5y4v6Hv4"
   },
   "source": [
    "## What does this folder hold?"
   ]
  },
  {
   "cell_type": "code",
   "execution_count": null,
   "metadata": {
    "id": "FCPvZ7Ea6N-I"
   },
   "outputs": [],
   "source": []
  },
  {
   "cell_type": "markdown",
   "metadata": {
    "id": "ktN_tdwH7CBw"
   },
   "source": [
    "## Back out of folder to the enclosing folder\n",
    "\n",
    "```cd ..```"
   ]
  },
  {
   "cell_type": "code",
   "execution_count": null,
   "metadata": {
    "id": "4FumnMS17EPm"
   },
   "outputs": [],
   "source": []
  },
  {
   "cell_type": "markdown",
   "metadata": {
    "id": "0Zjn4CdQ7G9X"
   },
   "source": [
    "Where am I?"
   ]
  },
  {
   "cell_type": "code",
   "execution_count": null,
   "metadata": {
    "id": "CAd9NisX7Jnb"
   },
   "outputs": [],
   "source": []
  },
  {
   "cell_type": "markdown",
   "metadata": {
    "id": "7a2PAZPx8Lhy"
   },
   "source": [
    "# Importing files\n",
    "\n",
    "We can use an import library specific to Colab\n",
    "\n",
    "## *WARNING*: These are temporary uploads. When you restart, you need to reupload.\n",
    "\n",
    "```from google.colab import files```\n",
    "\n",
    "```files.upload()```"
   ]
  },
  {
   "cell_type": "markdown",
   "metadata": {
    "id": "ipp6BN0J8VY3"
   },
   "source": [
    "Let's confirm where we are:"
   ]
  },
  {
   "cell_type": "code",
   "execution_count": null,
   "metadata": {
    "id": "9Lnu3jTz8OvV"
   },
   "outputs": [],
   "source": [
    "\n"
   ]
  },
  {
   "cell_type": "code",
   "execution_count": null,
   "metadata": {
    "id": "ospeh1Jj8bEm"
   },
   "outputs": [],
   "source": [
    "## UPLOAD FILE\n"
   ]
  },
  {
   "cell_type": "markdown",
   "metadata": {
    "id": "4GnU7N2f8rYk"
   },
   "source": [
    "### Let's see if it uploaded"
   ]
  },
  {
   "cell_type": "code",
   "execution_count": null,
   "metadata": {
    "id": "uNygGTPBzim0"
   },
   "outputs": [],
   "source": []
  },
  {
   "cell_type": "markdown",
   "metadata": {
    "id": "Cwo409xC891E"
   },
   "source": [
    "# Programmatic Folder/Files Management\n",
    "\n",
    "- We'll use the ```os module```."
   ]
  },
  {
   "cell_type": "code",
   "execution_count": null,
   "metadata": {
    "id": "pGY2wswczim0"
   },
   "outputs": [],
   "source": [
    "## Python scriptable\n"
   ]
  },
  {
   "cell_type": "code",
   "execution_count": null,
   "metadata": {
    "id": "fdJs3c2fuTyR"
   },
   "outputs": [],
   "source": [
    "## what object is that?"
   ]
  },
  {
   "cell_type": "code",
   "execution_count": null,
   "metadata": {
    "id": "tyTDQLEDzim0"
   },
   "outputs": [],
   "source": [
    "## create a path to folder called some_new_folder\n",
    "## we store that path in a variable called my_new_directory\n"
   ]
  },
  {
   "cell_type": "code",
   "execution_count": null,
   "metadata": {
    "id": "BZF_SEfRzim0"
   },
   "outputs": [],
   "source": [
    "## create that directory\n",
    "## exists_ok=True checks to see if the folder already exists\n"
   ]
  },
  {
   "cell_type": "code",
   "execution_count": null,
   "metadata": {
    "id": "KsI7OysGgo3s"
   },
   "outputs": [],
   "source": []
  },
  {
   "cell_type": "markdown",
   "metadata": {
    "id": "ovvbwfZ-zim1"
   },
   "source": [
    "### You don't have to create a variable for the path, but it is easier to resuse that path\n",
    "```Path('folder_name/').mkdir(exist_ok=True)```"
   ]
  },
  {
   "cell_type": "code",
   "execution_count": null,
   "metadata": {
    "id": "35e_-vJpieBn"
   },
   "outputs": [],
   "source": [
    "### create junk_folder\n",
    "\n"
   ]
  },
  {
   "cell_type": "markdown",
   "metadata": {
    "id": "6YRZyRRJrXeT"
   },
   "source": [
    "UNIX command to show list of folders"
   ]
  },
  {
   "cell_type": "code",
   "execution_count": null,
   "metadata": {
    "id": "NEjco9TwguJ_"
   },
   "outputs": [],
   "source": []
  },
  {
   "cell_type": "code",
   "execution_count": null,
   "metadata": {
    "id": "hYIq9Gu6zim1"
   },
   "outputs": [],
   "source": [
    "## show list programmatically\n"
   ]
  },
  {
   "cell_type": "markdown",
   "metadata": {
    "id": "3Cjq9rZ6rlw-"
   },
   "source": [
    "## let's delete a folder"
   ]
  },
  {
   "cell_type": "code",
   "execution_count": null,
   "metadata": {
    "id": "4KCG6KCMzim1"
   },
   "outputs": [],
   "source": [
    "## remove an empty directory\n",
    "## NOTE: This only removes empty directories"
   ]
  },
  {
   "cell_type": "code",
   "execution_count": null,
   "metadata": {
    "id": "FL3HymK3hPKB"
   },
   "outputs": [],
   "source": []
  },
  {
   "cell_type": "code",
   "execution_count": null,
   "metadata": {
    "id": "7_6pPtLvhR2n"
   },
   "outputs": [],
   "source": []
  },
  {
   "cell_type": "code",
   "execution_count": null,
   "metadata": {
    "id": "7v4wjf3Ozim2"
   },
   "outputs": [],
   "source": [
    "## show directory now programmatically\n"
   ]
  },
  {
   "cell_type": "markdown",
   "metadata": {
    "id": "fV9ziAEZjMz6"
   },
   "source": [
    "## Manually add some junk to the junk folder and check its content.\n",
    "\n",
    "Only then do the next step"
   ]
  },
  {
   "cell_type": "code",
   "execution_count": null,
   "metadata": {
    "id": "P3AgRWGmjS5h"
   },
   "outputs": [],
   "source": []
  },
  {
   "cell_type": "code",
   "execution_count": null,
   "metadata": {
    "id": "Ac9oevd_jbpM"
   },
   "outputs": [],
   "source": []
  },
  {
   "cell_type": "markdown",
   "metadata": {
    "id": "n-y3mgMF-ODk"
   },
   "source": [
    "## Delete junk_folder (this will break)"
   ]
  },
  {
   "cell_type": "code",
   "execution_count": null,
   "metadata": {
    "id": "kP6b0gvK5u_W"
   },
   "outputs": [],
   "source": []
  },
  {
   "cell_type": "code",
   "execution_count": null,
   "metadata": {
    "id": "LHaY_W2z0u1j"
   },
   "outputs": [],
   "source": [
    "## show directory now USING OS\n"
   ]
  },
  {
   "cell_type": "markdown",
   "metadata": {
    "id": "B6LPgCXSzim3"
   },
   "source": [
    "## back out of directory because you can't delete a folder while you're in it!"
   ]
  },
  {
   "cell_type": "code",
   "execution_count": null,
   "metadata": {
    "id": "TfC1MBkxzim3"
   },
   "outputs": [],
   "source": []
  },
  {
   "cell_type": "code",
   "execution_count": null,
   "metadata": {
    "id": "7aA6_LMjzim4"
   },
   "outputs": [],
   "source": [
    "## show directory now USING OS\n"
   ]
  },
  {
   "cell_type": "code",
   "execution_count": null,
   "metadata": {
    "id": "41vPYHBQzim4"
   },
   "outputs": [],
   "source": [
    "## Now delete all contents\n"
   ]
  },
  {
   "cell_type": "code",
   "execution_count": null,
   "metadata": {
    "id": "Ww0f86byzim4"
   },
   "outputs": [],
   "source": [
    "## show directory now USING OS\n"
   ]
  },
  {
   "cell_type": "code",
   "execution_count": null,
   "metadata": {
    "id": "4PbYRM1I-2JY"
   },
   "outputs": [],
   "source": []
  },
  {
   "cell_type": "code",
   "execution_count": null,
   "metadata": {
    "id": "CequQ7jj-4Wi"
   },
   "outputs": [],
   "source": []
  },
  {
   "cell_type": "markdown",
   "metadata": {
    "id": "hdlS2ZdtcIbn"
   },
   "source": [
    "## Zip folder and download using UNIX commands"
   ]
  },
  {
   "cell_type": "code",
   "execution_count": null,
   "metadata": {
    "id": "yPcPqpGH-9-Z"
   },
   "outputs": [],
   "source": []
  },
  {
   "cell_type": "code",
   "execution_count": null,
   "metadata": {
    "id": "4N0-DGL4LWjy"
   },
   "outputs": [],
   "source": [
    "## Use colab to download\n"
   ]
  },
  {
   "cell_type": "markdown",
   "metadata": {
    "id": "wov3Du7g-vZ9"
   },
   "source": [
    "# Take a detour to fix last week's download issue."
   ]
  },
  {
   "cell_type": "markdown",
   "metadata": {
    "id": "SUcjWF1C6smw"
   },
   "source": [
    "# glob\n",
    "\n",
    "## Yes, glob.\n",
    "\n",
    "glob is a UNIX-based library for collecting specific files into a list."
   ]
  },
  {
   "cell_type": "markdown",
   "metadata": {
    "id": "FXHzRAoy7RKU"
   },
   "source": [
    "## Using a path\n",
    "\n",
    "We can store our path structure to a variable.\n",
    "\n",
    "Right-click on the folder in the left column and copy path:\n",
    "```/content/sample_data```\n",
    "\n",
    "This is the raw path. We are already in ```content``` so instead we want:\n",
    "```sample_data``` plus what files we are looking for (let's say all csv files)."
   ]
  },
  {
   "cell_type": "code",
   "execution_count": null,
   "metadata": {
    "id": "0qpyzNeK7W7t"
   },
   "outputs": [],
   "source": [
    "## grab only the csv files\n"
   ]
  },
  {
   "cell_type": "code",
   "execution_count": null,
   "metadata": {
    "id": "enzXUX0yv30r"
   },
   "outputs": [],
   "source": []
  },
  {
   "cell_type": "code",
   "execution_count": null,
   "metadata": {
    "id": "rHeM5DZ0v5fi"
   },
   "outputs": [],
   "source": []
  },
  {
   "cell_type": "code",
   "execution_count": null,
   "metadata": {
    "id": "Rxd0gr-76yy9"
   },
   "outputs": [],
   "source": [
    "## grab all the files! \n"
   ]
  },
  {
   "cell_type": "code",
   "execution_count": null,
   "metadata": {
    "id": "OTU7NuBc6959"
   },
   "outputs": [],
   "source": [
    "## grab only the .md file(s)\n",
    "\n"
   ]
  },
  {
   "cell_type": "code",
   "execution_count": null,
   "metadata": {
    "id": "ATgBXXZu_DvX"
   },
   "outputs": [],
   "source": [
    "## show directory now\n"
   ]
  },
  {
   "cell_type": "code",
   "execution_count": null,
   "metadata": {
    "id": "YnZKILIb_KQ1"
   },
   "outputs": [],
   "source": [
    "## make a new directory called project_a\n"
   ]
  },
  {
   "cell_type": "code",
   "execution_count": null,
   "metadata": {
    "id": "sX6NdMUs_ThK"
   },
   "outputs": [],
   "source": [
    "## show directory now\n"
   ]
  },
  {
   "cell_type": "code",
   "execution_count": null,
   "metadata": {
    "id": "ElktsS7C_U3J"
   },
   "outputs": [],
   "source": [
    "## change directory into project_a\n"
   ]
  },
  {
   "cell_type": "code",
   "execution_count": null,
   "metadata": {
    "id": "1WTPXmYD_foF"
   },
   "outputs": [],
   "source": [
    "## show directory now\n"
   ]
  },
  {
   "cell_type": "code",
   "execution_count": null,
   "metadata": {
    "id": "VS1IE5xa_hVQ"
   },
   "outputs": [],
   "source": [
    "## upload all our files to it\n"
   ]
  },
  {
   "cell_type": "code",
   "execution_count": null,
   "metadata": {
    "id": "h0DN1vtxATDT"
   },
   "outputs": [],
   "source": [
    "## show directory now\n"
   ]
  },
  {
   "cell_type": "markdown",
   "metadata": {
    "id": "lQcVWJMKAY_1"
   },
   "source": [
    "# Start reading files"
   ]
  },
  {
   "cell_type": "code",
   "execution_count": null,
   "metadata": {
    "id": "Q4f89xC1ATiq"
   },
   "outputs": [],
   "source": [
    "## create a text wrapper object by \"reading\" the 'read_sample1.txt' file\n",
    "## remember we are already in the test folder\n"
   ]
  },
  {
   "cell_type": "markdown",
   "metadata": {
    "id": "CcVEX9mbAf-P"
   },
   "source": [
    "## We can interpret this ```<class '_io.TextIOWrapper'>``` to read the actual contents"
   ]
  },
  {
   "cell_type": "code",
   "execution_count": null,
   "metadata": {
    "id": "McfQkCqtAghJ"
   },
   "outputs": [],
   "source": [
    "## create a variable that holds our file name\n"
   ]
  },
  {
   "cell_type": "code",
   "execution_count": null,
   "metadata": {
    "id": "_65rRBLZAmCX"
   },
   "outputs": [],
   "source": [
    "## read and print entire file\n"
   ]
  },
  {
   "cell_type": "code",
   "execution_count": null,
   "metadata": {
    "id": "dC1xQ7ysApQ9"
   },
   "outputs": [],
   "source": [
    "## read and print 50 characters\n"
   ]
  },
  {
   "cell_type": "markdown",
   "metadata": {
    "id": "mVyI5xKFA3Cc"
   },
   "source": [
    "## Saving file to memory\n",
    "So far, we haven't saved the text. \n",
    "The content is only available inside ```with open```.\n",
    "If we try to read the lines, outside the ```with open```, we'll get a ```ValueError: I/O operation on closed file.```"
   ]
  },
  {
   "cell_type": "code",
   "execution_count": null,
   "metadata": {
    "id": "NCoAJjUoAsMN"
   },
   "outputs": [],
   "source": []
  },
  {
   "cell_type": "markdown",
   "metadata": {
    "id": "zTMKlaQaBDZW"
   },
   "source": [
    "## We fix that my saving the myfile object inside a variable"
   ]
  },
  {
   "cell_type": "code",
   "execution_count": null,
   "metadata": {
    "id": "H6CxTe87A6I2"
   },
   "outputs": [],
   "source": [
    "## read hold the first 25 characters in a variable\n"
   ]
  },
  {
   "cell_type": "code",
   "execution_count": null,
   "metadata": {
    "id": "T567GoMWBAMz"
   },
   "outputs": [],
   "source": [
    "## call the variable above\n"
   ]
  },
  {
   "cell_type": "code",
   "execution_count": null,
   "metadata": {
    "id": "VZAmEMxIBRl6"
   },
   "outputs": [],
   "source": [
    "## read the first line into a variable\n"
   ]
  },
  {
   "cell_type": "code",
   "execution_count": null,
   "metadata": {
    "id": "C4ET5Ty9BUG-"
   },
   "outputs": [],
   "source": [
    "## call the variable above\n"
   ]
  },
  {
   "cell_type": "code",
   "execution_count": null,
   "metadata": {
    "id": "goQbUttdBWQL"
   },
   "outputs": [],
   "source": [
    "## read the whole thing into a variable\n"
   ]
  },
  {
   "cell_type": "code",
   "execution_count": null,
   "metadata": {
    "id": "t6c-8K4MBYXj"
   },
   "outputs": [],
   "source": [
    "## call the variable above\n"
   ]
  },
  {
   "cell_type": "code",
   "execution_count": null,
   "metadata": {
    "id": "OMBhpRj8jLKO"
   },
   "outputs": [],
   "source": []
  },
  {
   "cell_type": "code",
   "execution_count": null,
   "metadata": {
    "id": "mQv7Jw-4jOSB"
   },
   "outputs": [],
   "source": []
  },
  {
   "cell_type": "markdown",
   "metadata": {
    "id": "6vvJccMgBhcx"
   },
   "source": [
    "## It's more useful to save the text object inside a list. \n",
    "Remember, ```readlines()``` actually shows each line as part of a list."
   ]
  },
  {
   "cell_type": "code",
   "execution_count": null,
   "metadata": {
    "id": "6Hpf-aVxBbeX"
   },
   "outputs": [],
   "source": [
    "## store entire text file in list\n"
   ]
  },
  {
   "cell_type": "markdown",
   "metadata": {
    "id": "6bPl-BOFBocY"
   },
   "source": [
    "\n",
    "## We can then slice our list"
   ]
  },
  {
   "cell_type": "code",
   "execution_count": null,
   "metadata": {
    "id": "thQFzZhfBery"
   },
   "outputs": [],
   "source": [
    "## Show list item 3\n"
   ]
  },
  {
   "cell_type": "code",
   "execution_count": null,
   "metadata": {
    "id": "cU6fwVoZBrOV"
   },
   "outputs": [],
   "source": []
  },
  {
   "cell_type": "code",
   "execution_count": null,
   "metadata": {
    "id": "83gEVzzTBtuw"
   },
   "outputs": [],
   "source": []
  },
  {
   "cell_type": "code",
   "execution_count": null,
   "metadata": {
    "id": "T4_y7qprBvs2"
   },
   "outputs": [],
   "source": []
  }
 ],
 "metadata": {
  "colab": {
   "collapsed_sections": [],
   "name": "week-8A-file_folder_mngmt_BLANK.ipynb",
   "provenance": [
    {
     "file_id": "1kqd4HicmAldE-DZBOgLQjchxim-GVwYN",
     "timestamp": 1628626905369
    },
    {
     "file_id": "1C3xH08V3tJClZ_nWy3bNSUqRKcdYSC-f",
     "timestamp": 1620827792051
    }
   ]
  },
  "kernelspec": {
   "display_name": "Python 3",
   "language": "python",
   "name": "python3"
  },
  "language_info": {
   "codemirror_mode": {
    "name": "ipython",
    "version": 3
   },
   "file_extension": ".py",
   "mimetype": "text/x-python",
   "name": "python",
   "nbconvert_exporter": "python",
   "pygments_lexer": "ipython3",
   "version": "3.8.3"
  }
 },
 "nbformat": 4,
 "nbformat_minor": 0
}
