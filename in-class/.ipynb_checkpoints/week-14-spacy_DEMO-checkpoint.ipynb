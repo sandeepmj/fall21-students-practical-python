{
 "cells": [
  {
   "cell_type": "markdown",
   "metadata": {
    "id": "7QwY_aPURcTp"
   },
   "source": [
    "# Natural Language Processing"
   ]
  },
  {
   "cell_type": "markdown",
   "metadata": {
    "id": "Oha791Cm0eTu"
   },
   "source": [
    "### The problem?\n",
    "\n",
    "- Endless amounts of unstructured data found in emails, tweets, letters, memos, etc.\n",
    "- Even in transcripts\n",
    "- How can we make sense of all this data?\n",
    "- How can we 'easily' find relevant information for our reporting?"
   ]
  },
  {
   "cell_type": "markdown",
   "metadata": {
    "id": "g8_4Z57d0eTv"
   },
   "source": [
    "### The solution?\n",
    "- Computer programming to process all that text using **natural language processing**!\n",
    "- <a href=\"https://machinelearningmastery.com/natural-language-processing/\">Learn more</a> about the complexity and the history of NLP."
   ]
  },
  {
   "cell_type": "markdown",
   "metadata": {
    "id": "-zJheLEp0eTw"
   },
   "source": [
    "### Journalism examples\n",
    "\n",
    "- <a href=\"http://doctors.ajc.com/part_1_license_to_betray/\">License to betray</a> – Finding word stems and roots to uncover abuse. (<a href=\"http://doctors.ajc.com/about_this_investigation/?ecmp=doctorssexabuse_microsite_stories\">More info</a>)\n",
    "- <a href=\"https://www.revealnews.org/article/federal-judges-rulings-favored-companies-in-which-he-owned-stock/\">Federal judge’s rulings favored companies in which he owned stock</a> – Finding all stock owned by judges in disclosure forms and comparing to caseloads.\n",
    "- <a href=\"https://www.latimes.com/local/cityhall/la-me-crime-stats-20151015-story.html\">LAPD underreported serious assaults, skewing crime stats for 8 years</a> – Text classification analysis."
   ]
  },
  {
   "cell_type": "markdown",
   "metadata": {
    "id": "Qcacjpm50eT4"
   },
   "source": [
    "### The tools\n",
    "\n",
    "- Spacy v. NLTK\n",
    "- NLTK launched in 2001, Spacy in 2015\n",
    "- NLTK is now bloated and complex, requiring many steps to deal with many changes etc.\n",
    "- Spacy is lean and modern, and can compute some text 4x to 20x faster than NLTK.\n",
    "- Spacy does **nearly** everything that NLTK does, but better.\n",
    "- NLTK, however, is still the library of choice for sentiment analysis."
   ]
  },
  {
   "cell_type": "markdown",
   "metadata": {
    "id": "5vc74Y570eT5"
   },
   "source": [
    "# Working with Spacy"
   ]
  },
  {
   "cell_type": "markdown",
   "metadata": {
    "id": "ly8WKOVPYV9-"
   },
   "source": [
    "## Step 1. Install Spacy\n",
    "\n",
    "If this first time ever using spacy on this computer, you must first do either the ```!conda install``` or ```!pip install```:"
   ]
  },
  {
   "cell_type": "code",
   "execution_count": null,
   "metadata": {
    "colab": {
     "base_uri": "https://localhost:8080/"
    },
    "id": "a-S6NorkRcTu",
    "outputId": "ebf3dd63-d14a-4a4c-f140-48f7984569a4"
   },
   "outputs": [],
   "source": [
    "## pip install\n",
    "!pip install -U spacy\n"
   ]
  },
  {
   "cell_type": "code",
   "execution_count": null,
   "metadata": {
    "id": "XdUvDJNDRcTy"
   },
   "outputs": [],
   "source": [
    "## import libary.\n",
    "\n",
    "import spacy"
   ]
  },
  {
   "cell_type": "markdown",
   "metadata": {
    "id": "G8xpwtwPRcT1"
   },
   "source": [
    "#### Which language model is best for you?\n",
    "<a href=\"https://spacy.io/usage/models\">https://spacy.io/usage/models</a>"
   ]
  },
  {
   "cell_type": "markdown",
   "metadata": {
    "id": "KcPisnnlRcT1"
   },
   "source": [
    "## Step 2. Install language model\n"
   ]
  },
  {
   "cell_type": "code",
   "execution_count": null,
   "metadata": {
    "colab": {
     "base_uri": "https://localhost:8080/"
    },
    "id": "9L770hGkZePT",
    "outputId": "ae3bfe82-a6e4-4f59-e577-3a1065b5fa64"
   },
   "outputs": [],
   "source": [
    "!python -m spacy download en_core_web_trf"
   ]
  },
  {
   "cell_type": "code",
   "execution_count": null,
   "metadata": {
    "colab": {
     "base_uri": "https://localhost:8080/"
    },
    "id": "hBz3YSUXTtXq",
    "outputId": "b37fa4f2-7416-480a-ac62-7690c5bf86c1"
   },
   "outputs": [],
   "source": [
    "!python -m spacy download en_core_web_sm"
   ]
  },
  {
   "cell_type": "code",
   "execution_count": null,
   "metadata": {
    "id": "Y1G7H56B0eT9"
   },
   "outputs": [],
   "source": [
    "## import that language model\n"
   ]
  },
  {
   "cell_type": "markdown",
   "metadata": {
    "id": "uVP20HngRcT8"
   },
   "source": [
    "### Place English libary into a ```nlp``` pipeline"
   ]
  },
  {
   "cell_type": "code",
   "execution_count": null,
   "metadata": {
    "id": "pqDMPPHxRcT8"
   },
   "outputs": [],
   "source": [
    "## build nlp pipeline (a function will tokenize, parse and ner for us)\n"
   ]
  },
  {
   "cell_type": "code",
   "execution_count": null,
   "metadata": {
    "colab": {
     "base_uri": "https://localhost:8080/"
    },
    "id": "R0G92vbFFFlU",
    "outputId": "8f561db0-948c-4942-ccca-84b6b85a38fd"
   },
   "outputs": [],
   "source": [
    "## what type of object is nlp\n"
   ]
  },
  {
   "cell_type": "markdown",
   "metadata": {
    "id": "-POKYJ3W0eT_"
   },
   "source": [
    "## Step 3. Text analysis"
   ]
  },
  {
   "cell_type": "code",
   "execution_count": null,
   "metadata": {
    "id": "yy8E66pRRcT5"
   },
   "outputs": [],
   "source": [
    "### Sample English text:\n",
    "text = u'''\\\n",
    "On May 10, 2011, Microsoft announced its acquisition of Skype Technologies, \\\n",
    "creator of the VoIP service Skype, for $8.5 billion. \\\n",
    "Microsoft is headquartered near Seattle Washington while Skype remains in Palo Alto, California. \\\n",
    "Sandeep Junnarkar got this from Wikipedia. \\\n",
    "But he'd rather head to New York city to see Vincent van Gogh's The Starry Night at the Museum of Modern Art. \\\n",
    "Mount Washington, which is really Agiocochook, is the highest peak in the Northeastern United States \\\n",
    "at 6,288.2 ft and the most topographically prominent mountain east \\\n",
    "of the Mississippi River. It's not in the state of Mississippi. \\\n",
    "Ninety-year-old William Shatner, who gained fame portraying Captain James T. Kirk on \\\n",
    "the original \"Star Trek,\" just hitched a ride aboard a suborbital spacecraft \\\n",
    "that grazed the edge of outer space before parachuting to a landing, \\\n",
    "making Shatner the oldest person ever to travel to space.\n",
    "'''"
   ]
  },
  {
   "cell_type": "code",
   "execution_count": null,
   "metadata": {
    "colab": {
     "base_uri": "https://localhost:8080/",
     "height": 119
    },
    "id": "hNBJhDsM0eUA",
    "outputId": "2e171e72-6d3e-4c2e-ca35-39211df4b0d2"
   },
   "outputs": [],
   "source": [
    "## print the text\n"
   ]
  },
  {
   "cell_type": "markdown",
   "metadata": {
    "id": "nZQdKpPKRcT_"
   },
   "source": [
    "### Tokenize our text\n",
    "\n",
    "- Tokenizing is always the first step in text analysis. \n",
    "- It breaks all text into isolated but related units (including spaces, symbols, punctuation, numbers, words etc.)\n",
    "- However, it retains the connection between all the words, sentences, and paragraphs."
   ]
  },
  {
   "cell_type": "code",
   "execution_count": null,
   "metadata": {
    "colab": {
     "base_uri": "https://localhost:8080/"
    },
    "id": "SHeDiZnRRcUA",
    "outputId": "d1d05010-334c-430c-8f8c-937edadb0af8"
   },
   "outputs": [],
   "source": [
    "## let's run the nlp function and create a spacy doc\n"
   ]
  },
  {
   "cell_type": "code",
   "execution_count": null,
   "metadata": {
    "colab": {
     "base_uri": "https://localhost:8080/"
    },
    "id": "y1aV38l6RcUC",
    "outputId": "860a0b0e-dd34-43a6-d6be-14284ad949b1"
   },
   "outputs": [],
   "source": [
    "## what type of data is it?\n"
   ]
  },
  {
   "cell_type": "code",
   "execution_count": null,
   "metadata": {
    "colab": {
     "base_uri": "https://localhost:8080/"
    },
    "id": "9zJ_bNTzRcUF",
    "outputId": "9cf4a487-cafc-4968-e0d6-68f0dcabae4b"
   },
   "outputs": [],
   "source": [
    "## show each token\n"
   ]
  },
  {
   "cell_type": "markdown",
   "metadata": {
    "id": "uMUERucM0eUB"
   },
   "source": [
    "### Stop Words\n",
    "\n",
    "- These are common words that add no additional meaning to our analysis.\n",
    "- Words like ```the```, ```and``` and ```any```.\n",
    "- Spacy has just over 326 ```stop words``` in its default library.\n",
    "- Read more on <a href=\"https://medium.com/@saitejaponugoti/stop-words-in-nlp-5b248dadad47\">stop words</a>"
   ]
  },
  {
   "cell_type": "code",
   "execution_count": null,
   "metadata": {
    "id": "yMSO9wv80eUB"
   },
   "outputs": [],
   "source": [
    "## show all default stop words\n"
   ]
  },
  {
   "cell_type": "code",
   "execution_count": null,
   "metadata": {
    "colab": {
     "base_uri": "https://localhost:8080/"
    },
    "id": "FAiwWY8v0eUB",
    "outputId": "fb46375d-2e72-4651-a458-9fa30b11efa2"
   },
   "outputs": [],
   "source": [
    "## check if a word (have, near, be) is a stop word \n",
    "\n"
   ]
  },
  {
   "cell_type": "code",
   "execution_count": null,
   "metadata": {
    "id": "L10l-lko0eUC"
   },
   "outputs": [],
   "source": [
    "## how many stop words do we have?\n"
   ]
  },
  {
   "cell_type": "code",
   "execution_count": null,
   "metadata": {
    "id": "Ge7mNkyg0eUC"
   },
   "outputs": [],
   "source": [
    "## Add your own stop word\n",
    " ### adds stop word to default\n",
    " #### adds stop word to current memory\n"
   ]
  },
  {
   "cell_type": "code",
   "execution_count": null,
   "metadata": {
    "colab": {
     "base_uri": "https://localhost:8080/"
    },
    "id": "yjQmjehR0eUC",
    "outputId": "cbf8f2c3-9375-4e9e-d6b7-57278f349afc"
   },
   "outputs": [],
   "source": [
    "## CHECK IF 'lol' is a stop word\n"
   ]
  },
  {
   "cell_type": "code",
   "execution_count": null,
   "metadata": {
    "colab": {
     "base_uri": "https://localhost:8080/"
    },
    "id": "tnShOMmu0eUC",
    "outputId": "2bb1b94c-840d-406f-b70d-70ac03fbce8b"
   },
   "outputs": [],
   "source": [
    "## how many do stop words do we have now?\n"
   ]
  },
  {
   "cell_type": "code",
   "execution_count": null,
   "metadata": {
    "id": "JUH7KVzk0eUC"
   },
   "outputs": [],
   "source": [
    "## Remove a stop word from list because it is relevant.\n",
    "## notice the word \"empty\" is a stop word.\n",
    "\n",
    "## remove from default\n",
    " ## remove from current memory"
   ]
  },
  {
   "cell_type": "code",
   "execution_count": null,
   "metadata": {
    "colab": {
     "base_uri": "https://localhost:8080/"
    },
    "id": "rMFTgVOE0eUC",
    "outputId": "88ad48e4-efe3-4459-dcbe-2c5f1036f396"
   },
   "outputs": [],
   "source": [
    "## CHECK IF 'empty' is a stop word\n"
   ]
  },
  {
   "cell_type": "markdown",
   "metadata": {
    "id": "aquQS_ei0eUD"
   },
   "source": [
    "### Parts of speech\n",
    "\n"
   ]
  },
  {
   "cell_type": "code",
   "execution_count": null,
   "metadata": {
    "id": "VpKDyPcf0eUD"
   },
   "outputs": [],
   "source": [
    "## print all parts of speech words\n"
   ]
  },
  {
   "cell_type": "markdown",
   "metadata": {
    "id": "etUe4DXn0eUD"
   },
   "source": [
    "### Step 4. Named Entity Recognition (NER)\n",
    "\n",
    "#### Spacy easily returns the words that matter to us like names of companies, people, places, art works, numbers, etc.\n",
    "\n",
    "- ```.ents``` ------------> Finds all entities in doc spacy object.\n",
    "\n",
    "- ```ent.text``` ------------> The actual text.\n",
    "\n",
    "- ```ent.label``` ------------> A numeric code for the entity.\n",
    "\n",
    "- ```ent.label_``` ------------> The word's entity category.\n",
    "\n",
    "- ```spacy.explain(ent.label_)``` ---------> A description of the category.\n",
    "\n",
    "\n"
   ]
  },
  {
   "cell_type": "code",
   "execution_count": null,
   "metadata": {
    "colab": {
     "base_uri": "https://localhost:8080/",
     "height": 119
    },
    "id": "XRYeP_YgZGl-",
    "outputId": "bed9137f-174f-4dce-9861-f1a2a17d64a9"
   },
   "outputs": [],
   "source": [
    "## print text\n"
   ]
  },
  {
   "cell_type": "code",
   "execution_count": null,
   "metadata": {
    "id": "N6SeufBLZQZS"
   },
   "outputs": [],
   "source": [
    "## loop through doc\n"
   ]
  },
  {
   "cell_type": "code",
   "execution_count": null,
   "metadata": {
    "id": "TjwIeyY_0eUD"
   },
   "outputs": [],
   "source": [
    "## find all entities\n",
    "\n",
    "    "
   ]
  },
  {
   "cell_type": "code",
   "execution_count": null,
   "metadata": {
    "colab": {
     "base_uri": "https://localhost:8080/"
    },
    "id": "KaEp30d00eUD",
    "outputId": "0f99dd8f-9002-46e3-fa33-277407655b59"
   },
   "outputs": [],
   "source": [
    "## find all entities with their label\n"
   ]
  },
  {
   "cell_type": "code",
   "execution_count": null,
   "metadata": {
    "colab": {
     "base_uri": "https://localhost:8080/"
    },
    "id": "0JMCwOjc0eUD",
    "outputId": "dff63e58-771c-42e3-ecdb-108f767fd8dc"
   },
   "outputs": [],
   "source": [
    "## find all entities with their label and label descriptors\n"
   ]
  },
  {
   "cell_type": "markdown",
   "metadata": {
    "id": "DVKIMZVR0eUE"
   },
   "source": [
    "### Create a CSV that holds all the organizations/companies in a document"
   ]
  },
  {
   "cell_type": "code",
   "execution_count": null,
   "metadata": {
    "colab": {
     "base_uri": "https://localhost:8080/"
    },
    "id": "obGl2WIH0eUE",
    "outputId": "c29db873-ddb3-4a8f-db54-fa8bbdb7a2f6"
   },
   "outputs": [],
   "source": [
    "## find all entities and place in a list using list comprehension\n",
    "\n",
    "## find all entities\n",
    "\n",
    "## find all entity labels\n",
    "\n"
   ]
  },
  {
   "cell_type": "code",
   "execution_count": null,
   "metadata": {
    "colab": {
     "base_uri": "https://localhost:8080/"
    },
    "id": "6lDD-PzV0eUE",
    "outputId": "73e357b8-fce7-4845-d5e8-fb125cc61048"
   },
   "outputs": [],
   "source": [
    "### Turn the two lists into a dictionary using a for loop\n"
   ]
  },
  {
   "cell_type": "code",
   "execution_count": null,
   "metadata": {
    "colab": {
     "base_uri": "https://localhost:8080/"
    },
    "id": "tnXiq7c00eUE",
    "outputId": "4a4becb5-d8d8-4895-e8d4-247c5feaf65c"
   },
   "outputs": [],
   "source": [
    "### Turn the two lists into a dictionary using \n",
    "### dictionary comprehension within list comprehension\n",
    "\n"
   ]
  },
  {
   "cell_type": "code",
   "execution_count": null,
   "metadata": {
    "colab": {
     "base_uri": "https://localhost:8080/"
    },
    "id": "BwblY2sL0eUE",
    "outputId": "43ef5b25-466c-4ea1-cc4f-600472ac5a2c"
   },
   "outputs": [],
   "source": [
    "## the previous lists hold all entities. \n",
    "## let's narrow them down to the orgs/companies\n"
   ]
  },
  {
   "cell_type": "code",
   "execution_count": null,
   "metadata": {
    "colab": {
     "base_uri": "https://localhost:8080/"
    },
    "id": "IzfOECUN0eUE",
    "outputId": "f5e3f015-e69e-44c1-a06e-24bcbf245c30"
   },
   "outputs": [],
   "source": [
    "## What data types are these?\n"
   ]
  },
  {
   "cell_type": "markdown",
   "metadata": {
    "id": "_DQHim4b0eUF"
   },
   "source": [
    "### Let's deduplicate\n",
    "\n",
    "We could wait and use unique in Pandas."
   ]
  },
  {
   "cell_type": "code",
   "execution_count": null,
   "metadata": {
    "colab": {
     "base_uri": "https://localhost:8080/"
    },
    "id": "-kkuor1z0eUF",
    "outputId": "fe3f652a-e039-435c-c97a-d6f0c650a816"
   },
   "outputs": [],
   "source": [
    "## deduplicate a dictionary\n"
   ]
  },
  {
   "cell_type": "code",
   "execution_count": null,
   "metadata": {
    "id": "-5YKD-EL0eUF"
   },
   "outputs": [],
   "source": [
    "## import pandas\n",
    "import pandas as pd"
   ]
  },
  {
   "cell_type": "code",
   "execution_count": null,
   "metadata": {
    "colab": {
     "base_uri": "https://localhost:8080/"
    },
    "id": "rI8kP_PL0eUF",
    "outputId": "06e0fedf-52c1-4560-be76-ec98da0ec218"
   },
   "outputs": [],
   "source": [
    "# ## use pandas to write to csv file\n",
    "filename = \"test_entities.csv\"\n",
    "df = pd.DataFrame(orgs_only) ## we turn our life dict into a dataframe which we're call df\n",
    "df.to_csv(filename, encoding='utf-8', index=False)\n",
    "\n",
    "print(f\"{filename} is in your project folder!\")"
   ]
  },
  {
   "cell_type": "code",
   "execution_count": null,
   "metadata": {
    "id": "R_aeW2aMRcUK"
   },
   "outputs": [],
   "source": [
    "\n",
    "## function to find entities\n",
    "def show_entities(my_text):\n",
    "  '''\n",
    "  my_text must be a spacy doc tokenized object; \n",
    "  already run through nlp pipeline\n",
    "  '''\n",
    "  each_token = \"Token\"\n",
    "  entity_type = \"Entity\"\n",
    "  entity_def = \"Entity Defined\"\n",
    "  print(f\"{each_token:{30}}{entity_type:{15}}{entity_def}\")\n",
    "  if my_text.ents:\n",
    "      for word in doc.ents:\n",
    "          print(f\"{word.text:{30}} {word.label_:{15}} {str(spacy.explain(word.label_))}\")\n",
    "  else:\n",
    "      print(\"There are no entities in this text\")\n"
   ]
  },
  {
   "cell_type": "code",
   "execution_count": null,
   "metadata": {
    "colab": {
     "base_uri": "https://localhost:8080/"
    },
    "id": "oTNWHsd_RxW9",
    "outputId": "83f5c246-bdfb-4e61-8d59-ce6e05dffc16"
   },
   "outputs": [],
   "source": [
    "## show entities in my english sentence\n"
   ]
  },
  {
   "cell_type": "markdown",
   "metadata": {
    "id": "Pd_EdQG50eUF"
   },
   "source": [
    "## Word Frequency"
   ]
  },
  {
   "cell_type": "code",
   "execution_count": null,
   "metadata": {
    "colab": {
     "base_uri": "https://localhost:8080/"
    },
    "id": "R7Zb8rES0eUG",
    "outputId": "a48d9ada-688b-4103-dd9d-dfadd4d9edc5"
   },
   "outputs": [],
   "source": [
    "from collections import Counter  ## a package that helps us count up frequency\n",
    "## Counter(some_variable)\n",
    "## variable_name.most.common(some_number)\n",
    "\n",
    "#remove stopwords and punctuations\n",
    "\n"
   ]
  },
  {
   "cell_type": "code",
   "execution_count": null,
   "metadata": {
    "id": "U3L1Z9V90eUG"
   },
   "outputs": [],
   "source": [
    "#remove that weird unicode\n"
   ]
  },
  {
   "cell_type": "markdown",
   "metadata": {
    "id": "1nkzIHWcRcUM"
   },
   "source": [
    "## Install other languages\n",
    "#### Other languages can be found at https://spacy.io/usage/models\n",
    "\n",
    "#### Disclaimer: Language models are built by open source communities. English and German are the most advanced language models."
   ]
  },
  {
   "cell_type": "markdown",
   "metadata": {
    "id": "QC8HluMERcUN"
   },
   "source": [
    "### Spanish language model"
   ]
  },
  {
   "cell_type": "code",
   "execution_count": null,
   "metadata": {
    "colab": {
     "base_uri": "https://localhost:8080/"
    },
    "id": "SuHEEuUDSXPa",
    "outputId": "6f2c0fe2-cb7a-497d-8f55-49bd63e796e0"
   },
   "outputs": [],
   "source": [
    "## !python install the library\n"
   ]
  },
  {
   "cell_type": "code",
   "execution_count": null,
   "metadata": {
    "id": "qmjeb7LYRcUQ"
   },
   "outputs": [],
   "source": [
    "## import the library and create nlp pipleline\n"
   ]
  },
  {
   "cell_type": "code",
   "execution_count": null,
   "metadata": {
    "id": "XEfgJHvERcUW"
   },
   "outputs": [],
   "source": [
    "### Sample Spanish Text (sorry!)\n",
    "stext = \"\"\"\n",
    "El 10 de mayo de 2011, Microsoft anunció la adquisición de Skype Technologies, \\\n",
    "creador del servicio de VoIP Skype, por 8.500 millones de dólares. Microsoft tiene \\\n",
    "su sede cerca de Seattle Washington, mientras que Skype permanece en Palo Alto, California. \\\n",
    "Sandeep Junnarkar obtuvo esto de Wikipedia. Pero preferiría ir a la ciudad \\\n",
    "de Nueva York para ver La noche estrellada de Vincent van Gogh en el Museo de Arte Moderno. \\\n",
    "El monte Washington, que en realidad es Agiocochook, es el pico más alto del noreste \\\n",
    "de los Estados Unidos con 6.288,2 pies y la montaña más prominente topográficamente \\\n",
    "al este del río Mississippi. No está en el estado de Mississippi. \\\n",
    "William Shatner, de noventa años, quien saltó a la fama por interpretar al \\\n",
    "capitán James T. Kirk en la película original \"Star Trek\", acaba de subirse a \\\n",
    "una nave espacial suborbital que rozó el borde del espacio exterior antes \\\n",
    "de lanzarse en paracaídas hacia un aterrizaje, convirtiendo a Shatner en el más antiguo. \\\n",
    "persona que haya viajado al espacio.\n",
    "\"\"\""
   ]
  },
  {
   "cell_type": "code",
   "execution_count": null,
   "metadata": {
    "id": "eg767ypnRcUY"
   },
   "outputs": [],
   "source": [
    "## tokenize and show parts of speech for each token\n"
   ]
  },
  {
   "cell_type": "code",
   "execution_count": null,
   "metadata": {
    "colab": {
     "base_uri": "https://localhost:8080/"
    },
    "id": "dt67pTWYGmVf",
    "outputId": "66fb5930-9c89-40e5-c380-a9a946161021"
   },
   "outputs": [],
   "source": [
    "## show the tokens\n"
   ]
  },
  {
   "cell_type": "code",
   "execution_count": null,
   "metadata": {
    "colab": {
     "base_uri": "https://localhost:8080/"
    },
    "id": "onKjJi8ORcUa",
    "outputId": "4c5780de-e80d-4065-977e-b367dc3aa564"
   },
   "outputs": [],
   "source": [
    "## show entities\n"
   ]
  },
  {
   "cell_type": "markdown",
   "metadata": {
    "id": "3MSEF5iHleMY"
   },
   "source": [
    "### Chinese language model"
   ]
  },
  {
   "cell_type": "code",
   "execution_count": null,
   "metadata": {
    "colab": {
     "base_uri": "https://localhost:8080/"
    },
    "id": "uLTao2Lmlgng",
    "outputId": "4588d12b-0622-4c94-e910-a043e9896336"
   },
   "outputs": [],
   "source": [
    "## !python install the library\n"
   ]
  },
  {
   "cell_type": "code",
   "execution_count": null,
   "metadata": {
    "id": "tNRPxSFDlr7J"
   },
   "outputs": [],
   "source": [
    "## import the library and create nlp pipleline\n"
   ]
  },
  {
   "cell_type": "code",
   "execution_count": null,
   "metadata": {
    "id": "mZw79PW1qzTc"
   },
   "outputs": [],
   "source": [
    "### Sample Chinese Text (sorry!)\n",
    "ctext = '''\n",
    "2011年5月10日，微軟宣布收購Skype Technologies，\n",
    "VoIP服務的創造者，價格為85億美元。\n",
    "微軟總部位於華盛頓州西雅圖市附近，而Skype仍位於加利福尼亞州帕洛阿爾托。\\\n",
    "Sandeep Junnarkar從Wikipedia獲得了此信息。\\\n",
    "但他寧願前往法國巴黎在羅浮宮看《蒙娜麗莎》。\\\n",
    "華盛頓山（實際上是Agiocochook）是美國東北部的最高峰\\\n",
    "位於6,288.2英尺，是東面地形最突出的山脈\\\n",
    "密西西比河。\n",
    "'''"
   ]
  },
  {
   "cell_type": "code",
   "execution_count": null,
   "metadata": {
    "id": "qFzWDLcBpf8-"
   },
   "outputs": [],
   "source": [
    "## create a spacy doc object\n"
   ]
  },
  {
   "cell_type": "code",
   "execution_count": null,
   "metadata": {
    "colab": {
     "base_uri": "https://localhost:8080/"
    },
    "id": "_RPV9T2irG3J",
    "outputId": "5cbb20c2-59df-465b-f8a8-c4bc798b3c68"
   },
   "outputs": [],
   "source": [
    "## run our function!\n"
   ]
  },
  {
   "cell_type": "code",
   "execution_count": null,
   "metadata": {
    "colab": {
     "base_uri": "https://localhost:8080/"
    },
    "id": "74w8PMQI0eUI",
    "outputId": "2ede75a4-3f6e-4766-c970-76b7c62bebbb"
   },
   "outputs": [],
   "source": []
  },
  {
   "cell_type": "code",
   "execution_count": null,
   "metadata": {
    "colab": {
     "base_uri": "https://localhost:8080/",
     "height": 129
    },
    "id": "fCOD8R_IlaI2",
    "outputId": "87467387-9711-4b9f-8c91-bb02b0ee39d5"
   },
   "outputs": [],
   "source": []
  },
  {
   "cell_type": "code",
   "execution_count": null,
   "metadata": {
    "colab": {
     "base_uri": "https://localhost:8080/",
     "height": 472
    },
    "id": "T3CtcLLClIz5",
    "outputId": "5eabf793-da58-4117-c1f3-3c91988d6e78"
   },
   "outputs": [],
   "source": []
  }
 ],
 "metadata": {
  "celltoolbar": "Slideshow",
  "colab": {
   "collapsed_sections": [
    "fvkdsW79RcUN"
   ],
   "name": "week-14-spacy_DEMO.ipynb",
   "provenance": []
  },
  "kernelspec": {
   "display_name": "Python 3",
   "language": "python",
   "name": "python3"
  },
  "language_info": {
   "codemirror_mode": {
    "name": "ipython",
    "version": 3
   },
   "file_extension": ".py",
   "mimetype": "text/x-python",
   "name": "python",
   "nbconvert_exporter": "python",
   "pygments_lexer": "ipython3",
   "version": "3.8.8"
  }
 },
 "nbformat": 4,
 "nbformat_minor": 1
}
