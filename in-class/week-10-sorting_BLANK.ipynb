{
 "cells": [
  {
   "cell_type": "markdown",
   "metadata": {
    "id": "p9wjE_LxM9CY"
   },
   "source": [
    "If you were to sort the following list in ascending order, in what sequence should the files appear?\n",
    "\n",
    "```items = [\"apple30.2\", \"apple2\", \"apple10003\", \"apple1\",  \"apple11\"]```"
   ]
  },
  {
   "cell_type": "code",
   "execution_count": null,
   "metadata": {
    "id": "uqTX2GlhoJzz"
   },
   "outputs": [],
   "source": [
    "## import libraries\n",
    "import glob\n",
    "## in order to export our file to our computer drive, you need this only in Colab:\n",
    "# from google.colab import files ### COLAB ONLY"
   ]
  },
  {
   "cell_type": "code",
   "execution_count": null,
   "metadata": {
    "id": "EI--1QP4oOM3"
   },
   "outputs": [],
   "source": [
    "### COLAB ONLY\n",
    "## upload files\n",
    "\n",
    "# files.upload()"
   ]
  },
  {
   "cell_type": "markdown",
   "metadata": {
    "id": "yUCfB-MgM_r1"
   },
   "source": [
    "### Have you encountered this yet?"
   ]
  },
  {
   "cell_type": "code",
   "execution_count": null,
   "metadata": {
    "id": "6VG7E-UTM-q2"
   },
   "outputs": [],
   "source": [
    "##pull in a bunch of files that look in order"
   ]
  },
  {
   "cell_type": "markdown",
   "metadata": {
    "id": "6V73qyDYM9Cg"
   },
   "source": [
    "# The trouble with sorting\n",
    "#### Notice that is not quite what we expected. The order is being processed by the normal python sort algorithm which always sorts lexicographically.\n",
    "\n",
    "\n",
    "\n",
    "> The phrase lexicographic order means in alphabetical order. It is a common term in computer science. It may indicate that numbers are to be treated as strings so 10 comes before 2 because there is no positional weighting and the symbol 1 comes before 2.\n",
    "\n",
    "> -- Wiktionary\n",
    "\n",
    "\n",
    "\n",
    "\n",
    "\n",
    "\n"
   ]
  },
  {
   "cell_type": "code",
   "execution_count": null,
   "metadata": {
    "id": "1V5wRBOcM9Ce"
   },
   "outputs": [],
   "source": [
    "## we have  list of items that we want to sort in ascending order:\n",
    "### RUN THIS CELL:\n",
    "items = [\"apple30.2\", \"apple2\", \"apple10003\", \"apple1\",  \"apple11\"]\n",
    "items"
   ]
  },
  {
   "cell_type": "code",
   "execution_count": null,
   "metadata": {
    "id": "uKRuApHCM9Cg"
   },
   "outputs": [],
   "source": [
    "## let's try the built-in sorted() python function\n"
   ]
  },
  {
   "cell_type": "markdown",
   "metadata": {
    "id": "Jlj8Pp4PqGWX"
   },
   "source": [
    "#### Let's reset our list"
   ]
  },
  {
   "cell_type": "code",
   "execution_count": null,
   "metadata": {
    "id": "i5lv5NNzM9Cg"
   },
   "outputs": [],
   "source": [
    "## RUN THIS CELL\n",
    "items = [\"apple30.2\", \"apple2\", \"apple10003\", \"apple1\",  \"apple11\"]\n",
    "items"
   ]
  },
  {
   "cell_type": "code",
   "execution_count": null,
   "metadata": {
    "id": "dFDWpzQcM9Ch"
   },
   "outputs": [],
   "source": [
    "## we can try sort() which returns a changed list\n"
   ]
  },
  {
   "cell_type": "markdown",
   "metadata": {
    "id": "xJdI1mK4M9Ch"
   },
   "source": [
    "#### Same problem."
   ]
  },
  {
   "cell_type": "markdown",
   "metadata": {
    "id": "XZ-3cY6SM9Ci"
   },
   "source": [
    "## Natsort to the rescue"
   ]
  },
  {
   "cell_type": "code",
   "execution_count": null,
   "metadata": {
    "id": "n3sFIw9CM9Ci"
   },
   "outputs": [],
   "source": [
    "## pip install natsort\n",
    "!pip install natsort"
   ]
  },
  {
   "cell_type": "code",
   "execution_count": null,
   "metadata": {
    "id": "GbVeUEvMM9Ci"
   },
   "outputs": [],
   "source": [
    "## import library and module\n",
    "from natsort import natsorted"
   ]
  },
  {
   "cell_type": "code",
   "execution_count": null,
   "metadata": {
    "id": "UjNYfGESM9Cj"
   },
   "outputs": [],
   "source": [
    "## RUN THIS CELL\n",
    "items = [\"apple30.2\", \"apple2\", \"apple10003\", \"apple1\",  \"apple11\"]\n",
    "items"
   ]
  },
  {
   "cell_type": "code",
   "execution_count": null,
   "metadata": {
    "id": "CftKFnzoM9Cj"
   },
   "outputs": [],
   "source": [
    "## let's sort using natstored\n"
   ]
  },
  {
   "cell_type": "markdown",
   "metadata": {
    "id": "2W7DXuTeM9Cj"
   },
   "source": [
    "## Real life problem\n",
    "\n",
    "Let's say you have to process a series of files like the ones found in the ```sample folder```.\n",
    "\n",
    "When you try to sort them, they come out all out of order."
   ]
  },
  {
   "cell_type": "code",
   "execution_count": null,
   "metadata": {
    "id": "7kMOePQaM9Ck"
   },
   "outputs": [],
   "source": [
    "## let's glob our files together\n"
   ]
  },
  {
   "cell_type": "code",
   "execution_count": null,
   "metadata": {
    "id": "pmn9ins6M9Ck"
   },
   "outputs": [],
   "source": [
    "## we've already imported natsorted\n",
    "## let's natsort it.\n"
   ]
  },
  {
   "cell_type": "code",
   "execution_count": null,
   "metadata": {
    "id": "V1Xyy2L-M9Ck"
   },
   "outputs": [],
   "source": []
  }
 ],
 "metadata": {
  "celltoolbar": "Slideshow",
  "colab": {
   "collapsed_sections": [],
   "name": "week-10-sorting_BLANK.ipynb",
   "provenance": [
    {
     "file_id": "1kHYdE3FRWnmG2vgJixLFjwK1RJssWmkd",
     "timestamp": 1629845325743
    }
   ]
  },
  "kernelspec": {
   "display_name": "Python 3",
   "language": "python",
   "name": "python3"
  },
  "language_info": {
   "codemirror_mode": {
    "name": "ipython",
    "version": 3
   },
   "file_extension": ".py",
   "mimetype": "text/x-python",
   "name": "python",
   "nbconvert_exporter": "python",
   "pygments_lexer": "ipython3",
   "version": "3.8.8"
  }
 },
 "nbformat": 4,
 "nbformat_minor": 1
}
