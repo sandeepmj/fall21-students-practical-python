{
 "cells": [
  {
   "cell_type": "markdown",
   "metadata": {
    "id": "1JH78Ldxvuz_"
   },
   "source": [
    "# Scraping sites with pulldown menus\n",
    "\n",
    "- <a href=\"https://automobiles.honda.com/\">Honda</a>\n",
    "- <a href=\"https://www.ryanair.com/us/en\">Ryanair</a>\n",
    "- <a href=\"https://www.rebgv.org/content/rebgv-org/market-watch/monthly-market-report/\">Real Estate Board Monthly Market Report</a>\n",
    "\n",
    "We want to <a href=\"https://sandeepmj.github.io/scrape-example-page/pulldown-site/\">scrape this site</a>. \n",
    "\n",
    "Note that the site is non-functional (choosing items from menu won't take you anywhere, but we can use it to train)."
   ]
  },
  {
   "cell_type": "markdown",
   "metadata": {
    "id": "BG4E3uJXv5Tp"
   },
   "source": [
    "## Buried within are pages like:\n",
    "\n",
    "- <a href=\"https://sandeepmj.github.io/scrape-example-page/pulldown-site/reports/january-2020.html\">January 2020</a>\n",
    "- <a href=\"https://sandeepmj.github.io/scrape-example-page/pulldown-site/reports/february-2020.html\">February 2020</a>\n",
    "- <a href=\"https://sandeepmj.github.io/scrape-example-page/pulldown-site/reports/august-2020.html\">August 2020</a>"
   ]
  },
  {
   "cell_type": "code",
   "execution_count": 1,
   "metadata": {
    "id": "_JLB76N9wDsz"
   },
   "outputs": [
    {
     "name": "stdout",
     "output_type": "stream",
     "text": [
      "Requirement already satisfied: icecream in /usr/local/anaconda3/lib/python3.8/site-packages (2.1.1)\n",
      "Requirement already satisfied: executing>=0.3.1 in /usr/local/anaconda3/lib/python3.8/site-packages (from icecream) (0.8.0)\n",
      "Requirement already satisfied: asttokens>=2.0.1 in /usr/local/anaconda3/lib/python3.8/site-packages (from icecream) (2.0.5)\n",
      "Requirement already satisfied: pygments>=2.2.0 in /usr/local/anaconda3/lib/python3.8/site-packages (from icecream) (2.8.1)\n",
      "Requirement already satisfied: colorama>=0.3.9 in /usr/local/anaconda3/lib/python3.8/site-packages (from icecream) (0.4.4)\n",
      "Requirement already satisfied: six in /usr/local/anaconda3/lib/python3.8/site-packages (from asttokens>=2.0.1->icecream) (1.15.0)\n",
      "Note: you may need to restart the kernel to use updated packages.\n"
     ]
    }
   ],
   "source": [
    "pip install icecream"
   ]
  },
  {
   "cell_type": "code",
   "execution_count": 2,
   "metadata": {
    "id": "8Ac52cjtvvkP"
   },
   "outputs": [],
   "source": [
    "## Lets import all the libaries we are likely to need\n",
    "import requests ## to capture content from web pages\n",
    "from bs4 import BeautifulSoup ## to parse our scraped data\n",
    "import pandas as pd ## to easily export our data to dataframes/CSVs\n",
    "from icecream import ic ## easily debug\n",
    "from pprint import pprint as pp ## to prettify our printouts\n",
    "import itertools ## to flatten lists\n",
    "from random import randrange ## to create a range of numbers\n",
    "import time # for timer\n",
    "import re"
   ]
  },
  {
   "cell_type": "code",
   "execution_count": 3,
   "metadata": {},
   "outputs": [],
   "source": [
    "url = \"https://sandeepmj.github.io/scrape-example-page/pulldown-site/\""
   ]
  },
  {
   "cell_type": "code",
   "execution_count": 4,
   "metadata": {},
   "outputs": [
    {
     "data": {
      "text/plain": [
       "<!DOCTYPE html>\n",
       "\n",
       "<html lang=\"en\">\n",
       "<head>\n",
       "<meta charset=\"utf-8\"/>\n",
       "<!-- set the character set -->\n",
       "<meta content=\"IE=edge\" http-equiv=\"X-UA-Compatible\"/>\n",
       "<meta content=\"width=device-width, initial-scale=1\" name=\"viewport\"/>\n",
       "<!-- first step to a responsive site -->\n",
       "<title>Pulldown menu demo site</title>\n",
       "<!-- FONT AWESOME -->\n",
       "<link href=\"https://maxcdn.bootstrapcdn.com/font-awesome/4.7.0/css/font-awesome.min.css\" rel=\"stylesheet\"/>\n",
       "<!-- Your styles should be called here -->\n",
       "<link href=\"styles.css\" rel=\"stylesheet\" type=\"text/css\"/>\n",
       "</head>\n",
       "<body>\n",
       "<!-- YOUR CONTENT GOES HERE -->\n",
       "<div class=\"main\">\n",
       "<h1>Pulldown menu demo site</h1>\n",
       "<p>A site to learn and practice how to scrape pulldown menu sites</p>\n",
       "<p>Select a month and a year. There is no <strong>View Results</strong> button and this is not a fully operational site. Selecting a month and year and clicking on <strong>View Results</strong> would take you to a new page.</p>\n",
       "<div class=\"dropdown\">\n",
       "<label for=\"month\">Month</label>\n",
       "<div class=\"select-wrapper-short\">\n",
       "<select class=\"form-control custom-select\" id=\"month\" name=\"month\" type=\"select\">\n",
       "<option selected=\"\" value=\"january\">January</option>\n",
       "<option value=\"february\">February</option>\n",
       "<option value=\"march\">March</option>\n",
       "<option value=\"april\">April</option>\n",
       "<option value=\"may\">May</option>\n",
       "<option value=\"june\">June</option>\n",
       "<option value=\"july\">July</option>\n",
       "<option value=\"august\">August</option>\n",
       "<option value=\"september\">September</option>\n",
       "<option value=\"october\">October</option>\n",
       "<option value=\"november\">November</option>\n",
       "<option value=\"december\">December</option>\n",
       "</select>\n",
       "</div>\n",
       "</div>\n",
       "<div class=\"dropdown\">\n",
       "<label for=\"type\">Year</label>\n",
       "<div class=\"select-wrapper-short\">\n",
       "<select class=\"form-control custom-select\" id=\"year\" name=\"year\" type=\"select\">\n",
       "<option selected=\"\" value=\"2021\">2021</option>\n",
       "<option value=\"2020\">2020</option>\n",
       "<option value=\"2019\">2019</option>\n",
       "<option value=\"2018\">2018</option>\n",
       "<option value=\"2017\">2017</option>\n",
       "<option value=\"2016\">2016</option>\n",
       "<option value=\"2015\">2015</option>\n",
       "<option value=\"2014\">2014</option>\n",
       "<option value=\"2013\">2013</option>\n",
       "<option value=\"2012\">2012</option>\n",
       "<option value=\"2011\">2011</option>\n",
       "<option value=\"2010\">2010</option>\n",
       "<option value=\"2009\">2009</option>\n",
       "<option value=\"2008\">2008</option>\n",
       "<option value=\"2007\">2007</option>\n",
       "<option value=\"2006\">2006</option>\n",
       "<option value=\"2005\">2005</option>\n",
       "<option value=\"2004\">2004</option>\n",
       "<option value=\"2003\">2003</option>\n",
       "<option value=\"2002\">2002</option>\n",
       "<option value=\"2001\">2001</option>\n",
       "<option value=\"2000\">2000</option>\n",
       "<option value=\"1999\">1999</option>\n",
       "</select>\n",
       "</div>\n",
       "</div>\n",
       "</div>\n",
       "<!-- the jQuery library. You need this to be able to use jQuery ($) -->\n",
       "<script src=\"https://cdnjs.cloudflare.com/ajax/libs/jquery/3.3.1/jquery.min.js\"></script>\n",
       "<!-- Your javascript should be called here -->\n",
       "<script src=\"main.js\"></script>\n",
       "</body>\n",
       "</html>"
      ]
     },
     "execution_count": 4,
     "metadata": {},
     "output_type": "execute_result"
    }
   ],
   "source": [
    "response = requests.get(url)\n",
    "soup = BeautifulSoup(response.text, \"html.parser\")\n",
    "soup"
   ]
  },
  {
   "cell_type": "code",
   "execution_count": 12,
   "metadata": {},
   "outputs": [
    {
     "data": {
      "text/plain": [
       "[<option selected=\"\" value=\"2021\">2021</option>,\n",
       " <option value=\"2020\">2020</option>,\n",
       " <option value=\"2019\">2019</option>,\n",
       " <option value=\"2018\">2018</option>,\n",
       " <option value=\"2017\">2017</option>,\n",
       " <option value=\"2016\">2016</option>,\n",
       " <option value=\"2015\">2015</option>,\n",
       " <option value=\"2014\">2014</option>,\n",
       " <option value=\"2013\">2013</option>,\n",
       " <option value=\"2012\">2012</option>,\n",
       " <option value=\"2011\">2011</option>,\n",
       " <option value=\"2010\">2010</option>,\n",
       " <option value=\"2009\">2009</option>,\n",
       " <option value=\"2008\">2008</option>,\n",
       " <option value=\"2007\">2007</option>,\n",
       " <option value=\"2006\">2006</option>,\n",
       " <option value=\"2005\">2005</option>,\n",
       " <option value=\"2004\">2004</option>,\n",
       " <option value=\"2003\">2003</option>,\n",
       " <option value=\"2002\">2002</option>,\n",
       " <option value=\"2001\">2001</option>,\n",
       " <option value=\"2000\">2000</option>,\n",
       " <option value=\"1999\">1999</option>]"
      ]
     },
     "execution_count": 12,
     "metadata": {},
     "output_type": "execute_result"
    }
   ],
   "source": [
    "years_elements = soup.find(\"select\", id=\"year\").find_all(\"option\")\n",
    "years_elements"
   ]
  },
  {
   "cell_type": "code",
   "execution_count": 13,
   "metadata": {},
   "outputs": [
    {
     "data": {
      "text/plain": [
       "bs4.element.ResultSet"
      ]
     },
     "execution_count": 13,
     "metadata": {},
     "output_type": "execute_result"
    }
   ],
   "source": [
    "type(years_elements)"
   ]
  },
  {
   "cell_type": "code",
   "execution_count": 33,
   "metadata": {},
   "outputs": [
    {
     "data": {
      "text/plain": [
       "[2020, 2019, 2018, 2017]"
      ]
     },
     "execution_count": 33,
     "metadata": {},
     "output_type": "execute_result"
    }
   ],
   "source": [
    "years = []\n",
    "for year in years_elements:\n",
    "#     ic(year)\n",
    "    target_year = int(year.get_attribute_list(\"value\")[0])\n",
    "    if 2017 <= target_year < 2021:\n",
    "#     ic(target_year)\n",
    "        years.append(target_year)\n",
    "    \n",
    "years"
   ]
  },
  {
   "cell_type": "code",
   "execution_count": 19,
   "metadata": {},
   "outputs": [
    {
     "data": {
      "text/plain": [
       "[<option selected=\"\" value=\"january\">January</option>,\n",
       " <option value=\"february\">February</option>,\n",
       " <option value=\"march\">March</option>,\n",
       " <option value=\"april\">April</option>,\n",
       " <option value=\"may\">May</option>,\n",
       " <option value=\"june\">June</option>,\n",
       " <option value=\"july\">July</option>,\n",
       " <option value=\"august\">August</option>,\n",
       " <option value=\"september\">September</option>,\n",
       " <option value=\"october\">October</option>,\n",
       " <option value=\"november\">November</option>,\n",
       " <option value=\"december\">December</option>]"
      ]
     },
     "execution_count": 19,
     "metadata": {},
     "output_type": "execute_result"
    }
   ],
   "source": [
    "months_elements = soup.find(\"select\", id = \"month\").find_all(\"option\")\n",
    "months_elements"
   ]
  },
  {
   "cell_type": "code",
   "execution_count": 20,
   "metadata": {},
   "outputs": [
    {
     "data": {
      "text/plain": [
       "['january',\n",
       " 'february',\n",
       " 'march',\n",
       " 'april',\n",
       " 'may',\n",
       " 'june',\n",
       " 'july',\n",
       " 'august',\n",
       " 'september',\n",
       " 'october',\n",
       " 'november',\n",
       " 'december']"
      ]
     },
     "execution_count": 20,
     "metadata": {},
     "output_type": "execute_result"
    }
   ],
   "source": [
    "months = []\n",
    "for month in months_elements:\n",
    "    target_month = month.get_attribute_list(\"value\")[0]\n",
    "   # ic(target_month)\n",
    "    months.append(target_month)\n",
    "months"
   ]
  },
  {
   "cell_type": "code",
   "execution_count": 36,
   "metadata": {},
   "outputs": [
    {
     "data": {
      "text/plain": [
       "['january',\n",
       " 'february',\n",
       " 'march',\n",
       " 'april',\n",
       " 'may',\n",
       " 'june',\n",
       " 'july',\n",
       " 'august',\n",
       " 'september',\n",
       " 'october',\n",
       " 'november',\n",
       " 'december']"
      ]
     },
     "execution_count": 36,
     "metadata": {},
     "output_type": "execute_result"
    }
   ],
   "source": [
    "months = [target_month[\"value\"] for target_month in months_elements]\n",
    "months"
   ]
  },
  {
   "cell_type": "code",
   "execution_count": 22,
   "metadata": {},
   "outputs": [
    {
     "data": {
      "text/plain": [
       "['january',\n",
       " 'february',\n",
       " 'march',\n",
       " 'april',\n",
       " 'may',\n",
       " 'june',\n",
       " 'july',\n",
       " 'august',\n",
       " 'september',\n",
       " 'october',\n",
       " 'november',\n",
       " 'december']"
      ]
     },
     "execution_count": 22,
     "metadata": {},
     "output_type": "execute_result"
    }
   ],
   "source": [
    "months = [month.get_attribute_list(\"value\")[0] \n",
    "          for month in months_elements]\n",
    "months"
   ]
  },
  {
   "cell_type": "code",
   "execution_count": 23,
   "metadata": {},
   "outputs": [],
   "source": [
    "base_url = \"https://sandeepmj.github.io/scrape-example-page/pulldown-site/reports/\""
   ]
  },
  {
   "cell_type": "code",
   "execution_count": 34,
   "metadata": {},
   "outputs": [
    {
     "data": {
      "text/plain": [
       "['https://sandeepmj.github.io/scrape-example-page/pulldown-site/reports/january-2020.html',\n",
       " 'https://sandeepmj.github.io/scrape-example-page/pulldown-site/reports/february-2020.html',\n",
       " 'https://sandeepmj.github.io/scrape-example-page/pulldown-site/reports/march-2020.html',\n",
       " 'https://sandeepmj.github.io/scrape-example-page/pulldown-site/reports/april-2020.html',\n",
       " 'https://sandeepmj.github.io/scrape-example-page/pulldown-site/reports/may-2020.html',\n",
       " 'https://sandeepmj.github.io/scrape-example-page/pulldown-site/reports/june-2020.html',\n",
       " 'https://sandeepmj.github.io/scrape-example-page/pulldown-site/reports/july-2020.html',\n",
       " 'https://sandeepmj.github.io/scrape-example-page/pulldown-site/reports/august-2020.html',\n",
       " 'https://sandeepmj.github.io/scrape-example-page/pulldown-site/reports/september-2020.html',\n",
       " 'https://sandeepmj.github.io/scrape-example-page/pulldown-site/reports/october-2020.html',\n",
       " 'https://sandeepmj.github.io/scrape-example-page/pulldown-site/reports/november-2020.html',\n",
       " 'https://sandeepmj.github.io/scrape-example-page/pulldown-site/reports/december-2020.html',\n",
       " 'https://sandeepmj.github.io/scrape-example-page/pulldown-site/reports/january-2019.html',\n",
       " 'https://sandeepmj.github.io/scrape-example-page/pulldown-site/reports/february-2019.html',\n",
       " 'https://sandeepmj.github.io/scrape-example-page/pulldown-site/reports/march-2019.html',\n",
       " 'https://sandeepmj.github.io/scrape-example-page/pulldown-site/reports/april-2019.html',\n",
       " 'https://sandeepmj.github.io/scrape-example-page/pulldown-site/reports/may-2019.html',\n",
       " 'https://sandeepmj.github.io/scrape-example-page/pulldown-site/reports/june-2019.html',\n",
       " 'https://sandeepmj.github.io/scrape-example-page/pulldown-site/reports/july-2019.html',\n",
       " 'https://sandeepmj.github.io/scrape-example-page/pulldown-site/reports/august-2019.html',\n",
       " 'https://sandeepmj.github.io/scrape-example-page/pulldown-site/reports/september-2019.html',\n",
       " 'https://sandeepmj.github.io/scrape-example-page/pulldown-site/reports/october-2019.html',\n",
       " 'https://sandeepmj.github.io/scrape-example-page/pulldown-site/reports/november-2019.html',\n",
       " 'https://sandeepmj.github.io/scrape-example-page/pulldown-site/reports/december-2019.html',\n",
       " 'https://sandeepmj.github.io/scrape-example-page/pulldown-site/reports/january-2018.html',\n",
       " 'https://sandeepmj.github.io/scrape-example-page/pulldown-site/reports/february-2018.html',\n",
       " 'https://sandeepmj.github.io/scrape-example-page/pulldown-site/reports/march-2018.html',\n",
       " 'https://sandeepmj.github.io/scrape-example-page/pulldown-site/reports/april-2018.html',\n",
       " 'https://sandeepmj.github.io/scrape-example-page/pulldown-site/reports/may-2018.html',\n",
       " 'https://sandeepmj.github.io/scrape-example-page/pulldown-site/reports/june-2018.html',\n",
       " 'https://sandeepmj.github.io/scrape-example-page/pulldown-site/reports/july-2018.html',\n",
       " 'https://sandeepmj.github.io/scrape-example-page/pulldown-site/reports/august-2018.html',\n",
       " 'https://sandeepmj.github.io/scrape-example-page/pulldown-site/reports/september-2018.html',\n",
       " 'https://sandeepmj.github.io/scrape-example-page/pulldown-site/reports/october-2018.html',\n",
       " 'https://sandeepmj.github.io/scrape-example-page/pulldown-site/reports/november-2018.html',\n",
       " 'https://sandeepmj.github.io/scrape-example-page/pulldown-site/reports/december-2018.html',\n",
       " 'https://sandeepmj.github.io/scrape-example-page/pulldown-site/reports/january-2017.html',\n",
       " 'https://sandeepmj.github.io/scrape-example-page/pulldown-site/reports/february-2017.html',\n",
       " 'https://sandeepmj.github.io/scrape-example-page/pulldown-site/reports/march-2017.html',\n",
       " 'https://sandeepmj.github.io/scrape-example-page/pulldown-site/reports/april-2017.html',\n",
       " 'https://sandeepmj.github.io/scrape-example-page/pulldown-site/reports/may-2017.html',\n",
       " 'https://sandeepmj.github.io/scrape-example-page/pulldown-site/reports/june-2017.html',\n",
       " 'https://sandeepmj.github.io/scrape-example-page/pulldown-site/reports/july-2017.html',\n",
       " 'https://sandeepmj.github.io/scrape-example-page/pulldown-site/reports/august-2017.html',\n",
       " 'https://sandeepmj.github.io/scrape-example-page/pulldown-site/reports/september-2017.html',\n",
       " 'https://sandeepmj.github.io/scrape-example-page/pulldown-site/reports/october-2017.html',\n",
       " 'https://sandeepmj.github.io/scrape-example-page/pulldown-site/reports/november-2017.html',\n",
       " 'https://sandeepmj.github.io/scrape-example-page/pulldown-site/reports/december-2017.html']"
      ]
     },
     "execution_count": 34,
     "metadata": {},
     "output_type": "execute_result"
    }
   ],
   "source": [
    "links = []\n",
    "for year in years:\n",
    "    for month in months:\n",
    "        links.append(f\"{base_url}{month}-{year}.html\")\n",
    "#         ic(year)\n",
    "#         ic(month)\n",
    "        \n",
    " \n",
    "links"
   ]
  },
  {
   "cell_type": "code",
   "execution_count": 27,
   "metadata": {},
   "outputs": [
    {
     "data": {
      "text/plain": [
       "['https://sandeepmj.github.io/scrape-example-page/pulldown-site/reports/january-2020.html',\n",
       " 'https://sandeepmj.github.io/scrape-example-page/pulldown-site/reports/february-2020.html',\n",
       " 'https://sandeepmj.github.io/scrape-example-page/pulldown-site/reports/march-2020.html',\n",
       " 'https://sandeepmj.github.io/scrape-example-page/pulldown-site/reports/april-2020.html',\n",
       " 'https://sandeepmj.github.io/scrape-example-page/pulldown-site/reports/may-2020.html',\n",
       " 'https://sandeepmj.github.io/scrape-example-page/pulldown-site/reports/june-2020.html',\n",
       " 'https://sandeepmj.github.io/scrape-example-page/pulldown-site/reports/july-2020.html',\n",
       " 'https://sandeepmj.github.io/scrape-example-page/pulldown-site/reports/august-2020.html',\n",
       " 'https://sandeepmj.github.io/scrape-example-page/pulldown-site/reports/september-2020.html',\n",
       " 'https://sandeepmj.github.io/scrape-example-page/pulldown-site/reports/october-2020.html',\n",
       " 'https://sandeepmj.github.io/scrape-example-page/pulldown-site/reports/november-2020.html',\n",
       " 'https://sandeepmj.github.io/scrape-example-page/pulldown-site/reports/december-2020.html']"
      ]
     },
     "execution_count": 27,
     "metadata": {},
     "output_type": "execute_result"
    }
   ],
   "source": [
    "links[12:24]"
   ]
  },
  {
   "cell_type": "code",
   "execution_count": null,
   "metadata": {},
   "outputs": [],
   "source": []
  }
 ],
 "metadata": {
  "colab": {
   "authorship_tag": "ABX9TyO9sr/yrblRt+qZdoagMnNp",
   "collapsed_sections": [],
   "name": "Copy of week_3_pulldown-lesson_BLANK.ipynb",
   "provenance": [
    {
     "file_id": "1v70EsW7dDmXv9sZCcabGmw2AaX9zehOA",
     "timestamp": 1636500288162
    }
   ]
  },
  "kernelspec": {
   "display_name": "Python 3",
   "language": "python",
   "name": "python3"
  },
  "language_info": {
   "codemirror_mode": {
    "name": "ipython",
    "version": 3
   },
   "file_extension": ".py",
   "mimetype": "text/x-python",
   "name": "python",
   "nbconvert_exporter": "python",
   "pygments_lexer": "ipython3",
   "version": "3.8.8"
  }
 },
 "nbformat": 4,
 "nbformat_minor": 1
}
