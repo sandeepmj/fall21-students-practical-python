{
 "cells": [
  {
   "cell_type": "code",
   "execution_count": 1,
   "metadata": {
    "id": "QC4xhAo8Jcio"
   },
   "outputs": [],
   "source": [
    "## Build a dataframe with the following lists\n",
    "\n",
    "claims = [1, 2, 3, 4, 5]\n",
    "dates = [\n",
    "    \"<b class='table-label'>Filed Date</b><span class='table-content'>10/17/2019</span>\",\n",
    "    \"<b class='table-label'>Filed Date</b><span class='table-content'>11/10/2019</span>\",\n",
    "    \"<b class='table-label'>Filed Date</b><span class='table-content'>11/12/2019</span>\", \n",
    "    \"<b class='table-label'>Filed Date</b><span class='table-content'>12/07/2019</span>\", \n",
    "    \"<b class='table-label'>Filed Date</b><span class='table-content'>12/27/2019</span>\" \n",
    "]\n",
    "totals = [\n",
    "    \"<b class='table-label'>Claim Value</b><span class='table-content'>$10.00</span>\",\n",
    "    \"<b class='table-label'>Claim Value</b><span class='table-content'>$20.00</span>\",\n",
    "    \"<b class='table-label'>Claim Value</b><span class='table-content'>$30.00</span>\",\n",
    "    \"<b class='table-label'>Claim Value</b><span class='table-content'>$40.00</span>\",\n",
    "    \"<b class='table-label'>Claim Value</b><span class='table-content'>$50.00</span>\"    \n",
    "]"
   ]
  },
  {
   "cell_type": "code",
   "execution_count": 2,
   "metadata": {
    "id": "U5Mkee8fNIxj"
   },
   "outputs": [],
   "source": [
    "## import libraries\n",
    "import pandas as pd\n",
    "from bs4 import BeautifulSoup"
   ]
  },
  {
   "cell_type": "code",
   "execution_count": 3,
   "metadata": {
    "id": "PsPFLVt4OfRy"
   },
   "outputs": [
    {
     "data": {
      "text/html": [
       "<div>\n",
       "<style scoped>\n",
       "    .dataframe tbody tr th:only-of-type {\n",
       "        vertical-align: middle;\n",
       "    }\n",
       "\n",
       "    .dataframe tbody tr th {\n",
       "        vertical-align: top;\n",
       "    }\n",
       "\n",
       "    .dataframe thead th {\n",
       "        text-align: right;\n",
       "    }\n",
       "</style>\n",
       "<table border=\"1\" class=\"dataframe\">\n",
       "  <thead>\n",
       "    <tr style=\"text-align: right;\">\n",
       "      <th></th>\n",
       "      <th>Claims</th>\n",
       "      <th>Dates</th>\n",
       "      <th>Totals</th>\n",
       "    </tr>\n",
       "  </thead>\n",
       "  <tbody>\n",
       "    <tr>\n",
       "      <th>0</th>\n",
       "      <td>1</td>\n",
       "      <td>&lt;b class='table-label'&gt;Filed Date&lt;/b&gt;&lt;span cla...</td>\n",
       "      <td>&lt;b class='table-label'&gt;Claim Value&lt;/b&gt;&lt;span cl...</td>\n",
       "    </tr>\n",
       "    <tr>\n",
       "      <th>1</th>\n",
       "      <td>2</td>\n",
       "      <td>&lt;b class='table-label'&gt;Filed Date&lt;/b&gt;&lt;span cla...</td>\n",
       "      <td>&lt;b class='table-label'&gt;Claim Value&lt;/b&gt;&lt;span cl...</td>\n",
       "    </tr>\n",
       "    <tr>\n",
       "      <th>2</th>\n",
       "      <td>3</td>\n",
       "      <td>&lt;b class='table-label'&gt;Filed Date&lt;/b&gt;&lt;span cla...</td>\n",
       "      <td>&lt;b class='table-label'&gt;Claim Value&lt;/b&gt;&lt;span cl...</td>\n",
       "    </tr>\n",
       "    <tr>\n",
       "      <th>3</th>\n",
       "      <td>4</td>\n",
       "      <td>&lt;b class='table-label'&gt;Filed Date&lt;/b&gt;&lt;span cla...</td>\n",
       "      <td>&lt;b class='table-label'&gt;Claim Value&lt;/b&gt;&lt;span cl...</td>\n",
       "    </tr>\n",
       "    <tr>\n",
       "      <th>4</th>\n",
       "      <td>5</td>\n",
       "      <td>&lt;b class='table-label'&gt;Filed Date&lt;/b&gt;&lt;span cla...</td>\n",
       "      <td>&lt;b class='table-label'&gt;Claim Value&lt;/b&gt;&lt;span cl...</td>\n",
       "    </tr>\n",
       "  </tbody>\n",
       "</table>\n",
       "</div>"
      ],
      "text/plain": [
       "   Claims                                              Dates  \\\n",
       "0       1  <b class='table-label'>Filed Date</b><span cla...   \n",
       "1       2  <b class='table-label'>Filed Date</b><span cla...   \n",
       "2       3  <b class='table-label'>Filed Date</b><span cla...   \n",
       "3       4  <b class='table-label'>Filed Date</b><span cla...   \n",
       "4       5  <b class='table-label'>Filed Date</b><span cla...   \n",
       "\n",
       "                                              Totals  \n",
       "0  <b class='table-label'>Claim Value</b><span cl...  \n",
       "1  <b class='table-label'>Claim Value</b><span cl...  \n",
       "2  <b class='table-label'>Claim Value</b><span cl...  \n",
       "3  <b class='table-label'>Claim Value</b><span cl...  \n",
       "4  <b class='table-label'>Claim Value</b><span cl...  "
      ]
     },
     "execution_count": 3,
     "metadata": {},
     "output_type": "execute_result"
    }
   ],
   "source": [
    "## explore the created dataframe\n",
    "df = pd.DataFrame(zip(claims, dates, totals),\n",
    "                 columns = [\"Claims\", \"Dates\", \"Totals\"])\n",
    "\n",
    "df"
   ]
  },
  {
   "cell_type": "code",
   "execution_count": 4,
   "metadata": {},
   "outputs": [
    {
     "name": "stdout",
     "output_type": "stream",
     "text": [
      "<class 'pandas.core.frame.DataFrame'>\n",
      "RangeIndex: 5 entries, 0 to 4\n",
      "Data columns (total 3 columns):\n",
      " #   Column  Non-Null Count  Dtype \n",
      "---  ------  --------------  ----- \n",
      " 0   Claims  5 non-null      int64 \n",
      " 1   Dates   5 non-null      object\n",
      " 2   Totals  5 non-null      object\n",
      "dtypes: int64(1), object(2)\n",
      "memory usage: 248.0+ bytes\n"
     ]
    }
   ],
   "source": [
    "df.info()"
   ]
  },
  {
   "cell_type": "code",
   "execution_count": 5,
   "metadata": {
    "id": "6OPLgnuLNb4r"
   },
   "outputs": [],
   "source": [
    "## function to strip_html using BeautifulSoup\n",
    "## we're luckly that all columns follow the same pattern\n",
    "def strip_html(target):\n",
    "    target = str(target)\n",
    "    soup = BeautifulSoup(target, \"html.parser\")\n",
    "    return (soup.find(\"span\", class_=\"table-content\").get_text())"
   ]
  },
  {
   "cell_type": "markdown",
   "metadata": {
    "id": "z46F3Tb6Ietn"
   },
   "source": [
    "### Method 1 - multi-steps"
   ]
  },
  {
   "cell_type": "code",
   "execution_count": 6,
   "metadata": {
    "id": "VjqM-VKiM0Kj"
   },
   "outputs": [
    {
     "data": {
      "text/html": [
       "<div>\n",
       "<style scoped>\n",
       "    .dataframe tbody tr th:only-of-type {\n",
       "        vertical-align: middle;\n",
       "    }\n",
       "\n",
       "    .dataframe tbody tr th {\n",
       "        vertical-align: top;\n",
       "    }\n",
       "\n",
       "    .dataframe thead th {\n",
       "        text-align: right;\n",
       "    }\n",
       "</style>\n",
       "<table border=\"1\" class=\"dataframe\">\n",
       "  <thead>\n",
       "    <tr style=\"text-align: right;\">\n",
       "      <th></th>\n",
       "      <th>Claims</th>\n",
       "      <th>Dates</th>\n",
       "      <th>Totals</th>\n",
       "    </tr>\n",
       "  </thead>\n",
       "  <tbody>\n",
       "    <tr>\n",
       "      <th>0</th>\n",
       "      <td>1</td>\n",
       "      <td>&lt;b class='table-label'&gt;Filed Date&lt;/b&gt;&lt;span cla...</td>\n",
       "      <td>&lt;b class='table-label'&gt;Claim Value&lt;/b&gt;&lt;span cl...</td>\n",
       "    </tr>\n",
       "    <tr>\n",
       "      <th>1</th>\n",
       "      <td>2</td>\n",
       "      <td>&lt;b class='table-label'&gt;Filed Date&lt;/b&gt;&lt;span cla...</td>\n",
       "      <td>&lt;b class='table-label'&gt;Claim Value&lt;/b&gt;&lt;span cl...</td>\n",
       "    </tr>\n",
       "    <tr>\n",
       "      <th>2</th>\n",
       "      <td>3</td>\n",
       "      <td>&lt;b class='table-label'&gt;Filed Date&lt;/b&gt;&lt;span cla...</td>\n",
       "      <td>&lt;b class='table-label'&gt;Claim Value&lt;/b&gt;&lt;span cl...</td>\n",
       "    </tr>\n",
       "    <tr>\n",
       "      <th>3</th>\n",
       "      <td>4</td>\n",
       "      <td>&lt;b class='table-label'&gt;Filed Date&lt;/b&gt;&lt;span cla...</td>\n",
       "      <td>&lt;b class='table-label'&gt;Claim Value&lt;/b&gt;&lt;span cl...</td>\n",
       "    </tr>\n",
       "    <tr>\n",
       "      <th>4</th>\n",
       "      <td>5</td>\n",
       "      <td>&lt;b class='table-label'&gt;Filed Date&lt;/b&gt;&lt;span cla...</td>\n",
       "      <td>&lt;b class='table-label'&gt;Claim Value&lt;/b&gt;&lt;span cl...</td>\n",
       "    </tr>\n",
       "  </tbody>\n",
       "</table>\n",
       "</div>"
      ],
      "text/plain": [
       "   Claims                                              Dates  \\\n",
       "0       1  <b class='table-label'>Filed Date</b><span cla...   \n",
       "1       2  <b class='table-label'>Filed Date</b><span cla...   \n",
       "2       3  <b class='table-label'>Filed Date</b><span cla...   \n",
       "3       4  <b class='table-label'>Filed Date</b><span cla...   \n",
       "4       5  <b class='table-label'>Filed Date</b><span cla...   \n",
       "\n",
       "                                              Totals  \n",
       "0  <b class='table-label'>Claim Value</b><span cl...  \n",
       "1  <b class='table-label'>Claim Value</b><span cl...  \n",
       "2  <b class='table-label'>Claim Value</b><span cl...  \n",
       "3  <b class='table-label'>Claim Value</b><span cl...  \n",
       "4  <b class='table-label'>Claim Value</b><span cl...  "
      ]
     },
     "execution_count": 6,
     "metadata": {},
     "output_type": "execute_result"
    }
   ],
   "source": [
    " ## build the dataframe\n",
    "\n",
    "df1 = pd.DataFrame(zip(claims, dates, totals),\n",
    "                 columns = [\"Claims\", \"Dates\", \"Totals\"])\n",
    "\n",
    "df1"
   ]
  },
  {
   "cell_type": "code",
   "execution_count": 7,
   "metadata": {
    "id": "SVq8oYIyN_ul"
   },
   "outputs": [],
   "source": [
    "## columns we need to target\n",
    "## we don't need the \"Claims\" column\n",
    "target_columns = [\"Dates\", \"Totals\"]"
   ]
  },
  {
   "cell_type": "code",
   "execution_count": 10,
   "metadata": {
    "id": "d8vs1qt8N_7T"
   },
   "outputs": [
    {
     "data": {
      "text/html": [
       "<div>\n",
       "<style scoped>\n",
       "    .dataframe tbody tr th:only-of-type {\n",
       "        vertical-align: middle;\n",
       "    }\n",
       "\n",
       "    .dataframe tbody tr th {\n",
       "        vertical-align: top;\n",
       "    }\n",
       "\n",
       "    .dataframe thead th {\n",
       "        text-align: right;\n",
       "    }\n",
       "</style>\n",
       "<table border=\"1\" class=\"dataframe\">\n",
       "  <thead>\n",
       "    <tr style=\"text-align: right;\">\n",
       "      <th></th>\n",
       "      <th>Claims</th>\n",
       "      <th>Dates</th>\n",
       "      <th>Totals</th>\n",
       "    </tr>\n",
       "  </thead>\n",
       "  <tbody>\n",
       "    <tr>\n",
       "      <th>0</th>\n",
       "      <td>1</td>\n",
       "      <td>10/17/2019</td>\n",
       "      <td>$10.00</td>\n",
       "    </tr>\n",
       "    <tr>\n",
       "      <th>1</th>\n",
       "      <td>2</td>\n",
       "      <td>11/10/2019</td>\n",
       "      <td>$20.00</td>\n",
       "    </tr>\n",
       "    <tr>\n",
       "      <th>2</th>\n",
       "      <td>3</td>\n",
       "      <td>11/12/2019</td>\n",
       "      <td>$30.00</td>\n",
       "    </tr>\n",
       "    <tr>\n",
       "      <th>3</th>\n",
       "      <td>4</td>\n",
       "      <td>12/07/2019</td>\n",
       "      <td>$40.00</td>\n",
       "    </tr>\n",
       "    <tr>\n",
       "      <th>4</th>\n",
       "      <td>5</td>\n",
       "      <td>12/27/2019</td>\n",
       "      <td>$50.00</td>\n",
       "    </tr>\n",
       "  </tbody>\n",
       "</table>\n",
       "</div>"
      ],
      "text/plain": [
       "   Claims       Dates  Totals\n",
       "0       1  10/17/2019  $10.00\n",
       "1       2  11/10/2019  $20.00\n",
       "2       3  11/12/2019  $30.00\n",
       "3       4  12/07/2019  $40.00\n",
       "4       5  12/27/2019  $50.00"
      ]
     },
     "execution_count": 10,
     "metadata": {},
     "output_type": "execute_result"
    }
   ],
   "source": [
    "## for loop through to strip html\n",
    "\n",
    "for target in target_columns:\n",
    "    df1[target] = df1[target].apply(lambda x: strip_html(x))\n",
    "df1"
   ]
  },
  {
   "cell_type": "markdown",
   "metadata": {
    "id": "bQsBne50I3XN"
   },
   "source": [
    "## Method 2 - One step but less clear?"
   ]
  },
  {
   "cell_type": "code",
   "execution_count": 11,
   "metadata": {
    "id": "tgmHMbCFO_Gf"
   },
   "outputs": [
    {
     "data": {
      "text/html": [
       "<div>\n",
       "<style scoped>\n",
       "    .dataframe tbody tr th:only-of-type {\n",
       "        vertical-align: middle;\n",
       "    }\n",
       "\n",
       "    .dataframe tbody tr th {\n",
       "        vertical-align: top;\n",
       "    }\n",
       "\n",
       "    .dataframe thead th {\n",
       "        text-align: right;\n",
       "    }\n",
       "</style>\n",
       "<table border=\"1\" class=\"dataframe\">\n",
       "  <thead>\n",
       "    <tr style=\"text-align: right;\">\n",
       "      <th></th>\n",
       "      <th>0</th>\n",
       "      <th>1</th>\n",
       "      <th>2</th>\n",
       "    </tr>\n",
       "  </thead>\n",
       "  <tbody>\n",
       "    <tr>\n",
       "      <th>0</th>\n",
       "      <td>1</td>\n",
       "      <td>10/17/2019</td>\n",
       "      <td>$10.00</td>\n",
       "    </tr>\n",
       "    <tr>\n",
       "      <th>1</th>\n",
       "      <td>2</td>\n",
       "      <td>11/10/2019</td>\n",
       "      <td>$20.00</td>\n",
       "    </tr>\n",
       "    <tr>\n",
       "      <th>2</th>\n",
       "      <td>3</td>\n",
       "      <td>11/12/2019</td>\n",
       "      <td>$30.00</td>\n",
       "    </tr>\n",
       "    <tr>\n",
       "      <th>3</th>\n",
       "      <td>4</td>\n",
       "      <td>12/07/2019</td>\n",
       "      <td>$40.00</td>\n",
       "    </tr>\n",
       "    <tr>\n",
       "      <th>4</th>\n",
       "      <td>5</td>\n",
       "      <td>12/27/2019</td>\n",
       "      <td>$50.00</td>\n",
       "    </tr>\n",
       "  </tbody>\n",
       "</table>\n",
       "</div>"
      ],
      "text/plain": [
       "   0           1       2\n",
       "0  1  10/17/2019  $10.00\n",
       "1  2  11/10/2019  $20.00\n",
       "2  3  11/12/2019  $30.00\n",
       "3  4  12/07/2019  $40.00\n",
       "4  5  12/27/2019  $50.00"
      ]
     },
     "execution_count": 11,
     "metadata": {},
     "output_type": "execute_result"
    }
   ],
   "source": [
    "## zip and map\n",
    "## zip and map\n",
    "df2 = pd.DataFrame(list(zip(claims, \n",
    "                            list(map(strip_html, dates)),\n",
    "                            list(map(strip_html, totals))\n",
    "                            )))\n",
    "\n",
    "df2"
   ]
  },
  {
   "cell_type": "code",
   "execution_count": null,
   "metadata": {},
   "outputs": [],
   "source": []
  }
 ],
 "metadata": {
  "colab": {
   "authorship_tag": "ABX9TyN5dF26A667LfZU90jXpK+a",
   "collapsed_sections": [],
   "name": "week_4_html_mix_BLANK.ipynb",
   "provenance": [
    {
     "file_id": "1M-js5oTPfwz2t8C8NgE6xfqnhCa3YcSs",
     "timestamp": 1637109030338
    }
   ]
  },
  "kernelspec": {
   "display_name": "Python 3",
   "language": "python",
   "name": "python3"
  },
  "language_info": {
   "codemirror_mode": {
    "name": "ipython",
    "version": 3
   },
   "file_extension": ".py",
   "mimetype": "text/x-python",
   "name": "python",
   "nbconvert_exporter": "python",
   "pygments_lexer": "ipython3",
   "version": "3.8.8"
  }
 },
 "nbformat": 4,
 "nbformat_minor": 1
}
