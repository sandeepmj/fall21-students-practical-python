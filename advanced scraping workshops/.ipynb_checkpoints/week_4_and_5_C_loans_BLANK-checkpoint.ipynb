{
 "cells": [
  {
   "cell_type": "markdown",
   "metadata": {},
   "source": [
    "We need to scrape the interest rates <a href=\"https://www.santander.co.uk/personal/mortgages/mortgage-calculators/mortgage-product-comparison-calculator\">from this Santander Bank site</a>."
   ]
  },
  {
   "cell_type": "markdown",
   "metadata": {
    "id": "i5eyRa7lxbZ0"
   },
   "source": [
    "# Jupyter or Colab, we need to ```pip install selenium```"
   ]
  },
  {
   "cell_type": "code",
   "execution_count": null,
   "metadata": {
    "colab": {
     "base_uri": "https://localhost:8080/"
    },
    "id": "6s6ZUXv1lJhA",
    "outputId": "aaa27093-efb4-4111-9da8-b7b78876814f"
   },
   "outputs": [],
   "source": [
    "pip install selenium"
   ]
  },
  {
   "cell_type": "code",
   "execution_count": null,
   "metadata": {},
   "outputs": [],
   "source": [
    "pip install icecream"
   ]
  },
  {
   "cell_type": "markdown",
   "metadata": {
    "id": "1EsDLrgkxi5S"
   },
   "source": [
    "# For Jupyter, we would [download the correct WebDriver](https://chromedriver.storage.googleapis.com/index.html?path=94.0.4606.41/) and place in folder next to our notebook.\n",
    "\n",
    "# For Colab, we ```pip install kora -q``` to serve as the driver."
   ]
  },
  {
   "cell_type": "code",
   "execution_count": null,
   "metadata": {
    "id": "EMXNMYmDxnIr"
   },
   "outputs": [],
   "source": [
    "# pip install kora -q"
   ]
  },
  {
   "cell_type": "code",
   "execution_count": null,
   "metadata": {
    "id": "H_-pAcqGnTQD"
   },
   "outputs": [],
   "source": [
    "#import selenium related features\n",
    "\n",
    "from selenium import webdriver ## in Jupyter, we access the driver\n",
    "from selenium.webdriver.common.keys import Keys ## automate pressing keys\n",
    "from selenium.webdriver.support.ui import Select ## automate selecting menu items\n",
    "from selenium.webdriver.support.ui import WebDriverWait ## automate pausing\n",
    "from selenium.webdriver.common.by import By ## search for classes, IDs, tags, etc.\n",
    "from selenium.webdriver.support import expected_conditions as EC ## look for a condition\n",
    "from selenium.webdriver.common.action_chains import ActionChains ## chaining actions\n",
    "from selenium.webdriver.support.select import Select ## more and more methods\n",
    "from selenium.webdriver.chrome.options import Options\n",
    "\n",
    "## the usual libraries and packages\n",
    "import requests ## make requests with sites\n",
    "import time ## time to pause\n",
    "from bs4 import BeautifulSoup ## for parsing html\n",
    "import pandas as pd ## for organizing data\n",
    "import datetime ## timestamp\n",
    "from icecream import ic ## debugging. no need for pip install icecream\n"
   ]
  },
  {
   "cell_type": "code",
   "execution_count": null,
   "metadata": {
    "id": "1LrQGhM2nWSE"
   },
   "outputs": [],
   "source": [
    "## NEED FOR COLAB \n",
    "## Turn off for Jupyter\n",
    "# from kora.selenium import wd as driver ## import from kora to be web driver"
   ]
  },
  {
   "cell_type": "code",
   "execution_count": null,
   "metadata": {
    "id": "o9cRHgqhxzhd"
   },
   "outputs": [],
   "source": [
    " ## NEED FOR JUPYTER NOTEBOOK - turn off for Colab\n",
    " ## Access chromedriver\n",
    "# driver = webdriver.Chrome('./chromedriver') ## access chrome driver\n",
    "# chrome_options = Options()  \n",
    "# chrome_options.add_argument(\"--headless\")  "
   ]
  },
  {
   "cell_type": "code",
   "execution_count": null,
   "metadata": {
    "colab": {
     "base_uri": "https://localhost:8080/",
     "height": 738
    },
    "id": "GQmMtWcVlJhD",
    "outputId": "f4fd2816-ff71-47f7-909d-75bdefc9d951"
   },
   "outputs": [],
   "source": [
    "# Navigate to table\n",
    "\n",
    "## go to page\n",
    "\n",
    "## wait for cookies agreement to popup; select accept \n",
    "\n",
    "\n",
    "\n",
    "## find type of buyer\n",
    "\n",
    "## select type\n",
    "\n",
    "## find property value field\n",
    "\n",
    "## input 400,000 (strange, need to put a lower actual number for it to become 400K)\n",
    "\n",
    "\n",
    "## find borrow amount field\n",
    "\n",
    "## input 300,000 (strange, need to put a lower actual number for it to become 300K)\n",
    "\n",
    "## wait...click on \"show products\"\n",
    "\n",
    "## wait...click on \"show all 30products\"\n",
    "\n",
    "## store resulting target info in variable called tables\n",
    "\n"
   ]
  },
  {
   "cell_type": "code",
   "execution_count": null,
   "metadata": {
    "colab": {
     "base_uri": "https://localhost:8080/",
     "height": 183
    },
    "id": "BH08e7QDlJhE",
    "outputId": "cb23ef5a-52f2-4fa5-eb4c-c8c951a3ef5a"
   },
   "outputs": [],
   "source": [
    "## confirm the content\n"
   ]
  },
  {
   "cell_type": "code",
   "execution_count": null,
   "metadata": {
    "colab": {
     "base_uri": "https://localhost:8080/",
     "height": 166
    },
    "id": "WLq9HgPllJhE",
    "outputId": "fec1c29d-dd9a-4805-f9a8-5ec831e332d9"
   },
   "outputs": [],
   "source": [
    "# type"
   ]
  },
  {
   "cell_type": "code",
   "execution_count": null,
   "metadata": {
    "colab": {
     "base_uri": "https://localhost:8080/"
    },
    "id": "I_6mP_JhlJhF",
    "outputId": "7430d91c-f32e-4bca-b277-0f961d2f59f0"
   },
   "outputs": [],
   "source": [
    "## turn content into soup\n"
   ]
  },
  {
   "cell_type": "code",
   "execution_count": null,
   "metadata": {
    "id": "4X3XzL31lJhK"
   },
   "outputs": [],
   "source": []
  }
 ],
 "metadata": {
  "colab": {
   "collapsed_sections": [],
   "name": "week_5_C_loans_DEMO.ipynb",
   "provenance": []
  },
  "kernelspec": {
   "display_name": "Python 3",
   "language": "python",
   "name": "python3"
  },
  "language_info": {
   "codemirror_mode": {
    "name": "ipython",
    "version": 3
   },
   "file_extension": ".py",
   "mimetype": "text/x-python",
   "name": "python",
   "nbconvert_exporter": "python",
   "pygments_lexer": "ipython3",
   "version": "3.8.8"
  }
 },
 "nbformat": 4,
 "nbformat_minor": 1
}
