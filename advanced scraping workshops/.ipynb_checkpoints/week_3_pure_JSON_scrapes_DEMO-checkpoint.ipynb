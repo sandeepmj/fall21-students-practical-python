{
 "cells": [
  {
   "cell_type": "markdown",
   "metadata": {
    "id": "ZSsVeKtmzz-T"
   },
   "source": [
    "## JSON Scrapes\n",
    "\n",
    "Example sites:\n",
    "- <a href=\"https://a816-health.nyc.gov/ABCEatsRestaurants/#!/Search\">Restaurant Inspections</a>\n",
    "- <a href=\"https://www1.nyc.gov/site/doh/health/health-topics/school-cafeteria-inspection-results.page\">School cafeteria Inspections</a>\n",
    "- <a href=\"https://restructuring.primeclerk.com/pge/Home-ClaimInfo\">PG&E bankruptcy claims</a>\n",
    "\n",
    "## Scrape check cashing site\n",
    "\n",
    "We want all the check cashing locations in New York City.\n",
    "\n",
    "<a href=\"http://www.fscny.org/?controller=licensedlocations\">Financial services check cashing</a>"
   ]
  },
  {
   "cell_type": "markdown",
   "metadata": {
    "id": "S5qc67Vjzz-W"
   },
   "source": [
    "## Five-step process\n",
    "1. On the page or dynamic?\n",
    "2. Track network data\n",
    "3. cURL it\n",
    "4. Convert cURL to Python\n",
    "5. Python parsing  "
   ]
  },
  {
   "cell_type": "code",
   "execution_count": null,
   "metadata": {
    "id": "LIxRmRhzUAim"
   },
   "outputs": [],
   "source": []
  }
 ],
 "metadata": {
  "colab": {
   "collapsed_sections": [],
   "name": "week_4_pure_JSON_scrapes_BLANKS.ipynb",
   "provenance": [
    {
     "file_id": "1C3VQ9bBYZY2SFX1zNZPTDudC47j2K-nn",
     "timestamp": 1637109964190
    }
   ]
  },
  "kernelspec": {
   "display_name": "Python 3",
   "language": "python",
   "name": "python3"
  },
  "language_info": {
   "codemirror_mode": {
    "name": "ipython",
    "version": 3
   },
   "file_extension": ".py",
   "mimetype": "text/x-python",
   "name": "python",
   "nbconvert_exporter": "python",
   "pygments_lexer": "ipython3",
   "version": "3.8.8"
  }
 },
 "nbformat": 4,
 "nbformat_minor": 0
}
