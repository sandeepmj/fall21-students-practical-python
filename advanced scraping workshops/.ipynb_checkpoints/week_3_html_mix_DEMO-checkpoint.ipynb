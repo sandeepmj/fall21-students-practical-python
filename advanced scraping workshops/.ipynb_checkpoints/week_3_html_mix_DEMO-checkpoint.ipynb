{
 "cells": [
  {
   "cell_type": "code",
   "execution_count": null,
   "metadata": {
    "id": "QC4xhAo8Jcio"
   },
   "outputs": [],
   "source": [
    "## Build a dataframe with the following lists\n",
    "\n",
    "claims = [1, 2, 3, 4, 5]\n",
    "dates = [\n",
    "    \"<b class='table-label'>Filed Date</b><span class='table-content'>10/17/2019</span>\",\n",
    "    \"<b class='table-label'>Filed Date</b><span class='table-content'>11/10/2019</span>\",\n",
    "    \"<b class='table-label'>Filed Date</b><span class='table-content'>11/12/2019</span>\", \n",
    "    \"<b class='table-label'>Filed Date</b><span class='table-content'>12/07/2019</span>\", \n",
    "    \"<b class='table-label'>Filed Date</b><span class='table-content'>12/27/2019</span>\" \n",
    "]\n",
    "totals = [\n",
    "    \"<b class='table-label'>Claim Value</b><span class='table-content'>$10.00</span>\",\n",
    "    \"<b class='table-label'>Claim Value</b><span class='table-content'>$20.00</span>\",\n",
    "    \"<b class='table-label'>Claim Value</b><span class='table-content'>$30.00</span>\",\n",
    "    \"<b class='table-label'>Claim Value</b><span class='table-content'>$40.00</span>\",\n",
    "    \"<b class='table-label'>Claim Value</b><span class='table-content'>$50.00</span>\"    \n",
    "]"
   ]
  },
  {
   "cell_type": "code",
   "execution_count": null,
   "metadata": {
    "id": "U5Mkee8fNIxj"
   },
   "outputs": [],
   "source": [
    "## import libraries\n",
    "import pandas as pd\n",
    "from bs4 import BeautifulSoup"
   ]
  },
  {
   "cell_type": "code",
   "execution_count": null,
   "metadata": {
    "id": "PsPFLVt4OfRy"
   },
   "outputs": [],
   "source": [
    "## explore the created dataframe\n"
   ]
  },
  {
   "cell_type": "code",
   "execution_count": null,
   "metadata": {
    "id": "6OPLgnuLNb4r"
   },
   "outputs": [],
   "source": [
    "## function to strip_html using BeautifulSoup\n",
    "## we're luckly that all columns follow the same pattern"
   ]
  },
  {
   "cell_type": "markdown",
   "metadata": {
    "id": "z46F3Tb6Ietn"
   },
   "source": [
    "### Method 1 - multi-steps"
   ]
  },
  {
   "cell_type": "code",
   "execution_count": null,
   "metadata": {
    "id": "VjqM-VKiM0Kj"
   },
   "outputs": [],
   "source": [
    " ## build the dataframe\n",
    "\n"
   ]
  },
  {
   "cell_type": "code",
   "execution_count": null,
   "metadata": {
    "id": "SVq8oYIyN_ul"
   },
   "outputs": [],
   "source": [
    "## columns we need to target\n",
    "## we don't need the \"Claims\" column\n"
   ]
  },
  {
   "cell_type": "code",
   "execution_count": null,
   "metadata": {
    "id": "d8vs1qt8N_7T"
   },
   "outputs": [],
   "source": [
    "## for loop through to strip html\n",
    "\n"
   ]
  },
  {
   "cell_type": "markdown",
   "metadata": {
    "id": "bQsBne50I3XN"
   },
   "source": [
    "## Method 2 - One step but less clear?"
   ]
  },
  {
   "cell_type": "code",
   "execution_count": null,
   "metadata": {
    "id": "tgmHMbCFO_Gf"
   },
   "outputs": [],
   "source": [
    "## zip and map\n"
   ]
  }
 ],
 "metadata": {
  "colab": {
   "authorship_tag": "ABX9TyN5dF26A667LfZU90jXpK+a",
   "collapsed_sections": [],
   "name": "week_4_html_mix_BLANK.ipynb",
   "provenance": [
    {
     "file_id": "1M-js5oTPfwz2t8C8NgE6xfqnhCa3YcSs",
     "timestamp": 1637109030338
    }
   ]
  },
  "kernelspec": {
   "display_name": "Python 3",
   "name": "python3"
  },
  "language_info": {
   "name": "python"
  }
 },
 "nbformat": 4,
 "nbformat_minor": 0
}
