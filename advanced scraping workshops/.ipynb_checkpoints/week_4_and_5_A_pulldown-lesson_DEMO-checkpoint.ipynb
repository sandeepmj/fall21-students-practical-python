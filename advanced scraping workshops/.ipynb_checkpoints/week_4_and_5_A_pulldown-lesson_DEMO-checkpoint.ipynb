{
 "cells": [
  {
   "cell_type": "markdown",
   "metadata": {
    "id": "1JH78Ldxvuz_"
   },
   "source": [
    "# Scraping sites with pulldown menus\n",
    "\n",
    "- <a href=\"https://automobiles.honda.com/\">Honda</a>\n",
    "- <a href=\"https://www.ryanair.com/us/en\">Ryanair</a>\n",
    "- <a href=\"https://www.rebgv.org/content/rebgv-org/market-watch/monthly-market-report/\">Real Estate Board Monthly Market Report</a>\n",
    "\n",
    "We want to <a href=\"https://sandeepmj.github.io/scrape-example-page/pulldown-site/\">scrape this site</a>. \n",
    "\n",
    "Note that the site is non-functional (choosing items from menu won't take you anywhere, but we can use it to train)."
   ]
  },
  {
   "cell_type": "markdown",
   "metadata": {
    "id": "BG4E3uJXv5Tp"
   },
   "source": [
    "## Buried within are pages like:\n",
    "\n",
    "- <a href=\"https://sandeepmj.github.io/scrape-example-page/pulldown-site/reports/january-2020.html\">January 2020</a>\n",
    "- <a href=\"https://sandeepmj.github.io/scrape-example-page/pulldown-site/reports/february-2020.html\">February 2020</a>\n",
    "- <a href=\"https://sandeepmj.github.io/scrape-example-page/pulldown-site/reports/august-2020.html\">August 2020</a>"
   ]
  },
  {
   "cell_type": "code",
   "execution_count": null,
   "metadata": {
    "id": "_JLB76N9wDsz"
   },
   "outputs": [],
   "source": [
    "pip install icecream"
   ]
  },
  {
   "cell_type": "code",
   "execution_count": null,
   "metadata": {
    "id": "8Ac52cjtvvkP"
   },
   "outputs": [],
   "source": [
    "## Lets import all the libaries we are likely to need\n",
    "import requests ## to capture content from web pages\n",
    "from bs4 import BeautifulSoup ## to parse our scraped data\n",
    "import pandas as pd ## to easily export our data to dataframes/CSVs\n",
    "from icecream import ic ## easily debug\n",
    "from pprint import pprint as pp ## to prettify our printouts\n",
    "import itertools ## to flatten lists\n",
    "from random import randrange ## to create a range of numbers\n",
    "import time # for timer\n",
    "import re"
   ]
  }
 ],
 "metadata": {
  "colab": {
   "authorship_tag": "ABX9TyO9sr/yrblRt+qZdoagMnNp",
   "collapsed_sections": [],
   "name": "Copy of week_3_pulldown-lesson_BLANK.ipynb",
   "provenance": [
    {
     "file_id": "1v70EsW7dDmXv9sZCcabGmw2AaX9zehOA",
     "timestamp": 1636500288162
    }
   ]
  },
  "kernelspec": {
   "display_name": "Python 3",
   "language": "python",
   "name": "python3"
  },
  "language_info": {
   "codemirror_mode": {
    "name": "ipython",
    "version": 3
   },
   "file_extension": ".py",
   "mimetype": "text/x-python",
   "name": "python",
   "nbconvert_exporter": "python",
   "pygments_lexer": "ipython3",
   "version": "3.8.8"
  }
 },
 "nbformat": 4,
 "nbformat_minor": 1
}
