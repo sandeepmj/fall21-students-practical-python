{
 "cells": [
  {
   "cell_type": "markdown",
   "id": "ohVUz-hPAMBs",
   "metadata": {
    "id": "ohVUz-hPAMBs"
   },
   "source": [
    "# Jupyter or Colab, we need to ```pip install selenium```"
   ]
  },
  {
   "cell_type": "code",
   "execution_count": null,
   "id": "be439d6f",
   "metadata": {
    "colab": {
     "base_uri": "https://localhost:8080/"
    },
    "executionInfo": {
     "elapsed": 4363,
     "status": "ok",
     "timestamp": 1634121971204,
     "user": {
      "displayName": "Sandeep Junnarkar",
      "photoUrl": "https://lh3.googleusercontent.com/a/default-user=s64",
      "userId": "15658885848901522782"
     },
     "user_tz": 240
    },
    "id": "be439d6f",
    "outputId": "dc3f6832-ca0d-4f83-d685-1f0e4360c51a"
   },
   "outputs": [],
   "source": [
    "pip install selenium"
   ]
  },
  {
   "cell_type": "markdown",
   "id": "qLu9diNLzMqi",
   "metadata": {
    "id": "qLu9diNLzMqi"
   },
   "source": [
    "# Jupyter or Colab, we need to ```pip install icecream```"
   ]
  },
  {
   "cell_type": "code",
   "execution_count": null,
   "id": "bXmrPyjWSNn-",
   "metadata": {
    "colab": {
     "base_uri": "https://localhost:8080/"
    },
    "executionInfo": {
     "elapsed": 4204,
     "status": "ok",
     "timestamp": 1634122403790,
     "user": {
      "displayName": "Sandeep Junnarkar",
      "photoUrl": "https://lh3.googleusercontent.com/a/default-user=s64",
      "userId": "15658885848901522782"
     },
     "user_tz": 240
    },
    "id": "bXmrPyjWSNn-",
    "outputId": "fbd9c40d-2b65-488f-cd03-7bb1fda4b031"
   },
   "outputs": [],
   "source": [
    "pip install icecream"
   ]
  },
  {
   "cell_type": "markdown",
   "id": "P_4gZyekNEFl",
   "metadata": {
    "id": "P_4gZyekNEFl"
   },
   "source": [
    "# For Jupyter, we would [download the correct WebDriver](https://chromedriver.storage.googleapis.com/index.html?path=94.0.4606.41/) and place in folder next to our notebook.\n",
    "\n",
    "# For Colab, we ```pip install kora -q``` to serve as the driver."
   ]
  },
  {
   "cell_type": "code",
   "execution_count": null,
   "id": "8DE_WuXPNDUl",
   "metadata": {
    "colab": {
     "base_uri": "https://localhost:8080/"
    },
    "executionInfo": {
     "elapsed": 3952,
     "status": "ok",
     "timestamp": 1634121975973,
     "user": {
      "displayName": "Sandeep Junnarkar",
      "photoUrl": "https://lh3.googleusercontent.com/a/default-user=s64",
      "userId": "15658885848901522782"
     },
     "user_tz": 240
    },
    "id": "8DE_WuXPNDUl",
    "outputId": "0d277a86-83c8-4c15-9628-ac7699301d2c"
   },
   "outputs": [],
   "source": [
    "# pip install kora -q\n"
   ]
  },
  {
   "cell_type": "code",
   "execution_count": null,
   "id": "feca1d9c",
   "metadata": {
    "id": "feca1d9c"
   },
   "outputs": [],
   "source": [
    "#import selenium related features\n",
    "\n",
    "from selenium import webdriver ## in Jupyter, we access the driver\n",
    "from selenium.webdriver.common.keys import Keys ## automate pressing keys\n",
    "from selenium.webdriver.support.ui import Select ## automate selecting menu items\n",
    "from selenium.webdriver.support.ui import WebDriverWait ## automate pausing\n",
    "from selenium.webdriver.common.by import By ## search for classes, IDs, tags, etc.\n",
    "from selenium.webdriver.support import expected_conditions as EC ## look for a condition\n",
    "from selenium.webdriver.common.action_chains import ActionChains ## chaining actions\n",
    "from selenium.webdriver.support.select import Select ## more and more methods\n",
    "\n",
    "## the usual libraries and packages\n",
    "import requests ## make requests with sites\n",
    "import time ## time to pause\n",
    "from bs4 import BeautifulSoup ## for parsing html\n",
    "import pandas as pd ## for organizing data\n",
    "import datetime ## timestamp\n",
    "from icecream import ic ## debugging. no need for pip install icecream"
   ]
  },
  {
   "cell_type": "code",
   "execution_count": null,
   "id": "WK1jK7CBT225",
   "metadata": {
    "id": "WK1jK7CBT225"
   },
   "outputs": [],
   "source": [
    "## NEED FOR COLAB \n",
    "# from kora.selenium import wd as driver ## import from kora to be web driver"
   ]
  },
  {
   "cell_type": "code",
   "execution_count": null,
   "id": "_5uNFQQzSDv3",
   "metadata": {
    "id": "_5uNFQQzSDv3"
   },
   "outputs": [],
   "source": [
    " ## NEED FOR JUPYTER NOTEBOOK - turn off for Colab\n",
    " ## Access chromedriver\n",
    "# driver = webdriver.Chrome('./chromedriver') ## access chrome driver\n"
   ]
  },
  {
   "cell_type": "code",
   "execution_count": null,
   "id": "1b0025fd",
   "metadata": {
    "id": "1b0025fd"
   },
   "outputs": [],
   "source": []
  }
 ],
 "metadata": {
  "colab": {
   "collapsed_sections": [],
   "name": "week-5-tracker BLANK.ipynb",
   "provenance": [
    {
     "file_id": "1ccCjwlIoKe_WkE_RNSDCGSIocGCLyNLm",
     "timestamp": 1634122746818
    }
   ]
  },
  "kernelspec": {
   "display_name": "Python 3",
   "language": "python",
   "name": "python3"
  },
  "language_info": {
   "codemirror_mode": {
    "name": "ipython",
    "version": 3
   },
   "file_extension": ".py",
   "mimetype": "text/x-python",
   "name": "python",
   "nbconvert_exporter": "python",
   "pygments_lexer": "ipython3",
   "version": "3.8.8"
  }
 },
 "nbformat": 4,
 "nbformat_minor": 5
}
