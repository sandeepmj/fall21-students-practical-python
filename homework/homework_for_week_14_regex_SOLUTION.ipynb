{
 "cells": [
  {
   "cell_type": "markdown",
   "metadata": {
    "id": "9PmgWaXKRbP8"
   },
   "source": [
    "## Find key data points from multiple documents\n",
    "\n",
    "Download <a href=\"https://drive.google.com/file/d/1V6hmJhCqMyR65e4tal1Q70Lc_jvtZm0F/view?usp=sharing\">these documents</a>.\n",
    "\n",
    "They all have an identical structure to them.\n",
    "\n",
    "Using regex, capture and export as a CSV the following data points in all the documents:\n",
    "\n",
    "- The case number.\n",
    "- Whether the decision was to accept or reject the appeal.\n",
    "- The request date.\n",
    "- The decision date.\n",
    "- Source file name\n",
    "\n",
    "\n"
   ]
  },
  {
   "cell_type": "code",
   "execution_count": 1,
   "metadata": {
    "id": "qoXViR6c1k-s"
   },
   "outputs": [],
   "source": [
    "## import libraries\n",
    "import re\n",
    "import pandas as pd\n",
    "import glob\n",
    "# from google.colab import files ## for google colab only\n"
   ]
  },
  {
   "cell_type": "code",
   "execution_count": null,
   "metadata": {},
   "outputs": [],
   "source": [
    "### COLAB ONLY\n",
    "## import colab's file uploader\n",
    "# files.upload() "
   ]
  },
  {
   "cell_type": "code",
   "execution_count": 2,
   "metadata": {},
   "outputs": [
    {
     "data": {
      "text/plain": [
       "['docs/decision01.txt', 'docs/decision02.txt', 'docs/decision03.txt']"
      ]
     },
     "execution_count": 2,
     "metadata": {},
     "output_type": "execute_result"
    }
   ],
   "source": [
    "## path to documents\n",
    "## my documents are stored in a folder called docs\n",
    "path = \"docs/*.txt\"\n",
    "myfiles = sorted(glob.glob(path))\n",
    "myfiles"
   ]
  },
  {
   "cell_type": "code",
   "execution_count": 3,
   "metadata": {
    "collapsed": true
   },
   "outputs": [
    {
     "name": "stdout",
     "output_type": "stream",
     "text": [
      "STATE OF NEW YORK REQUEST: February 5, 2015 \n",
      "DEPARTMENT OF HEALTH AGENCY\n",
      "CASE #: 6952578N\n",
      "______________________________________________________\n",
      " In the Matter of the Appeal of\n",
      ":\n",
      ":\n",
      "HEARING from a determination by the New York City :\n",
      "\n",
      "2. On December 22, 2014, a nursing assessor completed a Uniform Assessment System evaluation of the Appellant’s personal care needs.\n",
      "3. On December 22, 2014, a nursing assessor completed a client task sheet as to the Appellant’s personal care needs.\n",
      "4. By notice dated January 23, 2015, the Managed Long Term Care Plan determined to reduce the Appellant’s Personal Care Services authorization from 16 hours daily, 7 days weekly to 8 hours daily, 7 days weekly.\n",
      "5. On January 23, 2015, the Appellant requested an internal appeal.\n",
      "6. On February 5, 2015, this fair hearing was requested.\n",
      "7. By notice dated February 27, 2015, the Managed Long Term Care Plan determined to\n",
      "uphold its determination to reduce the Appellant’s Personal Care Services authorization from 16 hours daily, 7 days weekly to 8 hours daily, 7 days weekly.\n",
      "APPLICABLE LAW\n",
      "Part 438 of 42 Code of Federal Regulations (CFR) pertains to provision of Medicaid medical care, services and supplies through Managed Care Organizations (MCOs), Prepaid Inpatient Health Plans (PIHPs), Prepaid Ambulatory Health Plans (PAHPs) and Primary Care Case Managers (PCCMs), and the requirements for contracts for services so provided.\n",
      "Section 438.210 of 42 CFR Subpart D provides, in pertinent part:\n",
      " (a)\n",
      "Coverage - Each contract with an MCO, PIHP, or PAHP must do the following:\n",
      "(1) Identify, define, and specify the amount, duration, and scope of each service that the MCO, PIHP, or PAHP is required to offer.\n",
      "(2) Require that the services identified in paragraph (a)(1) of this section be furnished in an amount, duration, and scope that is no less than the amount, duration, and scope for the same services furnished to beneficiaries under fee-for-service Medicaid, as set forth in Sec. 440.230.\n",
      "(3) Provide that the MCO, PIHP, or PAHP--\n",
      "(i) Must ensure that the services are sufficient in amount, duration, or scope to reasonably be expected to achieve the purpose for which the services are furnished.\n",
      "\n",
      "FH# 6952578N\n",
      "3\n",
      "(ii) May not arbitrarily deny or reduce the amount, duration, or scope of a required service solely because of diagnosis, type of illness, or condition of the beneficiary;\n",
      "(iii) May place appropriate limits on a service\n",
      "(A) On the basis of criteria applied under the State plan, such as medical necessity; or\n",
      "(B) For the purpose of utilization control, provided the services furnished can reasonably be expected to achieve their purpose, as required in paragraph (a)(3)(i) of this section; and\n",
      "(4) Specify what constitutes “medically necessary services”' in a manner that:\n",
      "(i) Is no more restrictive than that used in the State Medicaid program as indicated in State statutes and regulations, the State Plan, and other State policy and procedures; and\n",
      "(ii) Addresses the extent to which the MCO, PIHP, or PAHP is responsible for covering services related to the following:\n",
      "(A) The prevention, diagnosis, and treatment of health impairments.\n",
      "(B) The ability to achieve age-appropriate growth and development.\n",
      "(C) The ability to attain, maintain, or regain functional capacity.\n",
      "(b) Authorization of services. For the processing of requests for initial and continuing authorizations of services, each contract must require:\n",
      "(1) That the MCO, PIHP, or PAHP and its subcontractors have in place, and follow, written policies and procedures.\n",
      "(2) That the MCO, PIHP, or PAHP:\n",
      "(i) Have in effect mechanisms to ensure consistent application of review criteria for authorization decisions; and\n",
      "(ii) Consult with the requesting provider when appropriate.\n",
      "\n",
      "\n",
      "FH# 6952578N\n",
      "DECISION:\n",
      "The Managed Long Term Care Plan’s decision dated February 27, 2015, is rejected.\n",
      "\n",
      "\n",
      "FH# 6952578N\n",
      "DATED: Albany, New York 04/10/2015\n",
      "\n",
      "\n",
      "NEW YORK STATE DEPARTMENT OF HEALTH\n",
      "By\n",
      " Commissioner's Designee\n",
      "\n",
      "STATE OF NEW YORK REQUEST: March 14, 2019 \n",
      "DEPARTMENT OF HEALTH AGENCY\n",
      "CASE #: 7924923N\n",
      "______________________________________________________\n",
      " In the Matter of the Appeal of\n",
      ":\n",
      ":\n",
      "HEARING from a determination by the New York City :\n",
      "\n",
      "2. On December 22, 2014, a nursing assessor completed a Uniform Assessment System evaluation of the Appellant’s personal care needs.\n",
      "3. On December 22, 2014, a nursing assessor completed a client task sheet as to the Appellant’s personal care needs.\n",
      "4. By notice dated January 23, 2015, the Managed Long Term Care Plan determined to reduce the Appellant’s Personal Care Services authorization from 16 hours daily, 7 days weekly to 8 hours daily, 7 days weekly.\n",
      "5. On January 23, 2015, the Appellant requested an internal appeal.\n",
      "6. On February 5, 2015, this fair hearing was requested.\n",
      "7. By notice dated February 27, 2015, the Managed Long Term Care Plan determined to\n",
      "uphold its determination to reduce the Appellant’s Personal Care Services authorization from 16 hours daily, 7 days weekly to 8 hours daily, 7 days weekly.\n",
      "APPLICABLE LAW\n",
      "Part 438 of 42 Code of Federal Regulations (CFR) pertains to provision of Medicaid medical care, services and supplies through Managed Care Organizations (MCOs), Prepaid Inpatient Health Plans (PIHPs), Prepaid Ambulatory Health Plans (PAHPs) and Primary Care Case Managers (PCCMs), and the requirements for contracts for services so provided.\n",
      "Section 438.210 of 42 CFR Subpart D provides, in pertinent part:\n",
      " (a)\n",
      "Coverage - Each contract with an MCO, PIHP, or PAHP must do the following:\n",
      "(1) Identify, define, and specify the amount, duration, and scope of each service that the MCO, PIHP, or PAHP is required to offer.\n",
      "(2) Require that the services identified in paragraph (a)(1) of this section be furnished in an amount, duration, and scope that is no less than the amount, duration, and scope for the same services furnished to beneficiaries under fee-for-service Medicaid, as set forth in Sec. 440.230.\n",
      "(3) Provide that the MCO, PIHP, or PAHP--\n",
      "(i) Must ensure that the services are sufficient in amount, duration, or scope to reasonably be expected to achieve the purpose for which the services are furnished.\n",
      "\n",
      "FH# 7924923N\n",
      "3\n",
      "(ii) May not arbitrarily deny or reduce the amount, duration, or scope of a required service solely because of diagnosis, type of illness, or condition of the beneficiary;\n",
      "(iii) May place appropriate limits on a service\n",
      "(A) On the basis of criteria applied under the State plan, such as medical necessity; or\n",
      "(B) For the purpose of utilization control, provided the services furnished can reasonably be expected to achieve their purpose, as required in paragraph (a)(3)(i) of this section; and\n",
      "(4) Specify what constitutes “medically necessary services”' in a manner that:\n",
      "(i) Is no more restrictive than that used in the State Medicaid program as indicated in State statutes and regulations, the State Plan, and other State policy and procedures; and\n",
      "(ii) Addresses the extent to which the MCO, PIHP, or PAHP is responsible for covering services related to the following:\n",
      "(A) The prevention, diagnosis, and treatment of health impairments.\n",
      "(B) The ability to achieve age-appropriate growth and development.\n",
      "(C) The ability to attain, maintain, or regain functional capacity.\n",
      "(b) Authorization of services. For the processing of requests for initial and continuing authorizations of services, each contract must require:\n",
      "(1) That the MCO, PIHP, or PAHP and its subcontractors have in place, and follow, written policies and procedures.\n",
      "(2) That the MCO, PIHP, or PAHP:\n",
      "(i) Have in effect mechanisms to ensure consistent application of review criteria for authorization decisions; and\n",
      "(ii) Consult with the requesting provider when appropriate.\n",
      "\n",
      "\n",
      "FH# 7924923N\n",
      "DECISION:\n",
      "The Managed Long Term Care Plan’s decision dated March 14, 2019, is accepted.\n",
      "\n",
      "\n",
      "FH# 7924923N\n",
      "DATED: Albany, New York 11/15/2019\n",
      "\n",
      "\n",
      "NEW YORK STATE DEPARTMENT OF HEALTH\n",
      "By\n",
      " Commissioner's Designee\n",
      "\n",
      "STATE OF NEW YORK REQUEST: October 28, 2019 \n",
      "DEPARTMENT OF HEALTH AGENCY\n",
      "CASE #: 4964154N\n",
      "______________________________________________________\n",
      " In the Matter of the Appeal of\n",
      ":\n",
      ":\n",
      "HEARING from a determination by the New York City :\n",
      "\n",
      "2. On December 22, 2014, a nursing assessor completed a Uniform Assessment System evaluation of the Appellant’s personal care needs.\n",
      "3. On December 22, 2014, a nursing assessor completed a client task sheet as to the Appellant’s personal care needs.\n",
      "4. By notice dated January 23, 2015, the Managed Long Term Care Plan determined to reduce the Appellant’s Personal Care Services authorization from 16 hours daily, 7 days weekly to 8 hours daily, 7 days weekly.\n",
      "5. On January 23, 2015, the Appellant requested an internal appeal.\n",
      "6. On February 5, 2015, this fair hearing was requested.\n",
      "7. By notice dated February 27, 2015, the Managed Long Term Care Plan determined to\n",
      "uphold its determination to reduce the Appellant’s Personal Care Services authorization from 16 hours daily, 7 days weekly to 8 hours daily, 7 days weekly.\n",
      "APPLICABLE LAW\n",
      "Part 438 of 42 Code of Federal Regulations (CFR) pertains to provision of Medicaid medical care, services and supplies through Managed Care Organizations (MCOs), Prepaid Inpatient Health Plans (PIHPs), Prepaid Ambulatory Health Plans (PAHPs) and Primary Care Case Managers (PCCMs), and the requirements for contracts for services so provided.\n",
      "Section 438.210 of 42 CFR Subpart D provides, in pertinent part:\n",
      " (a)\n",
      "Coverage - Each contract with an MCO, PIHP, or PAHP must do the following:\n",
      "(1) Identify, define, and specify the amount, duration, and scope of each service that the MCO, PIHP, or PAHP is required to offer.\n",
      "(2) Require that the services identified in paragraph (a)(1) of this section be furnished in an amount, duration, and scope that is no less than the amount, duration, and scope for the same services furnished to beneficiaries under fee-for-service Medicaid, as set forth in Sec. 440.230.\n",
      "(3) Provide that the MCO, PIHP, or PAHP--\n",
      "(i) Must ensure that the services are sufficient in amount, duration, or scope to reasonably be expected to achieve the purpose for which the services are furnished.\n",
      "\n",
      "FH# 4964154N\n",
      "3\n",
      "(ii) May not arbitrarily deny or reduce the amount, duration, or scope of a required service solely because of diagnosis, type of illness, or condition of the beneficiary;\n",
      "(iii) May place appropriate limits on a service\n",
      "(A) On the basis of criteria applied under the State plan, such as medical necessity; or\n",
      "(B) For the purpose of utilization control, provided the services furnished can reasonably be expected to achieve their purpose, as required in paragraph (a)(3)(i) of this section; and\n",
      "(4) Specify what constitutes “medically necessary services”' in a manner that:\n",
      "(i) Is no more restrictive than that used in the State Medicaid program as indicated in State statutes and regulations, the State Plan, and other State policy and procedures; and\n",
      "(ii) Addresses the extent to which the MCO, PIHP, or PAHP is responsible for covering services related to the following:\n",
      "(A) The prevention, diagnosis, and treatment of health impairments.\n",
      "(B) The ability to achieve age-appropriate growth and development.\n",
      "(C) The ability to attain, maintain, or regain functional capacity.\n",
      "(b) Authorization of services. For the processing of requests for initial and continuing authorizations of services, each contract must require:\n",
      "(1) That the MCO, PIHP, or PAHP and its subcontractors have in place, and follow, written policies and procedures.\n",
      "(2) That the MCO, PIHP, or PAHP:\n",
      "(i) Have in effect mechanisms to ensure consistent application of review criteria for authorization decisions; and\n",
      "(ii) Consult with the requesting provider when appropriate.\n",
      "\n",
      "\n",
      "FH# 4964154N\n",
      "DECISION:\n",
      "The Managed Long Term Care Plan’s decision dated March 14, 2019, is rejected.\n",
      "\n",
      "\n",
      "FH# 4964154N\n",
      "DATED: Albany, New York 3/15/2020\n",
      "\n",
      "\n",
      "NEW YORK STATE DEPARTMENT OF HEALTH\n",
      "By\n",
      " Commissioner's Designee\n",
      "\n"
     ]
    }
   ],
   "source": [
    "## quick read reminder\n",
    "for file in myfiles:\n",
    "  with open(file, \"r\") as my_text_doc:\n",
    "    print(my_text_doc.read())"
   ]
  },
  {
   "cell_type": "code",
   "execution_count": 4,
   "metadata": {},
   "outputs": [],
   "source": [
    "## find date pattern\n",
    "date_pat = re.compile(r\"request:\\s(\\w+\\s\\d{1,2},\\s\\d{4})\")"
   ]
  },
  {
   "cell_type": "code",
   "execution_count": 5,
   "metadata": {},
   "outputs": [
    {
     "name": "stdout",
     "output_type": "stream",
     "text": [
      "february 5, 2015\n",
      "march 14, 2019\n",
      "october 28, 2019\n"
     ]
    }
   ],
   "source": [
    "## find date pattern and store findings in a list\n",
    "for file in myfiles:\n",
    "  with open(file, \"r\") as my_doc:\n",
    "    all_text = my_doc.read()\n",
    "    all_text = all_text.lower()\n",
    "    date = date_pat.findall(all_text)\n",
    "    print(date[0])"
   ]
  },
  {
   "cell_type": "code",
   "execution_count": 6,
   "metadata": {},
   "outputs": [
    {
     "data": {
      "text/plain": [
       "['february 5, 2015', 'march 14, 2019', 'october 28, 2019']"
      ]
     },
     "execution_count": 6,
     "metadata": {},
     "output_type": "execute_result"
    }
   ],
   "source": [
    "## call request dates list hold\n",
    "request_dates_list = []\n",
    "for file in myfiles:\n",
    "  with open(file, \"r\") as my_doc:\n",
    "    all_text = my_doc.read()\n",
    "    all_text = all_text.lower()\n",
    "    date = date_pat.findall(all_text)\n",
    "    request_dates_list.append(date[0])\n",
    "\n",
    "request_dates_list"
   ]
  },
  {
   "cell_type": "code",
   "execution_count": 16,
   "metadata": {},
   "outputs": [],
   "source": [
    "## add case number pattern and store findings in a list\n",
    "date_pat = re.compile(r\"request:\\s(\\w+\\s\\d{1,2},\\s\\d{4})\") ## date regex pattern\n",
    "case_pat = re.compile(r\"case #:\\s(\\d+\\w)\") ## case number regex pattern\n",
    "decision_pat = re.compile(r\"decision:\\n{1,2}.+is\\s(\\w+)\") ## ## decision regex pattern\n",
    "decision_date_pat = re.compile(r\"decision:\\n.*dated\\s(\\w+\\s\\d{1,2},\\s\\d{4})\")\n",
    "## initializing lists\n",
    "request_dates_list = [] \n",
    "case_list = []\n",
    "decision_list = []\n",
    "dec_list = []\n",
    "dec_date_list =[]\n",
    "\n",
    "## iterate through docs to find, capture and store relevant data\n",
    "for file in myfiles:\n",
    "  with open(file, \"r\") as my_doc:\n",
    "    all_text = my_doc.read()\n",
    "    all_text = all_text.lower()\n",
    "    date = date_pat.findall(all_text)\n",
    "    request_dates_list.append(date[0])\n",
    "    case = case_pat.findall(all_text)\n",
    "    case_list.append(case[0])\n",
    "    decision = decision_pat.findall(all_text)\n",
    "    decision_list.append(decision[0])\n",
    "    dec_list.append(decision_pat.findall(all_text)[0])\n",
    "    dec_date_list.append(decision_date_pat.findall(all_text)[0])\n"
   ]
  },
  {
   "cell_type": "code",
   "execution_count": 18,
   "metadata": {},
   "outputs": [
    {
     "data": {
      "text/plain": [
       "['february 27, 2015', 'march 14, 2019', 'march 14, 2019']"
      ]
     },
     "execution_count": 18,
     "metadata": {},
     "output_type": "execute_result"
    }
   ],
   "source": [
    "## call different lists to confirm capture\n",
    "dec_date_list"
   ]
  },
  {
   "cell_type": "code",
   "execution_count": 13,
   "metadata": {},
   "outputs": [
    {
     "data": {
      "text/plain": [
       "['6952578n', '7924923n', '4964154n']"
      ]
     },
     "execution_count": 13,
     "metadata": {},
     "output_type": "execute_result"
    }
   ],
   "source": [
    "## call the case number\n",
    "case_list"
   ]
  },
  {
   "cell_type": "code",
   "execution_count": 24,
   "metadata": {},
   "outputs": [],
   "source": [
    "## zip all lists together\n",
    "final_decision = []\n",
    "\n",
    "for (request_date, case_number, decision, decision_date, source)\\\n",
    "  in zip(request_dates_list, case_list, decision_list, dec_date_list, myfiles):\n",
    "  decision_dict = {\"request_date\": request_date,\n",
    "                   \"case_number\": case_number,\n",
    "                   \"decision\": decision,\n",
    "                   \"decision_date\": decision_date,\n",
    "                   \"source_file\": source}\n",
    "  final_decision.append(decision_dict)"
   ]
  },
  {
   "cell_type": "code",
   "execution_count": 25,
   "metadata": {},
   "outputs": [
    {
     "data": {
      "text/plain": [
       "[{'request_date': 'february 5, 2015',\n",
       "  'case_number': '6952578n',\n",
       "  'decision': 'rejected',\n",
       "  'decision_date': 'february 27, 2015',\n",
       "  'source_file': 'docs/decision01.txt'},\n",
       " {'request_date': 'march 14, 2019',\n",
       "  'case_number': '7924923n',\n",
       "  'decision': 'accepted',\n",
       "  'decision_date': 'march 14, 2019',\n",
       "  'source_file': 'docs/decision02.txt'},\n",
       " {'request_date': 'october 28, 2019',\n",
       "  'case_number': '4964154n',\n",
       "  'decision': 'rejected',\n",
       "  'decision_date': 'march 14, 2019',\n",
       "  'source_file': 'docs/decision03.txt'}]"
      ]
     },
     "execution_count": 25,
     "metadata": {},
     "output_type": "execute_result"
    }
   ],
   "source": [
    "## call final decisions list\n",
    "final_decision"
   ]
  },
  {
   "cell_type": "code",
   "execution_count": 26,
   "metadata": {},
   "outputs": [],
   "source": [
    "## export to csv\n",
    "df = pd.DataFrame(final_decision)\n",
    "df.to_csv(\"decisions.csv\", encoding = \"UTF-8\", index = False)"
   ]
  },
  {
   "cell_type": "code",
   "execution_count": 27,
   "metadata": {},
   "outputs": [
    {
     "data": {
      "text/html": [
       "<div>\n",
       "<style scoped>\n",
       "    .dataframe tbody tr th:only-of-type {\n",
       "        vertical-align: middle;\n",
       "    }\n",
       "\n",
       "    .dataframe tbody tr th {\n",
       "        vertical-align: top;\n",
       "    }\n",
       "\n",
       "    .dataframe thead th {\n",
       "        text-align: right;\n",
       "    }\n",
       "</style>\n",
       "<table border=\"1\" class=\"dataframe\">\n",
       "  <thead>\n",
       "    <tr style=\"text-align: right;\">\n",
       "      <th></th>\n",
       "      <th>request_date</th>\n",
       "      <th>case_number</th>\n",
       "      <th>decision</th>\n",
       "      <th>decision_date</th>\n",
       "      <th>source_file</th>\n",
       "    </tr>\n",
       "  </thead>\n",
       "  <tbody>\n",
       "    <tr>\n",
       "      <th>0</th>\n",
       "      <td>february 5, 2015</td>\n",
       "      <td>6952578n</td>\n",
       "      <td>rejected</td>\n",
       "      <td>february 27, 2015</td>\n",
       "      <td>docs/decision01.txt</td>\n",
       "    </tr>\n",
       "    <tr>\n",
       "      <th>1</th>\n",
       "      <td>march 14, 2019</td>\n",
       "      <td>7924923n</td>\n",
       "      <td>accepted</td>\n",
       "      <td>march 14, 2019</td>\n",
       "      <td>docs/decision02.txt</td>\n",
       "    </tr>\n",
       "    <tr>\n",
       "      <th>2</th>\n",
       "      <td>october 28, 2019</td>\n",
       "      <td>4964154n</td>\n",
       "      <td>rejected</td>\n",
       "      <td>march 14, 2019</td>\n",
       "      <td>docs/decision03.txt</td>\n",
       "    </tr>\n",
       "  </tbody>\n",
       "</table>\n",
       "</div>"
      ],
      "text/plain": [
       "       request_date case_number  decision      decision_date  \\\n",
       "0  february 5, 2015    6952578n  rejected  february 27, 2015   \n",
       "1    march 14, 2019    7924923n  accepted     march 14, 2019   \n",
       "2  october 28, 2019    4964154n  rejected     march 14, 2019   \n",
       "\n",
       "           source_file  \n",
       "0  docs/decision01.txt  \n",
       "1  docs/decision02.txt  \n",
       "2  docs/decision03.txt  "
      ]
     },
     "execution_count": 27,
     "metadata": {},
     "output_type": "execute_result"
    }
   ],
   "source": [
    "df"
   ]
  },
  {
   "cell_type": "code",
   "execution_count": null,
   "metadata": {},
   "outputs": [],
   "source": []
  }
 ],
 "metadata": {
  "colab": {
   "collapsed_sections": [],
   "name": "homework-for-week-14-regex-SOLUTION.ipynb",
   "provenance": []
  },
  "kernelspec": {
   "display_name": "Python 3",
   "language": "python",
   "name": "python3"
  },
  "language_info": {
   "codemirror_mode": {
    "name": "ipython",
    "version": 3
   },
   "file_extension": ".py",
   "mimetype": "text/x-python",
   "name": "python",
   "nbconvert_exporter": "python",
   "pygments_lexer": "ipython3",
   "version": "3.8.8"
  }
 },
 "nbformat": 4,
 "nbformat_minor": 1
}
