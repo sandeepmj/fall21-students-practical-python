{
 "cells": [
  {
   "cell_type": "markdown",
   "metadata": {
    "id": "9PmgWaXKRbP8"
   },
   "source": [
    "## Find key data points from multiple documents\n",
    "\n",
    "Download <a href=\"https://drive.google.com/file/d/1V6hmJhCqMyR65e4tal1Q70Lc_jvtZm0F/view?usp=sharing\">these documents</a>.\n",
    "\n",
    "They all have an identical structure to them.\n",
    "\n",
    "Using regex, capture and export as a CSV the following data points in all the documents:\n",
    "\n",
    "- The case number.\n",
    "- Whether the decision was to accept or reject the appeal.\n",
    "- The request date.\n",
    "- The decision date.\n",
    "- Source file name\n",
    "\n",
    "\n"
   ]
  },
  {
   "cell_type": "code",
   "execution_count": null,
   "metadata": {
    "id": "qoXViR6c1k-s"
   },
   "outputs": [],
   "source": []
  }
 ],
 "metadata": {
  "colab": {
   "collapsed_sections": [],
   "name": "homework-for-week-14-regex.ipynb",
   "provenance": []
  },
  "kernelspec": {
   "display_name": "Python 3",
   "language": "python",
   "name": "python3"
  },
  "language_info": {
   "codemirror_mode": {
    "name": "ipython",
    "version": 3
   },
   "file_extension": ".py",
   "mimetype": "text/x-python",
   "name": "python",
   "nbconvert_exporter": "python",
   "pygments_lexer": "ipython3",
   "version": "3.8.8"
  }
 },
 "nbformat": 4,
 "nbformat_minor": 1
}
