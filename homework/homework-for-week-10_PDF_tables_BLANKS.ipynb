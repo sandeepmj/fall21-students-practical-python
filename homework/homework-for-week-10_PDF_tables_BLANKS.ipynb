{
 "cells": [
  {
   "cell_type": "markdown",
   "metadata": {
    "id": "m1Vn414kanDi"
   },
   "source": [
    "# Complete both items"
   ]
  },
  {
   "cell_type": "markdown",
   "metadata": {
    "id": "7xAOVdlw0Cwm"
   },
   "source": [
    "## Homework 1 - Find the Tables\n",
    "\n",
    "In the document called <a href=\"https://www.dropbox.com/s/af5eob7htijsb81/dod.pdf?dl=0\">dod.pdf</a>\n",
    "\n",
    "1. Capture the table on page 4-3 in Chapter 4 that gives the FY 2020 Defense Budget for Major Weapons Programs. (Figure 4.1) and download it as a CSV.\n",
    "\n",
    "2. Capture the table on page 4-9 in Chapter 4 that gives the FY 2020 Defense Budget for Nuclear Modernization (figure 4.3) and download it as a CSV."
   ]
  },
  {
   "cell_type": "code",
   "execution_count": null,
   "metadata": {
    "id": "5Qa2xGCTanDn"
   },
   "outputs": [],
   "source": []
  },
  {
   "cell_type": "markdown",
   "metadata": {
    "id": "Bwcv3o39z82D"
   },
   "source": [
    "## Homework 2 - Multi-State FUDS \n",
    "\n",
    "- Access <a href=\"https://www.dropbox.com/s/mjf3k5x1cjeqnc0/homework_fuds.zip?dl=0\">homework_fuds.zip</a>.\n",
    "\n",
    "- Manually unzip only ```homework_fuds.zip```. It contains three additional zip files. **DO NOT** manually unzip them.\n",
    "\n",
    "- Write a script that opens each zip folder, finds only the pdf file it contains and grab all the tables...\n",
    "\n",
    "- The final product should be a single csv file that contains the FUDS data for all three states (Alaska, New York and West Virginia)."
   ]
  },
  {
   "cell_type": "code",
   "execution_count": null,
   "metadata": {
    "id": "MvMQhFMeanDo"
   },
   "outputs": [],
   "source": []
  }
 ],
 "metadata": {
  "colab": {
   "collapsed_sections": [],
   "name": "homework-for-week-10_PDF_tables_BLANKS.ipynb",
   "provenance": [
    {
     "file_id": "1QL028jjf1V-PUTI9nD7yhW30LzkHXoBW",
     "timestamp": 1629247713779
    },
    {
     "file_id": "1brhRlLl140JrcbstAHiRC_GWE68faqDg",
     "timestamp": 1622048738498
    }
   ]
  },
  "kernelspec": {
   "display_name": "Python 3",
   "language": "python",
   "name": "python3"
  },
  "language_info": {
   "codemirror_mode": {
    "name": "ipython",
    "version": 3
   },
   "file_extension": ".py",
   "mimetype": "text/x-python",
   "name": "python",
   "nbconvert_exporter": "python",
   "pygments_lexer": "ipython3",
   "version": "3.8.8"
  }
 },
 "nbformat": 4,
 "nbformat_minor": 1
}
